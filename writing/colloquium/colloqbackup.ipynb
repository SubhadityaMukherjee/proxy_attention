{
 "cells": [
  {
   "cell_type": "code",
   "execution_count": 1,
   "id": "8ae5124e-8a2c-4112-bed9-b6df06593e51",
   "metadata": {
    "slideshow": {
     "slide_type": "skip"
    },
    "tags": []
   },
   "outputs": [],
   "source": [
    "import matplotlib.pyplot as plt\n",
    "import math\n",
    "\n",
    "from IPython.display import IFrame\n",
    "import ipyplot"
   ]
  },
  {
   "cell_type": "code",
   "execution_count": 2,
   "id": "f4f28b3e-654c-46b2-a279-66d3596b8c85",
   "metadata": {
    "scrolled": true,
    "slideshow": {
     "slide_type": "skip"
    },
    "tags": []
   },
   "outputs": [
    {
     "name": "stdout",
     "output_type": "stream",
     "text": [
      "\n"
     ]
    }
   ],
   "source": [
    "final_string = \"\"\n",
    "# for img in input(\"paste files \").split(\" \"):\n",
    "    # if \"pdf\" in img:\n",
    "    #     final_string += f'IFrame(\"{img}\", width = \"1152px\", height = \"580px\")\\n\\n'\n",
    "    # else:\n",
    "#     final_string += f'<img src=\"./images/{img}\" alt= “” width=\"1000px\">\\n\\n'\n",
    "print(final_string)"
   ]
  },
  {
   "cell_type": "code",
   "execution_count": 3,
   "id": "e3f45a42",
   "metadata": {
    "slideshow": {
     "slide_type": "skip"
    }
   },
   "outputs": [],
   "source": [
    "def grid(ims, lbls = None, img_width=500, show_url = False):\n",
    "    if lbls is not None:\n",
    "        ipyplot.plot_images(ims, labels = lbls,img_width=img_width,show_url=show_url)\n",
    "    else:\n",
    "        ipyplot.plot_images(ims,img_width=img_width,show_url=show_url)"
   ]
  },
  {
   "cell_type": "markdown",
   "id": "c6a78e2a",
   "metadata": {
    "slideshow": {
     "slide_type": "slide"
    },
    "tags": []
   },
   "source": [
    "# Masters Thesis Colloquium\n",
    "Proxy Attention : Approximating Attention in CNNs using Gradient Based Techniques\n",
    "\n",
    "Subhaditya Mukherjee\n",
    "\n",
    "Supervisors: S.H. Mohades Kasaei and Matias Valdenegro"
   ]
  },
  {
   "cell_type": "markdown",
   "id": "37e0f634",
   "metadata": {
    "slideshow": {
     "slide_type": "subslide"
    }
   },
   "source": [
    "## Special Thanks :)\n",
    "\n",
    "IRL Lab\n",
    "\n",
    "Georgios, Yongliang, A. Li"
   ]
  },
  {
   "cell_type": "markdown",
   "id": "bffdc8ed",
   "metadata": {
    "slideshow": {
     "slide_type": "slide"
    },
    "tags": []
   },
   "source": [
    "## Image Classification"
   ]
  },
  {
   "cell_type": "code",
   "execution_count": 4,
   "id": "2ed5854c",
   "metadata": {
    "slideshow": {
     "slide_type": "skip"
    }
   },
   "outputs": [],
   "source": [
    "ims = [\"./images/cmuff.jpg\",\"./images/class2.png\",\"./images/class3.jpg\",\"./images/class4.png\"]\n",
    "lbls = [\"Dog vs Muffin\", \"Pulmonary Nodules; Lung Cancer\", \"Leaf Disease\", \"Aerial Landscape\"]"
   ]
  },
  {
   "cell_type": "code",
   "execution_count": 5,
   "id": "231798de",
   "metadata": {
    "scrolled": false,
    "slideshow": {
     "slide_type": "subslide"
    }
   },
   "outputs": [
    {
     "data": {
      "text/html": [
       "\n",
       "    <style>\n",
       "        #ipyplot-html-viewer-toggle-djgznrPbZJCVEhJNNLMgTB {\n",
       "            position: absolute;\n",
       "            top: -9999px;\n",
       "            left: -9999px;\n",
       "            visibility: hidden;\n",
       "        }\n",
       "\n",
       "        #ipyplot-html-viewer-label-djgznrPbZJCVEhJNNLMgTB { \n",
       "            position: relative;\n",
       "            display: inline-block;\n",
       "            cursor: pointer;\n",
       "            color: blue;\n",
       "            text-decoration: underline;\n",
       "        }\n",
       "\n",
       "        #ipyplot-html-viewer-textarea-djgznrPbZJCVEhJNNLMgTB {\n",
       "            background: lightgrey;\n",
       "            width: 100%;\n",
       "            height: 0px;\n",
       "            display: none;\n",
       "        }\n",
       "\n",
       "        #ipyplot-html-viewer-toggle-djgznrPbZJCVEhJNNLMgTB:checked ~ #ipyplot-html-viewer-textarea-djgznrPbZJCVEhJNNLMgTB {\n",
       "            height: 200px;\n",
       "            display: block;\n",
       "        }\n",
       "\n",
       "        #ipyplot-html-viewer-toggle-djgznrPbZJCVEhJNNLMgTB:checked + #ipyplot-html-viewer-label-djgznrPbZJCVEhJNNLMgTB:after {\n",
       "            content: \"hide html\";\n",
       "            position: absolute;\n",
       "            top: 0;\n",
       "            left: 0;\n",
       "            right: 0;\n",
       "            bottom: 0;\n",
       "            background: white;\n",
       "            cursor: pointer;\n",
       "            color: blue;\n",
       "            text-decoration: underline;\n",
       "        }\n",
       "    </style>\n",
       "    <div>\n",
       "        <input type=\"checkbox\" id=\"ipyplot-html-viewer-toggle-djgznrPbZJCVEhJNNLMgTB\">\n",
       "        <label id=\"ipyplot-html-viewer-label-djgznrPbZJCVEhJNNLMgTB\" for=\"ipyplot-html-viewer-toggle-djgznrPbZJCVEhJNNLMgTB\">show html</label>\n",
       "        <textarea id=\"ipyplot-html-viewer-textarea-djgznrPbZJCVEhJNNLMgTB\" readonly>\n",
       "            \n",
       "        <style>\n",
       "        #ipyplot-imgs-container-div-XaV8ooQSaWohJXGHaJuchy {\n",
       "            width: 100%;\n",
       "            height: 100%;\n",
       "            margin: 0%;\n",
       "            overflow: auto;\n",
       "            position: relative;\n",
       "            overflow-y: scroll;\n",
       "        }\n",
       "\n",
       "        div.ipyplot-placeholder-div-XaV8ooQSaWohJXGHaJuchy {\n",
       "            width: 500px;\n",
       "            display: inline-block;\n",
       "            margin: 3px;\n",
       "            position: relative;\n",
       "        }\n",
       "\n",
       "        div.ipyplot-content-div-XaV8ooQSaWohJXGHaJuchy {\n",
       "            width: 500px;\n",
       "            background: white;\n",
       "            display: inline-block;\n",
       "            vertical-align: top;\n",
       "            text-align: center;\n",
       "            position: relative;\n",
       "            border: 2px solid #ddd;\n",
       "            top: 0;\n",
       "            left: 0;\n",
       "        }\n",
       "\n",
       "        div.ipyplot-content-div-XaV8ooQSaWohJXGHaJuchy span.ipyplot-img-close {\n",
       "            display: none;\n",
       "        }\n",
       "\n",
       "        div.ipyplot-content-div-XaV8ooQSaWohJXGHaJuchy span {\n",
       "            width: 100%;\n",
       "            height: 100%;\n",
       "            position: absolute;\n",
       "            top: 0;\n",
       "            left: 0;\n",
       "        }\n",
       "\n",
       "        div.ipyplot-content-div-XaV8ooQSaWohJXGHaJuchy img {\n",
       "            width: 500px;\n",
       "        }\n",
       "\n",
       "        div.ipyplot-content-div-XaV8ooQSaWohJXGHaJuchy span.ipyplot-img-close:hover {\n",
       "            cursor: zoom-out;\n",
       "        }\n",
       "        div.ipyplot-content-div-XaV8ooQSaWohJXGHaJuchy span.ipyplot-img-expand:hover {\n",
       "            cursor: zoom-in;\n",
       "        }\n",
       "\n",
       "        div[id^=ipyplot-content-div-XaV8ooQSaWohJXGHaJuchy]:target {\n",
       "            transform: scale(2.5);\n",
       "            transform-origin: left top;\n",
       "            z-index: 5000;\n",
       "            top: 0;\n",
       "            left: 0;\n",
       "            position: absolute;\n",
       "        }\n",
       "\n",
       "        div[id^=ipyplot-content-div-XaV8ooQSaWohJXGHaJuchy]:target span.ipyplot-img-close {\n",
       "            display: block;\n",
       "        }\n",
       "\n",
       "        div[id^=ipyplot-content-div-XaV8ooQSaWohJXGHaJuchy]:target span.ipyplot-img-expand {\n",
       "            display: none;\n",
       "        }\n",
       "        </style>\n",
       "    <div id=\"ipyplot-imgs-container-div-XaV8ooQSaWohJXGHaJuchy\">\n",
       "    <div class=\"ipyplot-placeholder-div-XaV8ooQSaWohJXGHaJuchy\">\n",
       "        <div id=\"ipyplot-content-div-XaV8ooQSaWohJXGHaJuchy-HU6tABfnrP6Hub48ZMNKfw\" class=\"ipyplot-content-div-XaV8ooQSaWohJXGHaJuchy\">\n",
       "            <h4 style=\"font-size: 12px; word-wrap: break-word;\">Dog vs Muffin</h4>\n",
       "            <img src=\"images/cmuff.jpg\"/>\n",
       "            <a href=\"#!\">\n",
       "                <span class=\"ipyplot-img-close\"/>\n",
       "            </a>\n",
       "            <a href=\"#ipyplot-content-div-XaV8ooQSaWohJXGHaJuchy-HU6tABfnrP6Hub48ZMNKfw\">\n",
       "                <span class=\"ipyplot-img-expand\"/>\n",
       "            </a>\n",
       "        </div>\n",
       "    </div>\n",
       "    \n",
       "    <div class=\"ipyplot-placeholder-div-XaV8ooQSaWohJXGHaJuchy\">\n",
       "        <div id=\"ipyplot-content-div-XaV8ooQSaWohJXGHaJuchy-cMLrcnuzfSYcxwiuVq389V\" class=\"ipyplot-content-div-XaV8ooQSaWohJXGHaJuchy\">\n",
       "            <h4 style=\"font-size: 12px; word-wrap: break-word;\">Pulmonary Nodules; Lung Cancer</h4>\n",
       "            <img src=\"images/class2.png\"/>\n",
       "            <a href=\"#!\">\n",
       "                <span class=\"ipyplot-img-close\"/>\n",
       "            </a>\n",
       "            <a href=\"#ipyplot-content-div-XaV8ooQSaWohJXGHaJuchy-cMLrcnuzfSYcxwiuVq389V\">\n",
       "                <span class=\"ipyplot-img-expand\"/>\n",
       "            </a>\n",
       "        </div>\n",
       "    </div>\n",
       "    \n",
       "    <div class=\"ipyplot-placeholder-div-XaV8ooQSaWohJXGHaJuchy\">\n",
       "        <div id=\"ipyplot-content-div-XaV8ooQSaWohJXGHaJuchy-SMc2PdN5t3VVG85n8WSuDQ\" class=\"ipyplot-content-div-XaV8ooQSaWohJXGHaJuchy\">\n",
       "            <h4 style=\"font-size: 12px; word-wrap: break-word;\">Leaf Disease</h4>\n",
       "            <img src=\"images/class3.jpg\"/>\n",
       "            <a href=\"#!\">\n",
       "                <span class=\"ipyplot-img-close\"/>\n",
       "            </a>\n",
       "            <a href=\"#ipyplot-content-div-XaV8ooQSaWohJXGHaJuchy-SMc2PdN5t3VVG85n8WSuDQ\">\n",
       "                <span class=\"ipyplot-img-expand\"/>\n",
       "            </a>\n",
       "        </div>\n",
       "    </div>\n",
       "    \n",
       "    <div class=\"ipyplot-placeholder-div-XaV8ooQSaWohJXGHaJuchy\">\n",
       "        <div id=\"ipyplot-content-div-XaV8ooQSaWohJXGHaJuchy-oMfEUykYming23Nxg3c75t\" class=\"ipyplot-content-div-XaV8ooQSaWohJXGHaJuchy\">\n",
       "            <h4 style=\"font-size: 12px; word-wrap: break-word;\">Aerial Landscape</h4>\n",
       "            <img src=\"images/class4.png\"/>\n",
       "            <a href=\"#!\">\n",
       "                <span class=\"ipyplot-img-close\"/>\n",
       "            </a>\n",
       "            <a href=\"#ipyplot-content-div-XaV8ooQSaWohJXGHaJuchy-oMfEUykYming23Nxg3c75t\">\n",
       "                <span class=\"ipyplot-img-expand\"/>\n",
       "            </a>\n",
       "        </div>\n",
       "    </div>\n",
       "    </div>\n",
       "        </textarea>\n",
       "    </div>\n",
       "    "
      ],
      "text/plain": [
       "<IPython.core.display.HTML object>"
      ]
     },
     "metadata": {},
     "output_type": "display_data"
    },
    {
     "data": {
      "text/html": [
       "\n",
       "        <style>\n",
       "        #ipyplot-imgs-container-div-XaV8ooQSaWohJXGHaJuchy {\n",
       "            width: 100%;\n",
       "            height: 100%;\n",
       "            margin: 0%;\n",
       "            overflow: auto;\n",
       "            position: relative;\n",
       "            overflow-y: scroll;\n",
       "        }\n",
       "\n",
       "        div.ipyplot-placeholder-div-XaV8ooQSaWohJXGHaJuchy {\n",
       "            width: 500px;\n",
       "            display: inline-block;\n",
       "            margin: 3px;\n",
       "            position: relative;\n",
       "        }\n",
       "\n",
       "        div.ipyplot-content-div-XaV8ooQSaWohJXGHaJuchy {\n",
       "            width: 500px;\n",
       "            background: white;\n",
       "            display: inline-block;\n",
       "            vertical-align: top;\n",
       "            text-align: center;\n",
       "            position: relative;\n",
       "            border: 2px solid #ddd;\n",
       "            top: 0;\n",
       "            left: 0;\n",
       "        }\n",
       "\n",
       "        div.ipyplot-content-div-XaV8ooQSaWohJXGHaJuchy span.ipyplot-img-close {\n",
       "            display: none;\n",
       "        }\n",
       "\n",
       "        div.ipyplot-content-div-XaV8ooQSaWohJXGHaJuchy span {\n",
       "            width: 100%;\n",
       "            height: 100%;\n",
       "            position: absolute;\n",
       "            top: 0;\n",
       "            left: 0;\n",
       "        }\n",
       "\n",
       "        div.ipyplot-content-div-XaV8ooQSaWohJXGHaJuchy img {\n",
       "            width: 500px;\n",
       "        }\n",
       "\n",
       "        div.ipyplot-content-div-XaV8ooQSaWohJXGHaJuchy span.ipyplot-img-close:hover {\n",
       "            cursor: zoom-out;\n",
       "        }\n",
       "        div.ipyplot-content-div-XaV8ooQSaWohJXGHaJuchy span.ipyplot-img-expand:hover {\n",
       "            cursor: zoom-in;\n",
       "        }\n",
       "\n",
       "        div[id^=ipyplot-content-div-XaV8ooQSaWohJXGHaJuchy]:target {\n",
       "            transform: scale(2.5);\n",
       "            transform-origin: left top;\n",
       "            z-index: 5000;\n",
       "            top: 0;\n",
       "            left: 0;\n",
       "            position: absolute;\n",
       "        }\n",
       "\n",
       "        div[id^=ipyplot-content-div-XaV8ooQSaWohJXGHaJuchy]:target span.ipyplot-img-close {\n",
       "            display: block;\n",
       "        }\n",
       "\n",
       "        div[id^=ipyplot-content-div-XaV8ooQSaWohJXGHaJuchy]:target span.ipyplot-img-expand {\n",
       "            display: none;\n",
       "        }\n",
       "        </style>\n",
       "    <div id=\"ipyplot-imgs-container-div-XaV8ooQSaWohJXGHaJuchy\">\n",
       "    <div class=\"ipyplot-placeholder-div-XaV8ooQSaWohJXGHaJuchy\">\n",
       "        <div id=\"ipyplot-content-div-XaV8ooQSaWohJXGHaJuchy-HU6tABfnrP6Hub48ZMNKfw\" class=\"ipyplot-content-div-XaV8ooQSaWohJXGHaJuchy\">\n",
       "            <h4 style=\"font-size: 12px; word-wrap: break-word;\">Dog vs Muffin</h4>\n",
       "            <img src=\"images/cmuff.jpg\"/>\n",
       "            <a href=\"#!\">\n",
       "                <span class=\"ipyplot-img-close\"/>\n",
       "            </a>\n",
       "            <a href=\"#ipyplot-content-div-XaV8ooQSaWohJXGHaJuchy-HU6tABfnrP6Hub48ZMNKfw\">\n",
       "                <span class=\"ipyplot-img-expand\"/>\n",
       "            </a>\n",
       "        </div>\n",
       "    </div>\n",
       "    \n",
       "    <div class=\"ipyplot-placeholder-div-XaV8ooQSaWohJXGHaJuchy\">\n",
       "        <div id=\"ipyplot-content-div-XaV8ooQSaWohJXGHaJuchy-cMLrcnuzfSYcxwiuVq389V\" class=\"ipyplot-content-div-XaV8ooQSaWohJXGHaJuchy\">\n",
       "            <h4 style=\"font-size: 12px; word-wrap: break-word;\">Pulmonary Nodules; Lung Cancer</h4>\n",
       "            <img src=\"images/class2.png\"/>\n",
       "            <a href=\"#!\">\n",
       "                <span class=\"ipyplot-img-close\"/>\n",
       "            </a>\n",
       "            <a href=\"#ipyplot-content-div-XaV8ooQSaWohJXGHaJuchy-cMLrcnuzfSYcxwiuVq389V\">\n",
       "                <span class=\"ipyplot-img-expand\"/>\n",
       "            </a>\n",
       "        </div>\n",
       "    </div>\n",
       "    \n",
       "    <div class=\"ipyplot-placeholder-div-XaV8ooQSaWohJXGHaJuchy\">\n",
       "        <div id=\"ipyplot-content-div-XaV8ooQSaWohJXGHaJuchy-SMc2PdN5t3VVG85n8WSuDQ\" class=\"ipyplot-content-div-XaV8ooQSaWohJXGHaJuchy\">\n",
       "            <h4 style=\"font-size: 12px; word-wrap: break-word;\">Leaf Disease</h4>\n",
       "            <img src=\"images/class3.jpg\"/>\n",
       "            <a href=\"#!\">\n",
       "                <span class=\"ipyplot-img-close\"/>\n",
       "            </a>\n",
       "            <a href=\"#ipyplot-content-div-XaV8ooQSaWohJXGHaJuchy-SMc2PdN5t3VVG85n8WSuDQ\">\n",
       "                <span class=\"ipyplot-img-expand\"/>\n",
       "            </a>\n",
       "        </div>\n",
       "    </div>\n",
       "    \n",
       "    <div class=\"ipyplot-placeholder-div-XaV8ooQSaWohJXGHaJuchy\">\n",
       "        <div id=\"ipyplot-content-div-XaV8ooQSaWohJXGHaJuchy-oMfEUykYming23Nxg3c75t\" class=\"ipyplot-content-div-XaV8ooQSaWohJXGHaJuchy\">\n",
       "            <h4 style=\"font-size: 12px; word-wrap: break-word;\">Aerial Landscape</h4>\n",
       "            <img src=\"images/class4.png\"/>\n",
       "            <a href=\"#!\">\n",
       "                <span class=\"ipyplot-img-close\"/>\n",
       "            </a>\n",
       "            <a href=\"#ipyplot-content-div-XaV8ooQSaWohJXGHaJuchy-oMfEUykYming23Nxg3c75t\">\n",
       "                <span class=\"ipyplot-img-expand\"/>\n",
       "            </a>\n",
       "        </div>\n",
       "    </div>\n",
       "    </div>"
      ],
      "text/plain": [
       "<IPython.core.display.HTML object>"
      ]
     },
     "metadata": {},
     "output_type": "display_data"
    }
   ],
   "source": [
    "grid(ims, lbls)"
   ]
  },
  {
   "cell_type": "markdown",
   "id": "f2d58698-14e5-4935-94b3-3f76aec19938",
   "metadata": {
    "slideshow": {
     "slide_type": "slide"
    },
    "tags": []
   },
   "source": [
    "## How?\n",
    "<img src=\"./images/nn.gif\" alt= “” width=\"500px\">"
   ]
  },
  {
   "cell_type": "markdown",
   "id": "c9308ac0-0e8f-4326-b629-2c90c5325524",
   "metadata": {
    "slideshow": {
     "slide_type": "slide"
    },
    "tags": []
   },
   "source": [
    "## Challenges"
   ]
  },
  {
   "cell_type": "markdown",
   "id": "67c3bba8-ad4b-4127-a0b5-cd9346ecd305",
   "metadata": {
    "slideshow": {
     "slide_type": "subslide"
    },
    "tags": []
   },
   "source": [
    "### Parameters\n",
    "<img src=\"./images/params.png\" alt= “” width=\"1000px\">"
   ]
  },
  {
   "cell_type": "markdown",
   "id": "d2a8eef0-8dd5-4ae0-9f72-8ea79b808649",
   "metadata": {
    "slideshow": {
     "slide_type": "subslide"
    },
    "tags": []
   },
   "source": [
    "### Dataset sizes\n",
    "<img src=\"./images/dssize.png\" alt= “” width=\"1000px\">"
   ]
  },
  {
   "cell_type": "markdown",
   "id": "d5149360-a733-45fc-b53c-a10db776c1c3",
   "metadata": {
    "slideshow": {
     "slide_type": "subslide"
    },
    "tags": []
   },
   "source": [
    "## Consequences \n",
    "- More labelled data\n",
    "- Vastly more energy consumption\n",
    "- Funds"
   ]
  },
  {
   "cell_type": "markdown",
   "id": "ed0d73ab",
   "metadata": {
    "slideshow": {
     "slide_type": "slide"
    },
    "tags": []
   },
   "source": [
    "## Objective\n",
    "- Create a method to improve accuracy and explanations for image classification\n",
    "- No extra labels, reduced training time, no modification to the architecture"
   ]
  },
  {
   "cell_type": "markdown",
   "id": "932c50b3",
   "metadata": {
    "slideshow": {
     "slide_type": "slide"
    },
    "tags": []
   },
   "source": [
    "## Quantifying Performance"
   ]
  },
  {
   "cell_type": "markdown",
   "id": "60b75c50",
   "metadata": {
    "slideshow": {
     "slide_type": "subslide"
    },
    "tags": []
   },
   "source": [
    "### Accuracy\n",
    "<img src=\"./images/chall1.jpg\" alt= “” width=\"500px\">"
   ]
  },
  {
   "cell_type": "markdown",
   "id": "ef6e87ab-8322-494f-af91-328d7f6e18e3",
   "metadata": {
    "slideshow": {
     "slide_type": "subslide"
    },
    "tags": []
   },
   "source": [
    "### Explainability\n",
    "<img src=\"./images/challcam.jpg\" alt= “” width=\"1000px\">"
   ]
  },
  {
   "cell_type": "markdown",
   "id": "1d37c9c3",
   "metadata": {
    "slideshow": {
     "slide_type": "slide"
    }
   },
   "source": [
    "# Previous Work"
   ]
  },
  {
   "cell_type": "markdown",
   "id": "61e0b9a7-62a3-4b43-b9ea-4783a239e744",
   "metadata": {
    "slideshow": {
     "slide_type": "subslide"
    },
    "tags": []
   },
   "source": [
    "## Augmentation\n",
    "\n",
    "<img src=\"./images/aug.png\" alt= “” width=\"1000px\">"
   ]
  },
  {
   "cell_type": "markdown",
   "id": "21daab23-6624-4bda-ad08-3122bab0b827",
   "metadata": {
    "slideshow": {
     "slide_type": "subslide"
    },
    "tags": []
   },
   "source": [
    "## Gradient Based Explanations\n",
    "<img src=\"./images/cams.png\" alt= “” width=\"1000px\">"
   ]
  },
  {
   "cell_type": "markdown",
   "id": "efc22832",
   "metadata": {
    "slideshow": {
     "slide_type": "subslide"
    }
   },
   "source": [
    "## Limitations of Previous Work\n",
    "- Most of the gradient based algorithms are used in inference\n",
    "- Augmentation and contextual awareness\n",
    "- Combining the fields of XAI and data augmentation to improve network performance is a rare practice."
   ]
  },
  {
   "cell_type": "markdown",
   "id": "1f41bc9b-cdb6-4276-831a-25e0435eaddf",
   "metadata": {
    "slideshow": {
     "slide_type": "slide"
    },
    "tags": []
   },
   "source": [
    "# Proxy Attention"
   ]
  },
  {
   "cell_type": "markdown",
   "id": "05ce7ca8-6d0f-4245-9fbd-d35122403080",
   "metadata": {
    "slideshow": {
     "slide_type": "slide"
    },
    "tags": []
   },
   "source": [
    "## Intuition\n",
    "![img](./images/clutter.png)"
   ]
  },
  {
   "cell_type": "markdown",
   "id": "c2dee862-e279-451c-8a63-ec5c58f3b94e",
   "metadata": {
    "slideshow": {
     "slide_type": "subslide"
    },
    "tags": []
   },
   "source": [
    "## Backstage with the Vision Transformer \n",
    "![img](./images/attention.gif)"
   ]
  },
  {
   "cell_type": "markdown",
   "id": "12302cba-da73-4afc-b6fa-1085df83bd3a",
   "metadata": {
    "slideshow": {
     "slide_type": "slide"
    },
    "tags": []
   },
   "source": [
    "## Research Questions\n",
    "1. Is it possible to create an augmentation technique that uses Attention maps?\n",
    "2. Is it possible to approximate the effects of Attention from ViTs in a CNN without changing the architecture?\n",
    "3. Is it possible to make a network converge faster and consequently require fewer data using the outputs from XAI techniques?\n",
    "4. Does using Proxy Attention impact the explainability positively?"
   ]
  },
  {
   "cell_type": "markdown",
   "id": "20eea50d",
   "metadata": {
    "slideshow": {
     "slide_type": "subslide"
    }
   },
   "source": [
    "<img src=\"./images/proxy_flow.png\" alt= “” width=\"1000px\">"
   ]
  },
  {
   "cell_type": "markdown",
   "id": "08910878-923a-4e2c-8b95-d00d68ee2ac2",
   "metadata": {
    "slideshow": {
     "slide_type": "slide"
    },
    "tags": []
   },
   "source": [
    "# Testing"
   ]
  },
  {
   "cell_type": "markdown",
   "id": "788f6972-0ea9-4ffd-aa2b-93f376fc2493",
   "metadata": {
    "slideshow": {
     "slide_type": "slide"
    },
    "tags": []
   },
   "source": [
    "## Datasets"
   ]
  },
  {
   "cell_type": "code",
   "execution_count": 6,
   "id": "4f1f21ae",
   "metadata": {
    "slideshow": {
     "slide_type": "skip"
    }
   },
   "outputs": [],
   "source": [
    "ims = [\"./images/cifar100.pdf.png\", \"./images/caltech101.pdf.png\", \"./images/places256.pdf.png\",\n",
    "                     \"./images/dogs.pdf.png\", \"./images/tsing.png\"]\n",
    "lbls = [\"CIFAR100\", \"Caltech101\", \"Places 256\", \"Stanford Dogs\",\"Tsinghua Dogs\"]"
   ]
  },
  {
   "cell_type": "code",
   "execution_count": 7,
   "id": "39b82710",
   "metadata": {
    "scrolled": false,
    "slideshow": {
     "slide_type": "subslide"
    }
   },
   "outputs": [
    {
     "data": {
      "text/html": [
       "\n",
       "    <style>\n",
       "        #ipyplot-html-viewer-toggle-8jokXkd2b3dBVXowvKthaP {\n",
       "            position: absolute;\n",
       "            top: -9999px;\n",
       "            left: -9999px;\n",
       "            visibility: hidden;\n",
       "        }\n",
       "\n",
       "        #ipyplot-html-viewer-label-8jokXkd2b3dBVXowvKthaP { \n",
       "            position: relative;\n",
       "            display: inline-block;\n",
       "            cursor: pointer;\n",
       "            color: blue;\n",
       "            text-decoration: underline;\n",
       "        }\n",
       "\n",
       "        #ipyplot-html-viewer-textarea-8jokXkd2b3dBVXowvKthaP {\n",
       "            background: lightgrey;\n",
       "            width: 100%;\n",
       "            height: 0px;\n",
       "            display: none;\n",
       "        }\n",
       "\n",
       "        #ipyplot-html-viewer-toggle-8jokXkd2b3dBVXowvKthaP:checked ~ #ipyplot-html-viewer-textarea-8jokXkd2b3dBVXowvKthaP {\n",
       "            height: 200px;\n",
       "            display: block;\n",
       "        }\n",
       "\n",
       "        #ipyplot-html-viewer-toggle-8jokXkd2b3dBVXowvKthaP:checked + #ipyplot-html-viewer-label-8jokXkd2b3dBVXowvKthaP:after {\n",
       "            content: \"hide html\";\n",
       "            position: absolute;\n",
       "            top: 0;\n",
       "            left: 0;\n",
       "            right: 0;\n",
       "            bottom: 0;\n",
       "            background: white;\n",
       "            cursor: pointer;\n",
       "            color: blue;\n",
       "            text-decoration: underline;\n",
       "        }\n",
       "    </style>\n",
       "    <div>\n",
       "        <input type=\"checkbox\" id=\"ipyplot-html-viewer-toggle-8jokXkd2b3dBVXowvKthaP\">\n",
       "        <label id=\"ipyplot-html-viewer-label-8jokXkd2b3dBVXowvKthaP\" for=\"ipyplot-html-viewer-toggle-8jokXkd2b3dBVXowvKthaP\">show html</label>\n",
       "        <textarea id=\"ipyplot-html-viewer-textarea-8jokXkd2b3dBVXowvKthaP\" readonly>\n",
       "            \n",
       "        <style>\n",
       "        #ipyplot-imgs-container-div-Nae5yrrYPbtmMBuZFg3p2q {\n",
       "            width: 100%;\n",
       "            height: 100%;\n",
       "            margin: 0%;\n",
       "            overflow: auto;\n",
       "            position: relative;\n",
       "            overflow-y: scroll;\n",
       "        }\n",
       "\n",
       "        div.ipyplot-placeholder-div-Nae5yrrYPbtmMBuZFg3p2q {\n",
       "            width: 500px;\n",
       "            display: inline-block;\n",
       "            margin: 3px;\n",
       "            position: relative;\n",
       "        }\n",
       "\n",
       "        div.ipyplot-content-div-Nae5yrrYPbtmMBuZFg3p2q {\n",
       "            width: 500px;\n",
       "            background: white;\n",
       "            display: inline-block;\n",
       "            vertical-align: top;\n",
       "            text-align: center;\n",
       "            position: relative;\n",
       "            border: 2px solid #ddd;\n",
       "            top: 0;\n",
       "            left: 0;\n",
       "        }\n",
       "\n",
       "        div.ipyplot-content-div-Nae5yrrYPbtmMBuZFg3p2q span.ipyplot-img-close {\n",
       "            display: none;\n",
       "        }\n",
       "\n",
       "        div.ipyplot-content-div-Nae5yrrYPbtmMBuZFg3p2q span {\n",
       "            width: 100%;\n",
       "            height: 100%;\n",
       "            position: absolute;\n",
       "            top: 0;\n",
       "            left: 0;\n",
       "        }\n",
       "\n",
       "        div.ipyplot-content-div-Nae5yrrYPbtmMBuZFg3p2q img {\n",
       "            width: 500px;\n",
       "        }\n",
       "\n",
       "        div.ipyplot-content-div-Nae5yrrYPbtmMBuZFg3p2q span.ipyplot-img-close:hover {\n",
       "            cursor: zoom-out;\n",
       "        }\n",
       "        div.ipyplot-content-div-Nae5yrrYPbtmMBuZFg3p2q span.ipyplot-img-expand:hover {\n",
       "            cursor: zoom-in;\n",
       "        }\n",
       "\n",
       "        div[id^=ipyplot-content-div-Nae5yrrYPbtmMBuZFg3p2q]:target {\n",
       "            transform: scale(2.5);\n",
       "            transform-origin: left top;\n",
       "            z-index: 5000;\n",
       "            top: 0;\n",
       "            left: 0;\n",
       "            position: absolute;\n",
       "        }\n",
       "\n",
       "        div[id^=ipyplot-content-div-Nae5yrrYPbtmMBuZFg3p2q]:target span.ipyplot-img-close {\n",
       "            display: block;\n",
       "        }\n",
       "\n",
       "        div[id^=ipyplot-content-div-Nae5yrrYPbtmMBuZFg3p2q]:target span.ipyplot-img-expand {\n",
       "            display: none;\n",
       "        }\n",
       "        </style>\n",
       "    <div id=\"ipyplot-imgs-container-div-Nae5yrrYPbtmMBuZFg3p2q\">\n",
       "    <div class=\"ipyplot-placeholder-div-Nae5yrrYPbtmMBuZFg3p2q\">\n",
       "        <div id=\"ipyplot-content-div-Nae5yrrYPbtmMBuZFg3p2q-UJZ9SXBdNpezcsYDXKad5r\" class=\"ipyplot-content-div-Nae5yrrYPbtmMBuZFg3p2q\">\n",
       "            <h4 style=\"font-size: 12px; word-wrap: break-word;\">CIFAR100</h4>\n",
       "            <img src=\"images/cifar100.pdf.png\"/>\n",
       "            <a href=\"#!\">\n",
       "                <span class=\"ipyplot-img-close\"/>\n",
       "            </a>\n",
       "            <a href=\"#ipyplot-content-div-Nae5yrrYPbtmMBuZFg3p2q-UJZ9SXBdNpezcsYDXKad5r\">\n",
       "                <span class=\"ipyplot-img-expand\"/>\n",
       "            </a>\n",
       "        </div>\n",
       "    </div>\n",
       "    \n",
       "    <div class=\"ipyplot-placeholder-div-Nae5yrrYPbtmMBuZFg3p2q\">\n",
       "        <div id=\"ipyplot-content-div-Nae5yrrYPbtmMBuZFg3p2q-mHEMieprtCFgA4eTHSeiRH\" class=\"ipyplot-content-div-Nae5yrrYPbtmMBuZFg3p2q\">\n",
       "            <h4 style=\"font-size: 12px; word-wrap: break-word;\">Caltech101</h4>\n",
       "            <img src=\"images/caltech101.pdf.png\"/>\n",
       "            <a href=\"#!\">\n",
       "                <span class=\"ipyplot-img-close\"/>\n",
       "            </a>\n",
       "            <a href=\"#ipyplot-content-div-Nae5yrrYPbtmMBuZFg3p2q-mHEMieprtCFgA4eTHSeiRH\">\n",
       "                <span class=\"ipyplot-img-expand\"/>\n",
       "            </a>\n",
       "        </div>\n",
       "    </div>\n",
       "    \n",
       "    <div class=\"ipyplot-placeholder-div-Nae5yrrYPbtmMBuZFg3p2q\">\n",
       "        <div id=\"ipyplot-content-div-Nae5yrrYPbtmMBuZFg3p2q-SypR9NEnwUQeg9EgQDLWQF\" class=\"ipyplot-content-div-Nae5yrrYPbtmMBuZFg3p2q\">\n",
       "            <h4 style=\"font-size: 12px; word-wrap: break-word;\">Places 256</h4>\n",
       "            <img src=\"images/places256.pdf.png\"/>\n",
       "            <a href=\"#!\">\n",
       "                <span class=\"ipyplot-img-close\"/>\n",
       "            </a>\n",
       "            <a href=\"#ipyplot-content-div-Nae5yrrYPbtmMBuZFg3p2q-SypR9NEnwUQeg9EgQDLWQF\">\n",
       "                <span class=\"ipyplot-img-expand\"/>\n",
       "            </a>\n",
       "        </div>\n",
       "    </div>\n",
       "    \n",
       "    <div class=\"ipyplot-placeholder-div-Nae5yrrYPbtmMBuZFg3p2q\">\n",
       "        <div id=\"ipyplot-content-div-Nae5yrrYPbtmMBuZFg3p2q-EvupcvrkePsPsqcUua5dS8\" class=\"ipyplot-content-div-Nae5yrrYPbtmMBuZFg3p2q\">\n",
       "            <h4 style=\"font-size: 12px; word-wrap: break-word;\">Stanford Dogs</h4>\n",
       "            <img src=\"images/dogs.pdf.png\"/>\n",
       "            <a href=\"#!\">\n",
       "                <span class=\"ipyplot-img-close\"/>\n",
       "            </a>\n",
       "            <a href=\"#ipyplot-content-div-Nae5yrrYPbtmMBuZFg3p2q-EvupcvrkePsPsqcUua5dS8\">\n",
       "                <span class=\"ipyplot-img-expand\"/>\n",
       "            </a>\n",
       "        </div>\n",
       "    </div>\n",
       "    \n",
       "    <div class=\"ipyplot-placeholder-div-Nae5yrrYPbtmMBuZFg3p2q\">\n",
       "        <div id=\"ipyplot-content-div-Nae5yrrYPbtmMBuZFg3p2q-7FFoiUXKrdVC7t2mQP2U9a\" class=\"ipyplot-content-div-Nae5yrrYPbtmMBuZFg3p2q\">\n",
       "            <h4 style=\"font-size: 12px; word-wrap: break-word;\">Tsinghua Dogs</h4>\n",
       "            <img src=\"images/tsing.png\"/>\n",
       "            <a href=\"#!\">\n",
       "                <span class=\"ipyplot-img-close\"/>\n",
       "            </a>\n",
       "            <a href=\"#ipyplot-content-div-Nae5yrrYPbtmMBuZFg3p2q-7FFoiUXKrdVC7t2mQP2U9a\">\n",
       "                <span class=\"ipyplot-img-expand\"/>\n",
       "            </a>\n",
       "        </div>\n",
       "    </div>\n",
       "    </div>\n",
       "        </textarea>\n",
       "    </div>\n",
       "    "
      ],
      "text/plain": [
       "<IPython.core.display.HTML object>"
      ]
     },
     "metadata": {},
     "output_type": "display_data"
    },
    {
     "data": {
      "text/html": [
       "\n",
       "        <style>\n",
       "        #ipyplot-imgs-container-div-Nae5yrrYPbtmMBuZFg3p2q {\n",
       "            width: 100%;\n",
       "            height: 100%;\n",
       "            margin: 0%;\n",
       "            overflow: auto;\n",
       "            position: relative;\n",
       "            overflow-y: scroll;\n",
       "        }\n",
       "\n",
       "        div.ipyplot-placeholder-div-Nae5yrrYPbtmMBuZFg3p2q {\n",
       "            width: 500px;\n",
       "            display: inline-block;\n",
       "            margin: 3px;\n",
       "            position: relative;\n",
       "        }\n",
       "\n",
       "        div.ipyplot-content-div-Nae5yrrYPbtmMBuZFg3p2q {\n",
       "            width: 500px;\n",
       "            background: white;\n",
       "            display: inline-block;\n",
       "            vertical-align: top;\n",
       "            text-align: center;\n",
       "            position: relative;\n",
       "            border: 2px solid #ddd;\n",
       "            top: 0;\n",
       "            left: 0;\n",
       "        }\n",
       "\n",
       "        div.ipyplot-content-div-Nae5yrrYPbtmMBuZFg3p2q span.ipyplot-img-close {\n",
       "            display: none;\n",
       "        }\n",
       "\n",
       "        div.ipyplot-content-div-Nae5yrrYPbtmMBuZFg3p2q span {\n",
       "            width: 100%;\n",
       "            height: 100%;\n",
       "            position: absolute;\n",
       "            top: 0;\n",
       "            left: 0;\n",
       "        }\n",
       "\n",
       "        div.ipyplot-content-div-Nae5yrrYPbtmMBuZFg3p2q img {\n",
       "            width: 500px;\n",
       "        }\n",
       "\n",
       "        div.ipyplot-content-div-Nae5yrrYPbtmMBuZFg3p2q span.ipyplot-img-close:hover {\n",
       "            cursor: zoom-out;\n",
       "        }\n",
       "        div.ipyplot-content-div-Nae5yrrYPbtmMBuZFg3p2q span.ipyplot-img-expand:hover {\n",
       "            cursor: zoom-in;\n",
       "        }\n",
       "\n",
       "        div[id^=ipyplot-content-div-Nae5yrrYPbtmMBuZFg3p2q]:target {\n",
       "            transform: scale(2.5);\n",
       "            transform-origin: left top;\n",
       "            z-index: 5000;\n",
       "            top: 0;\n",
       "            left: 0;\n",
       "            position: absolute;\n",
       "        }\n",
       "\n",
       "        div[id^=ipyplot-content-div-Nae5yrrYPbtmMBuZFg3p2q]:target span.ipyplot-img-close {\n",
       "            display: block;\n",
       "        }\n",
       "\n",
       "        div[id^=ipyplot-content-div-Nae5yrrYPbtmMBuZFg3p2q]:target span.ipyplot-img-expand {\n",
       "            display: none;\n",
       "        }\n",
       "        </style>\n",
       "    <div id=\"ipyplot-imgs-container-div-Nae5yrrYPbtmMBuZFg3p2q\">\n",
       "    <div class=\"ipyplot-placeholder-div-Nae5yrrYPbtmMBuZFg3p2q\">\n",
       "        <div id=\"ipyplot-content-div-Nae5yrrYPbtmMBuZFg3p2q-UJZ9SXBdNpezcsYDXKad5r\" class=\"ipyplot-content-div-Nae5yrrYPbtmMBuZFg3p2q\">\n",
       "            <h4 style=\"font-size: 12px; word-wrap: break-word;\">CIFAR100</h4>\n",
       "            <img src=\"images/cifar100.pdf.png\"/>\n",
       "            <a href=\"#!\">\n",
       "                <span class=\"ipyplot-img-close\"/>\n",
       "            </a>\n",
       "            <a href=\"#ipyplot-content-div-Nae5yrrYPbtmMBuZFg3p2q-UJZ9SXBdNpezcsYDXKad5r\">\n",
       "                <span class=\"ipyplot-img-expand\"/>\n",
       "            </a>\n",
       "        </div>\n",
       "    </div>\n",
       "    \n",
       "    <div class=\"ipyplot-placeholder-div-Nae5yrrYPbtmMBuZFg3p2q\">\n",
       "        <div id=\"ipyplot-content-div-Nae5yrrYPbtmMBuZFg3p2q-mHEMieprtCFgA4eTHSeiRH\" class=\"ipyplot-content-div-Nae5yrrYPbtmMBuZFg3p2q\">\n",
       "            <h4 style=\"font-size: 12px; word-wrap: break-word;\">Caltech101</h4>\n",
       "            <img src=\"images/caltech101.pdf.png\"/>\n",
       "            <a href=\"#!\">\n",
       "                <span class=\"ipyplot-img-close\"/>\n",
       "            </a>\n",
       "            <a href=\"#ipyplot-content-div-Nae5yrrYPbtmMBuZFg3p2q-mHEMieprtCFgA4eTHSeiRH\">\n",
       "                <span class=\"ipyplot-img-expand\"/>\n",
       "            </a>\n",
       "        </div>\n",
       "    </div>\n",
       "    \n",
       "    <div class=\"ipyplot-placeholder-div-Nae5yrrYPbtmMBuZFg3p2q\">\n",
       "        <div id=\"ipyplot-content-div-Nae5yrrYPbtmMBuZFg3p2q-SypR9NEnwUQeg9EgQDLWQF\" class=\"ipyplot-content-div-Nae5yrrYPbtmMBuZFg3p2q\">\n",
       "            <h4 style=\"font-size: 12px; word-wrap: break-word;\">Places 256</h4>\n",
       "            <img src=\"images/places256.pdf.png\"/>\n",
       "            <a href=\"#!\">\n",
       "                <span class=\"ipyplot-img-close\"/>\n",
       "            </a>\n",
       "            <a href=\"#ipyplot-content-div-Nae5yrrYPbtmMBuZFg3p2q-SypR9NEnwUQeg9EgQDLWQF\">\n",
       "                <span class=\"ipyplot-img-expand\"/>\n",
       "            </a>\n",
       "        </div>\n",
       "    </div>\n",
       "    \n",
       "    <div class=\"ipyplot-placeholder-div-Nae5yrrYPbtmMBuZFg3p2q\">\n",
       "        <div id=\"ipyplot-content-div-Nae5yrrYPbtmMBuZFg3p2q-EvupcvrkePsPsqcUua5dS8\" class=\"ipyplot-content-div-Nae5yrrYPbtmMBuZFg3p2q\">\n",
       "            <h4 style=\"font-size: 12px; word-wrap: break-word;\">Stanford Dogs</h4>\n",
       "            <img src=\"images/dogs.pdf.png\"/>\n",
       "            <a href=\"#!\">\n",
       "                <span class=\"ipyplot-img-close\"/>\n",
       "            </a>\n",
       "            <a href=\"#ipyplot-content-div-Nae5yrrYPbtmMBuZFg3p2q-EvupcvrkePsPsqcUua5dS8\">\n",
       "                <span class=\"ipyplot-img-expand\"/>\n",
       "            </a>\n",
       "        </div>\n",
       "    </div>\n",
       "    \n",
       "    <div class=\"ipyplot-placeholder-div-Nae5yrrYPbtmMBuZFg3p2q\">\n",
       "        <div id=\"ipyplot-content-div-Nae5yrrYPbtmMBuZFg3p2q-7FFoiUXKrdVC7t2mQP2U9a\" class=\"ipyplot-content-div-Nae5yrrYPbtmMBuZFg3p2q\">\n",
       "            <h4 style=\"font-size: 12px; word-wrap: break-word;\">Tsinghua Dogs</h4>\n",
       "            <img src=\"images/tsing.png\"/>\n",
       "            <a href=\"#!\">\n",
       "                <span class=\"ipyplot-img-close\"/>\n",
       "            </a>\n",
       "            <a href=\"#ipyplot-content-div-Nae5yrrYPbtmMBuZFg3p2q-7FFoiUXKrdVC7t2mQP2U9a\">\n",
       "                <span class=\"ipyplot-img-expand\"/>\n",
       "            </a>\n",
       "        </div>\n",
       "    </div>\n",
       "    </div>"
      ],
      "text/plain": [
       "<IPython.core.display.HTML object>"
      ]
     },
     "metadata": {},
     "output_type": "display_data"
    }
   ],
   "source": [
    "grid(ims, lbls)"
   ]
  },
  {
   "cell_type": "markdown",
   "id": "ed0e415e-8bc9-4e9f-9a0c-5fcd5bc8aa31",
   "metadata": {
    "slideshow": {
     "slide_type": "slide"
    },
    "tags": []
   },
   "source": [
    "## Architectures"
   ]
  },
  {
   "cell_type": "code",
   "execution_count": 8,
   "id": "265602d0",
   "metadata": {
    "slideshow": {
     "slide_type": "skip"
    }
   },
   "outputs": [],
   "source": [
    "ims = [\"./images/vggarch.png\", \"./images/resnetarch.png\", \"./images/effnetarch.png\",\"./images/vitarch.png\"]\n",
    "lbls = [\"VGG16\", \"Resnet18\", \"EfficientNet B0\", \"ViT Base Patch 16x224\"]"
   ]
  },
  {
   "cell_type": "code",
   "execution_count": 9,
   "id": "73813cb9",
   "metadata": {
    "scrolled": false,
    "slideshow": {
     "slide_type": "subslide"
    }
   },
   "outputs": [
    {
     "data": {
      "text/html": [
       "\n",
       "    <style>\n",
       "        #ipyplot-html-viewer-toggle-Dwh5Wf9CRM2X5rtDJHpAaU {\n",
       "            position: absolute;\n",
       "            top: -9999px;\n",
       "            left: -9999px;\n",
       "            visibility: hidden;\n",
       "        }\n",
       "\n",
       "        #ipyplot-html-viewer-label-Dwh5Wf9CRM2X5rtDJHpAaU { \n",
       "            position: relative;\n",
       "            display: inline-block;\n",
       "            cursor: pointer;\n",
       "            color: blue;\n",
       "            text-decoration: underline;\n",
       "        }\n",
       "\n",
       "        #ipyplot-html-viewer-textarea-Dwh5Wf9CRM2X5rtDJHpAaU {\n",
       "            background: lightgrey;\n",
       "            width: 100%;\n",
       "            height: 0px;\n",
       "            display: none;\n",
       "        }\n",
       "\n",
       "        #ipyplot-html-viewer-toggle-Dwh5Wf9CRM2X5rtDJHpAaU:checked ~ #ipyplot-html-viewer-textarea-Dwh5Wf9CRM2X5rtDJHpAaU {\n",
       "            height: 200px;\n",
       "            display: block;\n",
       "        }\n",
       "\n",
       "        #ipyplot-html-viewer-toggle-Dwh5Wf9CRM2X5rtDJHpAaU:checked + #ipyplot-html-viewer-label-Dwh5Wf9CRM2X5rtDJHpAaU:after {\n",
       "            content: \"hide html\";\n",
       "            position: absolute;\n",
       "            top: 0;\n",
       "            left: 0;\n",
       "            right: 0;\n",
       "            bottom: 0;\n",
       "            background: white;\n",
       "            cursor: pointer;\n",
       "            color: blue;\n",
       "            text-decoration: underline;\n",
       "        }\n",
       "    </style>\n",
       "    <div>\n",
       "        <input type=\"checkbox\" id=\"ipyplot-html-viewer-toggle-Dwh5Wf9CRM2X5rtDJHpAaU\">\n",
       "        <label id=\"ipyplot-html-viewer-label-Dwh5Wf9CRM2X5rtDJHpAaU\" for=\"ipyplot-html-viewer-toggle-Dwh5Wf9CRM2X5rtDJHpAaU\">show html</label>\n",
       "        <textarea id=\"ipyplot-html-viewer-textarea-Dwh5Wf9CRM2X5rtDJHpAaU\" readonly>\n",
       "            \n",
       "        <style>\n",
       "        #ipyplot-imgs-container-div-nDEqPXwWfMCUX68GRfE7sD {\n",
       "            width: 100%;\n",
       "            height: 100%;\n",
       "            margin: 0%;\n",
       "            overflow: auto;\n",
       "            position: relative;\n",
       "            overflow-y: scroll;\n",
       "        }\n",
       "\n",
       "        div.ipyplot-placeholder-div-nDEqPXwWfMCUX68GRfE7sD {\n",
       "            width: 500px;\n",
       "            display: inline-block;\n",
       "            margin: 3px;\n",
       "            position: relative;\n",
       "        }\n",
       "\n",
       "        div.ipyplot-content-div-nDEqPXwWfMCUX68GRfE7sD {\n",
       "            width: 500px;\n",
       "            background: white;\n",
       "            display: inline-block;\n",
       "            vertical-align: top;\n",
       "            text-align: center;\n",
       "            position: relative;\n",
       "            border: 2px solid #ddd;\n",
       "            top: 0;\n",
       "            left: 0;\n",
       "        }\n",
       "\n",
       "        div.ipyplot-content-div-nDEqPXwWfMCUX68GRfE7sD span.ipyplot-img-close {\n",
       "            display: none;\n",
       "        }\n",
       "\n",
       "        div.ipyplot-content-div-nDEqPXwWfMCUX68GRfE7sD span {\n",
       "            width: 100%;\n",
       "            height: 100%;\n",
       "            position: absolute;\n",
       "            top: 0;\n",
       "            left: 0;\n",
       "        }\n",
       "\n",
       "        div.ipyplot-content-div-nDEqPXwWfMCUX68GRfE7sD img {\n",
       "            width: 500px;\n",
       "        }\n",
       "\n",
       "        div.ipyplot-content-div-nDEqPXwWfMCUX68GRfE7sD span.ipyplot-img-close:hover {\n",
       "            cursor: zoom-out;\n",
       "        }\n",
       "        div.ipyplot-content-div-nDEqPXwWfMCUX68GRfE7sD span.ipyplot-img-expand:hover {\n",
       "            cursor: zoom-in;\n",
       "        }\n",
       "\n",
       "        div[id^=ipyplot-content-div-nDEqPXwWfMCUX68GRfE7sD]:target {\n",
       "            transform: scale(2.5);\n",
       "            transform-origin: left top;\n",
       "            z-index: 5000;\n",
       "            top: 0;\n",
       "            left: 0;\n",
       "            position: absolute;\n",
       "        }\n",
       "\n",
       "        div[id^=ipyplot-content-div-nDEqPXwWfMCUX68GRfE7sD]:target span.ipyplot-img-close {\n",
       "            display: block;\n",
       "        }\n",
       "\n",
       "        div[id^=ipyplot-content-div-nDEqPXwWfMCUX68GRfE7sD]:target span.ipyplot-img-expand {\n",
       "            display: none;\n",
       "        }\n",
       "        </style>\n",
       "    <div id=\"ipyplot-imgs-container-div-nDEqPXwWfMCUX68GRfE7sD\">\n",
       "    <div class=\"ipyplot-placeholder-div-nDEqPXwWfMCUX68GRfE7sD\">\n",
       "        <div id=\"ipyplot-content-div-nDEqPXwWfMCUX68GRfE7sD-7J2VLWe8HtvF4uZbGt28w6\" class=\"ipyplot-content-div-nDEqPXwWfMCUX68GRfE7sD\">\n",
       "            <h4 style=\"font-size: 12px; word-wrap: break-word;\">VGG16</h4>\n",
       "            <img src=\"images/vggarch.png\"/>\n",
       "            <a href=\"#!\">\n",
       "                <span class=\"ipyplot-img-close\"/>\n",
       "            </a>\n",
       "            <a href=\"#ipyplot-content-div-nDEqPXwWfMCUX68GRfE7sD-7J2VLWe8HtvF4uZbGt28w6\">\n",
       "                <span class=\"ipyplot-img-expand\"/>\n",
       "            </a>\n",
       "        </div>\n",
       "    </div>\n",
       "    \n",
       "    <div class=\"ipyplot-placeholder-div-nDEqPXwWfMCUX68GRfE7sD\">\n",
       "        <div id=\"ipyplot-content-div-nDEqPXwWfMCUX68GRfE7sD-cA2oobvHE3GKTqfVRDjkpz\" class=\"ipyplot-content-div-nDEqPXwWfMCUX68GRfE7sD\">\n",
       "            <h4 style=\"font-size: 12px; word-wrap: break-word;\">Resnet18</h4>\n",
       "            <img src=\"images/resnetarch.png\"/>\n",
       "            <a href=\"#!\">\n",
       "                <span class=\"ipyplot-img-close\"/>\n",
       "            </a>\n",
       "            <a href=\"#ipyplot-content-div-nDEqPXwWfMCUX68GRfE7sD-cA2oobvHE3GKTqfVRDjkpz\">\n",
       "                <span class=\"ipyplot-img-expand\"/>\n",
       "            </a>\n",
       "        </div>\n",
       "    </div>\n",
       "    \n",
       "    <div class=\"ipyplot-placeholder-div-nDEqPXwWfMCUX68GRfE7sD\">\n",
       "        <div id=\"ipyplot-content-div-nDEqPXwWfMCUX68GRfE7sD-cmkQCq3wejRde7zFF5DJ2E\" class=\"ipyplot-content-div-nDEqPXwWfMCUX68GRfE7sD\">\n",
       "            <h4 style=\"font-size: 12px; word-wrap: break-word;\">EfficientNet B0</h4>\n",
       "            <img src=\"images/effnetarch.png\"/>\n",
       "            <a href=\"#!\">\n",
       "                <span class=\"ipyplot-img-close\"/>\n",
       "            </a>\n",
       "            <a href=\"#ipyplot-content-div-nDEqPXwWfMCUX68GRfE7sD-cmkQCq3wejRde7zFF5DJ2E\">\n",
       "                <span class=\"ipyplot-img-expand\"/>\n",
       "            </a>\n",
       "        </div>\n",
       "    </div>\n",
       "    \n",
       "    <div class=\"ipyplot-placeholder-div-nDEqPXwWfMCUX68GRfE7sD\">\n",
       "        <div id=\"ipyplot-content-div-nDEqPXwWfMCUX68GRfE7sD-LdNoV9DY5s4HDxWcxLr85w\" class=\"ipyplot-content-div-nDEqPXwWfMCUX68GRfE7sD\">\n",
       "            <h4 style=\"font-size: 12px; word-wrap: break-word;\">ViT Base Patch 16x224</h4>\n",
       "            <img src=\"images/vitarch.png\"/>\n",
       "            <a href=\"#!\">\n",
       "                <span class=\"ipyplot-img-close\"/>\n",
       "            </a>\n",
       "            <a href=\"#ipyplot-content-div-nDEqPXwWfMCUX68GRfE7sD-LdNoV9DY5s4HDxWcxLr85w\">\n",
       "                <span class=\"ipyplot-img-expand\"/>\n",
       "            </a>\n",
       "        </div>\n",
       "    </div>\n",
       "    </div>\n",
       "        </textarea>\n",
       "    </div>\n",
       "    "
      ],
      "text/plain": [
       "<IPython.core.display.HTML object>"
      ]
     },
     "metadata": {},
     "output_type": "display_data"
    },
    {
     "data": {
      "text/html": [
       "\n",
       "        <style>\n",
       "        #ipyplot-imgs-container-div-nDEqPXwWfMCUX68GRfE7sD {\n",
       "            width: 100%;\n",
       "            height: 100%;\n",
       "            margin: 0%;\n",
       "            overflow: auto;\n",
       "            position: relative;\n",
       "            overflow-y: scroll;\n",
       "        }\n",
       "\n",
       "        div.ipyplot-placeholder-div-nDEqPXwWfMCUX68GRfE7sD {\n",
       "            width: 500px;\n",
       "            display: inline-block;\n",
       "            margin: 3px;\n",
       "            position: relative;\n",
       "        }\n",
       "\n",
       "        div.ipyplot-content-div-nDEqPXwWfMCUX68GRfE7sD {\n",
       "            width: 500px;\n",
       "            background: white;\n",
       "            display: inline-block;\n",
       "            vertical-align: top;\n",
       "            text-align: center;\n",
       "            position: relative;\n",
       "            border: 2px solid #ddd;\n",
       "            top: 0;\n",
       "            left: 0;\n",
       "        }\n",
       "\n",
       "        div.ipyplot-content-div-nDEqPXwWfMCUX68GRfE7sD span.ipyplot-img-close {\n",
       "            display: none;\n",
       "        }\n",
       "\n",
       "        div.ipyplot-content-div-nDEqPXwWfMCUX68GRfE7sD span {\n",
       "            width: 100%;\n",
       "            height: 100%;\n",
       "            position: absolute;\n",
       "            top: 0;\n",
       "            left: 0;\n",
       "        }\n",
       "\n",
       "        div.ipyplot-content-div-nDEqPXwWfMCUX68GRfE7sD img {\n",
       "            width: 500px;\n",
       "        }\n",
       "\n",
       "        div.ipyplot-content-div-nDEqPXwWfMCUX68GRfE7sD span.ipyplot-img-close:hover {\n",
       "            cursor: zoom-out;\n",
       "        }\n",
       "        div.ipyplot-content-div-nDEqPXwWfMCUX68GRfE7sD span.ipyplot-img-expand:hover {\n",
       "            cursor: zoom-in;\n",
       "        }\n",
       "\n",
       "        div[id^=ipyplot-content-div-nDEqPXwWfMCUX68GRfE7sD]:target {\n",
       "            transform: scale(2.5);\n",
       "            transform-origin: left top;\n",
       "            z-index: 5000;\n",
       "            top: 0;\n",
       "            left: 0;\n",
       "            position: absolute;\n",
       "        }\n",
       "\n",
       "        div[id^=ipyplot-content-div-nDEqPXwWfMCUX68GRfE7sD]:target span.ipyplot-img-close {\n",
       "            display: block;\n",
       "        }\n",
       "\n",
       "        div[id^=ipyplot-content-div-nDEqPXwWfMCUX68GRfE7sD]:target span.ipyplot-img-expand {\n",
       "            display: none;\n",
       "        }\n",
       "        </style>\n",
       "    <div id=\"ipyplot-imgs-container-div-nDEqPXwWfMCUX68GRfE7sD\">\n",
       "    <div class=\"ipyplot-placeholder-div-nDEqPXwWfMCUX68GRfE7sD\">\n",
       "        <div id=\"ipyplot-content-div-nDEqPXwWfMCUX68GRfE7sD-7J2VLWe8HtvF4uZbGt28w6\" class=\"ipyplot-content-div-nDEqPXwWfMCUX68GRfE7sD\">\n",
       "            <h4 style=\"font-size: 12px; word-wrap: break-word;\">VGG16</h4>\n",
       "            <img src=\"images/vggarch.png\"/>\n",
       "            <a href=\"#!\">\n",
       "                <span class=\"ipyplot-img-close\"/>\n",
       "            </a>\n",
       "            <a href=\"#ipyplot-content-div-nDEqPXwWfMCUX68GRfE7sD-7J2VLWe8HtvF4uZbGt28w6\">\n",
       "                <span class=\"ipyplot-img-expand\"/>\n",
       "            </a>\n",
       "        </div>\n",
       "    </div>\n",
       "    \n",
       "    <div class=\"ipyplot-placeholder-div-nDEqPXwWfMCUX68GRfE7sD\">\n",
       "        <div id=\"ipyplot-content-div-nDEqPXwWfMCUX68GRfE7sD-cA2oobvHE3GKTqfVRDjkpz\" class=\"ipyplot-content-div-nDEqPXwWfMCUX68GRfE7sD\">\n",
       "            <h4 style=\"font-size: 12px; word-wrap: break-word;\">Resnet18</h4>\n",
       "            <img src=\"images/resnetarch.png\"/>\n",
       "            <a href=\"#!\">\n",
       "                <span class=\"ipyplot-img-close\"/>\n",
       "            </a>\n",
       "            <a href=\"#ipyplot-content-div-nDEqPXwWfMCUX68GRfE7sD-cA2oobvHE3GKTqfVRDjkpz\">\n",
       "                <span class=\"ipyplot-img-expand\"/>\n",
       "            </a>\n",
       "        </div>\n",
       "    </div>\n",
       "    \n",
       "    <div class=\"ipyplot-placeholder-div-nDEqPXwWfMCUX68GRfE7sD\">\n",
       "        <div id=\"ipyplot-content-div-nDEqPXwWfMCUX68GRfE7sD-cmkQCq3wejRde7zFF5DJ2E\" class=\"ipyplot-content-div-nDEqPXwWfMCUX68GRfE7sD\">\n",
       "            <h4 style=\"font-size: 12px; word-wrap: break-word;\">EfficientNet B0</h4>\n",
       "            <img src=\"images/effnetarch.png\"/>\n",
       "            <a href=\"#!\">\n",
       "                <span class=\"ipyplot-img-close\"/>\n",
       "            </a>\n",
       "            <a href=\"#ipyplot-content-div-nDEqPXwWfMCUX68GRfE7sD-cmkQCq3wejRde7zFF5DJ2E\">\n",
       "                <span class=\"ipyplot-img-expand\"/>\n",
       "            </a>\n",
       "        </div>\n",
       "    </div>\n",
       "    \n",
       "    <div class=\"ipyplot-placeholder-div-nDEqPXwWfMCUX68GRfE7sD\">\n",
       "        <div id=\"ipyplot-content-div-nDEqPXwWfMCUX68GRfE7sD-LdNoV9DY5s4HDxWcxLr85w\" class=\"ipyplot-content-div-nDEqPXwWfMCUX68GRfE7sD\">\n",
       "            <h4 style=\"font-size: 12px; word-wrap: break-word;\">ViT Base Patch 16x224</h4>\n",
       "            <img src=\"images/vitarch.png\"/>\n",
       "            <a href=\"#!\">\n",
       "                <span class=\"ipyplot-img-close\"/>\n",
       "            </a>\n",
       "            <a href=\"#ipyplot-content-div-nDEqPXwWfMCUX68GRfE7sD-LdNoV9DY5s4HDxWcxLr85w\">\n",
       "                <span class=\"ipyplot-img-expand\"/>\n",
       "            </a>\n",
       "        </div>\n",
       "    </div>\n",
       "    </div>"
      ],
      "text/plain": [
       "<IPython.core.display.HTML object>"
      ]
     },
     "metadata": {},
     "output_type": "display_data"
    }
   ],
   "source": [
    "grid(ims, lbls)"
   ]
  },
  {
   "cell_type": "markdown",
   "id": "ba961554",
   "metadata": {
    "slideshow": {
     "slide_type": "slide"
    },
    "tags": []
   },
   "source": [
    "## Hyper Parameters"
   ]
  },
  {
   "cell_type": "markdown",
   "id": "4c735cb2-8343-40e3-a9e2-438011640d87",
   "metadata": {
    "slideshow": {
     "slide_type": "subslide"
    },
    "tags": []
   },
   "source": [
    "## Proxy Image Threshold\n",
    "<img src=\"./images/grad_threshold-crop.pdf.png\" alt= “” width=\"500px\">"
   ]
  },
  {
   "cell_type": "markdown",
   "id": "fe02ee6b-801b-45cd-9007-464f2d170bb4",
   "metadata": {
    "slideshow": {
     "slide_type": "subslide"
    },
    "tags": []
   },
   "source": [
    "## Proxy Image Weight\n",
    "<img src=\"./images/multiply_threshold-crop.pdf.png\" alt= “” width=\"500px\">"
   ]
  },
  {
   "cell_type": "markdown",
   "id": "c65dc7fe-6660-4b72-838f-338e237c67f7",
   "metadata": {
    "slideshow": {
     "slide_type": "subslide"
    },
    "tags": []
   },
   "source": [
    "## Pixel Replacement Types\n",
    "<img src=\"./images/methods-crop.pdf.png\" alt= “” width=\"1000px\">"
   ]
  },
  {
   "cell_type": "markdown",
   "id": "80a44c8d-6dd3-475e-9d54-83880e4ac3a5",
   "metadata": {
    "slideshow": {
     "slide_type": "subslide"
    },
    "tags": []
   },
   "source": [
    "## Proxy Step Schedule\n",
    "- [20, p,19]\n",
    "- [5, p, 9, p,9, p,4]"
   ]
  },
  {
   "cell_type": "markdown",
   "id": "4aa89912-5589-44c9-9df2-b4113be743e5",
   "metadata": {
    "slideshow": {
     "slide_type": "subslide"
    },
    "tags": []
   },
   "source": [
    "## Subset of Wrongly Classified Images\n",
    "- 0.1\n",
    "- 0.2\n",
    "- 0.4\n",
    "- 0.8\n",
    "- 0.95"
   ]
  },
  {
   "cell_type": "markdown",
   "id": "23b68b93",
   "metadata": {
    "slideshow": {
     "slide_type": "slide"
    }
   },
   "source": [
    "## Training Assumptions\n",
    "- Equal number of epochs\n",
    "- Every other parameter fixed\n",
    "- Equal number of data points for the DataLoaders"
   ]
  },
  {
   "cell_type": "markdown",
   "id": "3662ef6f",
   "metadata": {
    "slideshow": {
     "slide_type": "slide"
    }
   },
   "source": [
    "# Results"
   ]
  },
  {
   "cell_type": "markdown",
   "id": "efafbf92",
   "metadata": {
    "slideshow": {
     "slide_type": "slide"
    }
   },
   "source": [
    "## By Dataset"
   ]
  },
  {
   "cell_type": "code",
   "execution_count": 10,
   "id": "46d2d601",
   "metadata": {
    "slideshow": {
     "slide_type": "skip"
    }
   },
   "outputs": [],
   "source": [
    "ims = [\"./images/res1.png\", \"./images/res2.png\", \"./images/res3.png\", \"./images/res4.png\"]"
   ]
  },
  {
   "cell_type": "code",
   "execution_count": 11,
   "id": "cc0595eb",
   "metadata": {
    "scrolled": false,
    "slideshow": {
     "slide_type": "subslide"
    }
   },
   "outputs": [
    {
     "data": {
      "text/html": [
       "\n",
       "    <style>\n",
       "        #ipyplot-html-viewer-toggle-TeXPfoQhevyb5npKZgvLSv {\n",
       "            position: absolute;\n",
       "            top: -9999px;\n",
       "            left: -9999px;\n",
       "            visibility: hidden;\n",
       "        }\n",
       "\n",
       "        #ipyplot-html-viewer-label-TeXPfoQhevyb5npKZgvLSv { \n",
       "            position: relative;\n",
       "            display: inline-block;\n",
       "            cursor: pointer;\n",
       "            color: blue;\n",
       "            text-decoration: underline;\n",
       "        }\n",
       "\n",
       "        #ipyplot-html-viewer-textarea-TeXPfoQhevyb5npKZgvLSv {\n",
       "            background: lightgrey;\n",
       "            width: 100%;\n",
       "            height: 0px;\n",
       "            display: none;\n",
       "        }\n",
       "\n",
       "        #ipyplot-html-viewer-toggle-TeXPfoQhevyb5npKZgvLSv:checked ~ #ipyplot-html-viewer-textarea-TeXPfoQhevyb5npKZgvLSv {\n",
       "            height: 200px;\n",
       "            display: block;\n",
       "        }\n",
       "\n",
       "        #ipyplot-html-viewer-toggle-TeXPfoQhevyb5npKZgvLSv:checked + #ipyplot-html-viewer-label-TeXPfoQhevyb5npKZgvLSv:after {\n",
       "            content: \"hide html\";\n",
       "            position: absolute;\n",
       "            top: 0;\n",
       "            left: 0;\n",
       "            right: 0;\n",
       "            bottom: 0;\n",
       "            background: white;\n",
       "            cursor: pointer;\n",
       "            color: blue;\n",
       "            text-decoration: underline;\n",
       "        }\n",
       "    </style>\n",
       "    <div>\n",
       "        <input type=\"checkbox\" id=\"ipyplot-html-viewer-toggle-TeXPfoQhevyb5npKZgvLSv\">\n",
       "        <label id=\"ipyplot-html-viewer-label-TeXPfoQhevyb5npKZgvLSv\" for=\"ipyplot-html-viewer-toggle-TeXPfoQhevyb5npKZgvLSv\">show html</label>\n",
       "        <textarea id=\"ipyplot-html-viewer-textarea-TeXPfoQhevyb5npKZgvLSv\" readonly>\n",
       "            \n",
       "        <style>\n",
       "        #ipyplot-imgs-container-div-TxwxENAPhcVQ2qzXfjHe3i {\n",
       "            width: 100%;\n",
       "            height: 100%;\n",
       "            margin: 0%;\n",
       "            overflow: auto;\n",
       "            position: relative;\n",
       "            overflow-y: scroll;\n",
       "        }\n",
       "\n",
       "        div.ipyplot-placeholder-div-TxwxENAPhcVQ2qzXfjHe3i {\n",
       "            width: 500px;\n",
       "            display: inline-block;\n",
       "            margin: 3px;\n",
       "            position: relative;\n",
       "        }\n",
       "\n",
       "        div.ipyplot-content-div-TxwxENAPhcVQ2qzXfjHe3i {\n",
       "            width: 500px;\n",
       "            background: white;\n",
       "            display: inline-block;\n",
       "            vertical-align: top;\n",
       "            text-align: center;\n",
       "            position: relative;\n",
       "            border: 2px solid #ddd;\n",
       "            top: 0;\n",
       "            left: 0;\n",
       "        }\n",
       "\n",
       "        div.ipyplot-content-div-TxwxENAPhcVQ2qzXfjHe3i span.ipyplot-img-close {\n",
       "            display: none;\n",
       "        }\n",
       "\n",
       "        div.ipyplot-content-div-TxwxENAPhcVQ2qzXfjHe3i span {\n",
       "            width: 100%;\n",
       "            height: 100%;\n",
       "            position: absolute;\n",
       "            top: 0;\n",
       "            left: 0;\n",
       "        }\n",
       "\n",
       "        div.ipyplot-content-div-TxwxENAPhcVQ2qzXfjHe3i img {\n",
       "            width: 500px;\n",
       "        }\n",
       "\n",
       "        div.ipyplot-content-div-TxwxENAPhcVQ2qzXfjHe3i span.ipyplot-img-close:hover {\n",
       "            cursor: zoom-out;\n",
       "        }\n",
       "        div.ipyplot-content-div-TxwxENAPhcVQ2qzXfjHe3i span.ipyplot-img-expand:hover {\n",
       "            cursor: zoom-in;\n",
       "        }\n",
       "\n",
       "        div[id^=ipyplot-content-div-TxwxENAPhcVQ2qzXfjHe3i]:target {\n",
       "            transform: scale(2.5);\n",
       "            transform-origin: left top;\n",
       "            z-index: 5000;\n",
       "            top: 0;\n",
       "            left: 0;\n",
       "            position: absolute;\n",
       "        }\n",
       "\n",
       "        div[id^=ipyplot-content-div-TxwxENAPhcVQ2qzXfjHe3i]:target span.ipyplot-img-close {\n",
       "            display: block;\n",
       "        }\n",
       "\n",
       "        div[id^=ipyplot-content-div-TxwxENAPhcVQ2qzXfjHe3i]:target span.ipyplot-img-expand {\n",
       "            display: none;\n",
       "        }\n",
       "        </style>\n",
       "    <div id=\"ipyplot-imgs-container-div-TxwxENAPhcVQ2qzXfjHe3i\">\n",
       "    <div class=\"ipyplot-placeholder-div-TxwxENAPhcVQ2qzXfjHe3i\">\n",
       "        <div id=\"ipyplot-content-div-TxwxENAPhcVQ2qzXfjHe3i-SWstvnw6NmN4JbioFBWdN4\" class=\"ipyplot-content-div-TxwxENAPhcVQ2qzXfjHe3i\">\n",
       "            <h4 style=\"font-size: 12px; word-wrap: break-word;\">0</h4>\n",
       "            <img src=\"images/res1.png\"/>\n",
       "            <a href=\"#!\">\n",
       "                <span class=\"ipyplot-img-close\"/>\n",
       "            </a>\n",
       "            <a href=\"#ipyplot-content-div-TxwxENAPhcVQ2qzXfjHe3i-SWstvnw6NmN4JbioFBWdN4\">\n",
       "                <span class=\"ipyplot-img-expand\"/>\n",
       "            </a>\n",
       "        </div>\n",
       "    </div>\n",
       "    \n",
       "    <div class=\"ipyplot-placeholder-div-TxwxENAPhcVQ2qzXfjHe3i\">\n",
       "        <div id=\"ipyplot-content-div-TxwxENAPhcVQ2qzXfjHe3i-cuDzN8Ygrin6v89M8AfadG\" class=\"ipyplot-content-div-TxwxENAPhcVQ2qzXfjHe3i\">\n",
       "            <h4 style=\"font-size: 12px; word-wrap: break-word;\">1</h4>\n",
       "            <img src=\"images/res2.png\"/>\n",
       "            <a href=\"#!\">\n",
       "                <span class=\"ipyplot-img-close\"/>\n",
       "            </a>\n",
       "            <a href=\"#ipyplot-content-div-TxwxENAPhcVQ2qzXfjHe3i-cuDzN8Ygrin6v89M8AfadG\">\n",
       "                <span class=\"ipyplot-img-expand\"/>\n",
       "            </a>\n",
       "        </div>\n",
       "    </div>\n",
       "    \n",
       "    <div class=\"ipyplot-placeholder-div-TxwxENAPhcVQ2qzXfjHe3i\">\n",
       "        <div id=\"ipyplot-content-div-TxwxENAPhcVQ2qzXfjHe3i-5Bqe9ynsWb7BKu7Dhvq3fQ\" class=\"ipyplot-content-div-TxwxENAPhcVQ2qzXfjHe3i\">\n",
       "            <h4 style=\"font-size: 12px; word-wrap: break-word;\">2</h4>\n",
       "            <img src=\"images/res3.png\"/>\n",
       "            <a href=\"#!\">\n",
       "                <span class=\"ipyplot-img-close\"/>\n",
       "            </a>\n",
       "            <a href=\"#ipyplot-content-div-TxwxENAPhcVQ2qzXfjHe3i-5Bqe9ynsWb7BKu7Dhvq3fQ\">\n",
       "                <span class=\"ipyplot-img-expand\"/>\n",
       "            </a>\n",
       "        </div>\n",
       "    </div>\n",
       "    \n",
       "    <div class=\"ipyplot-placeholder-div-TxwxENAPhcVQ2qzXfjHe3i\">\n",
       "        <div id=\"ipyplot-content-div-TxwxENAPhcVQ2qzXfjHe3i-M3QZQHizTWsVRBbAcxoohj\" class=\"ipyplot-content-div-TxwxENAPhcVQ2qzXfjHe3i\">\n",
       "            <h4 style=\"font-size: 12px; word-wrap: break-word;\">3</h4>\n",
       "            <img src=\"images/res4.png\"/>\n",
       "            <a href=\"#!\">\n",
       "                <span class=\"ipyplot-img-close\"/>\n",
       "            </a>\n",
       "            <a href=\"#ipyplot-content-div-TxwxENAPhcVQ2qzXfjHe3i-M3QZQHizTWsVRBbAcxoohj\">\n",
       "                <span class=\"ipyplot-img-expand\"/>\n",
       "            </a>\n",
       "        </div>\n",
       "    </div>\n",
       "    </div>\n",
       "        </textarea>\n",
       "    </div>\n",
       "    "
      ],
      "text/plain": [
       "<IPython.core.display.HTML object>"
      ]
     },
     "metadata": {},
     "output_type": "display_data"
    },
    {
     "data": {
      "text/html": [
       "\n",
       "        <style>\n",
       "        #ipyplot-imgs-container-div-TxwxENAPhcVQ2qzXfjHe3i {\n",
       "            width: 100%;\n",
       "            height: 100%;\n",
       "            margin: 0%;\n",
       "            overflow: auto;\n",
       "            position: relative;\n",
       "            overflow-y: scroll;\n",
       "        }\n",
       "\n",
       "        div.ipyplot-placeholder-div-TxwxENAPhcVQ2qzXfjHe3i {\n",
       "            width: 500px;\n",
       "            display: inline-block;\n",
       "            margin: 3px;\n",
       "            position: relative;\n",
       "        }\n",
       "\n",
       "        div.ipyplot-content-div-TxwxENAPhcVQ2qzXfjHe3i {\n",
       "            width: 500px;\n",
       "            background: white;\n",
       "            display: inline-block;\n",
       "            vertical-align: top;\n",
       "            text-align: center;\n",
       "            position: relative;\n",
       "            border: 2px solid #ddd;\n",
       "            top: 0;\n",
       "            left: 0;\n",
       "        }\n",
       "\n",
       "        div.ipyplot-content-div-TxwxENAPhcVQ2qzXfjHe3i span.ipyplot-img-close {\n",
       "            display: none;\n",
       "        }\n",
       "\n",
       "        div.ipyplot-content-div-TxwxENAPhcVQ2qzXfjHe3i span {\n",
       "            width: 100%;\n",
       "            height: 100%;\n",
       "            position: absolute;\n",
       "            top: 0;\n",
       "            left: 0;\n",
       "        }\n",
       "\n",
       "        div.ipyplot-content-div-TxwxENAPhcVQ2qzXfjHe3i img {\n",
       "            width: 500px;\n",
       "        }\n",
       "\n",
       "        div.ipyplot-content-div-TxwxENAPhcVQ2qzXfjHe3i span.ipyplot-img-close:hover {\n",
       "            cursor: zoom-out;\n",
       "        }\n",
       "        div.ipyplot-content-div-TxwxENAPhcVQ2qzXfjHe3i span.ipyplot-img-expand:hover {\n",
       "            cursor: zoom-in;\n",
       "        }\n",
       "\n",
       "        div[id^=ipyplot-content-div-TxwxENAPhcVQ2qzXfjHe3i]:target {\n",
       "            transform: scale(2.5);\n",
       "            transform-origin: left top;\n",
       "            z-index: 5000;\n",
       "            top: 0;\n",
       "            left: 0;\n",
       "            position: absolute;\n",
       "        }\n",
       "\n",
       "        div[id^=ipyplot-content-div-TxwxENAPhcVQ2qzXfjHe3i]:target span.ipyplot-img-close {\n",
       "            display: block;\n",
       "        }\n",
       "\n",
       "        div[id^=ipyplot-content-div-TxwxENAPhcVQ2qzXfjHe3i]:target span.ipyplot-img-expand {\n",
       "            display: none;\n",
       "        }\n",
       "        </style>\n",
       "    <div id=\"ipyplot-imgs-container-div-TxwxENAPhcVQ2qzXfjHe3i\">\n",
       "    <div class=\"ipyplot-placeholder-div-TxwxENAPhcVQ2qzXfjHe3i\">\n",
       "        <div id=\"ipyplot-content-div-TxwxENAPhcVQ2qzXfjHe3i-SWstvnw6NmN4JbioFBWdN4\" class=\"ipyplot-content-div-TxwxENAPhcVQ2qzXfjHe3i\">\n",
       "            <h4 style=\"font-size: 12px; word-wrap: break-word;\">0</h4>\n",
       "            <img src=\"images/res1.png\"/>\n",
       "            <a href=\"#!\">\n",
       "                <span class=\"ipyplot-img-close\"/>\n",
       "            </a>\n",
       "            <a href=\"#ipyplot-content-div-TxwxENAPhcVQ2qzXfjHe3i-SWstvnw6NmN4JbioFBWdN4\">\n",
       "                <span class=\"ipyplot-img-expand\"/>\n",
       "            </a>\n",
       "        </div>\n",
       "    </div>\n",
       "    \n",
       "    <div class=\"ipyplot-placeholder-div-TxwxENAPhcVQ2qzXfjHe3i\">\n",
       "        <div id=\"ipyplot-content-div-TxwxENAPhcVQ2qzXfjHe3i-cuDzN8Ygrin6v89M8AfadG\" class=\"ipyplot-content-div-TxwxENAPhcVQ2qzXfjHe3i\">\n",
       "            <h4 style=\"font-size: 12px; word-wrap: break-word;\">1</h4>\n",
       "            <img src=\"images/res2.png\"/>\n",
       "            <a href=\"#!\">\n",
       "                <span class=\"ipyplot-img-close\"/>\n",
       "            </a>\n",
       "            <a href=\"#ipyplot-content-div-TxwxENAPhcVQ2qzXfjHe3i-cuDzN8Ygrin6v89M8AfadG\">\n",
       "                <span class=\"ipyplot-img-expand\"/>\n",
       "            </a>\n",
       "        </div>\n",
       "    </div>\n",
       "    \n",
       "    <div class=\"ipyplot-placeholder-div-TxwxENAPhcVQ2qzXfjHe3i\">\n",
       "        <div id=\"ipyplot-content-div-TxwxENAPhcVQ2qzXfjHe3i-5Bqe9ynsWb7BKu7Dhvq3fQ\" class=\"ipyplot-content-div-TxwxENAPhcVQ2qzXfjHe3i\">\n",
       "            <h4 style=\"font-size: 12px; word-wrap: break-word;\">2</h4>\n",
       "            <img src=\"images/res3.png\"/>\n",
       "            <a href=\"#!\">\n",
       "                <span class=\"ipyplot-img-close\"/>\n",
       "            </a>\n",
       "            <a href=\"#ipyplot-content-div-TxwxENAPhcVQ2qzXfjHe3i-5Bqe9ynsWb7BKu7Dhvq3fQ\">\n",
       "                <span class=\"ipyplot-img-expand\"/>\n",
       "            </a>\n",
       "        </div>\n",
       "    </div>\n",
       "    \n",
       "    <div class=\"ipyplot-placeholder-div-TxwxENAPhcVQ2qzXfjHe3i\">\n",
       "        <div id=\"ipyplot-content-div-TxwxENAPhcVQ2qzXfjHe3i-M3QZQHizTWsVRBbAcxoohj\" class=\"ipyplot-content-div-TxwxENAPhcVQ2qzXfjHe3i\">\n",
       "            <h4 style=\"font-size: 12px; word-wrap: break-word;\">3</h4>\n",
       "            <img src=\"images/res4.png\"/>\n",
       "            <a href=\"#!\">\n",
       "                <span class=\"ipyplot-img-close\"/>\n",
       "            </a>\n",
       "            <a href=\"#ipyplot-content-div-TxwxENAPhcVQ2qzXfjHe3i-M3QZQHizTWsVRBbAcxoohj\">\n",
       "                <span class=\"ipyplot-img-expand\"/>\n",
       "            </a>\n",
       "        </div>\n",
       "    </div>\n",
       "    </div>"
      ],
      "text/plain": [
       "<IPython.core.display.HTML object>"
      ]
     },
     "metadata": {},
     "output_type": "display_data"
    }
   ],
   "source": [
    "grid(ims)"
   ]
  },
  {
   "cell_type": "markdown",
   "id": "0fb3ffac",
   "metadata": {
    "slideshow": {
     "slide_type": "slide"
    }
   },
   "source": [
    "## By Hyper Parameters"
   ]
  },
  {
   "cell_type": "code",
   "execution_count": 12,
   "id": "8125c408",
   "metadata": {
    "slideshow": {
     "slide_type": "skip"
    }
   },
   "outputs": [],
   "source": [
    "ims = [\"./images/res5.png\", \"./images/res6.png\", \"./images/res7.png\", \"./images/res8.png\"]\n",
    "lbls = [\"By Schedule\", \"By Proxy Threshold\", \"By Proxy Image Weight\", \"By Proxy Image Subset\"]"
   ]
  },
  {
   "cell_type": "code",
   "execution_count": 13,
   "id": "c7f68dfd",
   "metadata": {
    "scrolled": false,
    "slideshow": {
     "slide_type": "subslide"
    }
   },
   "outputs": [
    {
     "data": {
      "text/html": [
       "\n",
       "    <style>\n",
       "        #ipyplot-html-viewer-toggle-np3YGPtvT4jXP8JY2km65x {\n",
       "            position: absolute;\n",
       "            top: -9999px;\n",
       "            left: -9999px;\n",
       "            visibility: hidden;\n",
       "        }\n",
       "\n",
       "        #ipyplot-html-viewer-label-np3YGPtvT4jXP8JY2km65x { \n",
       "            position: relative;\n",
       "            display: inline-block;\n",
       "            cursor: pointer;\n",
       "            color: blue;\n",
       "            text-decoration: underline;\n",
       "        }\n",
       "\n",
       "        #ipyplot-html-viewer-textarea-np3YGPtvT4jXP8JY2km65x {\n",
       "            background: lightgrey;\n",
       "            width: 100%;\n",
       "            height: 0px;\n",
       "            display: none;\n",
       "        }\n",
       "\n",
       "        #ipyplot-html-viewer-toggle-np3YGPtvT4jXP8JY2km65x:checked ~ #ipyplot-html-viewer-textarea-np3YGPtvT4jXP8JY2km65x {\n",
       "            height: 200px;\n",
       "            display: block;\n",
       "        }\n",
       "\n",
       "        #ipyplot-html-viewer-toggle-np3YGPtvT4jXP8JY2km65x:checked + #ipyplot-html-viewer-label-np3YGPtvT4jXP8JY2km65x:after {\n",
       "            content: \"hide html\";\n",
       "            position: absolute;\n",
       "            top: 0;\n",
       "            left: 0;\n",
       "            right: 0;\n",
       "            bottom: 0;\n",
       "            background: white;\n",
       "            cursor: pointer;\n",
       "            color: blue;\n",
       "            text-decoration: underline;\n",
       "        }\n",
       "    </style>\n",
       "    <div>\n",
       "        <input type=\"checkbox\" id=\"ipyplot-html-viewer-toggle-np3YGPtvT4jXP8JY2km65x\">\n",
       "        <label id=\"ipyplot-html-viewer-label-np3YGPtvT4jXP8JY2km65x\" for=\"ipyplot-html-viewer-toggle-np3YGPtvT4jXP8JY2km65x\">show html</label>\n",
       "        <textarea id=\"ipyplot-html-viewer-textarea-np3YGPtvT4jXP8JY2km65x\" readonly>\n",
       "            \n",
       "        <style>\n",
       "        #ipyplot-imgs-container-div-VKWcucWvor6FUhLpyHGisB {\n",
       "            width: 100%;\n",
       "            height: 100%;\n",
       "            margin: 0%;\n",
       "            overflow: auto;\n",
       "            position: relative;\n",
       "            overflow-y: scroll;\n",
       "        }\n",
       "\n",
       "        div.ipyplot-placeholder-div-VKWcucWvor6FUhLpyHGisB {\n",
       "            width: 500px;\n",
       "            display: inline-block;\n",
       "            margin: 3px;\n",
       "            position: relative;\n",
       "        }\n",
       "\n",
       "        div.ipyplot-content-div-VKWcucWvor6FUhLpyHGisB {\n",
       "            width: 500px;\n",
       "            background: white;\n",
       "            display: inline-block;\n",
       "            vertical-align: top;\n",
       "            text-align: center;\n",
       "            position: relative;\n",
       "            border: 2px solid #ddd;\n",
       "            top: 0;\n",
       "            left: 0;\n",
       "        }\n",
       "\n",
       "        div.ipyplot-content-div-VKWcucWvor6FUhLpyHGisB span.ipyplot-img-close {\n",
       "            display: none;\n",
       "        }\n",
       "\n",
       "        div.ipyplot-content-div-VKWcucWvor6FUhLpyHGisB span {\n",
       "            width: 100%;\n",
       "            height: 100%;\n",
       "            position: absolute;\n",
       "            top: 0;\n",
       "            left: 0;\n",
       "        }\n",
       "\n",
       "        div.ipyplot-content-div-VKWcucWvor6FUhLpyHGisB img {\n",
       "            width: 500px;\n",
       "        }\n",
       "\n",
       "        div.ipyplot-content-div-VKWcucWvor6FUhLpyHGisB span.ipyplot-img-close:hover {\n",
       "            cursor: zoom-out;\n",
       "        }\n",
       "        div.ipyplot-content-div-VKWcucWvor6FUhLpyHGisB span.ipyplot-img-expand:hover {\n",
       "            cursor: zoom-in;\n",
       "        }\n",
       "\n",
       "        div[id^=ipyplot-content-div-VKWcucWvor6FUhLpyHGisB]:target {\n",
       "            transform: scale(2.5);\n",
       "            transform-origin: left top;\n",
       "            z-index: 5000;\n",
       "            top: 0;\n",
       "            left: 0;\n",
       "            position: absolute;\n",
       "        }\n",
       "\n",
       "        div[id^=ipyplot-content-div-VKWcucWvor6FUhLpyHGisB]:target span.ipyplot-img-close {\n",
       "            display: block;\n",
       "        }\n",
       "\n",
       "        div[id^=ipyplot-content-div-VKWcucWvor6FUhLpyHGisB]:target span.ipyplot-img-expand {\n",
       "            display: none;\n",
       "        }\n",
       "        </style>\n",
       "    <div id=\"ipyplot-imgs-container-div-VKWcucWvor6FUhLpyHGisB\">\n",
       "    <div class=\"ipyplot-placeholder-div-VKWcucWvor6FUhLpyHGisB\">\n",
       "        <div id=\"ipyplot-content-div-VKWcucWvor6FUhLpyHGisB-PeqisYCrmAEyhDkDMVUbae\" class=\"ipyplot-content-div-VKWcucWvor6FUhLpyHGisB\">\n",
       "            <h4 style=\"font-size: 12px; word-wrap: break-word;\">By Schedule</h4>\n",
       "            <img src=\"images/res5.png\"/>\n",
       "            <a href=\"#!\">\n",
       "                <span class=\"ipyplot-img-close\"/>\n",
       "            </a>\n",
       "            <a href=\"#ipyplot-content-div-VKWcucWvor6FUhLpyHGisB-PeqisYCrmAEyhDkDMVUbae\">\n",
       "                <span class=\"ipyplot-img-expand\"/>\n",
       "            </a>\n",
       "        </div>\n",
       "    </div>\n",
       "    \n",
       "    <div class=\"ipyplot-placeholder-div-VKWcucWvor6FUhLpyHGisB\">\n",
       "        <div id=\"ipyplot-content-div-VKWcucWvor6FUhLpyHGisB-ACcT9pHAmoyH8WDvf2Cfsu\" class=\"ipyplot-content-div-VKWcucWvor6FUhLpyHGisB\">\n",
       "            <h4 style=\"font-size: 12px; word-wrap: break-word;\">By Proxy Threshold</h4>\n",
       "            <img src=\"images/res6.png\"/>\n",
       "            <a href=\"#!\">\n",
       "                <span class=\"ipyplot-img-close\"/>\n",
       "            </a>\n",
       "            <a href=\"#ipyplot-content-div-VKWcucWvor6FUhLpyHGisB-ACcT9pHAmoyH8WDvf2Cfsu\">\n",
       "                <span class=\"ipyplot-img-expand\"/>\n",
       "            </a>\n",
       "        </div>\n",
       "    </div>\n",
       "    \n",
       "    <div class=\"ipyplot-placeholder-div-VKWcucWvor6FUhLpyHGisB\">\n",
       "        <div id=\"ipyplot-content-div-VKWcucWvor6FUhLpyHGisB-3r4pXqquV3f7TiHAZz6NqN\" class=\"ipyplot-content-div-VKWcucWvor6FUhLpyHGisB\">\n",
       "            <h4 style=\"font-size: 12px; word-wrap: break-word;\">By Proxy Image Weight</h4>\n",
       "            <img src=\"images/res7.png\"/>\n",
       "            <a href=\"#!\">\n",
       "                <span class=\"ipyplot-img-close\"/>\n",
       "            </a>\n",
       "            <a href=\"#ipyplot-content-div-VKWcucWvor6FUhLpyHGisB-3r4pXqquV3f7TiHAZz6NqN\">\n",
       "                <span class=\"ipyplot-img-expand\"/>\n",
       "            </a>\n",
       "        </div>\n",
       "    </div>\n",
       "    \n",
       "    <div class=\"ipyplot-placeholder-div-VKWcucWvor6FUhLpyHGisB\">\n",
       "        <div id=\"ipyplot-content-div-VKWcucWvor6FUhLpyHGisB-J6sMnpRZQDZKkiAQ44Ret5\" class=\"ipyplot-content-div-VKWcucWvor6FUhLpyHGisB\">\n",
       "            <h4 style=\"font-size: 12px; word-wrap: break-word;\">By Proxy Image Subset</h4>\n",
       "            <img src=\"images/res8.png\"/>\n",
       "            <a href=\"#!\">\n",
       "                <span class=\"ipyplot-img-close\"/>\n",
       "            </a>\n",
       "            <a href=\"#ipyplot-content-div-VKWcucWvor6FUhLpyHGisB-J6sMnpRZQDZKkiAQ44Ret5\">\n",
       "                <span class=\"ipyplot-img-expand\"/>\n",
       "            </a>\n",
       "        </div>\n",
       "    </div>\n",
       "    </div>\n",
       "        </textarea>\n",
       "    </div>\n",
       "    "
      ],
      "text/plain": [
       "<IPython.core.display.HTML object>"
      ]
     },
     "metadata": {},
     "output_type": "display_data"
    },
    {
     "data": {
      "text/html": [
       "\n",
       "        <style>\n",
       "        #ipyplot-imgs-container-div-VKWcucWvor6FUhLpyHGisB {\n",
       "            width: 100%;\n",
       "            height: 100%;\n",
       "            margin: 0%;\n",
       "            overflow: auto;\n",
       "            position: relative;\n",
       "            overflow-y: scroll;\n",
       "        }\n",
       "\n",
       "        div.ipyplot-placeholder-div-VKWcucWvor6FUhLpyHGisB {\n",
       "            width: 500px;\n",
       "            display: inline-block;\n",
       "            margin: 3px;\n",
       "            position: relative;\n",
       "        }\n",
       "\n",
       "        div.ipyplot-content-div-VKWcucWvor6FUhLpyHGisB {\n",
       "            width: 500px;\n",
       "            background: white;\n",
       "            display: inline-block;\n",
       "            vertical-align: top;\n",
       "            text-align: center;\n",
       "            position: relative;\n",
       "            border: 2px solid #ddd;\n",
       "            top: 0;\n",
       "            left: 0;\n",
       "        }\n",
       "\n",
       "        div.ipyplot-content-div-VKWcucWvor6FUhLpyHGisB span.ipyplot-img-close {\n",
       "            display: none;\n",
       "        }\n",
       "\n",
       "        div.ipyplot-content-div-VKWcucWvor6FUhLpyHGisB span {\n",
       "            width: 100%;\n",
       "            height: 100%;\n",
       "            position: absolute;\n",
       "            top: 0;\n",
       "            left: 0;\n",
       "        }\n",
       "\n",
       "        div.ipyplot-content-div-VKWcucWvor6FUhLpyHGisB img {\n",
       "            width: 500px;\n",
       "        }\n",
       "\n",
       "        div.ipyplot-content-div-VKWcucWvor6FUhLpyHGisB span.ipyplot-img-close:hover {\n",
       "            cursor: zoom-out;\n",
       "        }\n",
       "        div.ipyplot-content-div-VKWcucWvor6FUhLpyHGisB span.ipyplot-img-expand:hover {\n",
       "            cursor: zoom-in;\n",
       "        }\n",
       "\n",
       "        div[id^=ipyplot-content-div-VKWcucWvor6FUhLpyHGisB]:target {\n",
       "            transform: scale(2.5);\n",
       "            transform-origin: left top;\n",
       "            z-index: 5000;\n",
       "            top: 0;\n",
       "            left: 0;\n",
       "            position: absolute;\n",
       "        }\n",
       "\n",
       "        div[id^=ipyplot-content-div-VKWcucWvor6FUhLpyHGisB]:target span.ipyplot-img-close {\n",
       "            display: block;\n",
       "        }\n",
       "\n",
       "        div[id^=ipyplot-content-div-VKWcucWvor6FUhLpyHGisB]:target span.ipyplot-img-expand {\n",
       "            display: none;\n",
       "        }\n",
       "        </style>\n",
       "    <div id=\"ipyplot-imgs-container-div-VKWcucWvor6FUhLpyHGisB\">\n",
       "    <div class=\"ipyplot-placeholder-div-VKWcucWvor6FUhLpyHGisB\">\n",
       "        <div id=\"ipyplot-content-div-VKWcucWvor6FUhLpyHGisB-PeqisYCrmAEyhDkDMVUbae\" class=\"ipyplot-content-div-VKWcucWvor6FUhLpyHGisB\">\n",
       "            <h4 style=\"font-size: 12px; word-wrap: break-word;\">By Schedule</h4>\n",
       "            <img src=\"images/res5.png\"/>\n",
       "            <a href=\"#!\">\n",
       "                <span class=\"ipyplot-img-close\"/>\n",
       "            </a>\n",
       "            <a href=\"#ipyplot-content-div-VKWcucWvor6FUhLpyHGisB-PeqisYCrmAEyhDkDMVUbae\">\n",
       "                <span class=\"ipyplot-img-expand\"/>\n",
       "            </a>\n",
       "        </div>\n",
       "    </div>\n",
       "    \n",
       "    <div class=\"ipyplot-placeholder-div-VKWcucWvor6FUhLpyHGisB\">\n",
       "        <div id=\"ipyplot-content-div-VKWcucWvor6FUhLpyHGisB-ACcT9pHAmoyH8WDvf2Cfsu\" class=\"ipyplot-content-div-VKWcucWvor6FUhLpyHGisB\">\n",
       "            <h4 style=\"font-size: 12px; word-wrap: break-word;\">By Proxy Threshold</h4>\n",
       "            <img src=\"images/res6.png\"/>\n",
       "            <a href=\"#!\">\n",
       "                <span class=\"ipyplot-img-close\"/>\n",
       "            </a>\n",
       "            <a href=\"#ipyplot-content-div-VKWcucWvor6FUhLpyHGisB-ACcT9pHAmoyH8WDvf2Cfsu\">\n",
       "                <span class=\"ipyplot-img-expand\"/>\n",
       "            </a>\n",
       "        </div>\n",
       "    </div>\n",
       "    \n",
       "    <div class=\"ipyplot-placeholder-div-VKWcucWvor6FUhLpyHGisB\">\n",
       "        <div id=\"ipyplot-content-div-VKWcucWvor6FUhLpyHGisB-3r4pXqquV3f7TiHAZz6NqN\" class=\"ipyplot-content-div-VKWcucWvor6FUhLpyHGisB\">\n",
       "            <h4 style=\"font-size: 12px; word-wrap: break-word;\">By Proxy Image Weight</h4>\n",
       "            <img src=\"images/res7.png\"/>\n",
       "            <a href=\"#!\">\n",
       "                <span class=\"ipyplot-img-close\"/>\n",
       "            </a>\n",
       "            <a href=\"#ipyplot-content-div-VKWcucWvor6FUhLpyHGisB-3r4pXqquV3f7TiHAZz6NqN\">\n",
       "                <span class=\"ipyplot-img-expand\"/>\n",
       "            </a>\n",
       "        </div>\n",
       "    </div>\n",
       "    \n",
       "    <div class=\"ipyplot-placeholder-div-VKWcucWvor6FUhLpyHGisB\">\n",
       "        <div id=\"ipyplot-content-div-VKWcucWvor6FUhLpyHGisB-J6sMnpRZQDZKkiAQ44Ret5\" class=\"ipyplot-content-div-VKWcucWvor6FUhLpyHGisB\">\n",
       "            <h4 style=\"font-size: 12px; word-wrap: break-word;\">By Proxy Image Subset</h4>\n",
       "            <img src=\"images/res8.png\"/>\n",
       "            <a href=\"#!\">\n",
       "                <span class=\"ipyplot-img-close\"/>\n",
       "            </a>\n",
       "            <a href=\"#ipyplot-content-div-VKWcucWvor6FUhLpyHGisB-J6sMnpRZQDZKkiAQ44Ret5\">\n",
       "                <span class=\"ipyplot-img-expand\"/>\n",
       "            </a>\n",
       "        </div>\n",
       "    </div>\n",
       "    </div>"
      ],
      "text/plain": [
       "<IPython.core.display.HTML object>"
      ]
     },
     "metadata": {},
     "output_type": "display_data"
    }
   ],
   "source": [
    "grid(ims, lbls)"
   ]
  },
  {
   "cell_type": "markdown",
   "id": "0cfc3219",
   "metadata": {
    "slideshow": {
     "slide_type": "slide"
    }
   },
   "source": [
    "## By Explainability"
   ]
  },
  {
   "cell_type": "code",
   "execution_count": 14,
   "id": "0d5f0b61",
   "metadata": {
    "slideshow": {
     "slide_type": "skip"
    }
   },
   "outputs": [],
   "source": [
    "ims = [\"./images/expl12.png\", \"./images/expl3.png\"]"
   ]
  },
  {
   "cell_type": "code",
   "execution_count": 15,
   "id": "edc93cc7",
   "metadata": {
    "scrolled": false,
    "slideshow": {
     "slide_type": "subslide"
    }
   },
   "outputs": [
    {
     "data": {
      "text/html": [
       "\n",
       "    <style>\n",
       "        #ipyplot-html-viewer-toggle-EvjfBMadJK9UkHJGdWimex {\n",
       "            position: absolute;\n",
       "            top: -9999px;\n",
       "            left: -9999px;\n",
       "            visibility: hidden;\n",
       "        }\n",
       "\n",
       "        #ipyplot-html-viewer-label-EvjfBMadJK9UkHJGdWimex { \n",
       "            position: relative;\n",
       "            display: inline-block;\n",
       "            cursor: pointer;\n",
       "            color: blue;\n",
       "            text-decoration: underline;\n",
       "        }\n",
       "\n",
       "        #ipyplot-html-viewer-textarea-EvjfBMadJK9UkHJGdWimex {\n",
       "            background: lightgrey;\n",
       "            width: 100%;\n",
       "            height: 0px;\n",
       "            display: none;\n",
       "        }\n",
       "\n",
       "        #ipyplot-html-viewer-toggle-EvjfBMadJK9UkHJGdWimex:checked ~ #ipyplot-html-viewer-textarea-EvjfBMadJK9UkHJGdWimex {\n",
       "            height: 200px;\n",
       "            display: block;\n",
       "        }\n",
       "\n",
       "        #ipyplot-html-viewer-toggle-EvjfBMadJK9UkHJGdWimex:checked + #ipyplot-html-viewer-label-EvjfBMadJK9UkHJGdWimex:after {\n",
       "            content: \"hide html\";\n",
       "            position: absolute;\n",
       "            top: 0;\n",
       "            left: 0;\n",
       "            right: 0;\n",
       "            bottom: 0;\n",
       "            background: white;\n",
       "            cursor: pointer;\n",
       "            color: blue;\n",
       "            text-decoration: underline;\n",
       "        }\n",
       "    </style>\n",
       "    <div>\n",
       "        <input type=\"checkbox\" id=\"ipyplot-html-viewer-toggle-EvjfBMadJK9UkHJGdWimex\">\n",
       "        <label id=\"ipyplot-html-viewer-label-EvjfBMadJK9UkHJGdWimex\" for=\"ipyplot-html-viewer-toggle-EvjfBMadJK9UkHJGdWimex\">show html</label>\n",
       "        <textarea id=\"ipyplot-html-viewer-textarea-EvjfBMadJK9UkHJGdWimex\" readonly>\n",
       "            \n",
       "        <style>\n",
       "        #ipyplot-imgs-container-div-epsXcNKWELjWjHjYx9fX87 {\n",
       "            width: 100%;\n",
       "            height: 100%;\n",
       "            margin: 0%;\n",
       "            overflow: auto;\n",
       "            position: relative;\n",
       "            overflow-y: scroll;\n",
       "        }\n",
       "\n",
       "        div.ipyplot-placeholder-div-epsXcNKWELjWjHjYx9fX87 {\n",
       "            width: 1000px;\n",
       "            display: inline-block;\n",
       "            margin: 3px;\n",
       "            position: relative;\n",
       "        }\n",
       "\n",
       "        div.ipyplot-content-div-epsXcNKWELjWjHjYx9fX87 {\n",
       "            width: 1000px;\n",
       "            background: white;\n",
       "            display: inline-block;\n",
       "            vertical-align: top;\n",
       "            text-align: center;\n",
       "            position: relative;\n",
       "            border: 2px solid #ddd;\n",
       "            top: 0;\n",
       "            left: 0;\n",
       "        }\n",
       "\n",
       "        div.ipyplot-content-div-epsXcNKWELjWjHjYx9fX87 span.ipyplot-img-close {\n",
       "            display: none;\n",
       "        }\n",
       "\n",
       "        div.ipyplot-content-div-epsXcNKWELjWjHjYx9fX87 span {\n",
       "            width: 100%;\n",
       "            height: 100%;\n",
       "            position: absolute;\n",
       "            top: 0;\n",
       "            left: 0;\n",
       "        }\n",
       "\n",
       "        div.ipyplot-content-div-epsXcNKWELjWjHjYx9fX87 img {\n",
       "            width: 1000px;\n",
       "        }\n",
       "\n",
       "        div.ipyplot-content-div-epsXcNKWELjWjHjYx9fX87 span.ipyplot-img-close:hover {\n",
       "            cursor: zoom-out;\n",
       "        }\n",
       "        div.ipyplot-content-div-epsXcNKWELjWjHjYx9fX87 span.ipyplot-img-expand:hover {\n",
       "            cursor: zoom-in;\n",
       "        }\n",
       "\n",
       "        div[id^=ipyplot-content-div-epsXcNKWELjWjHjYx9fX87]:target {\n",
       "            transform: scale(2.5);\n",
       "            transform-origin: left top;\n",
       "            z-index: 5000;\n",
       "            top: 0;\n",
       "            left: 0;\n",
       "            position: absolute;\n",
       "        }\n",
       "\n",
       "        div[id^=ipyplot-content-div-epsXcNKWELjWjHjYx9fX87]:target span.ipyplot-img-close {\n",
       "            display: block;\n",
       "        }\n",
       "\n",
       "        div[id^=ipyplot-content-div-epsXcNKWELjWjHjYx9fX87]:target span.ipyplot-img-expand {\n",
       "            display: none;\n",
       "        }\n",
       "        </style>\n",
       "    <div id=\"ipyplot-imgs-container-div-epsXcNKWELjWjHjYx9fX87\">\n",
       "    <div class=\"ipyplot-placeholder-div-epsXcNKWELjWjHjYx9fX87\">\n",
       "        <div id=\"ipyplot-content-div-epsXcNKWELjWjHjYx9fX87-5nFdB6zVdaTtmKSc4t97ie\" class=\"ipyplot-content-div-epsXcNKWELjWjHjYx9fX87\">\n",
       "            <h4 style=\"font-size: 12px; word-wrap: break-word;\">0</h4>\n",
       "            <img src=\"images/expl12.png\"/>\n",
       "            <a href=\"#!\">\n",
       "                <span class=\"ipyplot-img-close\"/>\n",
       "            </a>\n",
       "            <a href=\"#ipyplot-content-div-epsXcNKWELjWjHjYx9fX87-5nFdB6zVdaTtmKSc4t97ie\">\n",
       "                <span class=\"ipyplot-img-expand\"/>\n",
       "            </a>\n",
       "        </div>\n",
       "    </div>\n",
       "    \n",
       "    <div class=\"ipyplot-placeholder-div-epsXcNKWELjWjHjYx9fX87\">\n",
       "        <div id=\"ipyplot-content-div-epsXcNKWELjWjHjYx9fX87-n89tbEqR5zrPgbDy9ghUDm\" class=\"ipyplot-content-div-epsXcNKWELjWjHjYx9fX87\">\n",
       "            <h4 style=\"font-size: 12px; word-wrap: break-word;\">1</h4>\n",
       "            <img src=\"images/expl3.png\"/>\n",
       "            <a href=\"#!\">\n",
       "                <span class=\"ipyplot-img-close\"/>\n",
       "            </a>\n",
       "            <a href=\"#ipyplot-content-div-epsXcNKWELjWjHjYx9fX87-n89tbEqR5zrPgbDy9ghUDm\">\n",
       "                <span class=\"ipyplot-img-expand\"/>\n",
       "            </a>\n",
       "        </div>\n",
       "    </div>\n",
       "    </div>\n",
       "        </textarea>\n",
       "    </div>\n",
       "    "
      ],
      "text/plain": [
       "<IPython.core.display.HTML object>"
      ]
     },
     "metadata": {},
     "output_type": "display_data"
    },
    {
     "data": {
      "text/html": [
       "\n",
       "        <style>\n",
       "        #ipyplot-imgs-container-div-epsXcNKWELjWjHjYx9fX87 {\n",
       "            width: 100%;\n",
       "            height: 100%;\n",
       "            margin: 0%;\n",
       "            overflow: auto;\n",
       "            position: relative;\n",
       "            overflow-y: scroll;\n",
       "        }\n",
       "\n",
       "        div.ipyplot-placeholder-div-epsXcNKWELjWjHjYx9fX87 {\n",
       "            width: 1000px;\n",
       "            display: inline-block;\n",
       "            margin: 3px;\n",
       "            position: relative;\n",
       "        }\n",
       "\n",
       "        div.ipyplot-content-div-epsXcNKWELjWjHjYx9fX87 {\n",
       "            width: 1000px;\n",
       "            background: white;\n",
       "            display: inline-block;\n",
       "            vertical-align: top;\n",
       "            text-align: center;\n",
       "            position: relative;\n",
       "            border: 2px solid #ddd;\n",
       "            top: 0;\n",
       "            left: 0;\n",
       "        }\n",
       "\n",
       "        div.ipyplot-content-div-epsXcNKWELjWjHjYx9fX87 span.ipyplot-img-close {\n",
       "            display: none;\n",
       "        }\n",
       "\n",
       "        div.ipyplot-content-div-epsXcNKWELjWjHjYx9fX87 span {\n",
       "            width: 100%;\n",
       "            height: 100%;\n",
       "            position: absolute;\n",
       "            top: 0;\n",
       "            left: 0;\n",
       "        }\n",
       "\n",
       "        div.ipyplot-content-div-epsXcNKWELjWjHjYx9fX87 img {\n",
       "            width: 1000px;\n",
       "        }\n",
       "\n",
       "        div.ipyplot-content-div-epsXcNKWELjWjHjYx9fX87 span.ipyplot-img-close:hover {\n",
       "            cursor: zoom-out;\n",
       "        }\n",
       "        div.ipyplot-content-div-epsXcNKWELjWjHjYx9fX87 span.ipyplot-img-expand:hover {\n",
       "            cursor: zoom-in;\n",
       "        }\n",
       "\n",
       "        div[id^=ipyplot-content-div-epsXcNKWELjWjHjYx9fX87]:target {\n",
       "            transform: scale(2.5);\n",
       "            transform-origin: left top;\n",
       "            z-index: 5000;\n",
       "            top: 0;\n",
       "            left: 0;\n",
       "            position: absolute;\n",
       "        }\n",
       "\n",
       "        div[id^=ipyplot-content-div-epsXcNKWELjWjHjYx9fX87]:target span.ipyplot-img-close {\n",
       "            display: block;\n",
       "        }\n",
       "\n",
       "        div[id^=ipyplot-content-div-epsXcNKWELjWjHjYx9fX87]:target span.ipyplot-img-expand {\n",
       "            display: none;\n",
       "        }\n",
       "        </style>\n",
       "    <div id=\"ipyplot-imgs-container-div-epsXcNKWELjWjHjYx9fX87\">\n",
       "    <div class=\"ipyplot-placeholder-div-epsXcNKWELjWjHjYx9fX87\">\n",
       "        <div id=\"ipyplot-content-div-epsXcNKWELjWjHjYx9fX87-5nFdB6zVdaTtmKSc4t97ie\" class=\"ipyplot-content-div-epsXcNKWELjWjHjYx9fX87\">\n",
       "            <h4 style=\"font-size: 12px; word-wrap: break-word;\">0</h4>\n",
       "            <img src=\"images/expl12.png\"/>\n",
       "            <a href=\"#!\">\n",
       "                <span class=\"ipyplot-img-close\"/>\n",
       "            </a>\n",
       "            <a href=\"#ipyplot-content-div-epsXcNKWELjWjHjYx9fX87-5nFdB6zVdaTtmKSc4t97ie\">\n",
       "                <span class=\"ipyplot-img-expand\"/>\n",
       "            </a>\n",
       "        </div>\n",
       "    </div>\n",
       "    \n",
       "    <div class=\"ipyplot-placeholder-div-epsXcNKWELjWjHjYx9fX87\">\n",
       "        <div id=\"ipyplot-content-div-epsXcNKWELjWjHjYx9fX87-n89tbEqR5zrPgbDy9ghUDm\" class=\"ipyplot-content-div-epsXcNKWELjWjHjYx9fX87\">\n",
       "            <h4 style=\"font-size: 12px; word-wrap: break-word;\">1</h4>\n",
       "            <img src=\"images/expl3.png\"/>\n",
       "            <a href=\"#!\">\n",
       "                <span class=\"ipyplot-img-close\"/>\n",
       "            </a>\n",
       "            <a href=\"#ipyplot-content-div-epsXcNKWELjWjHjYx9fX87-n89tbEqR5zrPgbDy9ghUDm\">\n",
       "                <span class=\"ipyplot-img-expand\"/>\n",
       "            </a>\n",
       "        </div>\n",
       "    </div>\n",
       "    </div>"
      ],
      "text/plain": [
       "<IPython.core.display.HTML object>"
      ]
     },
     "metadata": {},
     "output_type": "display_data"
    }
   ],
   "source": [
    "grid(ims, img_width=1000)"
   ]
  },
  {
   "cell_type": "markdown",
   "id": "9cdf6019",
   "metadata": {
    "slideshow": {
     "slide_type": "slide"
    }
   },
   "source": [
    "# Discussion\n",
    "- Improved performance\n",
    "- Explainability\n",
    "- When to apply Proxy Attention? : Easy vs Hard Datasets\n",
    "- Optional hyperparameters : Proxy Weight and Proxy Threshold\n",
    "- Scheduling the Proxy Step\n",
    "- Performance across models\n",
    "- Helps ViT too!"
   ]
  },
  {
   "cell_type": "markdown",
   "id": "d30ef6ed",
   "metadata": {
    "slideshow": {
     "slide_type": "slide"
    }
   },
   "source": [
    "# Limitations\n",
    "\n",
    "- Hyperparameters\n",
    "- Attention\n",
    "- Better Scheduling"
   ]
  },
  {
   "cell_type": "markdown",
   "id": "9c67edf1",
   "metadata": {
    "slideshow": {
     "slide_type": "slide"
    }
   },
   "source": [
    "# Future Work\n",
    "\n",
    "- Better Scheduling\n",
    "- More XAI methods\n",
    "- Smoothing Attention Maps\n",
    "- Better Attention Maps for ViT"
   ]
  },
  {
   "cell_type": "markdown",
   "id": "d0341855",
   "metadata": {
    "slideshow": {
     "slide_type": "slide"
    }
   },
   "source": [
    "# Q&A\n",
    "<img src=\"./images/qs.jpg\" alt= “” width=\"900px\">"
   ]
  },
  {
   "attachments": {},
   "cell_type": "markdown",
   "id": "223a71ba",
   "metadata": {
    "slideshow": {
     "slide_type": "slide"
    }
   },
   "source": [
    "<img src=\"./images/bye.png\" alt= “” width=\"1000px\">"
   ]
  }
 ],
 "metadata": {
  "celltoolbar": "Slideshow",
  "kernelspec": {
   "display_name": "Python 3 (ipykernel)",
   "language": "python",
   "name": "python3"
  },
  "language_info": {
   "codemirror_mode": {
    "name": "ipython",
    "version": 3
   },
   "file_extension": ".py",
   "mimetype": "text/x-python",
   "name": "python",
   "nbconvert_exporter": "python",
   "pygments_lexer": "ipython3",
   "version": "3.10.10"
  },
  "rise": {
   "async_timeout": 250,
   "auto_select": "code",
   "auto_select_timeout": 450,
   "autolaunch": false,
   "backimage": false,
   "center": true,
   "controls": true,
   "enable_chalkboard": true,
   "footer": "",
   "header": "",
   "height": "100%",
   "history": true,
   "overlay": "",
   "progress": true,
   "restore_timeout": 500,
   "scroll": true,
   "show_buttons_on_startup": true,
   "slideNumber": true,
   "start_slideshow_at": "selected",
   "theme": "simple",
   "transition": "fade",
   "width": "100%"
  },
  "toc": {
   "base_numbering": 1,
   "nav_menu": {},
   "number_sections": true,
   "sideBar": true,
   "skip_h1_title": false,
   "title_cell": "Table of Contents",
   "title_sidebar": "Contents",
   "toc_cell": false,
   "toc_position": {
    "height": "calc(100% - 180px)",
    "left": "10px",
    "top": "150px",
    "width": "326.797px"
   },
   "toc_section_display": true,
   "toc_window_display": false
  }
 },
 "nbformat": 4,
 "nbformat_minor": 5
}
