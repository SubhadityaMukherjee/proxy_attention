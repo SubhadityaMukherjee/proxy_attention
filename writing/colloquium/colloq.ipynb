{
 "cells": [
  {
   "cell_type": "code",
   "execution_count": 1,
   "id": "8ae5124e-8a2c-4112-bed9-b6df06593e51",
   "metadata": {
    "slideshow": {
     "slide_type": "skip"
    },
    "tags": []
   },
   "outputs": [],
   "source": [
    "import matplotlib.pyplot as plt\n",
    "import math\n",
    "\n",
    "from IPython.display import IFrame\n",
    "import ipyplot"
   ]
  },
  {
   "cell_type": "code",
   "execution_count": 2,
   "id": "f4f28b3e-654c-46b2-a279-66d3596b8c85",
   "metadata": {
    "slideshow": {
     "slide_type": "skip"
    },
    "tags": []
   },
   "outputs": [
    {
     "name": "stdout",
     "output_type": "stream",
     "text": [
      "paste files \n",
      "<img src=\"./images/\" alt= “” width=\"1000px\">\n",
      "\n",
      "\n"
     ]
    }
   ],
   "source": [
    "final_string = \"\"\n",
    "for img in input(\"paste files \").split(\" \"):\n",
    "    # if \"pdf\" in img:\n",
    "    #     final_string += f'IFrame(\"{img}\", width = \"1152px\", height = \"580px\")\\n\\n'\n",
    "    # else:\n",
    "    final_string += f'<img src=\"./images/{img}\" alt= “” width=\"1000px\">\\n\\n'\n",
    "print(final_string)"
   ]
  },
  {
   "cell_type": "code",
   "execution_count": 37,
   "id": "a8acfba4",
   "metadata": {
    "slideshow": {
     "slide_type": "skip"
    }
   },
   "outputs": [],
   "source": [
    "def grid(ims, lbls = None, img_width=500, show_url = False):\n",
    "    if lbls is not None:\n",
    "        ipyplot.plot_images(ims, labels = lbls,img_width=img_width,show_url=show_url)\n",
    "    else:\n",
    "        ipyplot.plot_images(ims,img_width=img_width,show_url=show_url)"
   ]
  },
  {
   "cell_type": "markdown",
   "id": "c6a78e2a",
   "metadata": {
    "slideshow": {
     "slide_type": "slide"
    },
    "tags": []
   },
   "source": [
    "# Masters Thesis Colloquium\n",
    "Proxy Attention : Approximating Attention in CNNs using Gradient Based Techniques\n",
    "\n",
    "Subhaditya Mukherjee\n",
    "\n",
    "Supervisors: S.H. Mohades Kasaei and Matias Valdenegro"
   ]
  },
  {
   "cell_type": "markdown",
   "id": "bffdc8ed",
   "metadata": {
    "slideshow": {
     "slide_type": "slide"
    },
    "tags": []
   },
   "source": [
    "## Image Classification"
   ]
  },
  {
   "cell_type": "code",
   "execution_count": 29,
   "id": "5af69e04",
   "metadata": {
    "slideshow": {
     "slide_type": "skip"
    }
   },
   "outputs": [],
   "source": [
    "ims = [\"./images/cmuff.jpg\",\"./images/class2.png\",\"./images/class3.jpg\",\"./images/class4.png\"]"
   ]
  },
  {
   "cell_type": "code",
   "execution_count": 30,
   "id": "9bc3385b",
   "metadata": {
    "slideshow": {
     "slide_type": "subslide"
    }
   },
   "outputs": [
    {
     "data": {
      "text/html": [
       "\n",
       "    <style>\n",
       "        #ipyplot-html-viewer-toggle-Kj36rAoa883TyYa4FvsqkF {\n",
       "            position: absolute;\n",
       "            top: -9999px;\n",
       "            left: -9999px;\n",
       "            visibility: hidden;\n",
       "        }\n",
       "\n",
       "        #ipyplot-html-viewer-label-Kj36rAoa883TyYa4FvsqkF { \n",
       "            position: relative;\n",
       "            display: inline-block;\n",
       "            cursor: pointer;\n",
       "            color: blue;\n",
       "            text-decoration: underline;\n",
       "        }\n",
       "\n",
       "        #ipyplot-html-viewer-textarea-Kj36rAoa883TyYa4FvsqkF {\n",
       "            background: lightgrey;\n",
       "            width: 100%;\n",
       "            height: 0px;\n",
       "            display: none;\n",
       "        }\n",
       "\n",
       "        #ipyplot-html-viewer-toggle-Kj36rAoa883TyYa4FvsqkF:checked ~ #ipyplot-html-viewer-textarea-Kj36rAoa883TyYa4FvsqkF {\n",
       "            height: 200px;\n",
       "            display: block;\n",
       "        }\n",
       "\n",
       "        #ipyplot-html-viewer-toggle-Kj36rAoa883TyYa4FvsqkF:checked + #ipyplot-html-viewer-label-Kj36rAoa883TyYa4FvsqkF:after {\n",
       "            content: \"hide html\";\n",
       "            position: absolute;\n",
       "            top: 0;\n",
       "            left: 0;\n",
       "            right: 0;\n",
       "            bottom: 0;\n",
       "            background: white;\n",
       "            cursor: pointer;\n",
       "            color: blue;\n",
       "            text-decoration: underline;\n",
       "        }\n",
       "    </style>\n",
       "    <div>\n",
       "        <input type=\"checkbox\" id=\"ipyplot-html-viewer-toggle-Kj36rAoa883TyYa4FvsqkF\">\n",
       "        <label id=\"ipyplot-html-viewer-label-Kj36rAoa883TyYa4FvsqkF\" for=\"ipyplot-html-viewer-toggle-Kj36rAoa883TyYa4FvsqkF\">show html</label>\n",
       "        <textarea id=\"ipyplot-html-viewer-textarea-Kj36rAoa883TyYa4FvsqkF\" readonly>\n",
       "            \n",
       "        <style>\n",
       "        #ipyplot-imgs-container-div-E3rz9aXXWj5u43AUpPoX3f {\n",
       "            width: 100%;\n",
       "            height: 100%;\n",
       "            margin: 0%;\n",
       "            overflow: auto;\n",
       "            position: relative;\n",
       "            overflow-y: scroll;\n",
       "        }\n",
       "\n",
       "        div.ipyplot-placeholder-div-E3rz9aXXWj5u43AUpPoX3f {\n",
       "            width: 500px;\n",
       "            display: inline-block;\n",
       "            margin: 3px;\n",
       "            position: relative;\n",
       "        }\n",
       "\n",
       "        div.ipyplot-content-div-E3rz9aXXWj5u43AUpPoX3f {\n",
       "            width: 500px;\n",
       "            background: white;\n",
       "            display: inline-block;\n",
       "            vertical-align: top;\n",
       "            text-align: center;\n",
       "            position: relative;\n",
       "            border: 2px solid #ddd;\n",
       "            top: 0;\n",
       "            left: 0;\n",
       "        }\n",
       "\n",
       "        div.ipyplot-content-div-E3rz9aXXWj5u43AUpPoX3f span.ipyplot-img-close {\n",
       "            display: none;\n",
       "        }\n",
       "\n",
       "        div.ipyplot-content-div-E3rz9aXXWj5u43AUpPoX3f span {\n",
       "            width: 100%;\n",
       "            height: 100%;\n",
       "            position: absolute;\n",
       "            top: 0;\n",
       "            left: 0;\n",
       "        }\n",
       "\n",
       "        div.ipyplot-content-div-E3rz9aXXWj5u43AUpPoX3f img {\n",
       "            width: 500px;\n",
       "        }\n",
       "\n",
       "        div.ipyplot-content-div-E3rz9aXXWj5u43AUpPoX3f span.ipyplot-img-close:hover {\n",
       "            cursor: zoom-out;\n",
       "        }\n",
       "        div.ipyplot-content-div-E3rz9aXXWj5u43AUpPoX3f span.ipyplot-img-expand:hover {\n",
       "            cursor: zoom-in;\n",
       "        }\n",
       "\n",
       "        div[id^=ipyplot-content-div-E3rz9aXXWj5u43AUpPoX3f]:target {\n",
       "            transform: scale(2.5);\n",
       "            transform-origin: left top;\n",
       "            z-index: 5000;\n",
       "            top: 0;\n",
       "            left: 0;\n",
       "            position: absolute;\n",
       "        }\n",
       "\n",
       "        div[id^=ipyplot-content-div-E3rz9aXXWj5u43AUpPoX3f]:target span.ipyplot-img-close {\n",
       "            display: block;\n",
       "        }\n",
       "\n",
       "        div[id^=ipyplot-content-div-E3rz9aXXWj5u43AUpPoX3f]:target span.ipyplot-img-expand {\n",
       "            display: none;\n",
       "        }\n",
       "        </style>\n",
       "    <div id=\"ipyplot-imgs-container-div-E3rz9aXXWj5u43AUpPoX3f\">\n",
       "    <div class=\"ipyplot-placeholder-div-E3rz9aXXWj5u43AUpPoX3f\">\n",
       "        <div id=\"ipyplot-content-div-E3rz9aXXWj5u43AUpPoX3f-3k8Rbn5QHVqiGVUveRkv4f\" class=\"ipyplot-content-div-E3rz9aXXWj5u43AUpPoX3f\">\n",
       "            <h4 style=\"font-size: 12px; word-wrap: break-word;\">0</h4>\n",
       "            <img src=\"images/cmuff.jpg\"/>\n",
       "            <a href=\"#!\">\n",
       "                <span class=\"ipyplot-img-close\"/>\n",
       "            </a>\n",
       "            <a href=\"#ipyplot-content-div-E3rz9aXXWj5u43AUpPoX3f-3k8Rbn5QHVqiGVUveRkv4f\">\n",
       "                <span class=\"ipyplot-img-expand\"/>\n",
       "            </a>\n",
       "        </div>\n",
       "    </div>\n",
       "    \n",
       "    <div class=\"ipyplot-placeholder-div-E3rz9aXXWj5u43AUpPoX3f\">\n",
       "        <div id=\"ipyplot-content-div-E3rz9aXXWj5u43AUpPoX3f-Si8pt8N7W9p45niGi6R6sL\" class=\"ipyplot-content-div-E3rz9aXXWj5u43AUpPoX3f\">\n",
       "            <h4 style=\"font-size: 12px; word-wrap: break-word;\">1</h4>\n",
       "            <img src=\"images/class2.png\"/>\n",
       "            <a href=\"#!\">\n",
       "                <span class=\"ipyplot-img-close\"/>\n",
       "            </a>\n",
       "            <a href=\"#ipyplot-content-div-E3rz9aXXWj5u43AUpPoX3f-Si8pt8N7W9p45niGi6R6sL\">\n",
       "                <span class=\"ipyplot-img-expand\"/>\n",
       "            </a>\n",
       "        </div>\n",
       "    </div>\n",
       "    \n",
       "    <div class=\"ipyplot-placeholder-div-E3rz9aXXWj5u43AUpPoX3f\">\n",
       "        <div id=\"ipyplot-content-div-E3rz9aXXWj5u43AUpPoX3f-9w73iLWxKDspN9KEZ3Z9ss\" class=\"ipyplot-content-div-E3rz9aXXWj5u43AUpPoX3f\">\n",
       "            <h4 style=\"font-size: 12px; word-wrap: break-word;\">2</h4>\n",
       "            <img src=\"images/class3.jpg\"/>\n",
       "            <a href=\"#!\">\n",
       "                <span class=\"ipyplot-img-close\"/>\n",
       "            </a>\n",
       "            <a href=\"#ipyplot-content-div-E3rz9aXXWj5u43AUpPoX3f-9w73iLWxKDspN9KEZ3Z9ss\">\n",
       "                <span class=\"ipyplot-img-expand\"/>\n",
       "            </a>\n",
       "        </div>\n",
       "    </div>\n",
       "    \n",
       "    <div class=\"ipyplot-placeholder-div-E3rz9aXXWj5u43AUpPoX3f\">\n",
       "        <div id=\"ipyplot-content-div-E3rz9aXXWj5u43AUpPoX3f-cYPuV7FXG9kqXTZdkz7Pfq\" class=\"ipyplot-content-div-E3rz9aXXWj5u43AUpPoX3f\">\n",
       "            <h4 style=\"font-size: 12px; word-wrap: break-word;\">3</h4>\n",
       "            <img src=\"images/class4.png\"/>\n",
       "            <a href=\"#!\">\n",
       "                <span class=\"ipyplot-img-close\"/>\n",
       "            </a>\n",
       "            <a href=\"#ipyplot-content-div-E3rz9aXXWj5u43AUpPoX3f-cYPuV7FXG9kqXTZdkz7Pfq\">\n",
       "                <span class=\"ipyplot-img-expand\"/>\n",
       "            </a>\n",
       "        </div>\n",
       "    </div>\n",
       "    </div>\n",
       "        </textarea>\n",
       "    </div>\n",
       "    "
      ],
      "text/plain": [
       "<IPython.core.display.HTML object>"
      ]
     },
     "metadata": {},
     "output_type": "display_data"
    },
    {
     "data": {
      "text/html": [
       "\n",
       "        <style>\n",
       "        #ipyplot-imgs-container-div-E3rz9aXXWj5u43AUpPoX3f {\n",
       "            width: 100%;\n",
       "            height: 100%;\n",
       "            margin: 0%;\n",
       "            overflow: auto;\n",
       "            position: relative;\n",
       "            overflow-y: scroll;\n",
       "        }\n",
       "\n",
       "        div.ipyplot-placeholder-div-E3rz9aXXWj5u43AUpPoX3f {\n",
       "            width: 500px;\n",
       "            display: inline-block;\n",
       "            margin: 3px;\n",
       "            position: relative;\n",
       "        }\n",
       "\n",
       "        div.ipyplot-content-div-E3rz9aXXWj5u43AUpPoX3f {\n",
       "            width: 500px;\n",
       "            background: white;\n",
       "            display: inline-block;\n",
       "            vertical-align: top;\n",
       "            text-align: center;\n",
       "            position: relative;\n",
       "            border: 2px solid #ddd;\n",
       "            top: 0;\n",
       "            left: 0;\n",
       "        }\n",
       "\n",
       "        div.ipyplot-content-div-E3rz9aXXWj5u43AUpPoX3f span.ipyplot-img-close {\n",
       "            display: none;\n",
       "        }\n",
       "\n",
       "        div.ipyplot-content-div-E3rz9aXXWj5u43AUpPoX3f span {\n",
       "            width: 100%;\n",
       "            height: 100%;\n",
       "            position: absolute;\n",
       "            top: 0;\n",
       "            left: 0;\n",
       "        }\n",
       "\n",
       "        div.ipyplot-content-div-E3rz9aXXWj5u43AUpPoX3f img {\n",
       "            width: 500px;\n",
       "        }\n",
       "\n",
       "        div.ipyplot-content-div-E3rz9aXXWj5u43AUpPoX3f span.ipyplot-img-close:hover {\n",
       "            cursor: zoom-out;\n",
       "        }\n",
       "        div.ipyplot-content-div-E3rz9aXXWj5u43AUpPoX3f span.ipyplot-img-expand:hover {\n",
       "            cursor: zoom-in;\n",
       "        }\n",
       "\n",
       "        div[id^=ipyplot-content-div-E3rz9aXXWj5u43AUpPoX3f]:target {\n",
       "            transform: scale(2.5);\n",
       "            transform-origin: left top;\n",
       "            z-index: 5000;\n",
       "            top: 0;\n",
       "            left: 0;\n",
       "            position: absolute;\n",
       "        }\n",
       "\n",
       "        div[id^=ipyplot-content-div-E3rz9aXXWj5u43AUpPoX3f]:target span.ipyplot-img-close {\n",
       "            display: block;\n",
       "        }\n",
       "\n",
       "        div[id^=ipyplot-content-div-E3rz9aXXWj5u43AUpPoX3f]:target span.ipyplot-img-expand {\n",
       "            display: none;\n",
       "        }\n",
       "        </style>\n",
       "    <div id=\"ipyplot-imgs-container-div-E3rz9aXXWj5u43AUpPoX3f\">\n",
       "    <div class=\"ipyplot-placeholder-div-E3rz9aXXWj5u43AUpPoX3f\">\n",
       "        <div id=\"ipyplot-content-div-E3rz9aXXWj5u43AUpPoX3f-3k8Rbn5QHVqiGVUveRkv4f\" class=\"ipyplot-content-div-E3rz9aXXWj5u43AUpPoX3f\">\n",
       "            <h4 style=\"font-size: 12px; word-wrap: break-word;\">0</h4>\n",
       "            <img src=\"images/cmuff.jpg\"/>\n",
       "            <a href=\"#!\">\n",
       "                <span class=\"ipyplot-img-close\"/>\n",
       "            </a>\n",
       "            <a href=\"#ipyplot-content-div-E3rz9aXXWj5u43AUpPoX3f-3k8Rbn5QHVqiGVUveRkv4f\">\n",
       "                <span class=\"ipyplot-img-expand\"/>\n",
       "            </a>\n",
       "        </div>\n",
       "    </div>\n",
       "    \n",
       "    <div class=\"ipyplot-placeholder-div-E3rz9aXXWj5u43AUpPoX3f\">\n",
       "        <div id=\"ipyplot-content-div-E3rz9aXXWj5u43AUpPoX3f-Si8pt8N7W9p45niGi6R6sL\" class=\"ipyplot-content-div-E3rz9aXXWj5u43AUpPoX3f\">\n",
       "            <h4 style=\"font-size: 12px; word-wrap: break-word;\">1</h4>\n",
       "            <img src=\"images/class2.png\"/>\n",
       "            <a href=\"#!\">\n",
       "                <span class=\"ipyplot-img-close\"/>\n",
       "            </a>\n",
       "            <a href=\"#ipyplot-content-div-E3rz9aXXWj5u43AUpPoX3f-Si8pt8N7W9p45niGi6R6sL\">\n",
       "                <span class=\"ipyplot-img-expand\"/>\n",
       "            </a>\n",
       "        </div>\n",
       "    </div>\n",
       "    \n",
       "    <div class=\"ipyplot-placeholder-div-E3rz9aXXWj5u43AUpPoX3f\">\n",
       "        <div id=\"ipyplot-content-div-E3rz9aXXWj5u43AUpPoX3f-9w73iLWxKDspN9KEZ3Z9ss\" class=\"ipyplot-content-div-E3rz9aXXWj5u43AUpPoX3f\">\n",
       "            <h4 style=\"font-size: 12px; word-wrap: break-word;\">2</h4>\n",
       "            <img src=\"images/class3.jpg\"/>\n",
       "            <a href=\"#!\">\n",
       "                <span class=\"ipyplot-img-close\"/>\n",
       "            </a>\n",
       "            <a href=\"#ipyplot-content-div-E3rz9aXXWj5u43AUpPoX3f-9w73iLWxKDspN9KEZ3Z9ss\">\n",
       "                <span class=\"ipyplot-img-expand\"/>\n",
       "            </a>\n",
       "        </div>\n",
       "    </div>\n",
       "    \n",
       "    <div class=\"ipyplot-placeholder-div-E3rz9aXXWj5u43AUpPoX3f\">\n",
       "        <div id=\"ipyplot-content-div-E3rz9aXXWj5u43AUpPoX3f-cYPuV7FXG9kqXTZdkz7Pfq\" class=\"ipyplot-content-div-E3rz9aXXWj5u43AUpPoX3f\">\n",
       "            <h4 style=\"font-size: 12px; word-wrap: break-word;\">3</h4>\n",
       "            <img src=\"images/class4.png\"/>\n",
       "            <a href=\"#!\">\n",
       "                <span class=\"ipyplot-img-close\"/>\n",
       "            </a>\n",
       "            <a href=\"#ipyplot-content-div-E3rz9aXXWj5u43AUpPoX3f-cYPuV7FXG9kqXTZdkz7Pfq\">\n",
       "                <span class=\"ipyplot-img-expand\"/>\n",
       "            </a>\n",
       "        </div>\n",
       "    </div>\n",
       "    </div>"
      ],
      "text/plain": [
       "<IPython.core.display.HTML object>"
      ]
     },
     "metadata": {},
     "output_type": "display_data"
    }
   ],
   "source": [
    "grid(ims)"
   ]
  },
  {
   "cell_type": "markdown",
   "id": "f2d58698-14e5-4935-94b3-3f76aec19938",
   "metadata": {
    "slideshow": {
     "slide_type": "slide"
    },
    "tags": []
   },
   "source": [
    "## How?\n",
    "<img src=\"./images/nn.gif\" alt= “” width=\"500px\">"
   ]
  },
  {
   "cell_type": "markdown",
   "id": "932c50b3",
   "metadata": {
    "slideshow": {
     "slide_type": "slide"
    },
    "tags": []
   },
   "source": [
    "## Quantifying Performance"
   ]
  },
  {
   "cell_type": "markdown",
   "id": "60b75c50",
   "metadata": {
    "slideshow": {
     "slide_type": "subslide"
    },
    "tags": []
   },
   "source": [
    "### Accuracy\n",
    "<img src=\"./images/chall1.jpg\" alt= “” width=\"500px\">"
   ]
  },
  {
   "cell_type": "markdown",
   "id": "ef6e87ab-8322-494f-af91-328d7f6e18e3",
   "metadata": {
    "slideshow": {
     "slide_type": "subslide"
    },
    "tags": []
   },
   "source": [
    "### Explainability\n",
    "<img src=\"./images/challcam.jpg\" alt= “” width=\"1000px\">"
   ]
  },
  {
   "cell_type": "markdown",
   "id": "c9308ac0-0e8f-4326-b629-2c90c5325524",
   "metadata": {
    "slideshow": {
     "slide_type": "slide"
    },
    "tags": []
   },
   "source": [
    "## Challenges"
   ]
  },
  {
   "cell_type": "markdown",
   "id": "67c3bba8-ad4b-4127-a0b5-cd9346ecd305",
   "metadata": {
    "slideshow": {
     "slide_type": "subslide"
    },
    "tags": []
   },
   "source": [
    "### Parameters\n",
    "<img src=\"./images/params.png\" alt= “” width=\"1000px\">"
   ]
  },
  {
   "cell_type": "markdown",
   "id": "d2a8eef0-8dd5-4ae0-9f72-8ea79b808649",
   "metadata": {
    "slideshow": {
     "slide_type": "subslide"
    },
    "tags": []
   },
   "source": [
    "### Dataset sizes\n",
    "<img src=\"./images/dssize.png\" alt= “” width=\"1000px\">"
   ]
  },
  {
   "cell_type": "markdown",
   "id": "d5149360-a733-45fc-b53c-a10db776c1c3",
   "metadata": {
    "slideshow": {
     "slide_type": "slide"
    },
    "tags": []
   },
   "source": [
    "## Consequences \n",
    "- More labelled data\n",
    "- Vastly more energy consumption\n",
    "- Funds"
   ]
  },
  {
   "cell_type": "markdown",
   "id": "ed0d73ab",
   "metadata": {
    "slideshow": {
     "slide_type": "slide"
    },
    "tags": []
   },
   "source": [
    "## Objective\n",
    "- Create a method to improve accuracy and explanations for image classification\n",
    "- No extra labels, reduced compute time, no modification to the architecture"
   ]
  },
  {
   "cell_type": "markdown",
   "id": "1d37c9c3",
   "metadata": {
    "slideshow": {
     "slide_type": "slide"
    }
   },
   "source": [
    "# Previous Work"
   ]
  },
  {
   "cell_type": "markdown",
   "id": "61e0b9a7-62a3-4b43-b9ea-4783a239e744",
   "metadata": {
    "slideshow": {
     "slide_type": "slide"
    },
    "tags": []
   },
   "source": [
    "## Augmentation\n",
    "\n",
    "<img src=\"./images/aug.png\" alt= “” width=\"1000px\">"
   ]
  },
  {
   "cell_type": "markdown",
   "id": "21daab23-6624-4bda-ad08-3122bab0b827",
   "metadata": {
    "slideshow": {
     "slide_type": "slide"
    },
    "tags": []
   },
   "source": [
    "## Gradient Based Explanations\n",
    "<img src=\"./images/cams.png\" alt= “” width=\"1000px\">"
   ]
  },
  {
   "cell_type": "markdown",
   "id": "efc22832",
   "metadata": {
    "slideshow": {
     "slide_type": "subslide"
    }
   },
   "source": [
    "## Limitations of Previous Work\n",
    "- Most of the algorithms are used as a final post-processing \n",
    "- Contextual awareness\n",
    "- Combining the fields of XAI and data augmentation to improve network performance is a rare practice."
   ]
  },
  {
   "cell_type": "markdown",
   "id": "1f41bc9b-cdb6-4276-831a-25e0435eaddf",
   "metadata": {
    "slideshow": {
     "slide_type": "slide"
    },
    "tags": []
   },
   "source": [
    "# Proxy Attention"
   ]
  },
  {
   "cell_type": "markdown",
   "id": "12302cba-da73-4afc-b6fa-1085df83bd3a",
   "metadata": {
    "slideshow": {
     "slide_type": "slide"
    },
    "tags": []
   },
   "source": [
    "## Research Questions\n",
    "1. Is it possible to create an augmentation technique that uses Attention maps?\n",
    "2. Is it possible to approximate the effects of Attention from ViTs in a CNN without changing the architecture?\n",
    "3. Is it possible to make a network converge faster and consequently require fewer data using the outputs from XAI techniques?\n",
    "4. Does using Proxy Attention impact the explainability positively?"
   ]
  },
  {
   "cell_type": "markdown",
   "id": "05ce7ca8-6d0f-4245-9fbd-d35122403080",
   "metadata": {
    "slideshow": {
     "slide_type": "slide"
    },
    "tags": []
   },
   "source": [
    "## Intuition\n",
    "![img](./images/clutter.png)"
   ]
  },
  {
   "cell_type": "markdown",
   "id": "c2dee862-e279-451c-8a63-ec5c58f3b94e",
   "metadata": {
    "slideshow": {
     "slide_type": "subslide"
    },
    "tags": []
   },
   "source": [
    "## Backstage with the Vision Transformer \n",
    "![img](./images/attention.gif)"
   ]
  },
  {
   "cell_type": "markdown",
   "id": "20eea50d",
   "metadata": {
    "slideshow": {
     "slide_type": "subslide"
    }
   },
   "source": [
    "<img src=\"./images/proxy_flow.png\" alt= “” width=\"1000px\">"
   ]
  },
  {
   "cell_type": "markdown",
   "id": "08910878-923a-4e2c-8b95-d00d68ee2ac2",
   "metadata": {
    "slideshow": {
     "slide_type": "slide"
    },
    "tags": []
   },
   "source": [
    "# Testing"
   ]
  },
  {
   "cell_type": "markdown",
   "id": "788f6972-0ea9-4ffd-aa2b-93f376fc2493",
   "metadata": {
    "slideshow": {
     "slide_type": "slide"
    },
    "tags": []
   },
   "source": [
    "## Datasets"
   ]
  },
  {
   "cell_type": "code",
   "execution_count": 41,
   "id": "4f1f21ae",
   "metadata": {
    "slideshow": {
     "slide_type": "skip"
    }
   },
   "outputs": [],
   "source": [
    "ims = [\"./images/cifar100.pdf.png\", \"./images/caltech101.pdf.png\", \"./images/places256.pdf.png\",\n",
    "                     \"./images/dogs.pdf.png\", \"./images/tsing.png\"]\n",
    "lbls = [\"CIFAR100\", \"Caltech101\", \"Places 256\", \"Stanford Dogs\",\"Tsinghua Dogs\"]"
   ]
  },
  {
   "cell_type": "code",
   "execution_count": 42,
   "id": "39b82710",
   "metadata": {
    "scrolled": false,
    "slideshow": {
     "slide_type": "subslide"
    }
   },
   "outputs": [
    {
     "data": {
      "text/html": [
       "\n",
       "    <style>\n",
       "        #ipyplot-html-viewer-toggle-AA5YXiQ5jcw8hxwi7osuxC {\n",
       "            position: absolute;\n",
       "            top: -9999px;\n",
       "            left: -9999px;\n",
       "            visibility: hidden;\n",
       "        }\n",
       "\n",
       "        #ipyplot-html-viewer-label-AA5YXiQ5jcw8hxwi7osuxC { \n",
       "            position: relative;\n",
       "            display: inline-block;\n",
       "            cursor: pointer;\n",
       "            color: blue;\n",
       "            text-decoration: underline;\n",
       "        }\n",
       "\n",
       "        #ipyplot-html-viewer-textarea-AA5YXiQ5jcw8hxwi7osuxC {\n",
       "            background: lightgrey;\n",
       "            width: 100%;\n",
       "            height: 0px;\n",
       "            display: none;\n",
       "        }\n",
       "\n",
       "        #ipyplot-html-viewer-toggle-AA5YXiQ5jcw8hxwi7osuxC:checked ~ #ipyplot-html-viewer-textarea-AA5YXiQ5jcw8hxwi7osuxC {\n",
       "            height: 200px;\n",
       "            display: block;\n",
       "        }\n",
       "\n",
       "        #ipyplot-html-viewer-toggle-AA5YXiQ5jcw8hxwi7osuxC:checked + #ipyplot-html-viewer-label-AA5YXiQ5jcw8hxwi7osuxC:after {\n",
       "            content: \"hide html\";\n",
       "            position: absolute;\n",
       "            top: 0;\n",
       "            left: 0;\n",
       "            right: 0;\n",
       "            bottom: 0;\n",
       "            background: white;\n",
       "            cursor: pointer;\n",
       "            color: blue;\n",
       "            text-decoration: underline;\n",
       "        }\n",
       "    </style>\n",
       "    <div>\n",
       "        <input type=\"checkbox\" id=\"ipyplot-html-viewer-toggle-AA5YXiQ5jcw8hxwi7osuxC\">\n",
       "        <label id=\"ipyplot-html-viewer-label-AA5YXiQ5jcw8hxwi7osuxC\" for=\"ipyplot-html-viewer-toggle-AA5YXiQ5jcw8hxwi7osuxC\">show html</label>\n",
       "        <textarea id=\"ipyplot-html-viewer-textarea-AA5YXiQ5jcw8hxwi7osuxC\" readonly>\n",
       "            \n",
       "        <style>\n",
       "        #ipyplot-imgs-container-div-6o6c78DMKvgDKPyDZR28Ci {\n",
       "            width: 100%;\n",
       "            height: 100%;\n",
       "            margin: 0%;\n",
       "            overflow: auto;\n",
       "            position: relative;\n",
       "            overflow-y: scroll;\n",
       "        }\n",
       "\n",
       "        div.ipyplot-placeholder-div-6o6c78DMKvgDKPyDZR28Ci {\n",
       "            width: 500px;\n",
       "            display: inline-block;\n",
       "            margin: 3px;\n",
       "            position: relative;\n",
       "        }\n",
       "\n",
       "        div.ipyplot-content-div-6o6c78DMKvgDKPyDZR28Ci {\n",
       "            width: 500px;\n",
       "            background: white;\n",
       "            display: inline-block;\n",
       "            vertical-align: top;\n",
       "            text-align: center;\n",
       "            position: relative;\n",
       "            border: 2px solid #ddd;\n",
       "            top: 0;\n",
       "            left: 0;\n",
       "        }\n",
       "\n",
       "        div.ipyplot-content-div-6o6c78DMKvgDKPyDZR28Ci span.ipyplot-img-close {\n",
       "            display: none;\n",
       "        }\n",
       "\n",
       "        div.ipyplot-content-div-6o6c78DMKvgDKPyDZR28Ci span {\n",
       "            width: 100%;\n",
       "            height: 100%;\n",
       "            position: absolute;\n",
       "            top: 0;\n",
       "            left: 0;\n",
       "        }\n",
       "\n",
       "        div.ipyplot-content-div-6o6c78DMKvgDKPyDZR28Ci img {\n",
       "            width: 500px;\n",
       "        }\n",
       "\n",
       "        div.ipyplot-content-div-6o6c78DMKvgDKPyDZR28Ci span.ipyplot-img-close:hover {\n",
       "            cursor: zoom-out;\n",
       "        }\n",
       "        div.ipyplot-content-div-6o6c78DMKvgDKPyDZR28Ci span.ipyplot-img-expand:hover {\n",
       "            cursor: zoom-in;\n",
       "        }\n",
       "\n",
       "        div[id^=ipyplot-content-div-6o6c78DMKvgDKPyDZR28Ci]:target {\n",
       "            transform: scale(2.5);\n",
       "            transform-origin: left top;\n",
       "            z-index: 5000;\n",
       "            top: 0;\n",
       "            left: 0;\n",
       "            position: absolute;\n",
       "        }\n",
       "\n",
       "        div[id^=ipyplot-content-div-6o6c78DMKvgDKPyDZR28Ci]:target span.ipyplot-img-close {\n",
       "            display: block;\n",
       "        }\n",
       "\n",
       "        div[id^=ipyplot-content-div-6o6c78DMKvgDKPyDZR28Ci]:target span.ipyplot-img-expand {\n",
       "            display: none;\n",
       "        }\n",
       "        </style>\n",
       "    <div id=\"ipyplot-imgs-container-div-6o6c78DMKvgDKPyDZR28Ci\">\n",
       "    <div class=\"ipyplot-placeholder-div-6o6c78DMKvgDKPyDZR28Ci\">\n",
       "        <div id=\"ipyplot-content-div-6o6c78DMKvgDKPyDZR28Ci-gVgE2EmsJkPPbJbznCu8Pj\" class=\"ipyplot-content-div-6o6c78DMKvgDKPyDZR28Ci\">\n",
       "            <h4 style=\"font-size: 12px; word-wrap: break-word;\">CIFAR100</h4>\n",
       "            <img src=\"images/cifar100.pdf.png\"/>\n",
       "            <a href=\"#!\">\n",
       "                <span class=\"ipyplot-img-close\"/>\n",
       "            </a>\n",
       "            <a href=\"#ipyplot-content-div-6o6c78DMKvgDKPyDZR28Ci-gVgE2EmsJkPPbJbznCu8Pj\">\n",
       "                <span class=\"ipyplot-img-expand\"/>\n",
       "            </a>\n",
       "        </div>\n",
       "    </div>\n",
       "    \n",
       "    <div class=\"ipyplot-placeholder-div-6o6c78DMKvgDKPyDZR28Ci\">\n",
       "        <div id=\"ipyplot-content-div-6o6c78DMKvgDKPyDZR28Ci-GSvzJJfNaVJBtYmG2HK4Ws\" class=\"ipyplot-content-div-6o6c78DMKvgDKPyDZR28Ci\">\n",
       "            <h4 style=\"font-size: 12px; word-wrap: break-word;\">Caltech101</h4>\n",
       "            <img src=\"images/caltech101.pdf.png\"/>\n",
       "            <a href=\"#!\">\n",
       "                <span class=\"ipyplot-img-close\"/>\n",
       "            </a>\n",
       "            <a href=\"#ipyplot-content-div-6o6c78DMKvgDKPyDZR28Ci-GSvzJJfNaVJBtYmG2HK4Ws\">\n",
       "                <span class=\"ipyplot-img-expand\"/>\n",
       "            </a>\n",
       "        </div>\n",
       "    </div>\n",
       "    \n",
       "    <div class=\"ipyplot-placeholder-div-6o6c78DMKvgDKPyDZR28Ci\">\n",
       "        <div id=\"ipyplot-content-div-6o6c78DMKvgDKPyDZR28Ci-gVQfMZmGWJSJ4BLwfgSSYq\" class=\"ipyplot-content-div-6o6c78DMKvgDKPyDZR28Ci\">\n",
       "            <h4 style=\"font-size: 12px; word-wrap: break-word;\">Places 256</h4>\n",
       "            <img src=\"images/places256.pdf.png\"/>\n",
       "            <a href=\"#!\">\n",
       "                <span class=\"ipyplot-img-close\"/>\n",
       "            </a>\n",
       "            <a href=\"#ipyplot-content-div-6o6c78DMKvgDKPyDZR28Ci-gVQfMZmGWJSJ4BLwfgSSYq\">\n",
       "                <span class=\"ipyplot-img-expand\"/>\n",
       "            </a>\n",
       "        </div>\n",
       "    </div>\n",
       "    \n",
       "    <div class=\"ipyplot-placeholder-div-6o6c78DMKvgDKPyDZR28Ci\">\n",
       "        <div id=\"ipyplot-content-div-6o6c78DMKvgDKPyDZR28Ci-dCNsKyTPtk23AUFcaM8DnX\" class=\"ipyplot-content-div-6o6c78DMKvgDKPyDZR28Ci\">\n",
       "            <h4 style=\"font-size: 12px; word-wrap: break-word;\">Stanford Dogs</h4>\n",
       "            <img src=\"images/dogs.pdf.png\"/>\n",
       "            <a href=\"#!\">\n",
       "                <span class=\"ipyplot-img-close\"/>\n",
       "            </a>\n",
       "            <a href=\"#ipyplot-content-div-6o6c78DMKvgDKPyDZR28Ci-dCNsKyTPtk23AUFcaM8DnX\">\n",
       "                <span class=\"ipyplot-img-expand\"/>\n",
       "            </a>\n",
       "        </div>\n",
       "    </div>\n",
       "    \n",
       "    <div class=\"ipyplot-placeholder-div-6o6c78DMKvgDKPyDZR28Ci\">\n",
       "        <div id=\"ipyplot-content-div-6o6c78DMKvgDKPyDZR28Ci-NZSdEmNqfvV7Boc9x3nDg5\" class=\"ipyplot-content-div-6o6c78DMKvgDKPyDZR28Ci\">\n",
       "            <h4 style=\"font-size: 12px; word-wrap: break-word;\">Tsinghua Dogs</h4>\n",
       "            <img src=\"images/tsing.png\"/>\n",
       "            <a href=\"#!\">\n",
       "                <span class=\"ipyplot-img-close\"/>\n",
       "            </a>\n",
       "            <a href=\"#ipyplot-content-div-6o6c78DMKvgDKPyDZR28Ci-NZSdEmNqfvV7Boc9x3nDg5\">\n",
       "                <span class=\"ipyplot-img-expand\"/>\n",
       "            </a>\n",
       "        </div>\n",
       "    </div>\n",
       "    </div>\n",
       "        </textarea>\n",
       "    </div>\n",
       "    "
      ],
      "text/plain": [
       "<IPython.core.display.HTML object>"
      ]
     },
     "metadata": {},
     "output_type": "display_data"
    },
    {
     "data": {
      "text/html": [
       "\n",
       "        <style>\n",
       "        #ipyplot-imgs-container-div-6o6c78DMKvgDKPyDZR28Ci {\n",
       "            width: 100%;\n",
       "            height: 100%;\n",
       "            margin: 0%;\n",
       "            overflow: auto;\n",
       "            position: relative;\n",
       "            overflow-y: scroll;\n",
       "        }\n",
       "\n",
       "        div.ipyplot-placeholder-div-6o6c78DMKvgDKPyDZR28Ci {\n",
       "            width: 500px;\n",
       "            display: inline-block;\n",
       "            margin: 3px;\n",
       "            position: relative;\n",
       "        }\n",
       "\n",
       "        div.ipyplot-content-div-6o6c78DMKvgDKPyDZR28Ci {\n",
       "            width: 500px;\n",
       "            background: white;\n",
       "            display: inline-block;\n",
       "            vertical-align: top;\n",
       "            text-align: center;\n",
       "            position: relative;\n",
       "            border: 2px solid #ddd;\n",
       "            top: 0;\n",
       "            left: 0;\n",
       "        }\n",
       "\n",
       "        div.ipyplot-content-div-6o6c78DMKvgDKPyDZR28Ci span.ipyplot-img-close {\n",
       "            display: none;\n",
       "        }\n",
       "\n",
       "        div.ipyplot-content-div-6o6c78DMKvgDKPyDZR28Ci span {\n",
       "            width: 100%;\n",
       "            height: 100%;\n",
       "            position: absolute;\n",
       "            top: 0;\n",
       "            left: 0;\n",
       "        }\n",
       "\n",
       "        div.ipyplot-content-div-6o6c78DMKvgDKPyDZR28Ci img {\n",
       "            width: 500px;\n",
       "        }\n",
       "\n",
       "        div.ipyplot-content-div-6o6c78DMKvgDKPyDZR28Ci span.ipyplot-img-close:hover {\n",
       "            cursor: zoom-out;\n",
       "        }\n",
       "        div.ipyplot-content-div-6o6c78DMKvgDKPyDZR28Ci span.ipyplot-img-expand:hover {\n",
       "            cursor: zoom-in;\n",
       "        }\n",
       "\n",
       "        div[id^=ipyplot-content-div-6o6c78DMKvgDKPyDZR28Ci]:target {\n",
       "            transform: scale(2.5);\n",
       "            transform-origin: left top;\n",
       "            z-index: 5000;\n",
       "            top: 0;\n",
       "            left: 0;\n",
       "            position: absolute;\n",
       "        }\n",
       "\n",
       "        div[id^=ipyplot-content-div-6o6c78DMKvgDKPyDZR28Ci]:target span.ipyplot-img-close {\n",
       "            display: block;\n",
       "        }\n",
       "\n",
       "        div[id^=ipyplot-content-div-6o6c78DMKvgDKPyDZR28Ci]:target span.ipyplot-img-expand {\n",
       "            display: none;\n",
       "        }\n",
       "        </style>\n",
       "    <div id=\"ipyplot-imgs-container-div-6o6c78DMKvgDKPyDZR28Ci\">\n",
       "    <div class=\"ipyplot-placeholder-div-6o6c78DMKvgDKPyDZR28Ci\">\n",
       "        <div id=\"ipyplot-content-div-6o6c78DMKvgDKPyDZR28Ci-gVgE2EmsJkPPbJbznCu8Pj\" class=\"ipyplot-content-div-6o6c78DMKvgDKPyDZR28Ci\">\n",
       "            <h4 style=\"font-size: 12px; word-wrap: break-word;\">CIFAR100</h4>\n",
       "            <img src=\"images/cifar100.pdf.png\"/>\n",
       "            <a href=\"#!\">\n",
       "                <span class=\"ipyplot-img-close\"/>\n",
       "            </a>\n",
       "            <a href=\"#ipyplot-content-div-6o6c78DMKvgDKPyDZR28Ci-gVgE2EmsJkPPbJbznCu8Pj\">\n",
       "                <span class=\"ipyplot-img-expand\"/>\n",
       "            </a>\n",
       "        </div>\n",
       "    </div>\n",
       "    \n",
       "    <div class=\"ipyplot-placeholder-div-6o6c78DMKvgDKPyDZR28Ci\">\n",
       "        <div id=\"ipyplot-content-div-6o6c78DMKvgDKPyDZR28Ci-GSvzJJfNaVJBtYmG2HK4Ws\" class=\"ipyplot-content-div-6o6c78DMKvgDKPyDZR28Ci\">\n",
       "            <h4 style=\"font-size: 12px; word-wrap: break-word;\">Caltech101</h4>\n",
       "            <img src=\"images/caltech101.pdf.png\"/>\n",
       "            <a href=\"#!\">\n",
       "                <span class=\"ipyplot-img-close\"/>\n",
       "            </a>\n",
       "            <a href=\"#ipyplot-content-div-6o6c78DMKvgDKPyDZR28Ci-GSvzJJfNaVJBtYmG2HK4Ws\">\n",
       "                <span class=\"ipyplot-img-expand\"/>\n",
       "            </a>\n",
       "        </div>\n",
       "    </div>\n",
       "    \n",
       "    <div class=\"ipyplot-placeholder-div-6o6c78DMKvgDKPyDZR28Ci\">\n",
       "        <div id=\"ipyplot-content-div-6o6c78DMKvgDKPyDZR28Ci-gVQfMZmGWJSJ4BLwfgSSYq\" class=\"ipyplot-content-div-6o6c78DMKvgDKPyDZR28Ci\">\n",
       "            <h4 style=\"font-size: 12px; word-wrap: break-word;\">Places 256</h4>\n",
       "            <img src=\"images/places256.pdf.png\"/>\n",
       "            <a href=\"#!\">\n",
       "                <span class=\"ipyplot-img-close\"/>\n",
       "            </a>\n",
       "            <a href=\"#ipyplot-content-div-6o6c78DMKvgDKPyDZR28Ci-gVQfMZmGWJSJ4BLwfgSSYq\">\n",
       "                <span class=\"ipyplot-img-expand\"/>\n",
       "            </a>\n",
       "        </div>\n",
       "    </div>\n",
       "    \n",
       "    <div class=\"ipyplot-placeholder-div-6o6c78DMKvgDKPyDZR28Ci\">\n",
       "        <div id=\"ipyplot-content-div-6o6c78DMKvgDKPyDZR28Ci-dCNsKyTPtk23AUFcaM8DnX\" class=\"ipyplot-content-div-6o6c78DMKvgDKPyDZR28Ci\">\n",
       "            <h4 style=\"font-size: 12px; word-wrap: break-word;\">Stanford Dogs</h4>\n",
       "            <img src=\"images/dogs.pdf.png\"/>\n",
       "            <a href=\"#!\">\n",
       "                <span class=\"ipyplot-img-close\"/>\n",
       "            </a>\n",
       "            <a href=\"#ipyplot-content-div-6o6c78DMKvgDKPyDZR28Ci-dCNsKyTPtk23AUFcaM8DnX\">\n",
       "                <span class=\"ipyplot-img-expand\"/>\n",
       "            </a>\n",
       "        </div>\n",
       "    </div>\n",
       "    \n",
       "    <div class=\"ipyplot-placeholder-div-6o6c78DMKvgDKPyDZR28Ci\">\n",
       "        <div id=\"ipyplot-content-div-6o6c78DMKvgDKPyDZR28Ci-NZSdEmNqfvV7Boc9x3nDg5\" class=\"ipyplot-content-div-6o6c78DMKvgDKPyDZR28Ci\">\n",
       "            <h4 style=\"font-size: 12px; word-wrap: break-word;\">Tsinghua Dogs</h4>\n",
       "            <img src=\"images/tsing.png\"/>\n",
       "            <a href=\"#!\">\n",
       "                <span class=\"ipyplot-img-close\"/>\n",
       "            </a>\n",
       "            <a href=\"#ipyplot-content-div-6o6c78DMKvgDKPyDZR28Ci-NZSdEmNqfvV7Boc9x3nDg5\">\n",
       "                <span class=\"ipyplot-img-expand\"/>\n",
       "            </a>\n",
       "        </div>\n",
       "    </div>\n",
       "    </div>"
      ],
      "text/plain": [
       "<IPython.core.display.HTML object>"
      ]
     },
     "metadata": {},
     "output_type": "display_data"
    }
   ],
   "source": [
    "grid(ims, lbls)"
   ]
  },
  {
   "cell_type": "markdown",
   "id": "ed0e415e-8bc9-4e9f-9a0c-5fcd5bc8aa31",
   "metadata": {
    "slideshow": {
     "slide_type": "slide"
    },
    "tags": []
   },
   "source": [
    "## Architectures"
   ]
  },
  {
   "cell_type": "code",
   "execution_count": 43,
   "id": "265602d0",
   "metadata": {
    "slideshow": {
     "slide_type": "skip"
    }
   },
   "outputs": [],
   "source": [
    "ims = [\"./images/vggarch.png\", \"./images/resnetarch.png\", \"./images/effnetarch.png\",\"./images/vitarch.png\"]\n",
    "lbls = [\"VGG16\", \"Resnet18\", \"EfficientNet B0\", \"ViT Base Patch 16x224\"]"
   ]
  },
  {
   "cell_type": "code",
   "execution_count": 44,
   "id": "73813cb9",
   "metadata": {
    "scrolled": false,
    "slideshow": {
     "slide_type": "subslide"
    }
   },
   "outputs": [
    {
     "data": {
      "text/html": [
       "\n",
       "    <style>\n",
       "        #ipyplot-html-viewer-toggle-8ssoo9TRQSeKGZ4an2WFEj {\n",
       "            position: absolute;\n",
       "            top: -9999px;\n",
       "            left: -9999px;\n",
       "            visibility: hidden;\n",
       "        }\n",
       "\n",
       "        #ipyplot-html-viewer-label-8ssoo9TRQSeKGZ4an2WFEj { \n",
       "            position: relative;\n",
       "            display: inline-block;\n",
       "            cursor: pointer;\n",
       "            color: blue;\n",
       "            text-decoration: underline;\n",
       "        }\n",
       "\n",
       "        #ipyplot-html-viewer-textarea-8ssoo9TRQSeKGZ4an2WFEj {\n",
       "            background: lightgrey;\n",
       "            width: 100%;\n",
       "            height: 0px;\n",
       "            display: none;\n",
       "        }\n",
       "\n",
       "        #ipyplot-html-viewer-toggle-8ssoo9TRQSeKGZ4an2WFEj:checked ~ #ipyplot-html-viewer-textarea-8ssoo9TRQSeKGZ4an2WFEj {\n",
       "            height: 200px;\n",
       "            display: block;\n",
       "        }\n",
       "\n",
       "        #ipyplot-html-viewer-toggle-8ssoo9TRQSeKGZ4an2WFEj:checked + #ipyplot-html-viewer-label-8ssoo9TRQSeKGZ4an2WFEj:after {\n",
       "            content: \"hide html\";\n",
       "            position: absolute;\n",
       "            top: 0;\n",
       "            left: 0;\n",
       "            right: 0;\n",
       "            bottom: 0;\n",
       "            background: white;\n",
       "            cursor: pointer;\n",
       "            color: blue;\n",
       "            text-decoration: underline;\n",
       "        }\n",
       "    </style>\n",
       "    <div>\n",
       "        <input type=\"checkbox\" id=\"ipyplot-html-viewer-toggle-8ssoo9TRQSeKGZ4an2WFEj\">\n",
       "        <label id=\"ipyplot-html-viewer-label-8ssoo9TRQSeKGZ4an2WFEj\" for=\"ipyplot-html-viewer-toggle-8ssoo9TRQSeKGZ4an2WFEj\">show html</label>\n",
       "        <textarea id=\"ipyplot-html-viewer-textarea-8ssoo9TRQSeKGZ4an2WFEj\" readonly>\n",
       "            \n",
       "        <style>\n",
       "        #ipyplot-imgs-container-div-GZtwJftHCShyGqDFN2BCVq {\n",
       "            width: 100%;\n",
       "            height: 100%;\n",
       "            margin: 0%;\n",
       "            overflow: auto;\n",
       "            position: relative;\n",
       "            overflow-y: scroll;\n",
       "        }\n",
       "\n",
       "        div.ipyplot-placeholder-div-GZtwJftHCShyGqDFN2BCVq {\n",
       "            width: 500px;\n",
       "            display: inline-block;\n",
       "            margin: 3px;\n",
       "            position: relative;\n",
       "        }\n",
       "\n",
       "        div.ipyplot-content-div-GZtwJftHCShyGqDFN2BCVq {\n",
       "            width: 500px;\n",
       "            background: white;\n",
       "            display: inline-block;\n",
       "            vertical-align: top;\n",
       "            text-align: center;\n",
       "            position: relative;\n",
       "            border: 2px solid #ddd;\n",
       "            top: 0;\n",
       "            left: 0;\n",
       "        }\n",
       "\n",
       "        div.ipyplot-content-div-GZtwJftHCShyGqDFN2BCVq span.ipyplot-img-close {\n",
       "            display: none;\n",
       "        }\n",
       "\n",
       "        div.ipyplot-content-div-GZtwJftHCShyGqDFN2BCVq span {\n",
       "            width: 100%;\n",
       "            height: 100%;\n",
       "            position: absolute;\n",
       "            top: 0;\n",
       "            left: 0;\n",
       "        }\n",
       "\n",
       "        div.ipyplot-content-div-GZtwJftHCShyGqDFN2BCVq img {\n",
       "            width: 500px;\n",
       "        }\n",
       "\n",
       "        div.ipyplot-content-div-GZtwJftHCShyGqDFN2BCVq span.ipyplot-img-close:hover {\n",
       "            cursor: zoom-out;\n",
       "        }\n",
       "        div.ipyplot-content-div-GZtwJftHCShyGqDFN2BCVq span.ipyplot-img-expand:hover {\n",
       "            cursor: zoom-in;\n",
       "        }\n",
       "\n",
       "        div[id^=ipyplot-content-div-GZtwJftHCShyGqDFN2BCVq]:target {\n",
       "            transform: scale(2.5);\n",
       "            transform-origin: left top;\n",
       "            z-index: 5000;\n",
       "            top: 0;\n",
       "            left: 0;\n",
       "            position: absolute;\n",
       "        }\n",
       "\n",
       "        div[id^=ipyplot-content-div-GZtwJftHCShyGqDFN2BCVq]:target span.ipyplot-img-close {\n",
       "            display: block;\n",
       "        }\n",
       "\n",
       "        div[id^=ipyplot-content-div-GZtwJftHCShyGqDFN2BCVq]:target span.ipyplot-img-expand {\n",
       "            display: none;\n",
       "        }\n",
       "        </style>\n",
       "    <div id=\"ipyplot-imgs-container-div-GZtwJftHCShyGqDFN2BCVq\">\n",
       "    <div class=\"ipyplot-placeholder-div-GZtwJftHCShyGqDFN2BCVq\">\n",
       "        <div id=\"ipyplot-content-div-GZtwJftHCShyGqDFN2BCVq-3zXWGGH6CXRUCJXEQJSw4o\" class=\"ipyplot-content-div-GZtwJftHCShyGqDFN2BCVq\">\n",
       "            <h4 style=\"font-size: 12px; word-wrap: break-word;\">VGG16</h4>\n",
       "            <img src=\"images/vggarch.png\"/>\n",
       "            <a href=\"#!\">\n",
       "                <span class=\"ipyplot-img-close\"/>\n",
       "            </a>\n",
       "            <a href=\"#ipyplot-content-div-GZtwJftHCShyGqDFN2BCVq-3zXWGGH6CXRUCJXEQJSw4o\">\n",
       "                <span class=\"ipyplot-img-expand\"/>\n",
       "            </a>\n",
       "        </div>\n",
       "    </div>\n",
       "    \n",
       "    <div class=\"ipyplot-placeholder-div-GZtwJftHCShyGqDFN2BCVq\">\n",
       "        <div id=\"ipyplot-content-div-GZtwJftHCShyGqDFN2BCVq-KNVihcUyqwf6tChJ8bbV7L\" class=\"ipyplot-content-div-GZtwJftHCShyGqDFN2BCVq\">\n",
       "            <h4 style=\"font-size: 12px; word-wrap: break-word;\">Resnet18</h4>\n",
       "            <img src=\"images/resnetarch.png\"/>\n",
       "            <a href=\"#!\">\n",
       "                <span class=\"ipyplot-img-close\"/>\n",
       "            </a>\n",
       "            <a href=\"#ipyplot-content-div-GZtwJftHCShyGqDFN2BCVq-KNVihcUyqwf6tChJ8bbV7L\">\n",
       "                <span class=\"ipyplot-img-expand\"/>\n",
       "            </a>\n",
       "        </div>\n",
       "    </div>\n",
       "    \n",
       "    <div class=\"ipyplot-placeholder-div-GZtwJftHCShyGqDFN2BCVq\">\n",
       "        <div id=\"ipyplot-content-div-GZtwJftHCShyGqDFN2BCVq-P7tdwad5oZsV9ZHCgn7MSq\" class=\"ipyplot-content-div-GZtwJftHCShyGqDFN2BCVq\">\n",
       "            <h4 style=\"font-size: 12px; word-wrap: break-word;\">EfficientNet B0</h4>\n",
       "            <img src=\"images/effnetarch.png\"/>\n",
       "            <a href=\"#!\">\n",
       "                <span class=\"ipyplot-img-close\"/>\n",
       "            </a>\n",
       "            <a href=\"#ipyplot-content-div-GZtwJftHCShyGqDFN2BCVq-P7tdwad5oZsV9ZHCgn7MSq\">\n",
       "                <span class=\"ipyplot-img-expand\"/>\n",
       "            </a>\n",
       "        </div>\n",
       "    </div>\n",
       "    \n",
       "    <div class=\"ipyplot-placeholder-div-GZtwJftHCShyGqDFN2BCVq\">\n",
       "        <div id=\"ipyplot-content-div-GZtwJftHCShyGqDFN2BCVq-HYqo4nShySyPSpfFcUVFMd\" class=\"ipyplot-content-div-GZtwJftHCShyGqDFN2BCVq\">\n",
       "            <h4 style=\"font-size: 12px; word-wrap: break-word;\">ViT Base Patch 16x224</h4>\n",
       "            <img src=\"images/vitarch.png\"/>\n",
       "            <a href=\"#!\">\n",
       "                <span class=\"ipyplot-img-close\"/>\n",
       "            </a>\n",
       "            <a href=\"#ipyplot-content-div-GZtwJftHCShyGqDFN2BCVq-HYqo4nShySyPSpfFcUVFMd\">\n",
       "                <span class=\"ipyplot-img-expand\"/>\n",
       "            </a>\n",
       "        </div>\n",
       "    </div>\n",
       "    </div>\n",
       "        </textarea>\n",
       "    </div>\n",
       "    "
      ],
      "text/plain": [
       "<IPython.core.display.HTML object>"
      ]
     },
     "metadata": {},
     "output_type": "display_data"
    },
    {
     "data": {
      "text/html": [
       "\n",
       "        <style>\n",
       "        #ipyplot-imgs-container-div-GZtwJftHCShyGqDFN2BCVq {\n",
       "            width: 100%;\n",
       "            height: 100%;\n",
       "            margin: 0%;\n",
       "            overflow: auto;\n",
       "            position: relative;\n",
       "            overflow-y: scroll;\n",
       "        }\n",
       "\n",
       "        div.ipyplot-placeholder-div-GZtwJftHCShyGqDFN2BCVq {\n",
       "            width: 500px;\n",
       "            display: inline-block;\n",
       "            margin: 3px;\n",
       "            position: relative;\n",
       "        }\n",
       "\n",
       "        div.ipyplot-content-div-GZtwJftHCShyGqDFN2BCVq {\n",
       "            width: 500px;\n",
       "            background: white;\n",
       "            display: inline-block;\n",
       "            vertical-align: top;\n",
       "            text-align: center;\n",
       "            position: relative;\n",
       "            border: 2px solid #ddd;\n",
       "            top: 0;\n",
       "            left: 0;\n",
       "        }\n",
       "\n",
       "        div.ipyplot-content-div-GZtwJftHCShyGqDFN2BCVq span.ipyplot-img-close {\n",
       "            display: none;\n",
       "        }\n",
       "\n",
       "        div.ipyplot-content-div-GZtwJftHCShyGqDFN2BCVq span {\n",
       "            width: 100%;\n",
       "            height: 100%;\n",
       "            position: absolute;\n",
       "            top: 0;\n",
       "            left: 0;\n",
       "        }\n",
       "\n",
       "        div.ipyplot-content-div-GZtwJftHCShyGqDFN2BCVq img {\n",
       "            width: 500px;\n",
       "        }\n",
       "\n",
       "        div.ipyplot-content-div-GZtwJftHCShyGqDFN2BCVq span.ipyplot-img-close:hover {\n",
       "            cursor: zoom-out;\n",
       "        }\n",
       "        div.ipyplot-content-div-GZtwJftHCShyGqDFN2BCVq span.ipyplot-img-expand:hover {\n",
       "            cursor: zoom-in;\n",
       "        }\n",
       "\n",
       "        div[id^=ipyplot-content-div-GZtwJftHCShyGqDFN2BCVq]:target {\n",
       "            transform: scale(2.5);\n",
       "            transform-origin: left top;\n",
       "            z-index: 5000;\n",
       "            top: 0;\n",
       "            left: 0;\n",
       "            position: absolute;\n",
       "        }\n",
       "\n",
       "        div[id^=ipyplot-content-div-GZtwJftHCShyGqDFN2BCVq]:target span.ipyplot-img-close {\n",
       "            display: block;\n",
       "        }\n",
       "\n",
       "        div[id^=ipyplot-content-div-GZtwJftHCShyGqDFN2BCVq]:target span.ipyplot-img-expand {\n",
       "            display: none;\n",
       "        }\n",
       "        </style>\n",
       "    <div id=\"ipyplot-imgs-container-div-GZtwJftHCShyGqDFN2BCVq\">\n",
       "    <div class=\"ipyplot-placeholder-div-GZtwJftHCShyGqDFN2BCVq\">\n",
       "        <div id=\"ipyplot-content-div-GZtwJftHCShyGqDFN2BCVq-3zXWGGH6CXRUCJXEQJSw4o\" class=\"ipyplot-content-div-GZtwJftHCShyGqDFN2BCVq\">\n",
       "            <h4 style=\"font-size: 12px; word-wrap: break-word;\">VGG16</h4>\n",
       "            <img src=\"images/vggarch.png\"/>\n",
       "            <a href=\"#!\">\n",
       "                <span class=\"ipyplot-img-close\"/>\n",
       "            </a>\n",
       "            <a href=\"#ipyplot-content-div-GZtwJftHCShyGqDFN2BCVq-3zXWGGH6CXRUCJXEQJSw4o\">\n",
       "                <span class=\"ipyplot-img-expand\"/>\n",
       "            </a>\n",
       "        </div>\n",
       "    </div>\n",
       "    \n",
       "    <div class=\"ipyplot-placeholder-div-GZtwJftHCShyGqDFN2BCVq\">\n",
       "        <div id=\"ipyplot-content-div-GZtwJftHCShyGqDFN2BCVq-KNVihcUyqwf6tChJ8bbV7L\" class=\"ipyplot-content-div-GZtwJftHCShyGqDFN2BCVq\">\n",
       "            <h4 style=\"font-size: 12px; word-wrap: break-word;\">Resnet18</h4>\n",
       "            <img src=\"images/resnetarch.png\"/>\n",
       "            <a href=\"#!\">\n",
       "                <span class=\"ipyplot-img-close\"/>\n",
       "            </a>\n",
       "            <a href=\"#ipyplot-content-div-GZtwJftHCShyGqDFN2BCVq-KNVihcUyqwf6tChJ8bbV7L\">\n",
       "                <span class=\"ipyplot-img-expand\"/>\n",
       "            </a>\n",
       "        </div>\n",
       "    </div>\n",
       "    \n",
       "    <div class=\"ipyplot-placeholder-div-GZtwJftHCShyGqDFN2BCVq\">\n",
       "        <div id=\"ipyplot-content-div-GZtwJftHCShyGqDFN2BCVq-P7tdwad5oZsV9ZHCgn7MSq\" class=\"ipyplot-content-div-GZtwJftHCShyGqDFN2BCVq\">\n",
       "            <h4 style=\"font-size: 12px; word-wrap: break-word;\">EfficientNet B0</h4>\n",
       "            <img src=\"images/effnetarch.png\"/>\n",
       "            <a href=\"#!\">\n",
       "                <span class=\"ipyplot-img-close\"/>\n",
       "            </a>\n",
       "            <a href=\"#ipyplot-content-div-GZtwJftHCShyGqDFN2BCVq-P7tdwad5oZsV9ZHCgn7MSq\">\n",
       "                <span class=\"ipyplot-img-expand\"/>\n",
       "            </a>\n",
       "        </div>\n",
       "    </div>\n",
       "    \n",
       "    <div class=\"ipyplot-placeholder-div-GZtwJftHCShyGqDFN2BCVq\">\n",
       "        <div id=\"ipyplot-content-div-GZtwJftHCShyGqDFN2BCVq-HYqo4nShySyPSpfFcUVFMd\" class=\"ipyplot-content-div-GZtwJftHCShyGqDFN2BCVq\">\n",
       "            <h4 style=\"font-size: 12px; word-wrap: break-word;\">ViT Base Patch 16x224</h4>\n",
       "            <img src=\"images/vitarch.png\"/>\n",
       "            <a href=\"#!\">\n",
       "                <span class=\"ipyplot-img-close\"/>\n",
       "            </a>\n",
       "            <a href=\"#ipyplot-content-div-GZtwJftHCShyGqDFN2BCVq-HYqo4nShySyPSpfFcUVFMd\">\n",
       "                <span class=\"ipyplot-img-expand\"/>\n",
       "            </a>\n",
       "        </div>\n",
       "    </div>\n",
       "    </div>"
      ],
      "text/plain": [
       "<IPython.core.display.HTML object>"
      ]
     },
     "metadata": {},
     "output_type": "display_data"
    }
   ],
   "source": [
    "grid(ims, lbls)"
   ]
  },
  {
   "cell_type": "markdown",
   "id": "4c735cb2-8343-40e3-a9e2-438011640d87",
   "metadata": {
    "slideshow": {
     "slide_type": "slide"
    },
    "tags": []
   },
   "source": [
    "## Proxy Image Threshold\n",
    "<img src=\"./images/grad_threshold-crop.pdf.png\" alt= “” width=\"500px\">"
   ]
  },
  {
   "cell_type": "markdown",
   "id": "fe02ee6b-801b-45cd-9007-464f2d170bb4",
   "metadata": {
    "slideshow": {
     "slide_type": "slide"
    },
    "tags": []
   },
   "source": [
    "## Proxy Image Weight\n",
    "<img src=\"./images/multiply_threshold-crop.pdf.png\" alt= “” width=\"500px\">"
   ]
  },
  {
   "cell_type": "markdown",
   "id": "c65dc7fe-6660-4b72-838f-338e237c67f7",
   "metadata": {
    "slideshow": {
     "slide_type": "slide"
    },
    "tags": []
   },
   "source": [
    "## Pixel Replacement Types\n",
    "<img src=\"./images/methods-crop.pdf.png\" alt= “” width=\"700px\">"
   ]
  },
  {
   "cell_type": "markdown",
   "id": "80a44c8d-6dd3-475e-9d54-83880e4ac3a5",
   "metadata": {
    "slideshow": {
     "slide_type": "slide"
    },
    "tags": []
   },
   "source": [
    "## Proxy Step Schedule\n",
    "- [20, p,19]\n",
    "- [5, p, 9, p,9, p,4]"
   ]
  },
  {
   "cell_type": "markdown",
   "id": "4aa89912-5589-44c9-9df2-b4113be743e5",
   "metadata": {
    "slideshow": {
     "slide_type": "slide"
    },
    "tags": []
   },
   "source": [
    "## Subset of Wrongly Classified Images\n",
    "- 0.1\n",
    "- 0.2\n",
    "- 0.4\n",
    "- 0.8\n",
    "- 0.95"
   ]
  },
  {
   "cell_type": "markdown",
   "id": "23b68b93",
   "metadata": {
    "slideshow": {
     "slide_type": "subslide"
    }
   },
   "source": [
    "## Training Assumptions\n",
    "- Equal number of epochs\n",
    "- Every other parameter fixed\n",
    "- Equal number of data points for the DataLoaders"
   ]
  },
  {
   "cell_type": "markdown",
   "id": "3662ef6f",
   "metadata": {
    "slideshow": {
     "slide_type": "slide"
    }
   },
   "source": [
    "# Results"
   ]
  },
  {
   "cell_type": "markdown",
   "id": "efafbf92",
   "metadata": {
    "slideshow": {
     "slide_type": "slide"
    }
   },
   "source": [
    "## By Dataset"
   ]
  },
  {
   "cell_type": "code",
   "execution_count": 46,
   "id": "46d2d601",
   "metadata": {
    "slideshow": {
     "slide_type": "skip"
    }
   },
   "outputs": [],
   "source": [
    "ims = [\"./images/res1.png\", \"./images/res2.png\", \"./images/res3.png\", \"./images/res4.png\"]"
   ]
  },
  {
   "cell_type": "code",
   "execution_count": 47,
   "id": "cc0595eb",
   "metadata": {
    "scrolled": false,
    "slideshow": {
     "slide_type": "subslide"
    }
   },
   "outputs": [
    {
     "data": {
      "text/html": [
       "\n",
       "    <style>\n",
       "        #ipyplot-html-viewer-toggle-VijqDugLdtYcFhyjDFJQ2f {\n",
       "            position: absolute;\n",
       "            top: -9999px;\n",
       "            left: -9999px;\n",
       "            visibility: hidden;\n",
       "        }\n",
       "\n",
       "        #ipyplot-html-viewer-label-VijqDugLdtYcFhyjDFJQ2f { \n",
       "            position: relative;\n",
       "            display: inline-block;\n",
       "            cursor: pointer;\n",
       "            color: blue;\n",
       "            text-decoration: underline;\n",
       "        }\n",
       "\n",
       "        #ipyplot-html-viewer-textarea-VijqDugLdtYcFhyjDFJQ2f {\n",
       "            background: lightgrey;\n",
       "            width: 100%;\n",
       "            height: 0px;\n",
       "            display: none;\n",
       "        }\n",
       "\n",
       "        #ipyplot-html-viewer-toggle-VijqDugLdtYcFhyjDFJQ2f:checked ~ #ipyplot-html-viewer-textarea-VijqDugLdtYcFhyjDFJQ2f {\n",
       "            height: 200px;\n",
       "            display: block;\n",
       "        }\n",
       "\n",
       "        #ipyplot-html-viewer-toggle-VijqDugLdtYcFhyjDFJQ2f:checked + #ipyplot-html-viewer-label-VijqDugLdtYcFhyjDFJQ2f:after {\n",
       "            content: \"hide html\";\n",
       "            position: absolute;\n",
       "            top: 0;\n",
       "            left: 0;\n",
       "            right: 0;\n",
       "            bottom: 0;\n",
       "            background: white;\n",
       "            cursor: pointer;\n",
       "            color: blue;\n",
       "            text-decoration: underline;\n",
       "        }\n",
       "    </style>\n",
       "    <div>\n",
       "        <input type=\"checkbox\" id=\"ipyplot-html-viewer-toggle-VijqDugLdtYcFhyjDFJQ2f\">\n",
       "        <label id=\"ipyplot-html-viewer-label-VijqDugLdtYcFhyjDFJQ2f\" for=\"ipyplot-html-viewer-toggle-VijqDugLdtYcFhyjDFJQ2f\">show html</label>\n",
       "        <textarea id=\"ipyplot-html-viewer-textarea-VijqDugLdtYcFhyjDFJQ2f\" readonly>\n",
       "            \n",
       "        <style>\n",
       "        #ipyplot-imgs-container-div-DncUMG3mZnv3hCzGMaqezM {\n",
       "            width: 100%;\n",
       "            height: 100%;\n",
       "            margin: 0%;\n",
       "            overflow: auto;\n",
       "            position: relative;\n",
       "            overflow-y: scroll;\n",
       "        }\n",
       "\n",
       "        div.ipyplot-placeholder-div-DncUMG3mZnv3hCzGMaqezM {\n",
       "            width: 500px;\n",
       "            display: inline-block;\n",
       "            margin: 3px;\n",
       "            position: relative;\n",
       "        }\n",
       "\n",
       "        div.ipyplot-content-div-DncUMG3mZnv3hCzGMaqezM {\n",
       "            width: 500px;\n",
       "            background: white;\n",
       "            display: inline-block;\n",
       "            vertical-align: top;\n",
       "            text-align: center;\n",
       "            position: relative;\n",
       "            border: 2px solid #ddd;\n",
       "            top: 0;\n",
       "            left: 0;\n",
       "        }\n",
       "\n",
       "        div.ipyplot-content-div-DncUMG3mZnv3hCzGMaqezM span.ipyplot-img-close {\n",
       "            display: none;\n",
       "        }\n",
       "\n",
       "        div.ipyplot-content-div-DncUMG3mZnv3hCzGMaqezM span {\n",
       "            width: 100%;\n",
       "            height: 100%;\n",
       "            position: absolute;\n",
       "            top: 0;\n",
       "            left: 0;\n",
       "        }\n",
       "\n",
       "        div.ipyplot-content-div-DncUMG3mZnv3hCzGMaqezM img {\n",
       "            width: 500px;\n",
       "        }\n",
       "\n",
       "        div.ipyplot-content-div-DncUMG3mZnv3hCzGMaqezM span.ipyplot-img-close:hover {\n",
       "            cursor: zoom-out;\n",
       "        }\n",
       "        div.ipyplot-content-div-DncUMG3mZnv3hCzGMaqezM span.ipyplot-img-expand:hover {\n",
       "            cursor: zoom-in;\n",
       "        }\n",
       "\n",
       "        div[id^=ipyplot-content-div-DncUMG3mZnv3hCzGMaqezM]:target {\n",
       "            transform: scale(2.5);\n",
       "            transform-origin: left top;\n",
       "            z-index: 5000;\n",
       "            top: 0;\n",
       "            left: 0;\n",
       "            position: absolute;\n",
       "        }\n",
       "\n",
       "        div[id^=ipyplot-content-div-DncUMG3mZnv3hCzGMaqezM]:target span.ipyplot-img-close {\n",
       "            display: block;\n",
       "        }\n",
       "\n",
       "        div[id^=ipyplot-content-div-DncUMG3mZnv3hCzGMaqezM]:target span.ipyplot-img-expand {\n",
       "            display: none;\n",
       "        }\n",
       "        </style>\n",
       "    <div id=\"ipyplot-imgs-container-div-DncUMG3mZnv3hCzGMaqezM\">\n",
       "    <div class=\"ipyplot-placeholder-div-DncUMG3mZnv3hCzGMaqezM\">\n",
       "        <div id=\"ipyplot-content-div-DncUMG3mZnv3hCzGMaqezM-9tSSVUSwN2aRfHaiCehVdh\" class=\"ipyplot-content-div-DncUMG3mZnv3hCzGMaqezM\">\n",
       "            <h4 style=\"font-size: 12px; word-wrap: break-word;\">0</h4>\n",
       "            <img src=\"images/res1.png\"/>\n",
       "            <a href=\"#!\">\n",
       "                <span class=\"ipyplot-img-close\"/>\n",
       "            </a>\n",
       "            <a href=\"#ipyplot-content-div-DncUMG3mZnv3hCzGMaqezM-9tSSVUSwN2aRfHaiCehVdh\">\n",
       "                <span class=\"ipyplot-img-expand\"/>\n",
       "            </a>\n",
       "        </div>\n",
       "    </div>\n",
       "    \n",
       "    <div class=\"ipyplot-placeholder-div-DncUMG3mZnv3hCzGMaqezM\">\n",
       "        <div id=\"ipyplot-content-div-DncUMG3mZnv3hCzGMaqezM-KnPE55BTtR7fmx4nCynuYv\" class=\"ipyplot-content-div-DncUMG3mZnv3hCzGMaqezM\">\n",
       "            <h4 style=\"font-size: 12px; word-wrap: break-word;\">1</h4>\n",
       "            <img src=\"images/res2.png\"/>\n",
       "            <a href=\"#!\">\n",
       "                <span class=\"ipyplot-img-close\"/>\n",
       "            </a>\n",
       "            <a href=\"#ipyplot-content-div-DncUMG3mZnv3hCzGMaqezM-KnPE55BTtR7fmx4nCynuYv\">\n",
       "                <span class=\"ipyplot-img-expand\"/>\n",
       "            </a>\n",
       "        </div>\n",
       "    </div>\n",
       "    \n",
       "    <div class=\"ipyplot-placeholder-div-DncUMG3mZnv3hCzGMaqezM\">\n",
       "        <div id=\"ipyplot-content-div-DncUMG3mZnv3hCzGMaqezM-cqXqiENWe4wcEMgWREPWUN\" class=\"ipyplot-content-div-DncUMG3mZnv3hCzGMaqezM\">\n",
       "            <h4 style=\"font-size: 12px; word-wrap: break-word;\">2</h4>\n",
       "            <img src=\"images/res3.png\"/>\n",
       "            <a href=\"#!\">\n",
       "                <span class=\"ipyplot-img-close\"/>\n",
       "            </a>\n",
       "            <a href=\"#ipyplot-content-div-DncUMG3mZnv3hCzGMaqezM-cqXqiENWe4wcEMgWREPWUN\">\n",
       "                <span class=\"ipyplot-img-expand\"/>\n",
       "            </a>\n",
       "        </div>\n",
       "    </div>\n",
       "    \n",
       "    <div class=\"ipyplot-placeholder-div-DncUMG3mZnv3hCzGMaqezM\">\n",
       "        <div id=\"ipyplot-content-div-DncUMG3mZnv3hCzGMaqezM-Yt576g5QUPsbCQyeiTv5Aj\" class=\"ipyplot-content-div-DncUMG3mZnv3hCzGMaqezM\">\n",
       "            <h4 style=\"font-size: 12px; word-wrap: break-word;\">3</h4>\n",
       "            <img src=\"images/res4.png\"/>\n",
       "            <a href=\"#!\">\n",
       "                <span class=\"ipyplot-img-close\"/>\n",
       "            </a>\n",
       "            <a href=\"#ipyplot-content-div-DncUMG3mZnv3hCzGMaqezM-Yt576g5QUPsbCQyeiTv5Aj\">\n",
       "                <span class=\"ipyplot-img-expand\"/>\n",
       "            </a>\n",
       "        </div>\n",
       "    </div>\n",
       "    </div>\n",
       "        </textarea>\n",
       "    </div>\n",
       "    "
      ],
      "text/plain": [
       "<IPython.core.display.HTML object>"
      ]
     },
     "metadata": {},
     "output_type": "display_data"
    },
    {
     "data": {
      "text/html": [
       "\n",
       "        <style>\n",
       "        #ipyplot-imgs-container-div-DncUMG3mZnv3hCzGMaqezM {\n",
       "            width: 100%;\n",
       "            height: 100%;\n",
       "            margin: 0%;\n",
       "            overflow: auto;\n",
       "            position: relative;\n",
       "            overflow-y: scroll;\n",
       "        }\n",
       "\n",
       "        div.ipyplot-placeholder-div-DncUMG3mZnv3hCzGMaqezM {\n",
       "            width: 500px;\n",
       "            display: inline-block;\n",
       "            margin: 3px;\n",
       "            position: relative;\n",
       "        }\n",
       "\n",
       "        div.ipyplot-content-div-DncUMG3mZnv3hCzGMaqezM {\n",
       "            width: 500px;\n",
       "            background: white;\n",
       "            display: inline-block;\n",
       "            vertical-align: top;\n",
       "            text-align: center;\n",
       "            position: relative;\n",
       "            border: 2px solid #ddd;\n",
       "            top: 0;\n",
       "            left: 0;\n",
       "        }\n",
       "\n",
       "        div.ipyplot-content-div-DncUMG3mZnv3hCzGMaqezM span.ipyplot-img-close {\n",
       "            display: none;\n",
       "        }\n",
       "\n",
       "        div.ipyplot-content-div-DncUMG3mZnv3hCzGMaqezM span {\n",
       "            width: 100%;\n",
       "            height: 100%;\n",
       "            position: absolute;\n",
       "            top: 0;\n",
       "            left: 0;\n",
       "        }\n",
       "\n",
       "        div.ipyplot-content-div-DncUMG3mZnv3hCzGMaqezM img {\n",
       "            width: 500px;\n",
       "        }\n",
       "\n",
       "        div.ipyplot-content-div-DncUMG3mZnv3hCzGMaqezM span.ipyplot-img-close:hover {\n",
       "            cursor: zoom-out;\n",
       "        }\n",
       "        div.ipyplot-content-div-DncUMG3mZnv3hCzGMaqezM span.ipyplot-img-expand:hover {\n",
       "            cursor: zoom-in;\n",
       "        }\n",
       "\n",
       "        div[id^=ipyplot-content-div-DncUMG3mZnv3hCzGMaqezM]:target {\n",
       "            transform: scale(2.5);\n",
       "            transform-origin: left top;\n",
       "            z-index: 5000;\n",
       "            top: 0;\n",
       "            left: 0;\n",
       "            position: absolute;\n",
       "        }\n",
       "\n",
       "        div[id^=ipyplot-content-div-DncUMG3mZnv3hCzGMaqezM]:target span.ipyplot-img-close {\n",
       "            display: block;\n",
       "        }\n",
       "\n",
       "        div[id^=ipyplot-content-div-DncUMG3mZnv3hCzGMaqezM]:target span.ipyplot-img-expand {\n",
       "            display: none;\n",
       "        }\n",
       "        </style>\n",
       "    <div id=\"ipyplot-imgs-container-div-DncUMG3mZnv3hCzGMaqezM\">\n",
       "    <div class=\"ipyplot-placeholder-div-DncUMG3mZnv3hCzGMaqezM\">\n",
       "        <div id=\"ipyplot-content-div-DncUMG3mZnv3hCzGMaqezM-9tSSVUSwN2aRfHaiCehVdh\" class=\"ipyplot-content-div-DncUMG3mZnv3hCzGMaqezM\">\n",
       "            <h4 style=\"font-size: 12px; word-wrap: break-word;\">0</h4>\n",
       "            <img src=\"images/res1.png\"/>\n",
       "            <a href=\"#!\">\n",
       "                <span class=\"ipyplot-img-close\"/>\n",
       "            </a>\n",
       "            <a href=\"#ipyplot-content-div-DncUMG3mZnv3hCzGMaqezM-9tSSVUSwN2aRfHaiCehVdh\">\n",
       "                <span class=\"ipyplot-img-expand\"/>\n",
       "            </a>\n",
       "        </div>\n",
       "    </div>\n",
       "    \n",
       "    <div class=\"ipyplot-placeholder-div-DncUMG3mZnv3hCzGMaqezM\">\n",
       "        <div id=\"ipyplot-content-div-DncUMG3mZnv3hCzGMaqezM-KnPE55BTtR7fmx4nCynuYv\" class=\"ipyplot-content-div-DncUMG3mZnv3hCzGMaqezM\">\n",
       "            <h4 style=\"font-size: 12px; word-wrap: break-word;\">1</h4>\n",
       "            <img src=\"images/res2.png\"/>\n",
       "            <a href=\"#!\">\n",
       "                <span class=\"ipyplot-img-close\"/>\n",
       "            </a>\n",
       "            <a href=\"#ipyplot-content-div-DncUMG3mZnv3hCzGMaqezM-KnPE55BTtR7fmx4nCynuYv\">\n",
       "                <span class=\"ipyplot-img-expand\"/>\n",
       "            </a>\n",
       "        </div>\n",
       "    </div>\n",
       "    \n",
       "    <div class=\"ipyplot-placeholder-div-DncUMG3mZnv3hCzGMaqezM\">\n",
       "        <div id=\"ipyplot-content-div-DncUMG3mZnv3hCzGMaqezM-cqXqiENWe4wcEMgWREPWUN\" class=\"ipyplot-content-div-DncUMG3mZnv3hCzGMaqezM\">\n",
       "            <h4 style=\"font-size: 12px; word-wrap: break-word;\">2</h4>\n",
       "            <img src=\"images/res3.png\"/>\n",
       "            <a href=\"#!\">\n",
       "                <span class=\"ipyplot-img-close\"/>\n",
       "            </a>\n",
       "            <a href=\"#ipyplot-content-div-DncUMG3mZnv3hCzGMaqezM-cqXqiENWe4wcEMgWREPWUN\">\n",
       "                <span class=\"ipyplot-img-expand\"/>\n",
       "            </a>\n",
       "        </div>\n",
       "    </div>\n",
       "    \n",
       "    <div class=\"ipyplot-placeholder-div-DncUMG3mZnv3hCzGMaqezM\">\n",
       "        <div id=\"ipyplot-content-div-DncUMG3mZnv3hCzGMaqezM-Yt576g5QUPsbCQyeiTv5Aj\" class=\"ipyplot-content-div-DncUMG3mZnv3hCzGMaqezM\">\n",
       "            <h4 style=\"font-size: 12px; word-wrap: break-word;\">3</h4>\n",
       "            <img src=\"images/res4.png\"/>\n",
       "            <a href=\"#!\">\n",
       "                <span class=\"ipyplot-img-close\"/>\n",
       "            </a>\n",
       "            <a href=\"#ipyplot-content-div-DncUMG3mZnv3hCzGMaqezM-Yt576g5QUPsbCQyeiTv5Aj\">\n",
       "                <span class=\"ipyplot-img-expand\"/>\n",
       "            </a>\n",
       "        </div>\n",
       "    </div>\n",
       "    </div>"
      ],
      "text/plain": [
       "<IPython.core.display.HTML object>"
      ]
     },
     "metadata": {},
     "output_type": "display_data"
    }
   ],
   "source": [
    "grid(ims)"
   ]
  },
  {
   "cell_type": "markdown",
   "id": "0fb3ffac",
   "metadata": {
    "slideshow": {
     "slide_type": "slide"
    }
   },
   "source": [
    "## By Hyper Parameters"
   ]
  },
  {
   "cell_type": "code",
   "execution_count": 48,
   "id": "8125c408",
   "metadata": {
    "slideshow": {
     "slide_type": "skip"
    }
   },
   "outputs": [],
   "source": [
    "ims = [\"./images/res5.png\", \"./images/res6.png\", \"./images/res7.png\", \"./images/res8.png\"]\n",
    "lbls = [\"By Schedule\", \"By Proxy Threshold\", \"By Proxy Image Weight\", \"By Proxy Image Subset\"]"
   ]
  },
  {
   "cell_type": "code",
   "execution_count": 49,
   "id": "c7f68dfd",
   "metadata": {
    "scrolled": false,
    "slideshow": {
     "slide_type": "subslide"
    }
   },
   "outputs": [
    {
     "data": {
      "text/html": [
       "\n",
       "    <style>\n",
       "        #ipyplot-html-viewer-toggle-CKnmR4kR2wH3szeeQ4uSHV {\n",
       "            position: absolute;\n",
       "            top: -9999px;\n",
       "            left: -9999px;\n",
       "            visibility: hidden;\n",
       "        }\n",
       "\n",
       "        #ipyplot-html-viewer-label-CKnmR4kR2wH3szeeQ4uSHV { \n",
       "            position: relative;\n",
       "            display: inline-block;\n",
       "            cursor: pointer;\n",
       "            color: blue;\n",
       "            text-decoration: underline;\n",
       "        }\n",
       "\n",
       "        #ipyplot-html-viewer-textarea-CKnmR4kR2wH3szeeQ4uSHV {\n",
       "            background: lightgrey;\n",
       "            width: 100%;\n",
       "            height: 0px;\n",
       "            display: none;\n",
       "        }\n",
       "\n",
       "        #ipyplot-html-viewer-toggle-CKnmR4kR2wH3szeeQ4uSHV:checked ~ #ipyplot-html-viewer-textarea-CKnmR4kR2wH3szeeQ4uSHV {\n",
       "            height: 200px;\n",
       "            display: block;\n",
       "        }\n",
       "\n",
       "        #ipyplot-html-viewer-toggle-CKnmR4kR2wH3szeeQ4uSHV:checked + #ipyplot-html-viewer-label-CKnmR4kR2wH3szeeQ4uSHV:after {\n",
       "            content: \"hide html\";\n",
       "            position: absolute;\n",
       "            top: 0;\n",
       "            left: 0;\n",
       "            right: 0;\n",
       "            bottom: 0;\n",
       "            background: white;\n",
       "            cursor: pointer;\n",
       "            color: blue;\n",
       "            text-decoration: underline;\n",
       "        }\n",
       "    </style>\n",
       "    <div>\n",
       "        <input type=\"checkbox\" id=\"ipyplot-html-viewer-toggle-CKnmR4kR2wH3szeeQ4uSHV\">\n",
       "        <label id=\"ipyplot-html-viewer-label-CKnmR4kR2wH3szeeQ4uSHV\" for=\"ipyplot-html-viewer-toggle-CKnmR4kR2wH3szeeQ4uSHV\">show html</label>\n",
       "        <textarea id=\"ipyplot-html-viewer-textarea-CKnmR4kR2wH3szeeQ4uSHV\" readonly>\n",
       "            \n",
       "        <style>\n",
       "        #ipyplot-imgs-container-div-8Vjpyao8RmNXCYa2zDDVRQ {\n",
       "            width: 100%;\n",
       "            height: 100%;\n",
       "            margin: 0%;\n",
       "            overflow: auto;\n",
       "            position: relative;\n",
       "            overflow-y: scroll;\n",
       "        }\n",
       "\n",
       "        div.ipyplot-placeholder-div-8Vjpyao8RmNXCYa2zDDVRQ {\n",
       "            width: 500px;\n",
       "            display: inline-block;\n",
       "            margin: 3px;\n",
       "            position: relative;\n",
       "        }\n",
       "\n",
       "        div.ipyplot-content-div-8Vjpyao8RmNXCYa2zDDVRQ {\n",
       "            width: 500px;\n",
       "            background: white;\n",
       "            display: inline-block;\n",
       "            vertical-align: top;\n",
       "            text-align: center;\n",
       "            position: relative;\n",
       "            border: 2px solid #ddd;\n",
       "            top: 0;\n",
       "            left: 0;\n",
       "        }\n",
       "\n",
       "        div.ipyplot-content-div-8Vjpyao8RmNXCYa2zDDVRQ span.ipyplot-img-close {\n",
       "            display: none;\n",
       "        }\n",
       "\n",
       "        div.ipyplot-content-div-8Vjpyao8RmNXCYa2zDDVRQ span {\n",
       "            width: 100%;\n",
       "            height: 100%;\n",
       "            position: absolute;\n",
       "            top: 0;\n",
       "            left: 0;\n",
       "        }\n",
       "\n",
       "        div.ipyplot-content-div-8Vjpyao8RmNXCYa2zDDVRQ img {\n",
       "            width: 500px;\n",
       "        }\n",
       "\n",
       "        div.ipyplot-content-div-8Vjpyao8RmNXCYa2zDDVRQ span.ipyplot-img-close:hover {\n",
       "            cursor: zoom-out;\n",
       "        }\n",
       "        div.ipyplot-content-div-8Vjpyao8RmNXCYa2zDDVRQ span.ipyplot-img-expand:hover {\n",
       "            cursor: zoom-in;\n",
       "        }\n",
       "\n",
       "        div[id^=ipyplot-content-div-8Vjpyao8RmNXCYa2zDDVRQ]:target {\n",
       "            transform: scale(2.5);\n",
       "            transform-origin: left top;\n",
       "            z-index: 5000;\n",
       "            top: 0;\n",
       "            left: 0;\n",
       "            position: absolute;\n",
       "        }\n",
       "\n",
       "        div[id^=ipyplot-content-div-8Vjpyao8RmNXCYa2zDDVRQ]:target span.ipyplot-img-close {\n",
       "            display: block;\n",
       "        }\n",
       "\n",
       "        div[id^=ipyplot-content-div-8Vjpyao8RmNXCYa2zDDVRQ]:target span.ipyplot-img-expand {\n",
       "            display: none;\n",
       "        }\n",
       "        </style>\n",
       "    <div id=\"ipyplot-imgs-container-div-8Vjpyao8RmNXCYa2zDDVRQ\">\n",
       "    <div class=\"ipyplot-placeholder-div-8Vjpyao8RmNXCYa2zDDVRQ\">\n",
       "        <div id=\"ipyplot-content-div-8Vjpyao8RmNXCYa2zDDVRQ-YZsnq7FPuZUPAfyuTYLu7L\" class=\"ipyplot-content-div-8Vjpyao8RmNXCYa2zDDVRQ\">\n",
       "            <h4 style=\"font-size: 12px; word-wrap: break-word;\">By Schedule</h4>\n",
       "            <img src=\"images/res5.png\"/>\n",
       "            <a href=\"#!\">\n",
       "                <span class=\"ipyplot-img-close\"/>\n",
       "            </a>\n",
       "            <a href=\"#ipyplot-content-div-8Vjpyao8RmNXCYa2zDDVRQ-YZsnq7FPuZUPAfyuTYLu7L\">\n",
       "                <span class=\"ipyplot-img-expand\"/>\n",
       "            </a>\n",
       "        </div>\n",
       "    </div>\n",
       "    \n",
       "    <div class=\"ipyplot-placeholder-div-8Vjpyao8RmNXCYa2zDDVRQ\">\n",
       "        <div id=\"ipyplot-content-div-8Vjpyao8RmNXCYa2zDDVRQ-JLyKHMYEd3QGwMwP5DT59d\" class=\"ipyplot-content-div-8Vjpyao8RmNXCYa2zDDVRQ\">\n",
       "            <h4 style=\"font-size: 12px; word-wrap: break-word;\">By Proxy Threshold</h4>\n",
       "            <img src=\"images/res6.png\"/>\n",
       "            <a href=\"#!\">\n",
       "                <span class=\"ipyplot-img-close\"/>\n",
       "            </a>\n",
       "            <a href=\"#ipyplot-content-div-8Vjpyao8RmNXCYa2zDDVRQ-JLyKHMYEd3QGwMwP5DT59d\">\n",
       "                <span class=\"ipyplot-img-expand\"/>\n",
       "            </a>\n",
       "        </div>\n",
       "    </div>\n",
       "    \n",
       "    <div class=\"ipyplot-placeholder-div-8Vjpyao8RmNXCYa2zDDVRQ\">\n",
       "        <div id=\"ipyplot-content-div-8Vjpyao8RmNXCYa2zDDVRQ-c5gnMMuD5axjdJm8iGKbip\" class=\"ipyplot-content-div-8Vjpyao8RmNXCYa2zDDVRQ\">\n",
       "            <h4 style=\"font-size: 12px; word-wrap: break-word;\">By Proxy Image Weight</h4>\n",
       "            <img src=\"images/res7.png\"/>\n",
       "            <a href=\"#!\">\n",
       "                <span class=\"ipyplot-img-close\"/>\n",
       "            </a>\n",
       "            <a href=\"#ipyplot-content-div-8Vjpyao8RmNXCYa2zDDVRQ-c5gnMMuD5axjdJm8iGKbip\">\n",
       "                <span class=\"ipyplot-img-expand\"/>\n",
       "            </a>\n",
       "        </div>\n",
       "    </div>\n",
       "    \n",
       "    <div class=\"ipyplot-placeholder-div-8Vjpyao8RmNXCYa2zDDVRQ\">\n",
       "        <div id=\"ipyplot-content-div-8Vjpyao8RmNXCYa2zDDVRQ-8y4XGbqMZCbsE6noFjU9MT\" class=\"ipyplot-content-div-8Vjpyao8RmNXCYa2zDDVRQ\">\n",
       "            <h4 style=\"font-size: 12px; word-wrap: break-word;\">By Proxy Image Subset</h4>\n",
       "            <img src=\"images/res8.png\"/>\n",
       "            <a href=\"#!\">\n",
       "                <span class=\"ipyplot-img-close\"/>\n",
       "            </a>\n",
       "            <a href=\"#ipyplot-content-div-8Vjpyao8RmNXCYa2zDDVRQ-8y4XGbqMZCbsE6noFjU9MT\">\n",
       "                <span class=\"ipyplot-img-expand\"/>\n",
       "            </a>\n",
       "        </div>\n",
       "    </div>\n",
       "    </div>\n",
       "        </textarea>\n",
       "    </div>\n",
       "    "
      ],
      "text/plain": [
       "<IPython.core.display.HTML object>"
      ]
     },
     "metadata": {},
     "output_type": "display_data"
    },
    {
     "data": {
      "text/html": [
       "\n",
       "        <style>\n",
       "        #ipyplot-imgs-container-div-8Vjpyao8RmNXCYa2zDDVRQ {\n",
       "            width: 100%;\n",
       "            height: 100%;\n",
       "            margin: 0%;\n",
       "            overflow: auto;\n",
       "            position: relative;\n",
       "            overflow-y: scroll;\n",
       "        }\n",
       "\n",
       "        div.ipyplot-placeholder-div-8Vjpyao8RmNXCYa2zDDVRQ {\n",
       "            width: 500px;\n",
       "            display: inline-block;\n",
       "            margin: 3px;\n",
       "            position: relative;\n",
       "        }\n",
       "\n",
       "        div.ipyplot-content-div-8Vjpyao8RmNXCYa2zDDVRQ {\n",
       "            width: 500px;\n",
       "            background: white;\n",
       "            display: inline-block;\n",
       "            vertical-align: top;\n",
       "            text-align: center;\n",
       "            position: relative;\n",
       "            border: 2px solid #ddd;\n",
       "            top: 0;\n",
       "            left: 0;\n",
       "        }\n",
       "\n",
       "        div.ipyplot-content-div-8Vjpyao8RmNXCYa2zDDVRQ span.ipyplot-img-close {\n",
       "            display: none;\n",
       "        }\n",
       "\n",
       "        div.ipyplot-content-div-8Vjpyao8RmNXCYa2zDDVRQ span {\n",
       "            width: 100%;\n",
       "            height: 100%;\n",
       "            position: absolute;\n",
       "            top: 0;\n",
       "            left: 0;\n",
       "        }\n",
       "\n",
       "        div.ipyplot-content-div-8Vjpyao8RmNXCYa2zDDVRQ img {\n",
       "            width: 500px;\n",
       "        }\n",
       "\n",
       "        div.ipyplot-content-div-8Vjpyao8RmNXCYa2zDDVRQ span.ipyplot-img-close:hover {\n",
       "            cursor: zoom-out;\n",
       "        }\n",
       "        div.ipyplot-content-div-8Vjpyao8RmNXCYa2zDDVRQ span.ipyplot-img-expand:hover {\n",
       "            cursor: zoom-in;\n",
       "        }\n",
       "\n",
       "        div[id^=ipyplot-content-div-8Vjpyao8RmNXCYa2zDDVRQ]:target {\n",
       "            transform: scale(2.5);\n",
       "            transform-origin: left top;\n",
       "            z-index: 5000;\n",
       "            top: 0;\n",
       "            left: 0;\n",
       "            position: absolute;\n",
       "        }\n",
       "\n",
       "        div[id^=ipyplot-content-div-8Vjpyao8RmNXCYa2zDDVRQ]:target span.ipyplot-img-close {\n",
       "            display: block;\n",
       "        }\n",
       "\n",
       "        div[id^=ipyplot-content-div-8Vjpyao8RmNXCYa2zDDVRQ]:target span.ipyplot-img-expand {\n",
       "            display: none;\n",
       "        }\n",
       "        </style>\n",
       "    <div id=\"ipyplot-imgs-container-div-8Vjpyao8RmNXCYa2zDDVRQ\">\n",
       "    <div class=\"ipyplot-placeholder-div-8Vjpyao8RmNXCYa2zDDVRQ\">\n",
       "        <div id=\"ipyplot-content-div-8Vjpyao8RmNXCYa2zDDVRQ-YZsnq7FPuZUPAfyuTYLu7L\" class=\"ipyplot-content-div-8Vjpyao8RmNXCYa2zDDVRQ\">\n",
       "            <h4 style=\"font-size: 12px; word-wrap: break-word;\">By Schedule</h4>\n",
       "            <img src=\"images/res5.png\"/>\n",
       "            <a href=\"#!\">\n",
       "                <span class=\"ipyplot-img-close\"/>\n",
       "            </a>\n",
       "            <a href=\"#ipyplot-content-div-8Vjpyao8RmNXCYa2zDDVRQ-YZsnq7FPuZUPAfyuTYLu7L\">\n",
       "                <span class=\"ipyplot-img-expand\"/>\n",
       "            </a>\n",
       "        </div>\n",
       "    </div>\n",
       "    \n",
       "    <div class=\"ipyplot-placeholder-div-8Vjpyao8RmNXCYa2zDDVRQ\">\n",
       "        <div id=\"ipyplot-content-div-8Vjpyao8RmNXCYa2zDDVRQ-JLyKHMYEd3QGwMwP5DT59d\" class=\"ipyplot-content-div-8Vjpyao8RmNXCYa2zDDVRQ\">\n",
       "            <h4 style=\"font-size: 12px; word-wrap: break-word;\">By Proxy Threshold</h4>\n",
       "            <img src=\"images/res6.png\"/>\n",
       "            <a href=\"#!\">\n",
       "                <span class=\"ipyplot-img-close\"/>\n",
       "            </a>\n",
       "            <a href=\"#ipyplot-content-div-8Vjpyao8RmNXCYa2zDDVRQ-JLyKHMYEd3QGwMwP5DT59d\">\n",
       "                <span class=\"ipyplot-img-expand\"/>\n",
       "            </a>\n",
       "        </div>\n",
       "    </div>\n",
       "    \n",
       "    <div class=\"ipyplot-placeholder-div-8Vjpyao8RmNXCYa2zDDVRQ\">\n",
       "        <div id=\"ipyplot-content-div-8Vjpyao8RmNXCYa2zDDVRQ-c5gnMMuD5axjdJm8iGKbip\" class=\"ipyplot-content-div-8Vjpyao8RmNXCYa2zDDVRQ\">\n",
       "            <h4 style=\"font-size: 12px; word-wrap: break-word;\">By Proxy Image Weight</h4>\n",
       "            <img src=\"images/res7.png\"/>\n",
       "            <a href=\"#!\">\n",
       "                <span class=\"ipyplot-img-close\"/>\n",
       "            </a>\n",
       "            <a href=\"#ipyplot-content-div-8Vjpyao8RmNXCYa2zDDVRQ-c5gnMMuD5axjdJm8iGKbip\">\n",
       "                <span class=\"ipyplot-img-expand\"/>\n",
       "            </a>\n",
       "        </div>\n",
       "    </div>\n",
       "    \n",
       "    <div class=\"ipyplot-placeholder-div-8Vjpyao8RmNXCYa2zDDVRQ\">\n",
       "        <div id=\"ipyplot-content-div-8Vjpyao8RmNXCYa2zDDVRQ-8y4XGbqMZCbsE6noFjU9MT\" class=\"ipyplot-content-div-8Vjpyao8RmNXCYa2zDDVRQ\">\n",
       "            <h4 style=\"font-size: 12px; word-wrap: break-word;\">By Proxy Image Subset</h4>\n",
       "            <img src=\"images/res8.png\"/>\n",
       "            <a href=\"#!\">\n",
       "                <span class=\"ipyplot-img-close\"/>\n",
       "            </a>\n",
       "            <a href=\"#ipyplot-content-div-8Vjpyao8RmNXCYa2zDDVRQ-8y4XGbqMZCbsE6noFjU9MT\">\n",
       "                <span class=\"ipyplot-img-expand\"/>\n",
       "            </a>\n",
       "        </div>\n",
       "    </div>\n",
       "    </div>"
      ],
      "text/plain": [
       "<IPython.core.display.HTML object>"
      ]
     },
     "metadata": {},
     "output_type": "display_data"
    }
   ],
   "source": [
    "grid(ims, lbls)"
   ]
  },
  {
   "cell_type": "markdown",
   "id": "0cfc3219",
   "metadata": {
    "slideshow": {
     "slide_type": "slide"
    }
   },
   "source": [
    "## By Explainability"
   ]
  },
  {
   "cell_type": "code",
   "execution_count": 50,
   "id": "0d5f0b61",
   "metadata": {
    "slideshow": {
     "slide_type": "skip"
    }
   },
   "outputs": [],
   "source": [
    "ims = [\"./images/expl2.png\", \"./images/expl3.png\"]"
   ]
  },
  {
   "cell_type": "code",
   "execution_count": 52,
   "id": "edc93cc7",
   "metadata": {
    "scrolled": false,
    "slideshow": {
     "slide_type": "subslide"
    }
   },
   "outputs": [
    {
     "data": {
      "text/html": [
       "\n",
       "    <style>\n",
       "        #ipyplot-html-viewer-toggle-TFmHuTcSpz5EM3swL7TdFf {\n",
       "            position: absolute;\n",
       "            top: -9999px;\n",
       "            left: -9999px;\n",
       "            visibility: hidden;\n",
       "        }\n",
       "\n",
       "        #ipyplot-html-viewer-label-TFmHuTcSpz5EM3swL7TdFf { \n",
       "            position: relative;\n",
       "            display: inline-block;\n",
       "            cursor: pointer;\n",
       "            color: blue;\n",
       "            text-decoration: underline;\n",
       "        }\n",
       "\n",
       "        #ipyplot-html-viewer-textarea-TFmHuTcSpz5EM3swL7TdFf {\n",
       "            background: lightgrey;\n",
       "            width: 100%;\n",
       "            height: 0px;\n",
       "            display: none;\n",
       "        }\n",
       "\n",
       "        #ipyplot-html-viewer-toggle-TFmHuTcSpz5EM3swL7TdFf:checked ~ #ipyplot-html-viewer-textarea-TFmHuTcSpz5EM3swL7TdFf {\n",
       "            height: 200px;\n",
       "            display: block;\n",
       "        }\n",
       "\n",
       "        #ipyplot-html-viewer-toggle-TFmHuTcSpz5EM3swL7TdFf:checked + #ipyplot-html-viewer-label-TFmHuTcSpz5EM3swL7TdFf:after {\n",
       "            content: \"hide html\";\n",
       "            position: absolute;\n",
       "            top: 0;\n",
       "            left: 0;\n",
       "            right: 0;\n",
       "            bottom: 0;\n",
       "            background: white;\n",
       "            cursor: pointer;\n",
       "            color: blue;\n",
       "            text-decoration: underline;\n",
       "        }\n",
       "    </style>\n",
       "    <div>\n",
       "        <input type=\"checkbox\" id=\"ipyplot-html-viewer-toggle-TFmHuTcSpz5EM3swL7TdFf\">\n",
       "        <label id=\"ipyplot-html-viewer-label-TFmHuTcSpz5EM3swL7TdFf\" for=\"ipyplot-html-viewer-toggle-TFmHuTcSpz5EM3swL7TdFf\">show html</label>\n",
       "        <textarea id=\"ipyplot-html-viewer-textarea-TFmHuTcSpz5EM3swL7TdFf\" readonly>\n",
       "            \n",
       "        <style>\n",
       "        #ipyplot-imgs-container-div-FfmFmDd8r7AADpx76XmL34 {\n",
       "            width: 100%;\n",
       "            height: 100%;\n",
       "            margin: 0%;\n",
       "            overflow: auto;\n",
       "            position: relative;\n",
       "            overflow-y: scroll;\n",
       "        }\n",
       "\n",
       "        div.ipyplot-placeholder-div-FfmFmDd8r7AADpx76XmL34 {\n",
       "            width: 1000px;\n",
       "            display: inline-block;\n",
       "            margin: 3px;\n",
       "            position: relative;\n",
       "        }\n",
       "\n",
       "        div.ipyplot-content-div-FfmFmDd8r7AADpx76XmL34 {\n",
       "            width: 1000px;\n",
       "            background: white;\n",
       "            display: inline-block;\n",
       "            vertical-align: top;\n",
       "            text-align: center;\n",
       "            position: relative;\n",
       "            border: 2px solid #ddd;\n",
       "            top: 0;\n",
       "            left: 0;\n",
       "        }\n",
       "\n",
       "        div.ipyplot-content-div-FfmFmDd8r7AADpx76XmL34 span.ipyplot-img-close {\n",
       "            display: none;\n",
       "        }\n",
       "\n",
       "        div.ipyplot-content-div-FfmFmDd8r7AADpx76XmL34 span {\n",
       "            width: 100%;\n",
       "            height: 100%;\n",
       "            position: absolute;\n",
       "            top: 0;\n",
       "            left: 0;\n",
       "        }\n",
       "\n",
       "        div.ipyplot-content-div-FfmFmDd8r7AADpx76XmL34 img {\n",
       "            width: 1000px;\n",
       "        }\n",
       "\n",
       "        div.ipyplot-content-div-FfmFmDd8r7AADpx76XmL34 span.ipyplot-img-close:hover {\n",
       "            cursor: zoom-out;\n",
       "        }\n",
       "        div.ipyplot-content-div-FfmFmDd8r7AADpx76XmL34 span.ipyplot-img-expand:hover {\n",
       "            cursor: zoom-in;\n",
       "        }\n",
       "\n",
       "        div[id^=ipyplot-content-div-FfmFmDd8r7AADpx76XmL34]:target {\n",
       "            transform: scale(2.5);\n",
       "            transform-origin: left top;\n",
       "            z-index: 5000;\n",
       "            top: 0;\n",
       "            left: 0;\n",
       "            position: absolute;\n",
       "        }\n",
       "\n",
       "        div[id^=ipyplot-content-div-FfmFmDd8r7AADpx76XmL34]:target span.ipyplot-img-close {\n",
       "            display: block;\n",
       "        }\n",
       "\n",
       "        div[id^=ipyplot-content-div-FfmFmDd8r7AADpx76XmL34]:target span.ipyplot-img-expand {\n",
       "            display: none;\n",
       "        }\n",
       "        </style>\n",
       "    <div id=\"ipyplot-imgs-container-div-FfmFmDd8r7AADpx76XmL34\">\n",
       "    <div class=\"ipyplot-placeholder-div-FfmFmDd8r7AADpx76XmL34\">\n",
       "        <div id=\"ipyplot-content-div-FfmFmDd8r7AADpx76XmL34-iDL2vo5HtAe4cgDaEVumzv\" class=\"ipyplot-content-div-FfmFmDd8r7AADpx76XmL34\">\n",
       "            <h4 style=\"font-size: 12px; word-wrap: break-word;\">0</h4>\n",
       "            <img src=\"images/expl2.png\"/>\n",
       "            <a href=\"#!\">\n",
       "                <span class=\"ipyplot-img-close\"/>\n",
       "            </a>\n",
       "            <a href=\"#ipyplot-content-div-FfmFmDd8r7AADpx76XmL34-iDL2vo5HtAe4cgDaEVumzv\">\n",
       "                <span class=\"ipyplot-img-expand\"/>\n",
       "            </a>\n",
       "        </div>\n",
       "    </div>\n",
       "    \n",
       "    <div class=\"ipyplot-placeholder-div-FfmFmDd8r7AADpx76XmL34\">\n",
       "        <div id=\"ipyplot-content-div-FfmFmDd8r7AADpx76XmL34-G4uvangDdFwRr86JmBpEnV\" class=\"ipyplot-content-div-FfmFmDd8r7AADpx76XmL34\">\n",
       "            <h4 style=\"font-size: 12px; word-wrap: break-word;\">1</h4>\n",
       "            <img src=\"images/expl3.png\"/>\n",
       "            <a href=\"#!\">\n",
       "                <span class=\"ipyplot-img-close\"/>\n",
       "            </a>\n",
       "            <a href=\"#ipyplot-content-div-FfmFmDd8r7AADpx76XmL34-G4uvangDdFwRr86JmBpEnV\">\n",
       "                <span class=\"ipyplot-img-expand\"/>\n",
       "            </a>\n",
       "        </div>\n",
       "    </div>\n",
       "    </div>\n",
       "        </textarea>\n",
       "    </div>\n",
       "    "
      ],
      "text/plain": [
       "<IPython.core.display.HTML object>"
      ]
     },
     "metadata": {},
     "output_type": "display_data"
    },
    {
     "data": {
      "text/html": [
       "\n",
       "        <style>\n",
       "        #ipyplot-imgs-container-div-FfmFmDd8r7AADpx76XmL34 {\n",
       "            width: 100%;\n",
       "            height: 100%;\n",
       "            margin: 0%;\n",
       "            overflow: auto;\n",
       "            position: relative;\n",
       "            overflow-y: scroll;\n",
       "        }\n",
       "\n",
       "        div.ipyplot-placeholder-div-FfmFmDd8r7AADpx76XmL34 {\n",
       "            width: 1000px;\n",
       "            display: inline-block;\n",
       "            margin: 3px;\n",
       "            position: relative;\n",
       "        }\n",
       "\n",
       "        div.ipyplot-content-div-FfmFmDd8r7AADpx76XmL34 {\n",
       "            width: 1000px;\n",
       "            background: white;\n",
       "            display: inline-block;\n",
       "            vertical-align: top;\n",
       "            text-align: center;\n",
       "            position: relative;\n",
       "            border: 2px solid #ddd;\n",
       "            top: 0;\n",
       "            left: 0;\n",
       "        }\n",
       "\n",
       "        div.ipyplot-content-div-FfmFmDd8r7AADpx76XmL34 span.ipyplot-img-close {\n",
       "            display: none;\n",
       "        }\n",
       "\n",
       "        div.ipyplot-content-div-FfmFmDd8r7AADpx76XmL34 span {\n",
       "            width: 100%;\n",
       "            height: 100%;\n",
       "            position: absolute;\n",
       "            top: 0;\n",
       "            left: 0;\n",
       "        }\n",
       "\n",
       "        div.ipyplot-content-div-FfmFmDd8r7AADpx76XmL34 img {\n",
       "            width: 1000px;\n",
       "        }\n",
       "\n",
       "        div.ipyplot-content-div-FfmFmDd8r7AADpx76XmL34 span.ipyplot-img-close:hover {\n",
       "            cursor: zoom-out;\n",
       "        }\n",
       "        div.ipyplot-content-div-FfmFmDd8r7AADpx76XmL34 span.ipyplot-img-expand:hover {\n",
       "            cursor: zoom-in;\n",
       "        }\n",
       "\n",
       "        div[id^=ipyplot-content-div-FfmFmDd8r7AADpx76XmL34]:target {\n",
       "            transform: scale(2.5);\n",
       "            transform-origin: left top;\n",
       "            z-index: 5000;\n",
       "            top: 0;\n",
       "            left: 0;\n",
       "            position: absolute;\n",
       "        }\n",
       "\n",
       "        div[id^=ipyplot-content-div-FfmFmDd8r7AADpx76XmL34]:target span.ipyplot-img-close {\n",
       "            display: block;\n",
       "        }\n",
       "\n",
       "        div[id^=ipyplot-content-div-FfmFmDd8r7AADpx76XmL34]:target span.ipyplot-img-expand {\n",
       "            display: none;\n",
       "        }\n",
       "        </style>\n",
       "    <div id=\"ipyplot-imgs-container-div-FfmFmDd8r7AADpx76XmL34\">\n",
       "    <div class=\"ipyplot-placeholder-div-FfmFmDd8r7AADpx76XmL34\">\n",
       "        <div id=\"ipyplot-content-div-FfmFmDd8r7AADpx76XmL34-iDL2vo5HtAe4cgDaEVumzv\" class=\"ipyplot-content-div-FfmFmDd8r7AADpx76XmL34\">\n",
       "            <h4 style=\"font-size: 12px; word-wrap: break-word;\">0</h4>\n",
       "            <img src=\"images/expl2.png\"/>\n",
       "            <a href=\"#!\">\n",
       "                <span class=\"ipyplot-img-close\"/>\n",
       "            </a>\n",
       "            <a href=\"#ipyplot-content-div-FfmFmDd8r7AADpx76XmL34-iDL2vo5HtAe4cgDaEVumzv\">\n",
       "                <span class=\"ipyplot-img-expand\"/>\n",
       "            </a>\n",
       "        </div>\n",
       "    </div>\n",
       "    \n",
       "    <div class=\"ipyplot-placeholder-div-FfmFmDd8r7AADpx76XmL34\">\n",
       "        <div id=\"ipyplot-content-div-FfmFmDd8r7AADpx76XmL34-G4uvangDdFwRr86JmBpEnV\" class=\"ipyplot-content-div-FfmFmDd8r7AADpx76XmL34\">\n",
       "            <h4 style=\"font-size: 12px; word-wrap: break-word;\">1</h4>\n",
       "            <img src=\"images/expl3.png\"/>\n",
       "            <a href=\"#!\">\n",
       "                <span class=\"ipyplot-img-close\"/>\n",
       "            </a>\n",
       "            <a href=\"#ipyplot-content-div-FfmFmDd8r7AADpx76XmL34-G4uvangDdFwRr86JmBpEnV\">\n",
       "                <span class=\"ipyplot-img-expand\"/>\n",
       "            </a>\n",
       "        </div>\n",
       "    </div>\n",
       "    </div>"
      ],
      "text/plain": [
       "<IPython.core.display.HTML object>"
      ]
     },
     "metadata": {},
     "output_type": "display_data"
    }
   ],
   "source": [
    "grid(ims, img_width=1000)"
   ]
  },
  {
   "cell_type": "markdown",
   "id": "02df7687",
   "metadata": {
    "slideshow": {
     "slide_type": "slide"
    }
   },
   "source": [
    "# Discussion\n",
    "- Improved performance\n",
    "- Explainability\n",
    "- When to apply Proxy Attention? : Easy vs Hard Datasets\n",
    "- Optional hyperparameters : Proxy Weight and Proxy Threshold\n",
    "- Scheduling the Proxy Step\n",
    "- Performance across models"
   ]
  },
  {
   "cell_type": "markdown",
   "id": "d30ef6ed",
   "metadata": {
    "slideshow": {
     "slide_type": "slide"
    }
   },
   "source": [
    "# Limitations\n",
    "\n",
    "- Hyperparameters\n",
    "- Attention\n",
    "- Better Scheduling"
   ]
  },
  {
   "cell_type": "markdown",
   "id": "9c67edf1",
   "metadata": {
    "slideshow": {
     "slide_type": "slide"
    }
   },
   "source": [
    "# Future Work\n",
    "\n",
    "- More Schedules\n",
    "- More XAI methods\n",
    "- Smoothing Attention Maps\n",
    "- Better Attention Maps for ViT"
   ]
  },
  {
   "cell_type": "markdown",
   "id": "d0341855",
   "metadata": {
    "slideshow": {
     "slide_type": "slide"
    }
   },
   "source": [
    "# Q&A\n",
    "<img src=\"./images/qs.jpg\" alt= “” width=\"900px\">"
   ]
  },
  {
   "cell_type": "markdown",
   "id": "5c444ca4-1928-4f9d-937d-5e863e380ef2",
   "metadata": {
    "slideshow": {
     "slide_type": "slide"
    },
    "tags": []
   },
   "source": [
    "# References\n",
    "- https://lih-verma.medium.com/query-key-and-value-in-attention-mechanism-3c3c6a2d4085\n",
    "- @dosovitskiyImageWorth16x162021\n",
    "- https://epochai.org/blog/trends-in-training-dataset-sizes"
   ]
  }
 ],
 "metadata": {
  "celltoolbar": "Slideshow",
  "kernelspec": {
   "display_name": "Python 3 (ipykernel)",
   "language": "python",
   "name": "python3"
  },
  "language_info": {
   "codemirror_mode": {
    "name": "ipython",
    "version": 3
   },
   "file_extension": ".py",
   "mimetype": "text/x-python",
   "name": "python",
   "nbconvert_exporter": "python",
   "pygments_lexer": "ipython3",
   "version": "3.10.10"
  },
  "rise": {
   "async_timeout": 250,
   "auto_select": "code",
   "auto_select_timeout": 450,
   "autolaunch": false,
   "backimage": false,
   "center": true,
   "controls": true,
   "enable_chalkboard": true,
   "footer": "",
   "header": "",
   "height": "100%",
   "history": true,
   "overlay": "",
   "progress": true,
   "restore_timeout": 500,
   "scroll": true,
   "show_buttons_on_startup": true,
   "slideNumber": true,
   "start_slideshow_at": "selected",
   "theme": "simple",
   "transition": "fade",
   "width": "100%"
  },
  "toc": {
   "base_numbering": 1,
   "nav_menu": {},
   "number_sections": true,
   "sideBar": true,
   "skip_h1_title": false,
   "title_cell": "Table of Contents",
   "title_sidebar": "Contents",
   "toc_cell": false,
   "toc_position": {
    "height": "calc(100% - 180px)",
    "left": "10px",
    "top": "150px",
    "width": "326.797px"
   },
   "toc_section_display": true,
   "toc_window_display": false
  }
 },
 "nbformat": 4,
 "nbformat_minor": 5
}
