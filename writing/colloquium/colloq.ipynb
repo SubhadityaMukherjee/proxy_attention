{
 "cells": [
  {
   "cell_type": "code",
   "execution_count": 16,
   "id": "8ae5124e-8a2c-4112-bed9-b6df06593e51",
   "metadata": {
    "slideshow": {
     "slide_type": "skip"
    },
    "tags": []
   },
   "outputs": [],
   "source": [
    "import matplotlib.pyplot as plt\n",
    "import math\n",
    "\n",
    "from IPython.display import IFrame\n",
    "import ipyplot"
   ]
  },
  {
   "cell_type": "code",
   "execution_count": 17,
   "id": "f4f28b3e-654c-46b2-a279-66d3596b8c85",
   "metadata": {
    "scrolled": true,
    "slideshow": {
     "slide_type": "skip"
    },
    "tags": []
   },
   "outputs": [
    {
     "name": "stdout",
     "output_type": "stream",
     "text": [
      "\n"
     ]
    }
   ],
   "source": [
    "final_string = \"\"\n",
    "# for img in input(\"paste files \").split(\" \"):\n",
    "    # if \"pdf\" in img:\n",
    "    #     final_string += f'IFrame(\"{img}\", width = \"1152px\", height = \"580px\")\\n\\n'\n",
    "    # else:\n",
    "#     final_string += f'<img src=\"./images/{img}\" alt= “” width=\"1000px\">\\n\\n'\n",
    "print(final_string)"
   ]
  },
  {
   "cell_type": "code",
   "execution_count": 18,
   "id": "e3f45a42",
   "metadata": {
    "slideshow": {
     "slide_type": "skip"
    }
   },
   "outputs": [],
   "source": [
    "def grid(ims, lbls = None, img_width=500, show_url = False):\n",
    "    if lbls is not None:\n",
    "        ipyplot.plot_images(ims, labels = lbls,img_width=img_width,show_url=show_url)\n",
    "    else:\n",
    "        ipyplot.plot_images(ims,img_width=img_width,show_url=show_url)"
   ]
  },
  {
   "cell_type": "markdown",
   "id": "c6a78e2a",
   "metadata": {
    "slideshow": {
     "slide_type": "slide"
    },
    "tags": []
   },
   "source": [
    "# Masters Thesis Colloquium\n",
    "Proxy Attention : Approximating Attention in CNNs using Gradient Based Techniques\n",
    "\n",
    "Subhaditya Mukherjee\n",
    "\n",
    "Supervisors: S.H. Mohades Kasaei and Matias Valdenegro"
   ]
  },
  {
   "cell_type": "markdown",
   "id": "37e0f634",
   "metadata": {
    "slideshow": {
     "slide_type": "subslide"
    }
   },
   "source": [
    "## Special Thanks :)\n",
    "\n",
    "IRL Lab\n",
    "\n",
    "Georgios, Yongliang, A. Li"
   ]
  },
  {
   "cell_type": "markdown",
   "id": "bffdc8ed",
   "metadata": {
    "slideshow": {
     "slide_type": "slide"
    },
    "tags": []
   },
   "source": [
    "## Image Classification"
   ]
  },
  {
   "cell_type": "code",
   "execution_count": 19,
   "id": "2ed5854c",
   "metadata": {
    "slideshow": {
     "slide_type": "skip"
    }
   },
   "outputs": [],
   "source": [
    "ims = [\"./images/cmuff.jpg\",\"./images/class2.png\",\"./images/class3.jpg\",\"./images/class4.png\"]\n",
    "lbls = [\"Dog vs Muffin\", \"Pulmonary Nodules; Lung Cancer\", \"Leaf Disease\", \"Aerial Landscape\"]"
   ]
  },
  {
   "cell_type": "code",
   "execution_count": 20,
   "id": "231798de",
   "metadata": {
    "scrolled": false,
    "slideshow": {
     "slide_type": "subslide"
    }
   },
   "outputs": [
    {
     "data": {
      "text/html": [
       "\n",
       "    <style>\n",
       "        #ipyplot-html-viewer-toggle-3hstfUzG2AEYFfEJJfaEnY {\n",
       "            position: absolute;\n",
       "            top: -9999px;\n",
       "            left: -9999px;\n",
       "            visibility: hidden;\n",
       "        }\n",
       "\n",
       "        #ipyplot-html-viewer-label-3hstfUzG2AEYFfEJJfaEnY { \n",
       "            position: relative;\n",
       "            display: inline-block;\n",
       "            cursor: pointer;\n",
       "            color: blue;\n",
       "            text-decoration: underline;\n",
       "        }\n",
       "\n",
       "        #ipyplot-html-viewer-textarea-3hstfUzG2AEYFfEJJfaEnY {\n",
       "            background: lightgrey;\n",
       "            width: 100%;\n",
       "            height: 0px;\n",
       "            display: none;\n",
       "        }\n",
       "\n",
       "        #ipyplot-html-viewer-toggle-3hstfUzG2AEYFfEJJfaEnY:checked ~ #ipyplot-html-viewer-textarea-3hstfUzG2AEYFfEJJfaEnY {\n",
       "            height: 200px;\n",
       "            display: block;\n",
       "        }\n",
       "\n",
       "        #ipyplot-html-viewer-toggle-3hstfUzG2AEYFfEJJfaEnY:checked + #ipyplot-html-viewer-label-3hstfUzG2AEYFfEJJfaEnY:after {\n",
       "            content: \"hide html\";\n",
       "            position: absolute;\n",
       "            top: 0;\n",
       "            left: 0;\n",
       "            right: 0;\n",
       "            bottom: 0;\n",
       "            background: white;\n",
       "            cursor: pointer;\n",
       "            color: blue;\n",
       "            text-decoration: underline;\n",
       "        }\n",
       "    </style>\n",
       "    <div>\n",
       "        <input type=\"checkbox\" id=\"ipyplot-html-viewer-toggle-3hstfUzG2AEYFfEJJfaEnY\">\n",
       "        <label id=\"ipyplot-html-viewer-label-3hstfUzG2AEYFfEJJfaEnY\" for=\"ipyplot-html-viewer-toggle-3hstfUzG2AEYFfEJJfaEnY\">show html</label>\n",
       "        <textarea id=\"ipyplot-html-viewer-textarea-3hstfUzG2AEYFfEJJfaEnY\" readonly>\n",
       "            \n",
       "        <style>\n",
       "        #ipyplot-imgs-container-div-QmXa8jH7Ksjc3meBjbZ8Uw {\n",
       "            width: 100%;\n",
       "            height: 100%;\n",
       "            margin: 0%;\n",
       "            overflow: auto;\n",
       "            position: relative;\n",
       "            overflow-y: scroll;\n",
       "        }\n",
       "\n",
       "        div.ipyplot-placeholder-div-QmXa8jH7Ksjc3meBjbZ8Uw {\n",
       "            width: 500px;\n",
       "            display: inline-block;\n",
       "            margin: 3px;\n",
       "            position: relative;\n",
       "        }\n",
       "\n",
       "        div.ipyplot-content-div-QmXa8jH7Ksjc3meBjbZ8Uw {\n",
       "            width: 500px;\n",
       "            background: white;\n",
       "            display: inline-block;\n",
       "            vertical-align: top;\n",
       "            text-align: center;\n",
       "            position: relative;\n",
       "            border: 2px solid #ddd;\n",
       "            top: 0;\n",
       "            left: 0;\n",
       "        }\n",
       "\n",
       "        div.ipyplot-content-div-QmXa8jH7Ksjc3meBjbZ8Uw span.ipyplot-img-close {\n",
       "            display: none;\n",
       "        }\n",
       "\n",
       "        div.ipyplot-content-div-QmXa8jH7Ksjc3meBjbZ8Uw span {\n",
       "            width: 100%;\n",
       "            height: 100%;\n",
       "            position: absolute;\n",
       "            top: 0;\n",
       "            left: 0;\n",
       "        }\n",
       "\n",
       "        div.ipyplot-content-div-QmXa8jH7Ksjc3meBjbZ8Uw img {\n",
       "            width: 500px;\n",
       "        }\n",
       "\n",
       "        div.ipyplot-content-div-QmXa8jH7Ksjc3meBjbZ8Uw span.ipyplot-img-close:hover {\n",
       "            cursor: zoom-out;\n",
       "        }\n",
       "        div.ipyplot-content-div-QmXa8jH7Ksjc3meBjbZ8Uw span.ipyplot-img-expand:hover {\n",
       "            cursor: zoom-in;\n",
       "        }\n",
       "\n",
       "        div[id^=ipyplot-content-div-QmXa8jH7Ksjc3meBjbZ8Uw]:target {\n",
       "            transform: scale(2.5);\n",
       "            transform-origin: left top;\n",
       "            z-index: 5000;\n",
       "            top: 0;\n",
       "            left: 0;\n",
       "            position: absolute;\n",
       "        }\n",
       "\n",
       "        div[id^=ipyplot-content-div-QmXa8jH7Ksjc3meBjbZ8Uw]:target span.ipyplot-img-close {\n",
       "            display: block;\n",
       "        }\n",
       "\n",
       "        div[id^=ipyplot-content-div-QmXa8jH7Ksjc3meBjbZ8Uw]:target span.ipyplot-img-expand {\n",
       "            display: none;\n",
       "        }\n",
       "        </style>\n",
       "    <div id=\"ipyplot-imgs-container-div-QmXa8jH7Ksjc3meBjbZ8Uw\">\n",
       "    <div class=\"ipyplot-placeholder-div-QmXa8jH7Ksjc3meBjbZ8Uw\">\n",
       "        <div id=\"ipyplot-content-div-QmXa8jH7Ksjc3meBjbZ8Uw-nann64v93XHaN3RBFBThsZ\" class=\"ipyplot-content-div-QmXa8jH7Ksjc3meBjbZ8Uw\">\n",
       "            <h4 style=\"font-size: 12px; word-wrap: break-word;\">Dog vs Muffin</h4>\n",
       "            <img src=\"images/cmuff.jpg\"/>\n",
       "            <a href=\"#!\">\n",
       "                <span class=\"ipyplot-img-close\"/>\n",
       "            </a>\n",
       "            <a href=\"#ipyplot-content-div-QmXa8jH7Ksjc3meBjbZ8Uw-nann64v93XHaN3RBFBThsZ\">\n",
       "                <span class=\"ipyplot-img-expand\"/>\n",
       "            </a>\n",
       "        </div>\n",
       "    </div>\n",
       "    \n",
       "    <div class=\"ipyplot-placeholder-div-QmXa8jH7Ksjc3meBjbZ8Uw\">\n",
       "        <div id=\"ipyplot-content-div-QmXa8jH7Ksjc3meBjbZ8Uw-Qf9gtEdsTBTBYrpGybkKy7\" class=\"ipyplot-content-div-QmXa8jH7Ksjc3meBjbZ8Uw\">\n",
       "            <h4 style=\"font-size: 12px; word-wrap: break-word;\">Pulmonary Nodules; Lung Cancer</h4>\n",
       "            <img src=\"images/class2.png\"/>\n",
       "            <a href=\"#!\">\n",
       "                <span class=\"ipyplot-img-close\"/>\n",
       "            </a>\n",
       "            <a href=\"#ipyplot-content-div-QmXa8jH7Ksjc3meBjbZ8Uw-Qf9gtEdsTBTBYrpGybkKy7\">\n",
       "                <span class=\"ipyplot-img-expand\"/>\n",
       "            </a>\n",
       "        </div>\n",
       "    </div>\n",
       "    \n",
       "    <div class=\"ipyplot-placeholder-div-QmXa8jH7Ksjc3meBjbZ8Uw\">\n",
       "        <div id=\"ipyplot-content-div-QmXa8jH7Ksjc3meBjbZ8Uw-89fwFKuQAs7PGvzverLfMB\" class=\"ipyplot-content-div-QmXa8jH7Ksjc3meBjbZ8Uw\">\n",
       "            <h4 style=\"font-size: 12px; word-wrap: break-word;\">Leaf Disease</h4>\n",
       "            <img src=\"images/class3.jpg\"/>\n",
       "            <a href=\"#!\">\n",
       "                <span class=\"ipyplot-img-close\"/>\n",
       "            </a>\n",
       "            <a href=\"#ipyplot-content-div-QmXa8jH7Ksjc3meBjbZ8Uw-89fwFKuQAs7PGvzverLfMB\">\n",
       "                <span class=\"ipyplot-img-expand\"/>\n",
       "            </a>\n",
       "        </div>\n",
       "    </div>\n",
       "    \n",
       "    <div class=\"ipyplot-placeholder-div-QmXa8jH7Ksjc3meBjbZ8Uw\">\n",
       "        <div id=\"ipyplot-content-div-QmXa8jH7Ksjc3meBjbZ8Uw-d9sCbta9WkBCC23eKUhh8R\" class=\"ipyplot-content-div-QmXa8jH7Ksjc3meBjbZ8Uw\">\n",
       "            <h4 style=\"font-size: 12px; word-wrap: break-word;\">Aerial Landscape</h4>\n",
       "            <img src=\"images/class4.png\"/>\n",
       "            <a href=\"#!\">\n",
       "                <span class=\"ipyplot-img-close\"/>\n",
       "            </a>\n",
       "            <a href=\"#ipyplot-content-div-QmXa8jH7Ksjc3meBjbZ8Uw-d9sCbta9WkBCC23eKUhh8R\">\n",
       "                <span class=\"ipyplot-img-expand\"/>\n",
       "            </a>\n",
       "        </div>\n",
       "    </div>\n",
       "    </div>\n",
       "        </textarea>\n",
       "    </div>\n",
       "    "
      ],
      "text/plain": [
       "<IPython.core.display.HTML object>"
      ]
     },
     "metadata": {},
     "output_type": "display_data"
    },
    {
     "data": {
      "text/html": [
       "\n",
       "        <style>\n",
       "        #ipyplot-imgs-container-div-QmXa8jH7Ksjc3meBjbZ8Uw {\n",
       "            width: 100%;\n",
       "            height: 100%;\n",
       "            margin: 0%;\n",
       "            overflow: auto;\n",
       "            position: relative;\n",
       "            overflow-y: scroll;\n",
       "        }\n",
       "\n",
       "        div.ipyplot-placeholder-div-QmXa8jH7Ksjc3meBjbZ8Uw {\n",
       "            width: 500px;\n",
       "            display: inline-block;\n",
       "            margin: 3px;\n",
       "            position: relative;\n",
       "        }\n",
       "\n",
       "        div.ipyplot-content-div-QmXa8jH7Ksjc3meBjbZ8Uw {\n",
       "            width: 500px;\n",
       "            background: white;\n",
       "            display: inline-block;\n",
       "            vertical-align: top;\n",
       "            text-align: center;\n",
       "            position: relative;\n",
       "            border: 2px solid #ddd;\n",
       "            top: 0;\n",
       "            left: 0;\n",
       "        }\n",
       "\n",
       "        div.ipyplot-content-div-QmXa8jH7Ksjc3meBjbZ8Uw span.ipyplot-img-close {\n",
       "            display: none;\n",
       "        }\n",
       "\n",
       "        div.ipyplot-content-div-QmXa8jH7Ksjc3meBjbZ8Uw span {\n",
       "            width: 100%;\n",
       "            height: 100%;\n",
       "            position: absolute;\n",
       "            top: 0;\n",
       "            left: 0;\n",
       "        }\n",
       "\n",
       "        div.ipyplot-content-div-QmXa8jH7Ksjc3meBjbZ8Uw img {\n",
       "            width: 500px;\n",
       "        }\n",
       "\n",
       "        div.ipyplot-content-div-QmXa8jH7Ksjc3meBjbZ8Uw span.ipyplot-img-close:hover {\n",
       "            cursor: zoom-out;\n",
       "        }\n",
       "        div.ipyplot-content-div-QmXa8jH7Ksjc3meBjbZ8Uw span.ipyplot-img-expand:hover {\n",
       "            cursor: zoom-in;\n",
       "        }\n",
       "\n",
       "        div[id^=ipyplot-content-div-QmXa8jH7Ksjc3meBjbZ8Uw]:target {\n",
       "            transform: scale(2.5);\n",
       "            transform-origin: left top;\n",
       "            z-index: 5000;\n",
       "            top: 0;\n",
       "            left: 0;\n",
       "            position: absolute;\n",
       "        }\n",
       "\n",
       "        div[id^=ipyplot-content-div-QmXa8jH7Ksjc3meBjbZ8Uw]:target span.ipyplot-img-close {\n",
       "            display: block;\n",
       "        }\n",
       "\n",
       "        div[id^=ipyplot-content-div-QmXa8jH7Ksjc3meBjbZ8Uw]:target span.ipyplot-img-expand {\n",
       "            display: none;\n",
       "        }\n",
       "        </style>\n",
       "    <div id=\"ipyplot-imgs-container-div-QmXa8jH7Ksjc3meBjbZ8Uw\">\n",
       "    <div class=\"ipyplot-placeholder-div-QmXa8jH7Ksjc3meBjbZ8Uw\">\n",
       "        <div id=\"ipyplot-content-div-QmXa8jH7Ksjc3meBjbZ8Uw-nann64v93XHaN3RBFBThsZ\" class=\"ipyplot-content-div-QmXa8jH7Ksjc3meBjbZ8Uw\">\n",
       "            <h4 style=\"font-size: 12px; word-wrap: break-word;\">Dog vs Muffin</h4>\n",
       "            <img src=\"images/cmuff.jpg\"/>\n",
       "            <a href=\"#!\">\n",
       "                <span class=\"ipyplot-img-close\"/>\n",
       "            </a>\n",
       "            <a href=\"#ipyplot-content-div-QmXa8jH7Ksjc3meBjbZ8Uw-nann64v93XHaN3RBFBThsZ\">\n",
       "                <span class=\"ipyplot-img-expand\"/>\n",
       "            </a>\n",
       "        </div>\n",
       "    </div>\n",
       "    \n",
       "    <div class=\"ipyplot-placeholder-div-QmXa8jH7Ksjc3meBjbZ8Uw\">\n",
       "        <div id=\"ipyplot-content-div-QmXa8jH7Ksjc3meBjbZ8Uw-Qf9gtEdsTBTBYrpGybkKy7\" class=\"ipyplot-content-div-QmXa8jH7Ksjc3meBjbZ8Uw\">\n",
       "            <h4 style=\"font-size: 12px; word-wrap: break-word;\">Pulmonary Nodules; Lung Cancer</h4>\n",
       "            <img src=\"images/class2.png\"/>\n",
       "            <a href=\"#!\">\n",
       "                <span class=\"ipyplot-img-close\"/>\n",
       "            </a>\n",
       "            <a href=\"#ipyplot-content-div-QmXa8jH7Ksjc3meBjbZ8Uw-Qf9gtEdsTBTBYrpGybkKy7\">\n",
       "                <span class=\"ipyplot-img-expand\"/>\n",
       "            </a>\n",
       "        </div>\n",
       "    </div>\n",
       "    \n",
       "    <div class=\"ipyplot-placeholder-div-QmXa8jH7Ksjc3meBjbZ8Uw\">\n",
       "        <div id=\"ipyplot-content-div-QmXa8jH7Ksjc3meBjbZ8Uw-89fwFKuQAs7PGvzverLfMB\" class=\"ipyplot-content-div-QmXa8jH7Ksjc3meBjbZ8Uw\">\n",
       "            <h4 style=\"font-size: 12px; word-wrap: break-word;\">Leaf Disease</h4>\n",
       "            <img src=\"images/class3.jpg\"/>\n",
       "            <a href=\"#!\">\n",
       "                <span class=\"ipyplot-img-close\"/>\n",
       "            </a>\n",
       "            <a href=\"#ipyplot-content-div-QmXa8jH7Ksjc3meBjbZ8Uw-89fwFKuQAs7PGvzverLfMB\">\n",
       "                <span class=\"ipyplot-img-expand\"/>\n",
       "            </a>\n",
       "        </div>\n",
       "    </div>\n",
       "    \n",
       "    <div class=\"ipyplot-placeholder-div-QmXa8jH7Ksjc3meBjbZ8Uw\">\n",
       "        <div id=\"ipyplot-content-div-QmXa8jH7Ksjc3meBjbZ8Uw-d9sCbta9WkBCC23eKUhh8R\" class=\"ipyplot-content-div-QmXa8jH7Ksjc3meBjbZ8Uw\">\n",
       "            <h4 style=\"font-size: 12px; word-wrap: break-word;\">Aerial Landscape</h4>\n",
       "            <img src=\"images/class4.png\"/>\n",
       "            <a href=\"#!\">\n",
       "                <span class=\"ipyplot-img-close\"/>\n",
       "            </a>\n",
       "            <a href=\"#ipyplot-content-div-QmXa8jH7Ksjc3meBjbZ8Uw-d9sCbta9WkBCC23eKUhh8R\">\n",
       "                <span class=\"ipyplot-img-expand\"/>\n",
       "            </a>\n",
       "        </div>\n",
       "    </div>\n",
       "    </div>"
      ],
      "text/plain": [
       "<IPython.core.display.HTML object>"
      ]
     },
     "metadata": {},
     "output_type": "display_data"
    }
   ],
   "source": [
    "grid(ims, lbls)"
   ]
  },
  {
   "cell_type": "markdown",
   "id": "f2d58698-14e5-4935-94b3-3f76aec19938",
   "metadata": {
    "slideshow": {
     "slide_type": "slide"
    },
    "tags": []
   },
   "source": [
    "## How?\n",
    "<img src=\"./images/nn.gif\" alt= “” width=\"500px\">"
   ]
  },
  {
   "cell_type": "markdown",
   "id": "c9308ac0-0e8f-4326-b629-2c90c5325524",
   "metadata": {
    "slideshow": {
     "slide_type": "slide"
    },
    "tags": []
   },
   "source": [
    "## Challenges"
   ]
  },
  {
   "cell_type": "markdown",
   "id": "67c3bba8-ad4b-4127-a0b5-cd9346ecd305",
   "metadata": {
    "slideshow": {
     "slide_type": "subslide"
    },
    "tags": []
   },
   "source": [
    "### Parameters\n",
    "<img src=\"./images/params.png\" alt= “” width=\"1000px\">"
   ]
  },
  {
   "cell_type": "markdown",
   "id": "d2a8eef0-8dd5-4ae0-9f72-8ea79b808649",
   "metadata": {
    "slideshow": {
     "slide_type": "subslide"
    },
    "tags": []
   },
   "source": [
    "### Dataset sizes\n",
    "<img src=\"./images/dssize.png\" alt= “” width=\"1000px\">"
   ]
  },
  {
   "cell_type": "markdown",
   "id": "d5149360-a733-45fc-b53c-a10db776c1c3",
   "metadata": {
    "slideshow": {
     "slide_type": "subslide"
    },
    "tags": []
   },
   "source": [
    "## Consequences \n",
    "- More labelled data\n",
    "- Vastly more energy consumption\n",
    "- Funds"
   ]
  },
  {
   "cell_type": "markdown",
   "id": "ed0d73ab",
   "metadata": {
    "slideshow": {
     "slide_type": "slide"
    },
    "tags": []
   },
   "source": [
    "## Objective\n",
    "- Create a method to improve accuracy and explanations for image classification\n",
    "- No extra labels, reduced training time, no modification to the architecture"
   ]
  },
  {
   "cell_type": "markdown",
   "id": "932c50b3",
   "metadata": {
    "slideshow": {
     "slide_type": "slide"
    },
    "tags": []
   },
   "source": [
    "## Quantifying Performance"
   ]
  },
  {
   "cell_type": "markdown",
   "id": "60b75c50",
   "metadata": {
    "slideshow": {
     "slide_type": "subslide"
    },
    "tags": []
   },
   "source": [
    "### Accuracy\n",
    "<img src=\"./images/chall1.jpg\" alt= “” width=\"500px\">"
   ]
  },
  {
   "cell_type": "markdown",
   "id": "ef6e87ab-8322-494f-af91-328d7f6e18e3",
   "metadata": {
    "slideshow": {
     "slide_type": "subslide"
    },
    "tags": []
   },
   "source": [
    "### Explainability\n",
    "<img src=\"./images/challcam.jpg\" alt= “” width=\"1000px\">"
   ]
  },
  {
   "cell_type": "markdown",
   "id": "1d37c9c3",
   "metadata": {
    "slideshow": {
     "slide_type": "slide"
    }
   },
   "source": [
    "# Previous Work"
   ]
  },
  {
   "cell_type": "markdown",
   "id": "61e0b9a7-62a3-4b43-b9ea-4783a239e744",
   "metadata": {
    "slideshow": {
     "slide_type": "subslide"
    },
    "tags": []
   },
   "source": [
    "## Augmentation\n",
    "\n",
    "<img src=\"./images/aug.png\" alt= “” width=\"1000px\">"
   ]
  },
  {
   "cell_type": "markdown",
   "id": "21daab23-6624-4bda-ad08-3122bab0b827",
   "metadata": {
    "slideshow": {
     "slide_type": "subslide"
    },
    "tags": []
   },
   "source": [
    "## Gradient Based Explanations\n",
    "<img src=\"./images/cams.png\" alt= “” width=\"1000px\">"
   ]
  },
  {
   "cell_type": "markdown",
   "id": "efc22832",
   "metadata": {
    "slideshow": {
     "slide_type": "subslide"
    }
   },
   "source": [
    "## Limitations of Previous Work\n",
    "- Most of the gradient based algorithms are used in inference\n",
    "- Augmentation and contextual awareness\n",
    "- Combining the fields of XAI and data augmentation to improve network performance is a rare practice."
   ]
  },
  {
   "cell_type": "markdown",
   "id": "1f41bc9b-cdb6-4276-831a-25e0435eaddf",
   "metadata": {
    "slideshow": {
     "slide_type": "slide"
    },
    "tags": []
   },
   "source": [
    "# Proxy Attention"
   ]
  },
  {
   "cell_type": "markdown",
   "id": "05ce7ca8-6d0f-4245-9fbd-d35122403080",
   "metadata": {
    "slideshow": {
     "slide_type": "slide"
    },
    "tags": []
   },
   "source": [
    "## Intuition\n",
    "![img](./images/clutter.png)"
   ]
  },
  {
   "cell_type": "markdown",
   "id": "c2dee862-e279-451c-8a63-ec5c58f3b94e",
   "metadata": {
    "slideshow": {
     "slide_type": "subslide"
    },
    "tags": []
   },
   "source": [
    "## Backstage with the Vision Transformer \n",
    "![img](./images/attention.gif)"
   ]
  },
  {
   "cell_type": "markdown",
   "id": "12302cba-da73-4afc-b6fa-1085df83bd3a",
   "metadata": {
    "slideshow": {
     "slide_type": "slide"
    },
    "tags": []
   },
   "source": [
    "## Research Questions\n",
    "1. Is it possible to create an augmentation technique that uses Attention maps?\n",
    "2. Is it possible to approximate the effects of Attention from ViTs in a CNN without changing the architecture?\n",
    "3. Is it possible to make a network converge faster and consequently require fewer data using the outputs from XAI techniques?\n",
    "4. Does using Proxy Attention impact the explainability positively?"
   ]
  },
  {
   "cell_type": "markdown",
   "id": "20eea50d",
   "metadata": {
    "slideshow": {
     "slide_type": "subslide"
    }
   },
   "source": [
    "<img src=\"./images/proxy_flow.png\" alt= “” width=\"1000px\">"
   ]
  },
  {
   "cell_type": "markdown",
   "id": "08910878-923a-4e2c-8b95-d00d68ee2ac2",
   "metadata": {
    "slideshow": {
     "slide_type": "slide"
    },
    "tags": []
   },
   "source": [
    "# Testing"
   ]
  },
  {
   "cell_type": "markdown",
   "id": "788f6972-0ea9-4ffd-aa2b-93f376fc2493",
   "metadata": {
    "slideshow": {
     "slide_type": "slide"
    },
    "tags": []
   },
   "source": [
    "## Datasets"
   ]
  },
  {
   "cell_type": "code",
   "execution_count": 21,
   "id": "4f1f21ae",
   "metadata": {
    "slideshow": {
     "slide_type": "skip"
    }
   },
   "outputs": [],
   "source": [
    "ims = [\"./images/cifar100.pdf.png\", \"./images/caltech101.pdf.png\", \"./images/places256.pdf.png\",\n",
    "                     \"./images/dogs.pdf.png\", \"./images/tsing.png\"]\n",
    "lbls = [\"CIFAR100\", \"Caltech101\", \"Places 256\", \"Stanford Dogs\",\"Tsinghua Dogs\"]"
   ]
  },
  {
   "cell_type": "code",
   "execution_count": 22,
   "id": "39b82710",
   "metadata": {
    "scrolled": false,
    "slideshow": {
     "slide_type": "subslide"
    }
   },
   "outputs": [
    {
     "data": {
      "text/html": [
       "\n",
       "    <style>\n",
       "        #ipyplot-html-viewer-toggle-Je8bsndP65v2kcxLdacF8r {\n",
       "            position: absolute;\n",
       "            top: -9999px;\n",
       "            left: -9999px;\n",
       "            visibility: hidden;\n",
       "        }\n",
       "\n",
       "        #ipyplot-html-viewer-label-Je8bsndP65v2kcxLdacF8r { \n",
       "            position: relative;\n",
       "            display: inline-block;\n",
       "            cursor: pointer;\n",
       "            color: blue;\n",
       "            text-decoration: underline;\n",
       "        }\n",
       "\n",
       "        #ipyplot-html-viewer-textarea-Je8bsndP65v2kcxLdacF8r {\n",
       "            background: lightgrey;\n",
       "            width: 100%;\n",
       "            height: 0px;\n",
       "            display: none;\n",
       "        }\n",
       "\n",
       "        #ipyplot-html-viewer-toggle-Je8bsndP65v2kcxLdacF8r:checked ~ #ipyplot-html-viewer-textarea-Je8bsndP65v2kcxLdacF8r {\n",
       "            height: 200px;\n",
       "            display: block;\n",
       "        }\n",
       "\n",
       "        #ipyplot-html-viewer-toggle-Je8bsndP65v2kcxLdacF8r:checked + #ipyplot-html-viewer-label-Je8bsndP65v2kcxLdacF8r:after {\n",
       "            content: \"hide html\";\n",
       "            position: absolute;\n",
       "            top: 0;\n",
       "            left: 0;\n",
       "            right: 0;\n",
       "            bottom: 0;\n",
       "            background: white;\n",
       "            cursor: pointer;\n",
       "            color: blue;\n",
       "            text-decoration: underline;\n",
       "        }\n",
       "    </style>\n",
       "    <div>\n",
       "        <input type=\"checkbox\" id=\"ipyplot-html-viewer-toggle-Je8bsndP65v2kcxLdacF8r\">\n",
       "        <label id=\"ipyplot-html-viewer-label-Je8bsndP65v2kcxLdacF8r\" for=\"ipyplot-html-viewer-toggle-Je8bsndP65v2kcxLdacF8r\">show html</label>\n",
       "        <textarea id=\"ipyplot-html-viewer-textarea-Je8bsndP65v2kcxLdacF8r\" readonly>\n",
       "            \n",
       "        <style>\n",
       "        #ipyplot-imgs-container-div-H6a9z8gaFEQBhJe75RZsvF {\n",
       "            width: 100%;\n",
       "            height: 100%;\n",
       "            margin: 0%;\n",
       "            overflow: auto;\n",
       "            position: relative;\n",
       "            overflow-y: scroll;\n",
       "        }\n",
       "\n",
       "        div.ipyplot-placeholder-div-H6a9z8gaFEQBhJe75RZsvF {\n",
       "            width: 500px;\n",
       "            display: inline-block;\n",
       "            margin: 3px;\n",
       "            position: relative;\n",
       "        }\n",
       "\n",
       "        div.ipyplot-content-div-H6a9z8gaFEQBhJe75RZsvF {\n",
       "            width: 500px;\n",
       "            background: white;\n",
       "            display: inline-block;\n",
       "            vertical-align: top;\n",
       "            text-align: center;\n",
       "            position: relative;\n",
       "            border: 2px solid #ddd;\n",
       "            top: 0;\n",
       "            left: 0;\n",
       "        }\n",
       "\n",
       "        div.ipyplot-content-div-H6a9z8gaFEQBhJe75RZsvF span.ipyplot-img-close {\n",
       "            display: none;\n",
       "        }\n",
       "\n",
       "        div.ipyplot-content-div-H6a9z8gaFEQBhJe75RZsvF span {\n",
       "            width: 100%;\n",
       "            height: 100%;\n",
       "            position: absolute;\n",
       "            top: 0;\n",
       "            left: 0;\n",
       "        }\n",
       "\n",
       "        div.ipyplot-content-div-H6a9z8gaFEQBhJe75RZsvF img {\n",
       "            width: 500px;\n",
       "        }\n",
       "\n",
       "        div.ipyplot-content-div-H6a9z8gaFEQBhJe75RZsvF span.ipyplot-img-close:hover {\n",
       "            cursor: zoom-out;\n",
       "        }\n",
       "        div.ipyplot-content-div-H6a9z8gaFEQBhJe75RZsvF span.ipyplot-img-expand:hover {\n",
       "            cursor: zoom-in;\n",
       "        }\n",
       "\n",
       "        div[id^=ipyplot-content-div-H6a9z8gaFEQBhJe75RZsvF]:target {\n",
       "            transform: scale(2.5);\n",
       "            transform-origin: left top;\n",
       "            z-index: 5000;\n",
       "            top: 0;\n",
       "            left: 0;\n",
       "            position: absolute;\n",
       "        }\n",
       "\n",
       "        div[id^=ipyplot-content-div-H6a9z8gaFEQBhJe75RZsvF]:target span.ipyplot-img-close {\n",
       "            display: block;\n",
       "        }\n",
       "\n",
       "        div[id^=ipyplot-content-div-H6a9z8gaFEQBhJe75RZsvF]:target span.ipyplot-img-expand {\n",
       "            display: none;\n",
       "        }\n",
       "        </style>\n",
       "    <div id=\"ipyplot-imgs-container-div-H6a9z8gaFEQBhJe75RZsvF\">\n",
       "    <div class=\"ipyplot-placeholder-div-H6a9z8gaFEQBhJe75RZsvF\">\n",
       "        <div id=\"ipyplot-content-div-H6a9z8gaFEQBhJe75RZsvF-ZuoxB922gA765E763FAqDQ\" class=\"ipyplot-content-div-H6a9z8gaFEQBhJe75RZsvF\">\n",
       "            <h4 style=\"font-size: 12px; word-wrap: break-word;\">CIFAR100</h4>\n",
       "            <img src=\"images/cifar100.pdf.png\"/>\n",
       "            <a href=\"#!\">\n",
       "                <span class=\"ipyplot-img-close\"/>\n",
       "            </a>\n",
       "            <a href=\"#ipyplot-content-div-H6a9z8gaFEQBhJe75RZsvF-ZuoxB922gA765E763FAqDQ\">\n",
       "                <span class=\"ipyplot-img-expand\"/>\n",
       "            </a>\n",
       "        </div>\n",
       "    </div>\n",
       "    \n",
       "    <div class=\"ipyplot-placeholder-div-H6a9z8gaFEQBhJe75RZsvF\">\n",
       "        <div id=\"ipyplot-content-div-H6a9z8gaFEQBhJe75RZsvF-hcTSS6Zu8ASsLeni6uczyW\" class=\"ipyplot-content-div-H6a9z8gaFEQBhJe75RZsvF\">\n",
       "            <h4 style=\"font-size: 12px; word-wrap: break-word;\">Caltech101</h4>\n",
       "            <img src=\"images/caltech101.pdf.png\"/>\n",
       "            <a href=\"#!\">\n",
       "                <span class=\"ipyplot-img-close\"/>\n",
       "            </a>\n",
       "            <a href=\"#ipyplot-content-div-H6a9z8gaFEQBhJe75RZsvF-hcTSS6Zu8ASsLeni6uczyW\">\n",
       "                <span class=\"ipyplot-img-expand\"/>\n",
       "            </a>\n",
       "        </div>\n",
       "    </div>\n",
       "    \n",
       "    <div class=\"ipyplot-placeholder-div-H6a9z8gaFEQBhJe75RZsvF\">\n",
       "        <div id=\"ipyplot-content-div-H6a9z8gaFEQBhJe75RZsvF-TVKN4f3VxskaHaUBXQeyrk\" class=\"ipyplot-content-div-H6a9z8gaFEQBhJe75RZsvF\">\n",
       "            <h4 style=\"font-size: 12px; word-wrap: break-word;\">Places 256</h4>\n",
       "            <img src=\"images/places256.pdf.png\"/>\n",
       "            <a href=\"#!\">\n",
       "                <span class=\"ipyplot-img-close\"/>\n",
       "            </a>\n",
       "            <a href=\"#ipyplot-content-div-H6a9z8gaFEQBhJe75RZsvF-TVKN4f3VxskaHaUBXQeyrk\">\n",
       "                <span class=\"ipyplot-img-expand\"/>\n",
       "            </a>\n",
       "        </div>\n",
       "    </div>\n",
       "    \n",
       "    <div class=\"ipyplot-placeholder-div-H6a9z8gaFEQBhJe75RZsvF\">\n",
       "        <div id=\"ipyplot-content-div-H6a9z8gaFEQBhJe75RZsvF-W8Jweyt6DP79AHewWud9HX\" class=\"ipyplot-content-div-H6a9z8gaFEQBhJe75RZsvF\">\n",
       "            <h4 style=\"font-size: 12px; word-wrap: break-word;\">Stanford Dogs</h4>\n",
       "            <img src=\"images/dogs.pdf.png\"/>\n",
       "            <a href=\"#!\">\n",
       "                <span class=\"ipyplot-img-close\"/>\n",
       "            </a>\n",
       "            <a href=\"#ipyplot-content-div-H6a9z8gaFEQBhJe75RZsvF-W8Jweyt6DP79AHewWud9HX\">\n",
       "                <span class=\"ipyplot-img-expand\"/>\n",
       "            </a>\n",
       "        </div>\n",
       "    </div>\n",
       "    \n",
       "    <div class=\"ipyplot-placeholder-div-H6a9z8gaFEQBhJe75RZsvF\">\n",
       "        <div id=\"ipyplot-content-div-H6a9z8gaFEQBhJe75RZsvF-iHu4FJ7hemTbTgUzC5ju3j\" class=\"ipyplot-content-div-H6a9z8gaFEQBhJe75RZsvF\">\n",
       "            <h4 style=\"font-size: 12px; word-wrap: break-word;\">Tsinghua Dogs</h4>\n",
       "            <img src=\"images/tsing.png\"/>\n",
       "            <a href=\"#!\">\n",
       "                <span class=\"ipyplot-img-close\"/>\n",
       "            </a>\n",
       "            <a href=\"#ipyplot-content-div-H6a9z8gaFEQBhJe75RZsvF-iHu4FJ7hemTbTgUzC5ju3j\">\n",
       "                <span class=\"ipyplot-img-expand\"/>\n",
       "            </a>\n",
       "        </div>\n",
       "    </div>\n",
       "    </div>\n",
       "        </textarea>\n",
       "    </div>\n",
       "    "
      ],
      "text/plain": [
       "<IPython.core.display.HTML object>"
      ]
     },
     "metadata": {},
     "output_type": "display_data"
    },
    {
     "data": {
      "text/html": [
       "\n",
       "        <style>\n",
       "        #ipyplot-imgs-container-div-H6a9z8gaFEQBhJe75RZsvF {\n",
       "            width: 100%;\n",
       "            height: 100%;\n",
       "            margin: 0%;\n",
       "            overflow: auto;\n",
       "            position: relative;\n",
       "            overflow-y: scroll;\n",
       "        }\n",
       "\n",
       "        div.ipyplot-placeholder-div-H6a9z8gaFEQBhJe75RZsvF {\n",
       "            width: 500px;\n",
       "            display: inline-block;\n",
       "            margin: 3px;\n",
       "            position: relative;\n",
       "        }\n",
       "\n",
       "        div.ipyplot-content-div-H6a9z8gaFEQBhJe75RZsvF {\n",
       "            width: 500px;\n",
       "            background: white;\n",
       "            display: inline-block;\n",
       "            vertical-align: top;\n",
       "            text-align: center;\n",
       "            position: relative;\n",
       "            border: 2px solid #ddd;\n",
       "            top: 0;\n",
       "            left: 0;\n",
       "        }\n",
       "\n",
       "        div.ipyplot-content-div-H6a9z8gaFEQBhJe75RZsvF span.ipyplot-img-close {\n",
       "            display: none;\n",
       "        }\n",
       "\n",
       "        div.ipyplot-content-div-H6a9z8gaFEQBhJe75RZsvF span {\n",
       "            width: 100%;\n",
       "            height: 100%;\n",
       "            position: absolute;\n",
       "            top: 0;\n",
       "            left: 0;\n",
       "        }\n",
       "\n",
       "        div.ipyplot-content-div-H6a9z8gaFEQBhJe75RZsvF img {\n",
       "            width: 500px;\n",
       "        }\n",
       "\n",
       "        div.ipyplot-content-div-H6a9z8gaFEQBhJe75RZsvF span.ipyplot-img-close:hover {\n",
       "            cursor: zoom-out;\n",
       "        }\n",
       "        div.ipyplot-content-div-H6a9z8gaFEQBhJe75RZsvF span.ipyplot-img-expand:hover {\n",
       "            cursor: zoom-in;\n",
       "        }\n",
       "\n",
       "        div[id^=ipyplot-content-div-H6a9z8gaFEQBhJe75RZsvF]:target {\n",
       "            transform: scale(2.5);\n",
       "            transform-origin: left top;\n",
       "            z-index: 5000;\n",
       "            top: 0;\n",
       "            left: 0;\n",
       "            position: absolute;\n",
       "        }\n",
       "\n",
       "        div[id^=ipyplot-content-div-H6a9z8gaFEQBhJe75RZsvF]:target span.ipyplot-img-close {\n",
       "            display: block;\n",
       "        }\n",
       "\n",
       "        div[id^=ipyplot-content-div-H6a9z8gaFEQBhJe75RZsvF]:target span.ipyplot-img-expand {\n",
       "            display: none;\n",
       "        }\n",
       "        </style>\n",
       "    <div id=\"ipyplot-imgs-container-div-H6a9z8gaFEQBhJe75RZsvF\">\n",
       "    <div class=\"ipyplot-placeholder-div-H6a9z8gaFEQBhJe75RZsvF\">\n",
       "        <div id=\"ipyplot-content-div-H6a9z8gaFEQBhJe75RZsvF-ZuoxB922gA765E763FAqDQ\" class=\"ipyplot-content-div-H6a9z8gaFEQBhJe75RZsvF\">\n",
       "            <h4 style=\"font-size: 12px; word-wrap: break-word;\">CIFAR100</h4>\n",
       "            <img src=\"images/cifar100.pdf.png\"/>\n",
       "            <a href=\"#!\">\n",
       "                <span class=\"ipyplot-img-close\"/>\n",
       "            </a>\n",
       "            <a href=\"#ipyplot-content-div-H6a9z8gaFEQBhJe75RZsvF-ZuoxB922gA765E763FAqDQ\">\n",
       "                <span class=\"ipyplot-img-expand\"/>\n",
       "            </a>\n",
       "        </div>\n",
       "    </div>\n",
       "    \n",
       "    <div class=\"ipyplot-placeholder-div-H6a9z8gaFEQBhJe75RZsvF\">\n",
       "        <div id=\"ipyplot-content-div-H6a9z8gaFEQBhJe75RZsvF-hcTSS6Zu8ASsLeni6uczyW\" class=\"ipyplot-content-div-H6a9z8gaFEQBhJe75RZsvF\">\n",
       "            <h4 style=\"font-size: 12px; word-wrap: break-word;\">Caltech101</h4>\n",
       "            <img src=\"images/caltech101.pdf.png\"/>\n",
       "            <a href=\"#!\">\n",
       "                <span class=\"ipyplot-img-close\"/>\n",
       "            </a>\n",
       "            <a href=\"#ipyplot-content-div-H6a9z8gaFEQBhJe75RZsvF-hcTSS6Zu8ASsLeni6uczyW\">\n",
       "                <span class=\"ipyplot-img-expand\"/>\n",
       "            </a>\n",
       "        </div>\n",
       "    </div>\n",
       "    \n",
       "    <div class=\"ipyplot-placeholder-div-H6a9z8gaFEQBhJe75RZsvF\">\n",
       "        <div id=\"ipyplot-content-div-H6a9z8gaFEQBhJe75RZsvF-TVKN4f3VxskaHaUBXQeyrk\" class=\"ipyplot-content-div-H6a9z8gaFEQBhJe75RZsvF\">\n",
       "            <h4 style=\"font-size: 12px; word-wrap: break-word;\">Places 256</h4>\n",
       "            <img src=\"images/places256.pdf.png\"/>\n",
       "            <a href=\"#!\">\n",
       "                <span class=\"ipyplot-img-close\"/>\n",
       "            </a>\n",
       "            <a href=\"#ipyplot-content-div-H6a9z8gaFEQBhJe75RZsvF-TVKN4f3VxskaHaUBXQeyrk\">\n",
       "                <span class=\"ipyplot-img-expand\"/>\n",
       "            </a>\n",
       "        </div>\n",
       "    </div>\n",
       "    \n",
       "    <div class=\"ipyplot-placeholder-div-H6a9z8gaFEQBhJe75RZsvF\">\n",
       "        <div id=\"ipyplot-content-div-H6a9z8gaFEQBhJe75RZsvF-W8Jweyt6DP79AHewWud9HX\" class=\"ipyplot-content-div-H6a9z8gaFEQBhJe75RZsvF\">\n",
       "            <h4 style=\"font-size: 12px; word-wrap: break-word;\">Stanford Dogs</h4>\n",
       "            <img src=\"images/dogs.pdf.png\"/>\n",
       "            <a href=\"#!\">\n",
       "                <span class=\"ipyplot-img-close\"/>\n",
       "            </a>\n",
       "            <a href=\"#ipyplot-content-div-H6a9z8gaFEQBhJe75RZsvF-W8Jweyt6DP79AHewWud9HX\">\n",
       "                <span class=\"ipyplot-img-expand\"/>\n",
       "            </a>\n",
       "        </div>\n",
       "    </div>\n",
       "    \n",
       "    <div class=\"ipyplot-placeholder-div-H6a9z8gaFEQBhJe75RZsvF\">\n",
       "        <div id=\"ipyplot-content-div-H6a9z8gaFEQBhJe75RZsvF-iHu4FJ7hemTbTgUzC5ju3j\" class=\"ipyplot-content-div-H6a9z8gaFEQBhJe75RZsvF\">\n",
       "            <h4 style=\"font-size: 12px; word-wrap: break-word;\">Tsinghua Dogs</h4>\n",
       "            <img src=\"images/tsing.png\"/>\n",
       "            <a href=\"#!\">\n",
       "                <span class=\"ipyplot-img-close\"/>\n",
       "            </a>\n",
       "            <a href=\"#ipyplot-content-div-H6a9z8gaFEQBhJe75RZsvF-iHu4FJ7hemTbTgUzC5ju3j\">\n",
       "                <span class=\"ipyplot-img-expand\"/>\n",
       "            </a>\n",
       "        </div>\n",
       "    </div>\n",
       "    </div>"
      ],
      "text/plain": [
       "<IPython.core.display.HTML object>"
      ]
     },
     "metadata": {},
     "output_type": "display_data"
    }
   ],
   "source": [
    "grid(ims, lbls)"
   ]
  },
  {
   "cell_type": "markdown",
   "id": "ed0e415e-8bc9-4e9f-9a0c-5fcd5bc8aa31",
   "metadata": {
    "slideshow": {
     "slide_type": "slide"
    },
    "tags": []
   },
   "source": [
    "## Architectures"
   ]
  },
  {
   "cell_type": "code",
   "execution_count": 23,
   "id": "265602d0",
   "metadata": {
    "slideshow": {
     "slide_type": "skip"
    }
   },
   "outputs": [],
   "source": [
    "ims = [\"./images/vggarch.png\", \"./images/resnetarch.png\", \"./images/effnetarch.png\",\"./images/vitarch.png\"]\n",
    "lbls = [\"VGG16\", \"Resnet18\", \"EfficientNet B0\", \"ViT Base Patch 16x224\"]"
   ]
  },
  {
   "cell_type": "code",
   "execution_count": 24,
   "id": "73813cb9",
   "metadata": {
    "scrolled": false,
    "slideshow": {
     "slide_type": "subslide"
    }
   },
   "outputs": [
    {
     "data": {
      "text/html": [
       "\n",
       "    <style>\n",
       "        #ipyplot-html-viewer-toggle-ZgLMDzMBCCHLVCQ4tJ9vrT {\n",
       "            position: absolute;\n",
       "            top: -9999px;\n",
       "            left: -9999px;\n",
       "            visibility: hidden;\n",
       "        }\n",
       "\n",
       "        #ipyplot-html-viewer-label-ZgLMDzMBCCHLVCQ4tJ9vrT { \n",
       "            position: relative;\n",
       "            display: inline-block;\n",
       "            cursor: pointer;\n",
       "            color: blue;\n",
       "            text-decoration: underline;\n",
       "        }\n",
       "\n",
       "        #ipyplot-html-viewer-textarea-ZgLMDzMBCCHLVCQ4tJ9vrT {\n",
       "            background: lightgrey;\n",
       "            width: 100%;\n",
       "            height: 0px;\n",
       "            display: none;\n",
       "        }\n",
       "\n",
       "        #ipyplot-html-viewer-toggle-ZgLMDzMBCCHLVCQ4tJ9vrT:checked ~ #ipyplot-html-viewer-textarea-ZgLMDzMBCCHLVCQ4tJ9vrT {\n",
       "            height: 200px;\n",
       "            display: block;\n",
       "        }\n",
       "\n",
       "        #ipyplot-html-viewer-toggle-ZgLMDzMBCCHLVCQ4tJ9vrT:checked + #ipyplot-html-viewer-label-ZgLMDzMBCCHLVCQ4tJ9vrT:after {\n",
       "            content: \"hide html\";\n",
       "            position: absolute;\n",
       "            top: 0;\n",
       "            left: 0;\n",
       "            right: 0;\n",
       "            bottom: 0;\n",
       "            background: white;\n",
       "            cursor: pointer;\n",
       "            color: blue;\n",
       "            text-decoration: underline;\n",
       "        }\n",
       "    </style>\n",
       "    <div>\n",
       "        <input type=\"checkbox\" id=\"ipyplot-html-viewer-toggle-ZgLMDzMBCCHLVCQ4tJ9vrT\">\n",
       "        <label id=\"ipyplot-html-viewer-label-ZgLMDzMBCCHLVCQ4tJ9vrT\" for=\"ipyplot-html-viewer-toggle-ZgLMDzMBCCHLVCQ4tJ9vrT\">show html</label>\n",
       "        <textarea id=\"ipyplot-html-viewer-textarea-ZgLMDzMBCCHLVCQ4tJ9vrT\" readonly>\n",
       "            \n",
       "        <style>\n",
       "        #ipyplot-imgs-container-div-RcyKZXB6ez4sJCvEvPuJKv {\n",
       "            width: 100%;\n",
       "            height: 100%;\n",
       "            margin: 0%;\n",
       "            overflow: auto;\n",
       "            position: relative;\n",
       "            overflow-y: scroll;\n",
       "        }\n",
       "\n",
       "        div.ipyplot-placeholder-div-RcyKZXB6ez4sJCvEvPuJKv {\n",
       "            width: 500px;\n",
       "            display: inline-block;\n",
       "            margin: 3px;\n",
       "            position: relative;\n",
       "        }\n",
       "\n",
       "        div.ipyplot-content-div-RcyKZXB6ez4sJCvEvPuJKv {\n",
       "            width: 500px;\n",
       "            background: white;\n",
       "            display: inline-block;\n",
       "            vertical-align: top;\n",
       "            text-align: center;\n",
       "            position: relative;\n",
       "            border: 2px solid #ddd;\n",
       "            top: 0;\n",
       "            left: 0;\n",
       "        }\n",
       "\n",
       "        div.ipyplot-content-div-RcyKZXB6ez4sJCvEvPuJKv span.ipyplot-img-close {\n",
       "            display: none;\n",
       "        }\n",
       "\n",
       "        div.ipyplot-content-div-RcyKZXB6ez4sJCvEvPuJKv span {\n",
       "            width: 100%;\n",
       "            height: 100%;\n",
       "            position: absolute;\n",
       "            top: 0;\n",
       "            left: 0;\n",
       "        }\n",
       "\n",
       "        div.ipyplot-content-div-RcyKZXB6ez4sJCvEvPuJKv img {\n",
       "            width: 500px;\n",
       "        }\n",
       "\n",
       "        div.ipyplot-content-div-RcyKZXB6ez4sJCvEvPuJKv span.ipyplot-img-close:hover {\n",
       "            cursor: zoom-out;\n",
       "        }\n",
       "        div.ipyplot-content-div-RcyKZXB6ez4sJCvEvPuJKv span.ipyplot-img-expand:hover {\n",
       "            cursor: zoom-in;\n",
       "        }\n",
       "\n",
       "        div[id^=ipyplot-content-div-RcyKZXB6ez4sJCvEvPuJKv]:target {\n",
       "            transform: scale(2.5);\n",
       "            transform-origin: left top;\n",
       "            z-index: 5000;\n",
       "            top: 0;\n",
       "            left: 0;\n",
       "            position: absolute;\n",
       "        }\n",
       "\n",
       "        div[id^=ipyplot-content-div-RcyKZXB6ez4sJCvEvPuJKv]:target span.ipyplot-img-close {\n",
       "            display: block;\n",
       "        }\n",
       "\n",
       "        div[id^=ipyplot-content-div-RcyKZXB6ez4sJCvEvPuJKv]:target span.ipyplot-img-expand {\n",
       "            display: none;\n",
       "        }\n",
       "        </style>\n",
       "    <div id=\"ipyplot-imgs-container-div-RcyKZXB6ez4sJCvEvPuJKv\">\n",
       "    <div class=\"ipyplot-placeholder-div-RcyKZXB6ez4sJCvEvPuJKv\">\n",
       "        <div id=\"ipyplot-content-div-RcyKZXB6ez4sJCvEvPuJKv-EoXGVoEeLMRftFpCw6WUQd\" class=\"ipyplot-content-div-RcyKZXB6ez4sJCvEvPuJKv\">\n",
       "            <h4 style=\"font-size: 12px; word-wrap: break-word;\">VGG16</h4>\n",
       "            <img src=\"images/vggarch.png\"/>\n",
       "            <a href=\"#!\">\n",
       "                <span class=\"ipyplot-img-close\"/>\n",
       "            </a>\n",
       "            <a href=\"#ipyplot-content-div-RcyKZXB6ez4sJCvEvPuJKv-EoXGVoEeLMRftFpCw6WUQd\">\n",
       "                <span class=\"ipyplot-img-expand\"/>\n",
       "            </a>\n",
       "        </div>\n",
       "    </div>\n",
       "    \n",
       "    <div class=\"ipyplot-placeholder-div-RcyKZXB6ez4sJCvEvPuJKv\">\n",
       "        <div id=\"ipyplot-content-div-RcyKZXB6ez4sJCvEvPuJKv-EnrQBwkPeeghaB9RcLngqi\" class=\"ipyplot-content-div-RcyKZXB6ez4sJCvEvPuJKv\">\n",
       "            <h4 style=\"font-size: 12px; word-wrap: break-word;\">Resnet18</h4>\n",
       "            <img src=\"images/resnetarch.png\"/>\n",
       "            <a href=\"#!\">\n",
       "                <span class=\"ipyplot-img-close\"/>\n",
       "            </a>\n",
       "            <a href=\"#ipyplot-content-div-RcyKZXB6ez4sJCvEvPuJKv-EnrQBwkPeeghaB9RcLngqi\">\n",
       "                <span class=\"ipyplot-img-expand\"/>\n",
       "            </a>\n",
       "        </div>\n",
       "    </div>\n",
       "    \n",
       "    <div class=\"ipyplot-placeholder-div-RcyKZXB6ez4sJCvEvPuJKv\">\n",
       "        <div id=\"ipyplot-content-div-RcyKZXB6ez4sJCvEvPuJKv-MFvDPBNZ3Zw4msLX92hzKw\" class=\"ipyplot-content-div-RcyKZXB6ez4sJCvEvPuJKv\">\n",
       "            <h4 style=\"font-size: 12px; word-wrap: break-word;\">EfficientNet B0</h4>\n",
       "            <img src=\"images/effnetarch.png\"/>\n",
       "            <a href=\"#!\">\n",
       "                <span class=\"ipyplot-img-close\"/>\n",
       "            </a>\n",
       "            <a href=\"#ipyplot-content-div-RcyKZXB6ez4sJCvEvPuJKv-MFvDPBNZ3Zw4msLX92hzKw\">\n",
       "                <span class=\"ipyplot-img-expand\"/>\n",
       "            </a>\n",
       "        </div>\n",
       "    </div>\n",
       "    \n",
       "    <div class=\"ipyplot-placeholder-div-RcyKZXB6ez4sJCvEvPuJKv\">\n",
       "        <div id=\"ipyplot-content-div-RcyKZXB6ez4sJCvEvPuJKv-ZZ6T49xsTxvWmaLqcywiZ6\" class=\"ipyplot-content-div-RcyKZXB6ez4sJCvEvPuJKv\">\n",
       "            <h4 style=\"font-size: 12px; word-wrap: break-word;\">ViT Base Patch 16x224</h4>\n",
       "            <img src=\"images/vitarch.png\"/>\n",
       "            <a href=\"#!\">\n",
       "                <span class=\"ipyplot-img-close\"/>\n",
       "            </a>\n",
       "            <a href=\"#ipyplot-content-div-RcyKZXB6ez4sJCvEvPuJKv-ZZ6T49xsTxvWmaLqcywiZ6\">\n",
       "                <span class=\"ipyplot-img-expand\"/>\n",
       "            </a>\n",
       "        </div>\n",
       "    </div>\n",
       "    </div>\n",
       "        </textarea>\n",
       "    </div>\n",
       "    "
      ],
      "text/plain": [
       "<IPython.core.display.HTML object>"
      ]
     },
     "metadata": {},
     "output_type": "display_data"
    },
    {
     "data": {
      "text/html": [
       "\n",
       "        <style>\n",
       "        #ipyplot-imgs-container-div-RcyKZXB6ez4sJCvEvPuJKv {\n",
       "            width: 100%;\n",
       "            height: 100%;\n",
       "            margin: 0%;\n",
       "            overflow: auto;\n",
       "            position: relative;\n",
       "            overflow-y: scroll;\n",
       "        }\n",
       "\n",
       "        div.ipyplot-placeholder-div-RcyKZXB6ez4sJCvEvPuJKv {\n",
       "            width: 500px;\n",
       "            display: inline-block;\n",
       "            margin: 3px;\n",
       "            position: relative;\n",
       "        }\n",
       "\n",
       "        div.ipyplot-content-div-RcyKZXB6ez4sJCvEvPuJKv {\n",
       "            width: 500px;\n",
       "            background: white;\n",
       "            display: inline-block;\n",
       "            vertical-align: top;\n",
       "            text-align: center;\n",
       "            position: relative;\n",
       "            border: 2px solid #ddd;\n",
       "            top: 0;\n",
       "            left: 0;\n",
       "        }\n",
       "\n",
       "        div.ipyplot-content-div-RcyKZXB6ez4sJCvEvPuJKv span.ipyplot-img-close {\n",
       "            display: none;\n",
       "        }\n",
       "\n",
       "        div.ipyplot-content-div-RcyKZXB6ez4sJCvEvPuJKv span {\n",
       "            width: 100%;\n",
       "            height: 100%;\n",
       "            position: absolute;\n",
       "            top: 0;\n",
       "            left: 0;\n",
       "        }\n",
       "\n",
       "        div.ipyplot-content-div-RcyKZXB6ez4sJCvEvPuJKv img {\n",
       "            width: 500px;\n",
       "        }\n",
       "\n",
       "        div.ipyplot-content-div-RcyKZXB6ez4sJCvEvPuJKv span.ipyplot-img-close:hover {\n",
       "            cursor: zoom-out;\n",
       "        }\n",
       "        div.ipyplot-content-div-RcyKZXB6ez4sJCvEvPuJKv span.ipyplot-img-expand:hover {\n",
       "            cursor: zoom-in;\n",
       "        }\n",
       "\n",
       "        div[id^=ipyplot-content-div-RcyKZXB6ez4sJCvEvPuJKv]:target {\n",
       "            transform: scale(2.5);\n",
       "            transform-origin: left top;\n",
       "            z-index: 5000;\n",
       "            top: 0;\n",
       "            left: 0;\n",
       "            position: absolute;\n",
       "        }\n",
       "\n",
       "        div[id^=ipyplot-content-div-RcyKZXB6ez4sJCvEvPuJKv]:target span.ipyplot-img-close {\n",
       "            display: block;\n",
       "        }\n",
       "\n",
       "        div[id^=ipyplot-content-div-RcyKZXB6ez4sJCvEvPuJKv]:target span.ipyplot-img-expand {\n",
       "            display: none;\n",
       "        }\n",
       "        </style>\n",
       "    <div id=\"ipyplot-imgs-container-div-RcyKZXB6ez4sJCvEvPuJKv\">\n",
       "    <div class=\"ipyplot-placeholder-div-RcyKZXB6ez4sJCvEvPuJKv\">\n",
       "        <div id=\"ipyplot-content-div-RcyKZXB6ez4sJCvEvPuJKv-EoXGVoEeLMRftFpCw6WUQd\" class=\"ipyplot-content-div-RcyKZXB6ez4sJCvEvPuJKv\">\n",
       "            <h4 style=\"font-size: 12px; word-wrap: break-word;\">VGG16</h4>\n",
       "            <img src=\"images/vggarch.png\"/>\n",
       "            <a href=\"#!\">\n",
       "                <span class=\"ipyplot-img-close\"/>\n",
       "            </a>\n",
       "            <a href=\"#ipyplot-content-div-RcyKZXB6ez4sJCvEvPuJKv-EoXGVoEeLMRftFpCw6WUQd\">\n",
       "                <span class=\"ipyplot-img-expand\"/>\n",
       "            </a>\n",
       "        </div>\n",
       "    </div>\n",
       "    \n",
       "    <div class=\"ipyplot-placeholder-div-RcyKZXB6ez4sJCvEvPuJKv\">\n",
       "        <div id=\"ipyplot-content-div-RcyKZXB6ez4sJCvEvPuJKv-EnrQBwkPeeghaB9RcLngqi\" class=\"ipyplot-content-div-RcyKZXB6ez4sJCvEvPuJKv\">\n",
       "            <h4 style=\"font-size: 12px; word-wrap: break-word;\">Resnet18</h4>\n",
       "            <img src=\"images/resnetarch.png\"/>\n",
       "            <a href=\"#!\">\n",
       "                <span class=\"ipyplot-img-close\"/>\n",
       "            </a>\n",
       "            <a href=\"#ipyplot-content-div-RcyKZXB6ez4sJCvEvPuJKv-EnrQBwkPeeghaB9RcLngqi\">\n",
       "                <span class=\"ipyplot-img-expand\"/>\n",
       "            </a>\n",
       "        </div>\n",
       "    </div>\n",
       "    \n",
       "    <div class=\"ipyplot-placeholder-div-RcyKZXB6ez4sJCvEvPuJKv\">\n",
       "        <div id=\"ipyplot-content-div-RcyKZXB6ez4sJCvEvPuJKv-MFvDPBNZ3Zw4msLX92hzKw\" class=\"ipyplot-content-div-RcyKZXB6ez4sJCvEvPuJKv\">\n",
       "            <h4 style=\"font-size: 12px; word-wrap: break-word;\">EfficientNet B0</h4>\n",
       "            <img src=\"images/effnetarch.png\"/>\n",
       "            <a href=\"#!\">\n",
       "                <span class=\"ipyplot-img-close\"/>\n",
       "            </a>\n",
       "            <a href=\"#ipyplot-content-div-RcyKZXB6ez4sJCvEvPuJKv-MFvDPBNZ3Zw4msLX92hzKw\">\n",
       "                <span class=\"ipyplot-img-expand\"/>\n",
       "            </a>\n",
       "        </div>\n",
       "    </div>\n",
       "    \n",
       "    <div class=\"ipyplot-placeholder-div-RcyKZXB6ez4sJCvEvPuJKv\">\n",
       "        <div id=\"ipyplot-content-div-RcyKZXB6ez4sJCvEvPuJKv-ZZ6T49xsTxvWmaLqcywiZ6\" class=\"ipyplot-content-div-RcyKZXB6ez4sJCvEvPuJKv\">\n",
       "            <h4 style=\"font-size: 12px; word-wrap: break-word;\">ViT Base Patch 16x224</h4>\n",
       "            <img src=\"images/vitarch.png\"/>\n",
       "            <a href=\"#!\">\n",
       "                <span class=\"ipyplot-img-close\"/>\n",
       "            </a>\n",
       "            <a href=\"#ipyplot-content-div-RcyKZXB6ez4sJCvEvPuJKv-ZZ6T49xsTxvWmaLqcywiZ6\">\n",
       "                <span class=\"ipyplot-img-expand\"/>\n",
       "            </a>\n",
       "        </div>\n",
       "    </div>\n",
       "    </div>"
      ],
      "text/plain": [
       "<IPython.core.display.HTML object>"
      ]
     },
     "metadata": {},
     "output_type": "display_data"
    }
   ],
   "source": [
    "grid(ims, lbls)"
   ]
  },
  {
   "cell_type": "markdown",
   "id": "ba961554",
   "metadata": {
    "slideshow": {
     "slide_type": "slide"
    },
    "tags": []
   },
   "source": [
    "## Hyper Parameters"
   ]
  },
  {
   "cell_type": "markdown",
   "id": "4c735cb2-8343-40e3-a9e2-438011640d87",
   "metadata": {
    "slideshow": {
     "slide_type": "subslide"
    },
    "tags": []
   },
   "source": [
    "## Proxy Image Threshold\n",
    "<img src=\"./images/grad_threshold-crop.pdf.png\" alt= “” width=\"500px\">"
   ]
  },
  {
   "cell_type": "markdown",
   "id": "fe02ee6b-801b-45cd-9007-464f2d170bb4",
   "metadata": {
    "slideshow": {
     "slide_type": "subslide"
    },
    "tags": []
   },
   "source": [
    "## Proxy Image Weight\n",
    "<img src=\"./images/multiply_threshold-crop.pdf.png\" alt= “” width=\"500px\">"
   ]
  },
  {
   "cell_type": "markdown",
   "id": "c65dc7fe-6660-4b72-838f-338e237c67f7",
   "metadata": {
    "slideshow": {
     "slide_type": "subslide"
    },
    "tags": []
   },
   "source": [
    "## Pixel Replacement Types\n",
    "<img src=\"./images/methods-crop.pdf.png\" alt= “” width=\"1000px\">"
   ]
  },
  {
   "cell_type": "markdown",
   "id": "80a44c8d-6dd3-475e-9d54-83880e4ac3a5",
   "metadata": {
    "slideshow": {
     "slide_type": "subslide"
    },
    "tags": []
   },
   "source": [
    "## Proxy Step Schedule\n",
    "- [20, p,19]\n",
    "- [5, p, 9, p,9, p,4]"
   ]
  },
  {
   "cell_type": "markdown",
   "id": "4aa89912-5589-44c9-9df2-b4113be743e5",
   "metadata": {
    "slideshow": {
     "slide_type": "subslide"
    },
    "tags": []
   },
   "source": [
    "## Subset of Wrongly Classified Images\n",
    "- 0.1\n",
    "- 0.2\n",
    "- 0.4\n",
    "- 0.8\n",
    "- 0.95"
   ]
  },
  {
   "cell_type": "markdown",
   "id": "23b68b93",
   "metadata": {
    "slideshow": {
     "slide_type": "slide"
    }
   },
   "source": [
    "## Training Assumptions\n",
    "- Equal number of epochs\n",
    "- Every other parameter fixed\n",
    "- Equal number of data points for the DataLoaders"
   ]
  },
  {
   "cell_type": "markdown",
   "id": "3662ef6f",
   "metadata": {
    "slideshow": {
     "slide_type": "slide"
    }
   },
   "source": [
    "# Results"
   ]
  },
  {
   "cell_type": "markdown",
   "id": "efafbf92",
   "metadata": {
    "slideshow": {
     "slide_type": "slide"
    }
   },
   "source": [
    "## By Dataset"
   ]
  },
  {
   "cell_type": "code",
   "execution_count": 25,
   "id": "46d2d601",
   "metadata": {
    "slideshow": {
     "slide_type": "skip"
    }
   },
   "outputs": [],
   "source": [
    "ims = [\"./images/res1.png\", \"./images/res2.png\", \"./images/res3.png\", \"./images/res4.png\"]"
   ]
  },
  {
   "cell_type": "code",
   "execution_count": 26,
   "id": "cc0595eb",
   "metadata": {
    "scrolled": false,
    "slideshow": {
     "slide_type": "subslide"
    }
   },
   "outputs": [
    {
     "data": {
      "text/html": [
       "\n",
       "    <style>\n",
       "        #ipyplot-html-viewer-toggle-Hwg4iTiNodkvMv7T3RqVjn {\n",
       "            position: absolute;\n",
       "            top: -9999px;\n",
       "            left: -9999px;\n",
       "            visibility: hidden;\n",
       "        }\n",
       "\n",
       "        #ipyplot-html-viewer-label-Hwg4iTiNodkvMv7T3RqVjn { \n",
       "            position: relative;\n",
       "            display: inline-block;\n",
       "            cursor: pointer;\n",
       "            color: blue;\n",
       "            text-decoration: underline;\n",
       "        }\n",
       "\n",
       "        #ipyplot-html-viewer-textarea-Hwg4iTiNodkvMv7T3RqVjn {\n",
       "            background: lightgrey;\n",
       "            width: 100%;\n",
       "            height: 0px;\n",
       "            display: none;\n",
       "        }\n",
       "\n",
       "        #ipyplot-html-viewer-toggle-Hwg4iTiNodkvMv7T3RqVjn:checked ~ #ipyplot-html-viewer-textarea-Hwg4iTiNodkvMv7T3RqVjn {\n",
       "            height: 200px;\n",
       "            display: block;\n",
       "        }\n",
       "\n",
       "        #ipyplot-html-viewer-toggle-Hwg4iTiNodkvMv7T3RqVjn:checked + #ipyplot-html-viewer-label-Hwg4iTiNodkvMv7T3RqVjn:after {\n",
       "            content: \"hide html\";\n",
       "            position: absolute;\n",
       "            top: 0;\n",
       "            left: 0;\n",
       "            right: 0;\n",
       "            bottom: 0;\n",
       "            background: white;\n",
       "            cursor: pointer;\n",
       "            color: blue;\n",
       "            text-decoration: underline;\n",
       "        }\n",
       "    </style>\n",
       "    <div>\n",
       "        <input type=\"checkbox\" id=\"ipyplot-html-viewer-toggle-Hwg4iTiNodkvMv7T3RqVjn\">\n",
       "        <label id=\"ipyplot-html-viewer-label-Hwg4iTiNodkvMv7T3RqVjn\" for=\"ipyplot-html-viewer-toggle-Hwg4iTiNodkvMv7T3RqVjn\">show html</label>\n",
       "        <textarea id=\"ipyplot-html-viewer-textarea-Hwg4iTiNodkvMv7T3RqVjn\" readonly>\n",
       "            \n",
       "        <style>\n",
       "        #ipyplot-imgs-container-div-KyiQWweaaj5Kb3VzkzdMmA {\n",
       "            width: 100%;\n",
       "            height: 100%;\n",
       "            margin: 0%;\n",
       "            overflow: auto;\n",
       "            position: relative;\n",
       "            overflow-y: scroll;\n",
       "        }\n",
       "\n",
       "        div.ipyplot-placeholder-div-KyiQWweaaj5Kb3VzkzdMmA {\n",
       "            width: 500px;\n",
       "            display: inline-block;\n",
       "            margin: 3px;\n",
       "            position: relative;\n",
       "        }\n",
       "\n",
       "        div.ipyplot-content-div-KyiQWweaaj5Kb3VzkzdMmA {\n",
       "            width: 500px;\n",
       "            background: white;\n",
       "            display: inline-block;\n",
       "            vertical-align: top;\n",
       "            text-align: center;\n",
       "            position: relative;\n",
       "            border: 2px solid #ddd;\n",
       "            top: 0;\n",
       "            left: 0;\n",
       "        }\n",
       "\n",
       "        div.ipyplot-content-div-KyiQWweaaj5Kb3VzkzdMmA span.ipyplot-img-close {\n",
       "            display: none;\n",
       "        }\n",
       "\n",
       "        div.ipyplot-content-div-KyiQWweaaj5Kb3VzkzdMmA span {\n",
       "            width: 100%;\n",
       "            height: 100%;\n",
       "            position: absolute;\n",
       "            top: 0;\n",
       "            left: 0;\n",
       "        }\n",
       "\n",
       "        div.ipyplot-content-div-KyiQWweaaj5Kb3VzkzdMmA img {\n",
       "            width: 500px;\n",
       "        }\n",
       "\n",
       "        div.ipyplot-content-div-KyiQWweaaj5Kb3VzkzdMmA span.ipyplot-img-close:hover {\n",
       "            cursor: zoom-out;\n",
       "        }\n",
       "        div.ipyplot-content-div-KyiQWweaaj5Kb3VzkzdMmA span.ipyplot-img-expand:hover {\n",
       "            cursor: zoom-in;\n",
       "        }\n",
       "\n",
       "        div[id^=ipyplot-content-div-KyiQWweaaj5Kb3VzkzdMmA]:target {\n",
       "            transform: scale(2.5);\n",
       "            transform-origin: left top;\n",
       "            z-index: 5000;\n",
       "            top: 0;\n",
       "            left: 0;\n",
       "            position: absolute;\n",
       "        }\n",
       "\n",
       "        div[id^=ipyplot-content-div-KyiQWweaaj5Kb3VzkzdMmA]:target span.ipyplot-img-close {\n",
       "            display: block;\n",
       "        }\n",
       "\n",
       "        div[id^=ipyplot-content-div-KyiQWweaaj5Kb3VzkzdMmA]:target span.ipyplot-img-expand {\n",
       "            display: none;\n",
       "        }\n",
       "        </style>\n",
       "    <div id=\"ipyplot-imgs-container-div-KyiQWweaaj5Kb3VzkzdMmA\">\n",
       "    <div class=\"ipyplot-placeholder-div-KyiQWweaaj5Kb3VzkzdMmA\">\n",
       "        <div id=\"ipyplot-content-div-KyiQWweaaj5Kb3VzkzdMmA-KBGoHJprvxqTs9vqnj6KFC\" class=\"ipyplot-content-div-KyiQWweaaj5Kb3VzkzdMmA\">\n",
       "            <h4 style=\"font-size: 12px; word-wrap: break-word;\">0</h4>\n",
       "            <img src=\"images/res1.png\"/>\n",
       "            <a href=\"#!\">\n",
       "                <span class=\"ipyplot-img-close\"/>\n",
       "            </a>\n",
       "            <a href=\"#ipyplot-content-div-KyiQWweaaj5Kb3VzkzdMmA-KBGoHJprvxqTs9vqnj6KFC\">\n",
       "                <span class=\"ipyplot-img-expand\"/>\n",
       "            </a>\n",
       "        </div>\n",
       "    </div>\n",
       "    \n",
       "    <div class=\"ipyplot-placeholder-div-KyiQWweaaj5Kb3VzkzdMmA\">\n",
       "        <div id=\"ipyplot-content-div-KyiQWweaaj5Kb3VzkzdMmA-m3EVLthCj9qpX4BrR4jfTQ\" class=\"ipyplot-content-div-KyiQWweaaj5Kb3VzkzdMmA\">\n",
       "            <h4 style=\"font-size: 12px; word-wrap: break-word;\">1</h4>\n",
       "            <img src=\"images/res2.png\"/>\n",
       "            <a href=\"#!\">\n",
       "                <span class=\"ipyplot-img-close\"/>\n",
       "            </a>\n",
       "            <a href=\"#ipyplot-content-div-KyiQWweaaj5Kb3VzkzdMmA-m3EVLthCj9qpX4BrR4jfTQ\">\n",
       "                <span class=\"ipyplot-img-expand\"/>\n",
       "            </a>\n",
       "        </div>\n",
       "    </div>\n",
       "    \n",
       "    <div class=\"ipyplot-placeholder-div-KyiQWweaaj5Kb3VzkzdMmA\">\n",
       "        <div id=\"ipyplot-content-div-KyiQWweaaj5Kb3VzkzdMmA-YUjGTmfcQft6V7LQvbHkZ9\" class=\"ipyplot-content-div-KyiQWweaaj5Kb3VzkzdMmA\">\n",
       "            <h4 style=\"font-size: 12px; word-wrap: break-word;\">2</h4>\n",
       "            <img src=\"images/res3.png\"/>\n",
       "            <a href=\"#!\">\n",
       "                <span class=\"ipyplot-img-close\"/>\n",
       "            </a>\n",
       "            <a href=\"#ipyplot-content-div-KyiQWweaaj5Kb3VzkzdMmA-YUjGTmfcQft6V7LQvbHkZ9\">\n",
       "                <span class=\"ipyplot-img-expand\"/>\n",
       "            </a>\n",
       "        </div>\n",
       "    </div>\n",
       "    \n",
       "    <div class=\"ipyplot-placeholder-div-KyiQWweaaj5Kb3VzkzdMmA\">\n",
       "        <div id=\"ipyplot-content-div-KyiQWweaaj5Kb3VzkzdMmA-b4pdF6j7qgvkM73T29ZZ6e\" class=\"ipyplot-content-div-KyiQWweaaj5Kb3VzkzdMmA\">\n",
       "            <h4 style=\"font-size: 12px; word-wrap: break-word;\">3</h4>\n",
       "            <img src=\"images/res4.png\"/>\n",
       "            <a href=\"#!\">\n",
       "                <span class=\"ipyplot-img-close\"/>\n",
       "            </a>\n",
       "            <a href=\"#ipyplot-content-div-KyiQWweaaj5Kb3VzkzdMmA-b4pdF6j7qgvkM73T29ZZ6e\">\n",
       "                <span class=\"ipyplot-img-expand\"/>\n",
       "            </a>\n",
       "        </div>\n",
       "    </div>\n",
       "    </div>\n",
       "        </textarea>\n",
       "    </div>\n",
       "    "
      ],
      "text/plain": [
       "<IPython.core.display.HTML object>"
      ]
     },
     "metadata": {},
     "output_type": "display_data"
    },
    {
     "data": {
      "text/html": [
       "\n",
       "        <style>\n",
       "        #ipyplot-imgs-container-div-KyiQWweaaj5Kb3VzkzdMmA {\n",
       "            width: 100%;\n",
       "            height: 100%;\n",
       "            margin: 0%;\n",
       "            overflow: auto;\n",
       "            position: relative;\n",
       "            overflow-y: scroll;\n",
       "        }\n",
       "\n",
       "        div.ipyplot-placeholder-div-KyiQWweaaj5Kb3VzkzdMmA {\n",
       "            width: 500px;\n",
       "            display: inline-block;\n",
       "            margin: 3px;\n",
       "            position: relative;\n",
       "        }\n",
       "\n",
       "        div.ipyplot-content-div-KyiQWweaaj5Kb3VzkzdMmA {\n",
       "            width: 500px;\n",
       "            background: white;\n",
       "            display: inline-block;\n",
       "            vertical-align: top;\n",
       "            text-align: center;\n",
       "            position: relative;\n",
       "            border: 2px solid #ddd;\n",
       "            top: 0;\n",
       "            left: 0;\n",
       "        }\n",
       "\n",
       "        div.ipyplot-content-div-KyiQWweaaj5Kb3VzkzdMmA span.ipyplot-img-close {\n",
       "            display: none;\n",
       "        }\n",
       "\n",
       "        div.ipyplot-content-div-KyiQWweaaj5Kb3VzkzdMmA span {\n",
       "            width: 100%;\n",
       "            height: 100%;\n",
       "            position: absolute;\n",
       "            top: 0;\n",
       "            left: 0;\n",
       "        }\n",
       "\n",
       "        div.ipyplot-content-div-KyiQWweaaj5Kb3VzkzdMmA img {\n",
       "            width: 500px;\n",
       "        }\n",
       "\n",
       "        div.ipyplot-content-div-KyiQWweaaj5Kb3VzkzdMmA span.ipyplot-img-close:hover {\n",
       "            cursor: zoom-out;\n",
       "        }\n",
       "        div.ipyplot-content-div-KyiQWweaaj5Kb3VzkzdMmA span.ipyplot-img-expand:hover {\n",
       "            cursor: zoom-in;\n",
       "        }\n",
       "\n",
       "        div[id^=ipyplot-content-div-KyiQWweaaj5Kb3VzkzdMmA]:target {\n",
       "            transform: scale(2.5);\n",
       "            transform-origin: left top;\n",
       "            z-index: 5000;\n",
       "            top: 0;\n",
       "            left: 0;\n",
       "            position: absolute;\n",
       "        }\n",
       "\n",
       "        div[id^=ipyplot-content-div-KyiQWweaaj5Kb3VzkzdMmA]:target span.ipyplot-img-close {\n",
       "            display: block;\n",
       "        }\n",
       "\n",
       "        div[id^=ipyplot-content-div-KyiQWweaaj5Kb3VzkzdMmA]:target span.ipyplot-img-expand {\n",
       "            display: none;\n",
       "        }\n",
       "        </style>\n",
       "    <div id=\"ipyplot-imgs-container-div-KyiQWweaaj5Kb3VzkzdMmA\">\n",
       "    <div class=\"ipyplot-placeholder-div-KyiQWweaaj5Kb3VzkzdMmA\">\n",
       "        <div id=\"ipyplot-content-div-KyiQWweaaj5Kb3VzkzdMmA-KBGoHJprvxqTs9vqnj6KFC\" class=\"ipyplot-content-div-KyiQWweaaj5Kb3VzkzdMmA\">\n",
       "            <h4 style=\"font-size: 12px; word-wrap: break-word;\">0</h4>\n",
       "            <img src=\"images/res1.png\"/>\n",
       "            <a href=\"#!\">\n",
       "                <span class=\"ipyplot-img-close\"/>\n",
       "            </a>\n",
       "            <a href=\"#ipyplot-content-div-KyiQWweaaj5Kb3VzkzdMmA-KBGoHJprvxqTs9vqnj6KFC\">\n",
       "                <span class=\"ipyplot-img-expand\"/>\n",
       "            </a>\n",
       "        </div>\n",
       "    </div>\n",
       "    \n",
       "    <div class=\"ipyplot-placeholder-div-KyiQWweaaj5Kb3VzkzdMmA\">\n",
       "        <div id=\"ipyplot-content-div-KyiQWweaaj5Kb3VzkzdMmA-m3EVLthCj9qpX4BrR4jfTQ\" class=\"ipyplot-content-div-KyiQWweaaj5Kb3VzkzdMmA\">\n",
       "            <h4 style=\"font-size: 12px; word-wrap: break-word;\">1</h4>\n",
       "            <img src=\"images/res2.png\"/>\n",
       "            <a href=\"#!\">\n",
       "                <span class=\"ipyplot-img-close\"/>\n",
       "            </a>\n",
       "            <a href=\"#ipyplot-content-div-KyiQWweaaj5Kb3VzkzdMmA-m3EVLthCj9qpX4BrR4jfTQ\">\n",
       "                <span class=\"ipyplot-img-expand\"/>\n",
       "            </a>\n",
       "        </div>\n",
       "    </div>\n",
       "    \n",
       "    <div class=\"ipyplot-placeholder-div-KyiQWweaaj5Kb3VzkzdMmA\">\n",
       "        <div id=\"ipyplot-content-div-KyiQWweaaj5Kb3VzkzdMmA-YUjGTmfcQft6V7LQvbHkZ9\" class=\"ipyplot-content-div-KyiQWweaaj5Kb3VzkzdMmA\">\n",
       "            <h4 style=\"font-size: 12px; word-wrap: break-word;\">2</h4>\n",
       "            <img src=\"images/res3.png\"/>\n",
       "            <a href=\"#!\">\n",
       "                <span class=\"ipyplot-img-close\"/>\n",
       "            </a>\n",
       "            <a href=\"#ipyplot-content-div-KyiQWweaaj5Kb3VzkzdMmA-YUjGTmfcQft6V7LQvbHkZ9\">\n",
       "                <span class=\"ipyplot-img-expand\"/>\n",
       "            </a>\n",
       "        </div>\n",
       "    </div>\n",
       "    \n",
       "    <div class=\"ipyplot-placeholder-div-KyiQWweaaj5Kb3VzkzdMmA\">\n",
       "        <div id=\"ipyplot-content-div-KyiQWweaaj5Kb3VzkzdMmA-b4pdF6j7qgvkM73T29ZZ6e\" class=\"ipyplot-content-div-KyiQWweaaj5Kb3VzkzdMmA\">\n",
       "            <h4 style=\"font-size: 12px; word-wrap: break-word;\">3</h4>\n",
       "            <img src=\"images/res4.png\"/>\n",
       "            <a href=\"#!\">\n",
       "                <span class=\"ipyplot-img-close\"/>\n",
       "            </a>\n",
       "            <a href=\"#ipyplot-content-div-KyiQWweaaj5Kb3VzkzdMmA-b4pdF6j7qgvkM73T29ZZ6e\">\n",
       "                <span class=\"ipyplot-img-expand\"/>\n",
       "            </a>\n",
       "        </div>\n",
       "    </div>\n",
       "    </div>"
      ],
      "text/plain": [
       "<IPython.core.display.HTML object>"
      ]
     },
     "metadata": {},
     "output_type": "display_data"
    }
   ],
   "source": [
    "grid(ims)"
   ]
  },
  {
   "cell_type": "markdown",
   "id": "0fb3ffac",
   "metadata": {
    "slideshow": {
     "slide_type": "slide"
    }
   },
   "source": [
    "## By Hyper Parameters"
   ]
  },
  {
   "cell_type": "code",
   "execution_count": 27,
   "id": "8125c408",
   "metadata": {
    "slideshow": {
     "slide_type": "skip"
    }
   },
   "outputs": [],
   "source": [
    "ims = [\"./images/res5.png\", \"./images/res6.png\", \"./images/res7.png\", \"./images/res8.png\"]\n",
    "lbls = [\"By Schedule\", \"By Proxy Threshold\", \"By Proxy Image Weight\", \"By Proxy Image Subset\"]"
   ]
  },
  {
   "cell_type": "code",
   "execution_count": 28,
   "id": "c7f68dfd",
   "metadata": {
    "scrolled": false,
    "slideshow": {
     "slide_type": "subslide"
    }
   },
   "outputs": [
    {
     "data": {
      "text/html": [
       "\n",
       "    <style>\n",
       "        #ipyplot-html-viewer-toggle-3wKeod7kJXfheNwfrfjnZo {\n",
       "            position: absolute;\n",
       "            top: -9999px;\n",
       "            left: -9999px;\n",
       "            visibility: hidden;\n",
       "        }\n",
       "\n",
       "        #ipyplot-html-viewer-label-3wKeod7kJXfheNwfrfjnZo { \n",
       "            position: relative;\n",
       "            display: inline-block;\n",
       "            cursor: pointer;\n",
       "            color: blue;\n",
       "            text-decoration: underline;\n",
       "        }\n",
       "\n",
       "        #ipyplot-html-viewer-textarea-3wKeod7kJXfheNwfrfjnZo {\n",
       "            background: lightgrey;\n",
       "            width: 100%;\n",
       "            height: 0px;\n",
       "            display: none;\n",
       "        }\n",
       "\n",
       "        #ipyplot-html-viewer-toggle-3wKeod7kJXfheNwfrfjnZo:checked ~ #ipyplot-html-viewer-textarea-3wKeod7kJXfheNwfrfjnZo {\n",
       "            height: 200px;\n",
       "            display: block;\n",
       "        }\n",
       "\n",
       "        #ipyplot-html-viewer-toggle-3wKeod7kJXfheNwfrfjnZo:checked + #ipyplot-html-viewer-label-3wKeod7kJXfheNwfrfjnZo:after {\n",
       "            content: \"hide html\";\n",
       "            position: absolute;\n",
       "            top: 0;\n",
       "            left: 0;\n",
       "            right: 0;\n",
       "            bottom: 0;\n",
       "            background: white;\n",
       "            cursor: pointer;\n",
       "            color: blue;\n",
       "            text-decoration: underline;\n",
       "        }\n",
       "    </style>\n",
       "    <div>\n",
       "        <input type=\"checkbox\" id=\"ipyplot-html-viewer-toggle-3wKeod7kJXfheNwfrfjnZo\">\n",
       "        <label id=\"ipyplot-html-viewer-label-3wKeod7kJXfheNwfrfjnZo\" for=\"ipyplot-html-viewer-toggle-3wKeod7kJXfheNwfrfjnZo\">show html</label>\n",
       "        <textarea id=\"ipyplot-html-viewer-textarea-3wKeod7kJXfheNwfrfjnZo\" readonly>\n",
       "            \n",
       "        <style>\n",
       "        #ipyplot-imgs-container-div-LQZy5BCTJexJSNaMhyuz5K {\n",
       "            width: 100%;\n",
       "            height: 100%;\n",
       "            margin: 0%;\n",
       "            overflow: auto;\n",
       "            position: relative;\n",
       "            overflow-y: scroll;\n",
       "        }\n",
       "\n",
       "        div.ipyplot-placeholder-div-LQZy5BCTJexJSNaMhyuz5K {\n",
       "            width: 500px;\n",
       "            display: inline-block;\n",
       "            margin: 3px;\n",
       "            position: relative;\n",
       "        }\n",
       "\n",
       "        div.ipyplot-content-div-LQZy5BCTJexJSNaMhyuz5K {\n",
       "            width: 500px;\n",
       "            background: white;\n",
       "            display: inline-block;\n",
       "            vertical-align: top;\n",
       "            text-align: center;\n",
       "            position: relative;\n",
       "            border: 2px solid #ddd;\n",
       "            top: 0;\n",
       "            left: 0;\n",
       "        }\n",
       "\n",
       "        div.ipyplot-content-div-LQZy5BCTJexJSNaMhyuz5K span.ipyplot-img-close {\n",
       "            display: none;\n",
       "        }\n",
       "\n",
       "        div.ipyplot-content-div-LQZy5BCTJexJSNaMhyuz5K span {\n",
       "            width: 100%;\n",
       "            height: 100%;\n",
       "            position: absolute;\n",
       "            top: 0;\n",
       "            left: 0;\n",
       "        }\n",
       "\n",
       "        div.ipyplot-content-div-LQZy5BCTJexJSNaMhyuz5K img {\n",
       "            width: 500px;\n",
       "        }\n",
       "\n",
       "        div.ipyplot-content-div-LQZy5BCTJexJSNaMhyuz5K span.ipyplot-img-close:hover {\n",
       "            cursor: zoom-out;\n",
       "        }\n",
       "        div.ipyplot-content-div-LQZy5BCTJexJSNaMhyuz5K span.ipyplot-img-expand:hover {\n",
       "            cursor: zoom-in;\n",
       "        }\n",
       "\n",
       "        div[id^=ipyplot-content-div-LQZy5BCTJexJSNaMhyuz5K]:target {\n",
       "            transform: scale(2.5);\n",
       "            transform-origin: left top;\n",
       "            z-index: 5000;\n",
       "            top: 0;\n",
       "            left: 0;\n",
       "            position: absolute;\n",
       "        }\n",
       "\n",
       "        div[id^=ipyplot-content-div-LQZy5BCTJexJSNaMhyuz5K]:target span.ipyplot-img-close {\n",
       "            display: block;\n",
       "        }\n",
       "\n",
       "        div[id^=ipyplot-content-div-LQZy5BCTJexJSNaMhyuz5K]:target span.ipyplot-img-expand {\n",
       "            display: none;\n",
       "        }\n",
       "        </style>\n",
       "    <div id=\"ipyplot-imgs-container-div-LQZy5BCTJexJSNaMhyuz5K\">\n",
       "    <div class=\"ipyplot-placeholder-div-LQZy5BCTJexJSNaMhyuz5K\">\n",
       "        <div id=\"ipyplot-content-div-LQZy5BCTJexJSNaMhyuz5K-YteZL7rWr2PMRspJFSAtwe\" class=\"ipyplot-content-div-LQZy5BCTJexJSNaMhyuz5K\">\n",
       "            <h4 style=\"font-size: 12px; word-wrap: break-word;\">By Schedule</h4>\n",
       "            <img src=\"images/res5.png\"/>\n",
       "            <a href=\"#!\">\n",
       "                <span class=\"ipyplot-img-close\"/>\n",
       "            </a>\n",
       "            <a href=\"#ipyplot-content-div-LQZy5BCTJexJSNaMhyuz5K-YteZL7rWr2PMRspJFSAtwe\">\n",
       "                <span class=\"ipyplot-img-expand\"/>\n",
       "            </a>\n",
       "        </div>\n",
       "    </div>\n",
       "    \n",
       "    <div class=\"ipyplot-placeholder-div-LQZy5BCTJexJSNaMhyuz5K\">\n",
       "        <div id=\"ipyplot-content-div-LQZy5BCTJexJSNaMhyuz5K-CRy3nGNqEhZAL7yEV3xiuz\" class=\"ipyplot-content-div-LQZy5BCTJexJSNaMhyuz5K\">\n",
       "            <h4 style=\"font-size: 12px; word-wrap: break-word;\">By Proxy Threshold</h4>\n",
       "            <img src=\"images/res6.png\"/>\n",
       "            <a href=\"#!\">\n",
       "                <span class=\"ipyplot-img-close\"/>\n",
       "            </a>\n",
       "            <a href=\"#ipyplot-content-div-LQZy5BCTJexJSNaMhyuz5K-CRy3nGNqEhZAL7yEV3xiuz\">\n",
       "                <span class=\"ipyplot-img-expand\"/>\n",
       "            </a>\n",
       "        </div>\n",
       "    </div>\n",
       "    \n",
       "    <div class=\"ipyplot-placeholder-div-LQZy5BCTJexJSNaMhyuz5K\">\n",
       "        <div id=\"ipyplot-content-div-LQZy5BCTJexJSNaMhyuz5K-FkKkz6Wskr4HTFigS9suCf\" class=\"ipyplot-content-div-LQZy5BCTJexJSNaMhyuz5K\">\n",
       "            <h4 style=\"font-size: 12px; word-wrap: break-word;\">By Proxy Image Weight</h4>\n",
       "            <img src=\"images/res7.png\"/>\n",
       "            <a href=\"#!\">\n",
       "                <span class=\"ipyplot-img-close\"/>\n",
       "            </a>\n",
       "            <a href=\"#ipyplot-content-div-LQZy5BCTJexJSNaMhyuz5K-FkKkz6Wskr4HTFigS9suCf\">\n",
       "                <span class=\"ipyplot-img-expand\"/>\n",
       "            </a>\n",
       "        </div>\n",
       "    </div>\n",
       "    \n",
       "    <div class=\"ipyplot-placeholder-div-LQZy5BCTJexJSNaMhyuz5K\">\n",
       "        <div id=\"ipyplot-content-div-LQZy5BCTJexJSNaMhyuz5K-JxPCuAwrJPiRjXgxESs5Ha\" class=\"ipyplot-content-div-LQZy5BCTJexJSNaMhyuz5K\">\n",
       "            <h4 style=\"font-size: 12px; word-wrap: break-word;\">By Proxy Image Subset</h4>\n",
       "            <img src=\"images/res8.png\"/>\n",
       "            <a href=\"#!\">\n",
       "                <span class=\"ipyplot-img-close\"/>\n",
       "            </a>\n",
       "            <a href=\"#ipyplot-content-div-LQZy5BCTJexJSNaMhyuz5K-JxPCuAwrJPiRjXgxESs5Ha\">\n",
       "                <span class=\"ipyplot-img-expand\"/>\n",
       "            </a>\n",
       "        </div>\n",
       "    </div>\n",
       "    </div>\n",
       "        </textarea>\n",
       "    </div>\n",
       "    "
      ],
      "text/plain": [
       "<IPython.core.display.HTML object>"
      ]
     },
     "metadata": {},
     "output_type": "display_data"
    },
    {
     "data": {
      "text/html": [
       "\n",
       "        <style>\n",
       "        #ipyplot-imgs-container-div-LQZy5BCTJexJSNaMhyuz5K {\n",
       "            width: 100%;\n",
       "            height: 100%;\n",
       "            margin: 0%;\n",
       "            overflow: auto;\n",
       "            position: relative;\n",
       "            overflow-y: scroll;\n",
       "        }\n",
       "\n",
       "        div.ipyplot-placeholder-div-LQZy5BCTJexJSNaMhyuz5K {\n",
       "            width: 500px;\n",
       "            display: inline-block;\n",
       "            margin: 3px;\n",
       "            position: relative;\n",
       "        }\n",
       "\n",
       "        div.ipyplot-content-div-LQZy5BCTJexJSNaMhyuz5K {\n",
       "            width: 500px;\n",
       "            background: white;\n",
       "            display: inline-block;\n",
       "            vertical-align: top;\n",
       "            text-align: center;\n",
       "            position: relative;\n",
       "            border: 2px solid #ddd;\n",
       "            top: 0;\n",
       "            left: 0;\n",
       "        }\n",
       "\n",
       "        div.ipyplot-content-div-LQZy5BCTJexJSNaMhyuz5K span.ipyplot-img-close {\n",
       "            display: none;\n",
       "        }\n",
       "\n",
       "        div.ipyplot-content-div-LQZy5BCTJexJSNaMhyuz5K span {\n",
       "            width: 100%;\n",
       "            height: 100%;\n",
       "            position: absolute;\n",
       "            top: 0;\n",
       "            left: 0;\n",
       "        }\n",
       "\n",
       "        div.ipyplot-content-div-LQZy5BCTJexJSNaMhyuz5K img {\n",
       "            width: 500px;\n",
       "        }\n",
       "\n",
       "        div.ipyplot-content-div-LQZy5BCTJexJSNaMhyuz5K span.ipyplot-img-close:hover {\n",
       "            cursor: zoom-out;\n",
       "        }\n",
       "        div.ipyplot-content-div-LQZy5BCTJexJSNaMhyuz5K span.ipyplot-img-expand:hover {\n",
       "            cursor: zoom-in;\n",
       "        }\n",
       "\n",
       "        div[id^=ipyplot-content-div-LQZy5BCTJexJSNaMhyuz5K]:target {\n",
       "            transform: scale(2.5);\n",
       "            transform-origin: left top;\n",
       "            z-index: 5000;\n",
       "            top: 0;\n",
       "            left: 0;\n",
       "            position: absolute;\n",
       "        }\n",
       "\n",
       "        div[id^=ipyplot-content-div-LQZy5BCTJexJSNaMhyuz5K]:target span.ipyplot-img-close {\n",
       "            display: block;\n",
       "        }\n",
       "\n",
       "        div[id^=ipyplot-content-div-LQZy5BCTJexJSNaMhyuz5K]:target span.ipyplot-img-expand {\n",
       "            display: none;\n",
       "        }\n",
       "        </style>\n",
       "    <div id=\"ipyplot-imgs-container-div-LQZy5BCTJexJSNaMhyuz5K\">\n",
       "    <div class=\"ipyplot-placeholder-div-LQZy5BCTJexJSNaMhyuz5K\">\n",
       "        <div id=\"ipyplot-content-div-LQZy5BCTJexJSNaMhyuz5K-YteZL7rWr2PMRspJFSAtwe\" class=\"ipyplot-content-div-LQZy5BCTJexJSNaMhyuz5K\">\n",
       "            <h4 style=\"font-size: 12px; word-wrap: break-word;\">By Schedule</h4>\n",
       "            <img src=\"images/res5.png\"/>\n",
       "            <a href=\"#!\">\n",
       "                <span class=\"ipyplot-img-close\"/>\n",
       "            </a>\n",
       "            <a href=\"#ipyplot-content-div-LQZy5BCTJexJSNaMhyuz5K-YteZL7rWr2PMRspJFSAtwe\">\n",
       "                <span class=\"ipyplot-img-expand\"/>\n",
       "            </a>\n",
       "        </div>\n",
       "    </div>\n",
       "    \n",
       "    <div class=\"ipyplot-placeholder-div-LQZy5BCTJexJSNaMhyuz5K\">\n",
       "        <div id=\"ipyplot-content-div-LQZy5BCTJexJSNaMhyuz5K-CRy3nGNqEhZAL7yEV3xiuz\" class=\"ipyplot-content-div-LQZy5BCTJexJSNaMhyuz5K\">\n",
       "            <h4 style=\"font-size: 12px; word-wrap: break-word;\">By Proxy Threshold</h4>\n",
       "            <img src=\"images/res6.png\"/>\n",
       "            <a href=\"#!\">\n",
       "                <span class=\"ipyplot-img-close\"/>\n",
       "            </a>\n",
       "            <a href=\"#ipyplot-content-div-LQZy5BCTJexJSNaMhyuz5K-CRy3nGNqEhZAL7yEV3xiuz\">\n",
       "                <span class=\"ipyplot-img-expand\"/>\n",
       "            </a>\n",
       "        </div>\n",
       "    </div>\n",
       "    \n",
       "    <div class=\"ipyplot-placeholder-div-LQZy5BCTJexJSNaMhyuz5K\">\n",
       "        <div id=\"ipyplot-content-div-LQZy5BCTJexJSNaMhyuz5K-FkKkz6Wskr4HTFigS9suCf\" class=\"ipyplot-content-div-LQZy5BCTJexJSNaMhyuz5K\">\n",
       "            <h4 style=\"font-size: 12px; word-wrap: break-word;\">By Proxy Image Weight</h4>\n",
       "            <img src=\"images/res7.png\"/>\n",
       "            <a href=\"#!\">\n",
       "                <span class=\"ipyplot-img-close\"/>\n",
       "            </a>\n",
       "            <a href=\"#ipyplot-content-div-LQZy5BCTJexJSNaMhyuz5K-FkKkz6Wskr4HTFigS9suCf\">\n",
       "                <span class=\"ipyplot-img-expand\"/>\n",
       "            </a>\n",
       "        </div>\n",
       "    </div>\n",
       "    \n",
       "    <div class=\"ipyplot-placeholder-div-LQZy5BCTJexJSNaMhyuz5K\">\n",
       "        <div id=\"ipyplot-content-div-LQZy5BCTJexJSNaMhyuz5K-JxPCuAwrJPiRjXgxESs5Ha\" class=\"ipyplot-content-div-LQZy5BCTJexJSNaMhyuz5K\">\n",
       "            <h4 style=\"font-size: 12px; word-wrap: break-word;\">By Proxy Image Subset</h4>\n",
       "            <img src=\"images/res8.png\"/>\n",
       "            <a href=\"#!\">\n",
       "                <span class=\"ipyplot-img-close\"/>\n",
       "            </a>\n",
       "            <a href=\"#ipyplot-content-div-LQZy5BCTJexJSNaMhyuz5K-JxPCuAwrJPiRjXgxESs5Ha\">\n",
       "                <span class=\"ipyplot-img-expand\"/>\n",
       "            </a>\n",
       "        </div>\n",
       "    </div>\n",
       "    </div>"
      ],
      "text/plain": [
       "<IPython.core.display.HTML object>"
      ]
     },
     "metadata": {},
     "output_type": "display_data"
    }
   ],
   "source": [
    "grid(ims, lbls)"
   ]
  },
  {
   "cell_type": "markdown",
   "id": "0cfc3219",
   "metadata": {
    "slideshow": {
     "slide_type": "slide"
    }
   },
   "source": [
    "## By Explainability"
   ]
  },
  {
   "cell_type": "code",
   "execution_count": 29,
   "id": "0d5f0b61",
   "metadata": {
    "slideshow": {
     "slide_type": "skip"
    }
   },
   "outputs": [],
   "source": [
    "ims = [\"./images/expl12.png\", \"./images/expl3.png\"]"
   ]
  },
  {
   "cell_type": "code",
   "execution_count": 30,
   "id": "edc93cc7",
   "metadata": {
    "scrolled": false,
    "slideshow": {
     "slide_type": "subslide"
    }
   },
   "outputs": [
    {
     "data": {
      "text/html": [
       "\n",
       "    <style>\n",
       "        #ipyplot-html-viewer-toggle-5nzBTMgtaWehtrbk9WNZ8o {\n",
       "            position: absolute;\n",
       "            top: -9999px;\n",
       "            left: -9999px;\n",
       "            visibility: hidden;\n",
       "        }\n",
       "\n",
       "        #ipyplot-html-viewer-label-5nzBTMgtaWehtrbk9WNZ8o { \n",
       "            position: relative;\n",
       "            display: inline-block;\n",
       "            cursor: pointer;\n",
       "            color: blue;\n",
       "            text-decoration: underline;\n",
       "        }\n",
       "\n",
       "        #ipyplot-html-viewer-textarea-5nzBTMgtaWehtrbk9WNZ8o {\n",
       "            background: lightgrey;\n",
       "            width: 100%;\n",
       "            height: 0px;\n",
       "            display: none;\n",
       "        }\n",
       "\n",
       "        #ipyplot-html-viewer-toggle-5nzBTMgtaWehtrbk9WNZ8o:checked ~ #ipyplot-html-viewer-textarea-5nzBTMgtaWehtrbk9WNZ8o {\n",
       "            height: 200px;\n",
       "            display: block;\n",
       "        }\n",
       "\n",
       "        #ipyplot-html-viewer-toggle-5nzBTMgtaWehtrbk9WNZ8o:checked + #ipyplot-html-viewer-label-5nzBTMgtaWehtrbk9WNZ8o:after {\n",
       "            content: \"hide html\";\n",
       "            position: absolute;\n",
       "            top: 0;\n",
       "            left: 0;\n",
       "            right: 0;\n",
       "            bottom: 0;\n",
       "            background: white;\n",
       "            cursor: pointer;\n",
       "            color: blue;\n",
       "            text-decoration: underline;\n",
       "        }\n",
       "    </style>\n",
       "    <div>\n",
       "        <input type=\"checkbox\" id=\"ipyplot-html-viewer-toggle-5nzBTMgtaWehtrbk9WNZ8o\">\n",
       "        <label id=\"ipyplot-html-viewer-label-5nzBTMgtaWehtrbk9WNZ8o\" for=\"ipyplot-html-viewer-toggle-5nzBTMgtaWehtrbk9WNZ8o\">show html</label>\n",
       "        <textarea id=\"ipyplot-html-viewer-textarea-5nzBTMgtaWehtrbk9WNZ8o\" readonly>\n",
       "            \n",
       "        <style>\n",
       "        #ipyplot-imgs-container-div-39hQDTU3GMyoRd2LXZXWuh {\n",
       "            width: 100%;\n",
       "            height: 100%;\n",
       "            margin: 0%;\n",
       "            overflow: auto;\n",
       "            position: relative;\n",
       "            overflow-y: scroll;\n",
       "        }\n",
       "\n",
       "        div.ipyplot-placeholder-div-39hQDTU3GMyoRd2LXZXWuh {\n",
       "            width: 1000px;\n",
       "            display: inline-block;\n",
       "            margin: 3px;\n",
       "            position: relative;\n",
       "        }\n",
       "\n",
       "        div.ipyplot-content-div-39hQDTU3GMyoRd2LXZXWuh {\n",
       "            width: 1000px;\n",
       "            background: white;\n",
       "            display: inline-block;\n",
       "            vertical-align: top;\n",
       "            text-align: center;\n",
       "            position: relative;\n",
       "            border: 2px solid #ddd;\n",
       "            top: 0;\n",
       "            left: 0;\n",
       "        }\n",
       "\n",
       "        div.ipyplot-content-div-39hQDTU3GMyoRd2LXZXWuh span.ipyplot-img-close {\n",
       "            display: none;\n",
       "        }\n",
       "\n",
       "        div.ipyplot-content-div-39hQDTU3GMyoRd2LXZXWuh span {\n",
       "            width: 100%;\n",
       "            height: 100%;\n",
       "            position: absolute;\n",
       "            top: 0;\n",
       "            left: 0;\n",
       "        }\n",
       "\n",
       "        div.ipyplot-content-div-39hQDTU3GMyoRd2LXZXWuh img {\n",
       "            width: 1000px;\n",
       "        }\n",
       "\n",
       "        div.ipyplot-content-div-39hQDTU3GMyoRd2LXZXWuh span.ipyplot-img-close:hover {\n",
       "            cursor: zoom-out;\n",
       "        }\n",
       "        div.ipyplot-content-div-39hQDTU3GMyoRd2LXZXWuh span.ipyplot-img-expand:hover {\n",
       "            cursor: zoom-in;\n",
       "        }\n",
       "\n",
       "        div[id^=ipyplot-content-div-39hQDTU3GMyoRd2LXZXWuh]:target {\n",
       "            transform: scale(2.5);\n",
       "            transform-origin: left top;\n",
       "            z-index: 5000;\n",
       "            top: 0;\n",
       "            left: 0;\n",
       "            position: absolute;\n",
       "        }\n",
       "\n",
       "        div[id^=ipyplot-content-div-39hQDTU3GMyoRd2LXZXWuh]:target span.ipyplot-img-close {\n",
       "            display: block;\n",
       "        }\n",
       "\n",
       "        div[id^=ipyplot-content-div-39hQDTU3GMyoRd2LXZXWuh]:target span.ipyplot-img-expand {\n",
       "            display: none;\n",
       "        }\n",
       "        </style>\n",
       "    <div id=\"ipyplot-imgs-container-div-39hQDTU3GMyoRd2LXZXWuh\">\n",
       "    <div class=\"ipyplot-placeholder-div-39hQDTU3GMyoRd2LXZXWuh\">\n",
       "        <div id=\"ipyplot-content-div-39hQDTU3GMyoRd2LXZXWuh-hdLyrhPgLZBMCNVLU7B9tU\" class=\"ipyplot-content-div-39hQDTU3GMyoRd2LXZXWuh\">\n",
       "            <h4 style=\"font-size: 12px; word-wrap: break-word;\">0</h4>\n",
       "            <img src=\"images/expl12.png\"/>\n",
       "            <a href=\"#!\">\n",
       "                <span class=\"ipyplot-img-close\"/>\n",
       "            </a>\n",
       "            <a href=\"#ipyplot-content-div-39hQDTU3GMyoRd2LXZXWuh-hdLyrhPgLZBMCNVLU7B9tU\">\n",
       "                <span class=\"ipyplot-img-expand\"/>\n",
       "            </a>\n",
       "        </div>\n",
       "    </div>\n",
       "    \n",
       "    <div class=\"ipyplot-placeholder-div-39hQDTU3GMyoRd2LXZXWuh\">\n",
       "        <div id=\"ipyplot-content-div-39hQDTU3GMyoRd2LXZXWuh-9i8RLGFDjUN6T4zFmRx5YG\" class=\"ipyplot-content-div-39hQDTU3GMyoRd2LXZXWuh\">\n",
       "            <h4 style=\"font-size: 12px; word-wrap: break-word;\">1</h4>\n",
       "            <img src=\"images/expl3.png\"/>\n",
       "            <a href=\"#!\">\n",
       "                <span class=\"ipyplot-img-close\"/>\n",
       "            </a>\n",
       "            <a href=\"#ipyplot-content-div-39hQDTU3GMyoRd2LXZXWuh-9i8RLGFDjUN6T4zFmRx5YG\">\n",
       "                <span class=\"ipyplot-img-expand\"/>\n",
       "            </a>\n",
       "        </div>\n",
       "    </div>\n",
       "    </div>\n",
       "        </textarea>\n",
       "    </div>\n",
       "    "
      ],
      "text/plain": [
       "<IPython.core.display.HTML object>"
      ]
     },
     "metadata": {},
     "output_type": "display_data"
    },
    {
     "data": {
      "text/html": [
       "\n",
       "        <style>\n",
       "        #ipyplot-imgs-container-div-39hQDTU3GMyoRd2LXZXWuh {\n",
       "            width: 100%;\n",
       "            height: 100%;\n",
       "            margin: 0%;\n",
       "            overflow: auto;\n",
       "            position: relative;\n",
       "            overflow-y: scroll;\n",
       "        }\n",
       "\n",
       "        div.ipyplot-placeholder-div-39hQDTU3GMyoRd2LXZXWuh {\n",
       "            width: 1000px;\n",
       "            display: inline-block;\n",
       "            margin: 3px;\n",
       "            position: relative;\n",
       "        }\n",
       "\n",
       "        div.ipyplot-content-div-39hQDTU3GMyoRd2LXZXWuh {\n",
       "            width: 1000px;\n",
       "            background: white;\n",
       "            display: inline-block;\n",
       "            vertical-align: top;\n",
       "            text-align: center;\n",
       "            position: relative;\n",
       "            border: 2px solid #ddd;\n",
       "            top: 0;\n",
       "            left: 0;\n",
       "        }\n",
       "\n",
       "        div.ipyplot-content-div-39hQDTU3GMyoRd2LXZXWuh span.ipyplot-img-close {\n",
       "            display: none;\n",
       "        }\n",
       "\n",
       "        div.ipyplot-content-div-39hQDTU3GMyoRd2LXZXWuh span {\n",
       "            width: 100%;\n",
       "            height: 100%;\n",
       "            position: absolute;\n",
       "            top: 0;\n",
       "            left: 0;\n",
       "        }\n",
       "\n",
       "        div.ipyplot-content-div-39hQDTU3GMyoRd2LXZXWuh img {\n",
       "            width: 1000px;\n",
       "        }\n",
       "\n",
       "        div.ipyplot-content-div-39hQDTU3GMyoRd2LXZXWuh span.ipyplot-img-close:hover {\n",
       "            cursor: zoom-out;\n",
       "        }\n",
       "        div.ipyplot-content-div-39hQDTU3GMyoRd2LXZXWuh span.ipyplot-img-expand:hover {\n",
       "            cursor: zoom-in;\n",
       "        }\n",
       "\n",
       "        div[id^=ipyplot-content-div-39hQDTU3GMyoRd2LXZXWuh]:target {\n",
       "            transform: scale(2.5);\n",
       "            transform-origin: left top;\n",
       "            z-index: 5000;\n",
       "            top: 0;\n",
       "            left: 0;\n",
       "            position: absolute;\n",
       "        }\n",
       "\n",
       "        div[id^=ipyplot-content-div-39hQDTU3GMyoRd2LXZXWuh]:target span.ipyplot-img-close {\n",
       "            display: block;\n",
       "        }\n",
       "\n",
       "        div[id^=ipyplot-content-div-39hQDTU3GMyoRd2LXZXWuh]:target span.ipyplot-img-expand {\n",
       "            display: none;\n",
       "        }\n",
       "        </style>\n",
       "    <div id=\"ipyplot-imgs-container-div-39hQDTU3GMyoRd2LXZXWuh\">\n",
       "    <div class=\"ipyplot-placeholder-div-39hQDTU3GMyoRd2LXZXWuh\">\n",
       "        <div id=\"ipyplot-content-div-39hQDTU3GMyoRd2LXZXWuh-hdLyrhPgLZBMCNVLU7B9tU\" class=\"ipyplot-content-div-39hQDTU3GMyoRd2LXZXWuh\">\n",
       "            <h4 style=\"font-size: 12px; word-wrap: break-word;\">0</h4>\n",
       "            <img src=\"images/expl12.png\"/>\n",
       "            <a href=\"#!\">\n",
       "                <span class=\"ipyplot-img-close\"/>\n",
       "            </a>\n",
       "            <a href=\"#ipyplot-content-div-39hQDTU3GMyoRd2LXZXWuh-hdLyrhPgLZBMCNVLU7B9tU\">\n",
       "                <span class=\"ipyplot-img-expand\"/>\n",
       "            </a>\n",
       "        </div>\n",
       "    </div>\n",
       "    \n",
       "    <div class=\"ipyplot-placeholder-div-39hQDTU3GMyoRd2LXZXWuh\">\n",
       "        <div id=\"ipyplot-content-div-39hQDTU3GMyoRd2LXZXWuh-9i8RLGFDjUN6T4zFmRx5YG\" class=\"ipyplot-content-div-39hQDTU3GMyoRd2LXZXWuh\">\n",
       "            <h4 style=\"font-size: 12px; word-wrap: break-word;\">1</h4>\n",
       "            <img src=\"images/expl3.png\"/>\n",
       "            <a href=\"#!\">\n",
       "                <span class=\"ipyplot-img-close\"/>\n",
       "            </a>\n",
       "            <a href=\"#ipyplot-content-div-39hQDTU3GMyoRd2LXZXWuh-9i8RLGFDjUN6T4zFmRx5YG\">\n",
       "                <span class=\"ipyplot-img-expand\"/>\n",
       "            </a>\n",
       "        </div>\n",
       "    </div>\n",
       "    </div>"
      ],
      "text/plain": [
       "<IPython.core.display.HTML object>"
      ]
     },
     "metadata": {},
     "output_type": "display_data"
    }
   ],
   "source": [
    "grid(ims, img_width=1000)"
   ]
  },
  {
   "cell_type": "markdown",
   "id": "9cdf6019",
   "metadata": {
    "slideshow": {
     "slide_type": "slide"
    }
   },
   "source": [
    "# Discussion\n",
    "- Improved performance\n",
    "- Explainability\n",
    "- When to apply Proxy Attention? : Easy vs Hard Datasets\n",
    "- Optional hyperparameters : Proxy Weight and Proxy Threshold\n",
    "- Scheduling the Proxy Step\n",
    "- Performance across models\n",
    "- Helps ViT too!"
   ]
  },
  {
   "cell_type": "markdown",
   "id": "d30ef6ed",
   "metadata": {
    "slideshow": {
     "slide_type": "slide"
    }
   },
   "source": [
    "# Limitations\n",
    "\n",
    "- Hyperparameters\n",
    "- Attention\n",
    "- Better Scheduling"
   ]
  },
  {
   "cell_type": "markdown",
   "id": "9c67edf1",
   "metadata": {
    "slideshow": {
     "slide_type": "slide"
    }
   },
   "source": [
    "# Future Work\n",
    "\n",
    "- Better Scheduling\n",
    "- More XAI methods\n",
    "- Smoothing Attention Maps\n",
    "- Better Attention Maps for ViT"
   ]
  },
  {
   "cell_type": "markdown",
   "id": "d0341855",
   "metadata": {
    "slideshow": {
     "slide_type": "slide"
    }
   },
   "source": [
    "# Q&A\n",
    "<img src=\"./images/qs.jpg\" alt= “” width=\"900px\">"
   ]
  },
  {
   "attachments": {},
   "cell_type": "markdown",
   "id": "223a71ba",
   "metadata": {
    "slideshow": {
     "slide_type": "slide"
    }
   },
   "source": [
    "<img src=\"./images/bye.png\" alt= “” width=\"1000px\">"
   ]
  }
 ],
 "metadata": {
  "celltoolbar": "Slideshow",
  "kernelspec": {
   "display_name": "Python 3 (ipykernel)",
   "language": "python",
   "name": "python3"
  },
  "language_info": {
   "codemirror_mode": {
    "name": "ipython",
    "version": 3
   },
   "file_extension": ".py",
   "mimetype": "text/x-python",
   "name": "python",
   "nbconvert_exporter": "python",
   "pygments_lexer": "ipython3",
   "version": "3.10.10"
  },
  "rise": {
   "async_timeout": 250,
   "auto_select": "code",
   "auto_select_timeout": 450,
   "autolaunch": false,
   "backimage": false,
   "center": true,
   "controls": true,
   "enable_chalkboard": true,
   "footer": "",
   "header": "",
   "height": "100%",
   "history": true,
   "overlay": "",
   "progress": true,
   "restore_timeout": 500,
   "scroll": true,
   "show_buttons_on_startup": true,
   "slideNumber": true,
   "start_slideshow_at": "selected",
   "theme": "simple",
   "transition": "fade",
   "width": "100%"
  },
  "toc": {
   "base_numbering": 1,
   "nav_menu": {},
   "number_sections": true,
   "sideBar": true,
   "skip_h1_title": false,
   "title_cell": "Table of Contents",
   "title_sidebar": "Contents",
   "toc_cell": false,
   "toc_position": {
    "height": "calc(100% - 180px)",
    "left": "10px",
    "top": "150px",
    "width": "326.797px"
   },
   "toc_section_display": true,
   "toc_window_display": false
  }
 },
 "nbformat": 4,
 "nbformat_minor": 5
}
