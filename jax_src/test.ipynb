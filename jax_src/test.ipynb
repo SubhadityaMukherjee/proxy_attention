{
 "cells": [
  {
   "cell_type": "code",
   "execution_count": 1,
   "metadata": {},
   "outputs": [],
   "source": [
    "using FastAI, FastVision, FastMakie, Metalhead\n",
    "import CairoMakie"
   ]
  },
  {
   "cell_type": "code",
   "execution_count": 2,
   "metadata": {},
   "outputs": [
    {
     "name": "stdout",
     "output_type": "stream",
     "text": [
      "This program has requested access to the data dependency fastai-imagenette2-160.\n",
      "which is not currently installed. It can be installed automatically, and you will not see this message again.\n",
      "\n",
      "\"imagenette2-160\" from the fastai dataset repository (https://course.fast.ai/datasets)\n",
      "\n",
      "A subset of 10 easily classified classes from Imagenet: tench, English springer, cassette player, chain saw, church, French horn, garbage truck, gas pump, golf ball, parachute\n",
      "\n",
      " Download size: ???\n",
      " \n",
      "\n",
      "\n",
      "Do you want to download the dataset from https://s3.amazonaws.com/fast-ai-imageclas/imagenette2-160.tgz to \"/home/eragon/.julia/datadeps/fastai-imagenette2-160\"?\n",
      "[y/n]\n"
     ]
    },
    {
     "ename": "UndefVarError",
     "evalue": "UndefVarError: execute_msg not defined",
     "output_type": "error",
     "traceback": [
      "UndefVarError: execute_msg not defined\n",
      "\n",
      "Stacktrace:\n",
      "  [1] readprompt(prompt::String; password::Bool)\n",
      "    @ VSCodeServer.IJuliaCore ~/.vscode/extensions/julialang.language-julia-1.38.2/scripts/packages/IJuliaCore/src/stdio.jl:190\n",
      "  [2] readprompt\n",
      "    @ ~/.vscode/extensions/julialang.language-julia-1.38.2/scripts/packages/IJuliaCore/src/stdio.jl:188 [inlined]\n",
      "  [3] readline(io::VSCodeServer.IJuliaCore.IJuliaStdio{Base.PipeEndpoint, typeof(VSCodeServer.io_send_callback)})\n",
      "    @ VSCodeServer.IJuliaCore ~/.vscode/extensions/julialang.language-julia-1.38.2/scripts/packages/IJuliaCore/src/stdio.jl:232\n",
      "  [4] better_readline(stream::VSCodeServer.IJuliaCore.IJuliaStdio{Base.PipeEndpoint, typeof(VSCodeServer.io_send_callback)})\n",
      "    @ DataDeps ~/.julia/packages/DataDeps/ae6dT/src/util.jl:60\n",
      "  [5] better_readline()\n",
      "    @ DataDeps ~/.julia/packages/DataDeps/ae6dT/src/util.jl:55\n",
      "  [6] input_choice(::String, ::Char, ::Vararg{Char})\n",
      "    @ DataDeps ~/.julia/packages/DataDeps/ae6dT/src/util.jl:82\n",
      "  [7] input_bool\n",
      "    @ ~/.julia/packages/DataDeps/ae6dT/src/util.jl:70 [inlined]\n",
      "  [8] check_if_accept_terms(datadep::DataDeps.DataDep{String, String, typeof(DataDeps.fetch_default), FastAI.Datasets.var\"#10#11\"}, localpath::String, remotepath::String)\n",
      "    @ DataDeps ~/.julia/packages/DataDeps/ae6dT/src/resolution_automatic.jl:180\n",
      "  [9] accept_terms\n",
      "    @ ~/.julia/packages/DataDeps/ae6dT/src/resolution_automatic.jl:163 [inlined]\n",
      " [10] download(datadep::DataDeps.DataDep{String, String, typeof(DataDeps.fetch_default), FastAI.Datasets.var\"#10#11\"}, localdir::String; remotepath::String, i_accept_the_terms_of_use::Nothing, skip_checksum::Bool)\n",
      "    @ DataDeps ~/.julia/packages/DataDeps/ae6dT/src/resolution_automatic.jl:72\n",
      " [11] download\n",
      "    @ ~/.julia/packages/DataDeps/ae6dT/src/resolution_automatic.jl:63 [inlined]\n",
      " [12] handle_missing\n",
      "    @ ~/.julia/packages/DataDeps/ae6dT/src/resolution_automatic.jl:10 [inlined]\n",
      " [13] _resolve\n",
      "    @ ~/.julia/packages/DataDeps/ae6dT/src/resolution.jl:83 [inlined]\n",
      " [14] resolve(datadep::DataDeps.DataDep{String, String, typeof(DataDeps.fetch_default), FastAI.Datasets.var\"#10#11\"}, inner_filepath::String, calling_filepath::String)\n",
      "    @ DataDeps ~/.julia/packages/DataDeps/ae6dT/src/resolution.jl:29\n",
      " [15] resolve(datadep_name::String, inner_filepath::String, calling_filepath::String)\n",
      "    @ DataDeps ~/.julia/packages/DataDeps/ae6dT/src/resolution.jl:54\n",
      " [16] resolve\n",
      "    @ ~/.julia/packages/DataDeps/ae6dT/src/resolution.jl:73 [inlined]\n",
      " [17] makeavailable\n",
      "    @ ~/.julia/packages/FastAI/as9UG/src/datasets/loaders.jl:46 [inlined]\n",
      " [18] loaddata(loader::FastAI.Datasets.DataDepLoader)\n",
      "    @ FastAI.Datasets ~/.julia/packages/FastAI/as9UG/src/datasets/loaders.jl:50\n",
      " [19] (::FastAI.Registries.var\"#8#13\")(row::NamedTuple{(:id, :description, :size, :tags, :package, :downloaded, :loader), Tuple{String, Union{Missing, String}, Union{Missing, String}, Vector{String}, Module, Bool, FastAI.Datasets.DatasetLoader}})\n",
      "    @ FastAI.Registries ~/.julia/packages/FastAI/as9UG/src/Registries/datasets.jl:38\n",
      " [20] load(entry::FeatureRegistries.RegistryEntry; kwargs::Base.Pairs{Symbol, Union{}, Tuple{}, NamedTuple{(), Tuple{}}})\n",
      "    @ FeatureRegistries ~/.julia/packages/FeatureRegistries/FBMLI/src/registry.jl:135\n",
      " [21] load\n",
      "    @ ~/.julia/packages/FeatureRegistries/FBMLI/src/registry.jl:135 [inlined]\n",
      " [22] (::FastAI.Registries.var\"#loadrecipeentry#35\"{FeatureRegistries.Registry{NamedTuple{(:id, :description, :size, :tags, :package, :downloaded, :loader), Tuple{FeatureRegistries.Field{String}, FeatureRegistries.Field{String}, FeatureRegistries.Field{String}, FeatureRegistries.Field{Vector{String}}, FeatureRegistries.Field{Module}, FeatureRegistries.Field{Bool}, FeatureRegistries.Field{FastAI.Datasets.DatasetLoader}}}, 1, StructArrays.StructVector{NamedTuple{(:id, :description, :size, :tags, :package, :downloaded, :loader), Tuple{String, Union{Missing, String}, Union{Missing, String}, Vector{String}, Module, Bool, FastAI.Datasets.DatasetLoader}}, NamedTuple{(:id, :description, :size, :tags, :package, :downloaded, :loader), Tuple{Vector{String}, Vector{Union{Missing, String}}, Vector{Union{Missing, String}}, Vector{Vector{String}}, Vector{Module}, Vector{Bool}, Vector{FastAI.Datasets.DatasetLoader}}}, Int64}, Dict{Any, Int64}}})(row::NamedTuple{(:id, :blocks, :description, :downloaded, :datasetid, :package, :recipe), Tuple{String, Any, Union{Missing, String}, Bool, String, Module, FastAI.Datasets.DatasetRecipe}})\n",
      "    @ FastAI.Registries ~/.julia/packages/FastAI/as9UG/src/Registries/recipes.jl:39\n",
      " [23] load(entry::FeatureRegistries.RegistryEntry; kwargs::Base.Pairs{Symbol, Union{}, Tuple{}, NamedTuple{(), Tuple{}}})\n",
      "    @ FeatureRegistries ~/.julia/packages/FeatureRegistries/FBMLI/src/registry.jl:135\n",
      " [24] load(entry::FeatureRegistries.RegistryEntry)\n",
      "    @ FeatureRegistries ~/.julia/packages/FeatureRegistries/FBMLI/src/registry.jl:135\n",
      " [25] top-level scope\n",
      "    @ /media/hdd/github/improving_robotics_datasets/jax_src/test.ipynb:1"
     ]
    }
   ],
   "source": [
    "data, blocks = load(datarecipes()[\"imagenette2-160\"])\n",
    "task = ImageClassificationSingle(blocks)\n",
    "learner = tasklearner(task, data; callbacks=[ToGPU(), Metrics(accuracy)])\n",
    "finderresult = lrfind(learner)\n"
   ]
  },
  {
   "cell_type": "code",
   "execution_count": null,
   "metadata": {},
   "outputs": [],
   "source": [
    "FastMakie.Makie.plot(finderresult)"
   ]
  },
  {
   "cell_type": "code",
   "execution_count": null,
   "metadata": {},
   "outputs": [],
   "source": [
    "using Metalhead\n",
    "data, blocks = load(datarecipes()[\"imagenette2-160\"])\n",
    "task = ImageClassificationSingle(blocks)\n",
    "backbone = Metalhead.ResNet(18).layers[1:end-1]\n",
    "learner = tasklearner(task, data; callbacks=[ToGPU(), Metrics(accuracy)])\n",
    "fitonecycle!(learner, 10, 0.001)\n"
   ]
  },
  {
   "cell_type": "code",
   "execution_count": null,
   "metadata": {},
   "outputs": [],
   "source": [
    "data, blocks = loaddataset(\"imagenette2-160\", (Image, Label))\n",
    "task = ImageClassificationSingle(blocks)\n",
    "learner = tasklearner(task, data;\n",
    "    backbone=Metalhead.ResNet50(pretrain=true).layers[1][1:end-1],\n",
    "    callbacks=[ToGPU(), Metrics(accuracy)])\n",
    "finetune!(learner, 5, 0.0005)"
   ]
  }
 ],
 "metadata": {
  "interpreter": {
   "hash": "db63ec5837ed7153ffcff7a5d42bf80536894c2cc03a9bb032bbe91b2078875e"
  },
  "kernelspec": {
   "display_name": "Julia 1.8.3",
   "language": "julia",
   "name": "julia-1.8"
  },
  "language_info": {
   "file_extension": ".jl",
   "mimetype": "application/julia",
   "name": "julia",
   "version": "1.8.3"
  },
  "orig_nbformat": 4
 },
 "nbformat": 4,
 "nbformat_minor": 2
}
