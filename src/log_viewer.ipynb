{
 "cells": [
  {
   "cell_type": "code",
   "execution_count": 456,
   "metadata": {},
   "outputs": [
    {
     "name": "stdout",
     "output_type": "stream",
     "text": [
      "     445\n"
     ]
    }
   ],
   "source": [
    "!ls proxyattention/runs |wc -l"
   ]
  },
  {
   "cell_type": "code",
   "execution_count": 385,
   "metadata": {},
   "outputs": [],
   "source": [
    "import os\n",
    "import pandas as pd\n",
    "from tensorflow.python.summary.summary_iterator import summary_iterator\n",
    "from tqdm import tqdm\n",
    "from pathlib import Path\n",
    "import numpy as np\n",
    "import matplotlib.pyplot as plt"
   ]
  },
  {
   "cell_type": "code",
   "execution_count": 386,
   "metadata": {},
   "outputs": [],
   "source": [
    "def parse_tfevent(tfevent, filepath):\n",
    "    return dict(\n",
    "        fname = filepath,\n",
    "        wall_time=tfevent.wall_time,\n",
    "        name=tfevent.summary.value[0].tag,\n",
    "        step=tfevent.step,\n",
    "        value=tfevent.summary.value[0],\n",
    "    )\n"
   ]
  },
  {
   "cell_type": "code",
   "execution_count": 387,
   "metadata": {},
   "outputs": [],
   "source": [
    "all_files = []\n",
    "main_path =Path(\"/Users/eragon/Documents/CODE/Github/improving_robotics_datasets/src/proxyattention/runs\")\n",
    "for (root, _, filenames) in os.walk(main_path):\n",
    "    for filename in filenames:\n",
    "        if \"events.out.tfevents\" in filename:\n",
    "            all_files.append(root/Path(filename))"
   ]
  },
  {
   "cell_type": "code",
   "execution_count": 388,
   "metadata": {},
   "outputs": [],
   "source": [
    "full_dict = {}"
   ]
  },
  {
   "cell_type": "code",
   "execution_count": 389,
   "metadata": {},
   "outputs": [
    {
     "name": "stderr",
     "output_type": "stream",
     "text": [
      "100%|██████████| 649/649 [00:01<00:00, 465.78it/s]\n"
     ]
    }
   ],
   "source": [
    "for files in tqdm(all_files, total = len(all_files)):\n",
    "    temp_dict = {}\n",
    "    for ev in summary_iterator(str(files)):\n",
    "        try:\n",
    "            parsed = parse_tfevent(ev, files)\n",
    "            # print(parsed)\n",
    "            value = parsed[\"value\"]\n",
    "            # print(value.tensor.string_val[0].decode('ascii'))\n",
    "            # print(\"here0\")\n",
    "\n",
    "            # value = value.tag\n",
    "            try:\n",
    "                # value = value.tag\n",
    "\n",
    "                value_str = value.tensor.string_val[0].decode('ascii')\n",
    "            except:\n",
    "                try:\n",
    "                    value_str = value.simple_value[-1]\n",
    "                except:\n",
    "\n",
    "                    value_str = value.simple_value\n",
    "            # print(value)\n",
    "            # print(\"here1\")\n",
    "            # try:\n",
    "            #     temp_dict[value.tag].append(value_str)\n",
    "            # except Exception as e:\n",
    "            #     # print(e)\n",
    "            temp_dict[value.tag.replace(\"/text_summary\", \"\")] = value_str\n",
    "        except Exception as e:\n",
    "            # print(e)\n",
    "            pass\n",
    "    full_dict[str(files)] = temp_dict"
   ]
  },
  {
   "cell_type": "code",
   "execution_count": 404,
   "metadata": {},
   "outputs": [],
   "source": [
    "combined_df = pd.DataFrame.from_records(full_dict).T.reset_index()"
   ]
  },
  {
   "cell_type": "code",
   "execution_count": 408,
   "metadata": {},
   "outputs": [
    {
     "data": {
      "text/plain": [
       "array([\"[5, 'p', 5]\", 0, '[11]', '[20]', \"[10, 'p', 10]\", \"[2, 'p', 2]\",\n",
       "       '[4]', \"[2, 'p', 5]\"], dtype=object)"
      ]
     },
     "execution_count": 408,
     "metadata": {},
     "output_type": "execute_result"
    }
   ],
   "source": [
    "combined_df.proxy_steps.unique()"
   ]
  },
  {
   "cell_type": "code",
   "execution_count": 407,
   "metadata": {},
   "outputs": [],
   "source": [
    "combined_df = combined_df.fillna(0)"
   ]
  },
  {
   "cell_type": "code",
   "execution_count": 409,
   "metadata": {},
   "outputs": [],
   "source": [
    "combined_df = combined_df[combined_df[\"proxy_steps\"]!=0]"
   ]
  },
  {
   "cell_type": "code",
   "execution_count": 411,
   "metadata": {},
   "outputs": [
    {
     "data": {
      "text/plain": [
       "array([\"[5, 'p', 5]\", '[11]', '[20]', \"[10, 'p', 10]\", \"[2, 'p', 2]\",\n",
       "       '[4]', \"[2, 'p', 5]\"], dtype=object)"
      ]
     },
     "execution_count": 411,
     "metadata": {},
     "output_type": "execute_result"
    }
   ],
   "source": [
    "combined_df.proxy_steps.unique()"
   ]
  },
  {
   "cell_type": "code",
   "execution_count": 410,
   "metadata": {},
   "outputs": [
    {
     "data": {
      "text/plain": [
       "(638, 35)"
      ]
     },
     "execution_count": 410,
     "metadata": {},
     "output_type": "execute_result"
    }
   ],
   "source": [
    "combined_df.shape"
   ]
  },
  {
   "cell_type": "code",
   "execution_count": 412,
   "metadata": {},
   "outputs": [
    {
     "data": {
      "text/plain": [
       "Index(['index', 'experiment_name', 'ds_path', 'ds_name', 'name_fn',\n",
       "       'image_size', 'batch_size', 'epoch_steps', 'enable_proxy_attention',\n",
       "       'change_subset_attention', 'num_gpu', 'num_cpu', 'transfer_imagenet',\n",
       "       'subset_images', 'proxy_threshold', 'pixel_replacement_method', 'model',\n",
       "       'proxy_steps', 'load_proxy_data', 'gradient_method', 'clear_every_step',\n",
       "       'fname_start', 'device', 'global_run_count', 'label_map',\n",
       "       'rev_label_map', 'num_classes', 'proxy_step', 'Loss/Train', 'Acc/Train',\n",
       "       'Loss/Val', 'Acc/Val', 'Number_Chosen', 'original_images',\n",
       "       'converted_proxy'],\n",
       "      dtype='object')"
      ]
     },
     "execution_count": 412,
     "metadata": {},
     "output_type": "execute_result"
    }
   ],
   "source": [
    "combined_df.columns"
   ]
  },
  {
   "cell_type": "code",
   "execution_count": 413,
   "metadata": {},
   "outputs": [],
   "source": [
    "def tensor_str_to_val(string): return np.float32(string.replace(\"tensor(\", \"\").split(\",\")[0].strip())"
   ]
  },
  {
   "cell_type": "code",
   "execution_count": 414,
   "metadata": {},
   "outputs": [],
   "source": [
    "def check_proxy(string): return \"p\" in string"
   ]
  },
  {
   "cell_type": "code",
   "execution_count": 415,
   "metadata": {},
   "outputs": [],
   "source": [
    "def calc_stats(values):\n",
    "    return f\"min: {values.min()} \\nmax: {values.max()} \\navg: {values.mean()}\""
   ]
  },
  {
   "cell_type": "code",
   "execution_count": 435,
   "metadata": {},
   "outputs": [
    {
     "data": {
      "text/plain": [
       "'True'"
      ]
     },
     "execution_count": 435,
     "metadata": {},
     "output_type": "execute_result"
    }
   ],
   "source": [
    "combined_df.transfer_imagenet[0]"
   ]
  },
  {
   "cell_type": "code",
   "execution_count": 436,
   "metadata": {},
   "outputs": [],
   "source": [
    "def check_wrt_accuracy(has_proxy, condition, head = None):\n",
    "    grouped_vals = has_proxy.groupby([condition, \"transfer_imagenet\"]).mean(numeric_only = True)[\"accuracy\"].reset_index().sort_values(by = [\"accuracy\"], ascending=False)\n",
    "    print(\"Transfer\")\n",
    "    if head != None:\n",
    "        print(grouped_vals[grouped_vals[\"transfer_imagenet\"] == 'True'].head(head).to_markdown())\n",
    "        print(\"No Transfer\")\n",
    "        print(grouped_vals[grouped_vals[\"transfer_imagenet\"] == 'False'].head(head).to_markdown())\n",
    "    else:\n",
    "        print(grouped_vals[grouped_vals[\"transfer_imagenet\"] == 'True'].to_markdown())\n",
    "        print(\"No Transfer\")\n",
    "        print(grouped_vals[grouped_vals[\"transfer_imagenet\"] == 'False'].to_markdown())"
   ]
  },
  {
   "cell_type": "markdown",
   "metadata": {},
   "source": [
    "## Aggregate results for proxy"
   ]
  },
  {
   "cell_type": "code",
   "execution_count": 437,
   "metadata": {},
   "outputs": [],
   "source": [
    "combined_df[\"has_proxy\"] = combined_df[\"proxy_steps\"].apply(check_proxy)"
   ]
  },
  {
   "cell_type": "code",
   "execution_count": 438,
   "metadata": {},
   "outputs": [],
   "source": [
    "combined_df[\"accuracy\"] = combined_df[\"Acc/Val\"]"
   ]
  },
  {
   "cell_type": "code",
   "execution_count": 439,
   "metadata": {},
   "outputs": [
    {
     "data": {
      "text/plain": [
       "True     487\n",
       "False    151\n",
       "Name: has_proxy, dtype: int64"
      ]
     },
     "execution_count": 439,
     "metadata": {},
     "output_type": "execute_result"
    }
   ],
   "source": [
    "combined_df[\"has_proxy\"].value_counts()"
   ]
  },
  {
   "cell_type": "code",
   "execution_count": 440,
   "metadata": {},
   "outputs": [],
   "source": [
    "has_proxy = combined_df[combined_df[\"has_proxy\"] == True]\n",
    "nothas_proxy = combined_df[combined_df[\"has_proxy\"] == False]"
   ]
  },
  {
   "cell_type": "code",
   "execution_count": 441,
   "metadata": {},
   "outputs": [
    {
     "data": {
      "text/plain": [
       "'min: 0.029623698443174362 \\nmax: 0.9905999898910522 \\navg: 0.7984235366190606'"
      ]
     },
     "execution_count": 441,
     "metadata": {},
     "output_type": "execute_result"
    }
   ],
   "source": [
    "calc_stats(has_proxy[\"accuracy\"])"
   ]
  },
  {
   "cell_type": "code",
   "execution_count": 442,
   "metadata": {},
   "outputs": [
    {
     "data": {
      "text/plain": [
       "'min: 0.030424339696764946 \\nmax: 0.9918000102043152 \\navg: 0.5552996369017078'"
      ]
     },
     "execution_count": 442,
     "metadata": {},
     "output_type": "execute_result"
    }
   ],
   "source": [
    "calc_stats(nothas_proxy[\"accuracy\"])\n"
   ]
  },
  {
   "cell_type": "markdown",
   "metadata": {},
   "source": [
    "## Parameter elimination"
   ]
  },
  {
   "cell_type": "code",
   "execution_count": 443,
   "metadata": {},
   "outputs": [],
   "source": [
    "# !python3 -m pip install tabulate"
   ]
  },
  {
   "cell_type": "code",
   "execution_count": 467,
   "metadata": {},
   "outputs": [
    {
     "name": "stdout",
     "output_type": "stream",
     "text": [
      "Transfer\n",
      "|    | clear_every_step   | transfer_imagenet   |   accuracy |\n",
      "|---:|:-------------------|:--------------------|-----------:|\n",
      "|  3 | True               | True                |   0.94145  |\n",
      "|  1 | False              | True                |   0.938198 |\n",
      "No Transfer\n",
      "|    | clear_every_step   | transfer_imagenet   |   accuracy |\n",
      "|---:|:-------------------|:--------------------|-----------:|\n",
      "|  2 | True               | False               |  0.0650013 |\n",
      "|  0 | False              | False               |  0.0634969 |\n"
     ]
    }
   ],
   "source": [
    "check_wrt_accuracy(combined_df, \"clear_every_step\")"
   ]
  },
  {
   "cell_type": "code",
   "execution_count": 465,
   "metadata": {},
   "outputs": [
    {
     "name": "stdout",
     "output_type": "stream",
     "text": [
      "Transfer\n",
      "|    |   change_subset_attention | transfer_imagenet   |   accuracy |\n",
      "|---:|--------------------------:|:--------------------|-----------:|\n",
      "|  3 |                       0.5 | True                |   0.936635 |\n",
      "|  5 |                       0.8 | True                |   0.935635 |\n",
      "|  1 |                       0.3 | True                |   0.93086  |\n",
      "No Transfer\n",
      "|    |   change_subset_attention | transfer_imagenet   |   accuracy |\n",
      "|---:|--------------------------:|:--------------------|-----------:|\n",
      "|  2 |                       0.5 | False               |  0.0673276 |\n",
      "|  0 |                       0.3 | False               |  0.0645435 |\n",
      "|  4 |                       0.8 | False               |  0.0559235 |\n"
     ]
    }
   ],
   "source": [
    "check_wrt_accuracy(has_proxy, \"change_subset_attention\")"
   ]
  },
  {
   "cell_type": "code",
   "execution_count": 464,
   "metadata": {},
   "outputs": [
    {
     "name": "stdout",
     "output_type": "stream",
     "text": [
      "Transfer\n",
      "|    | gradient_method   | transfer_imagenet   |   accuracy |\n",
      "|---:|:------------------|:--------------------|-----------:|\n",
      "|  1 | eigencam          | True                |   0.935007 |\n",
      "|  5 | gradcamplusplus   | True                |   0.934665 |\n",
      "|  3 | gradcam           | True                |   0.933682 |\n",
      "No Transfer\n",
      "|    | gradient_method   | transfer_imagenet   |   accuracy |\n",
      "|---:|:------------------|:--------------------|-----------:|\n",
      "|  4 | gradcamplusplus   | False               |  0.0702486 |\n",
      "|  0 | eigencam          | False               |  0.059758  |\n",
      "|  2 | gradcam           | False               |  0.0573011 |\n"
     ]
    }
   ],
   "source": [
    "check_wrt_accuracy(has_proxy, \"gradient_method\")"
   ]
  },
  {
   "cell_type": "code",
   "execution_count": 463,
   "metadata": {},
   "outputs": [
    {
     "name": "stdout",
     "output_type": "stream",
     "text": [
      "Transfer\n",
      "|    | pixel_replacement_method   | transfer_imagenet   |   accuracy |\n",
      "|---:|:---------------------------|:--------------------|-----------:|\n",
      "|  7 | min                        | True                |   0.940078 |\n",
      "|  3 | max                        | True                |   0.93356  |\n",
      "|  1 | halfmax                    | True                |   0.933124 |\n",
      "|  5 | mean                       | True                |   0.930719 |\n",
      "No Transfer\n",
      "|    | pixel_replacement_method   | transfer_imagenet   |   accuracy |\n",
      "|---:|:---------------------------|:--------------------|-----------:|\n",
      "|  2 | max                        | False               |  0.0663786 |\n",
      "|  6 | min                        | False               |  0.0648673 |\n",
      "|  4 | mean                       | False               |  0.0604388 |\n",
      "|  0 | halfmax                    | False               |  0.060239  |\n"
     ]
    }
   ],
   "source": [
    "check_wrt_accuracy(has_proxy, \"pixel_replacement_method\")"
   ]
  },
  {
   "cell_type": "code",
   "execution_count": 450,
   "metadata": {},
   "outputs": [
    {
     "name": "stdout",
     "output_type": "stream",
     "text": [
      "Transfer\n",
      "|     |   proxy_threshold | transfer_imagenet   |   accuracy |\n",
      "|----:|------------------:|:--------------------|-----------:|\n",
      "| 204 |          0.90174  | True                |   0.985    |\n",
      "| 241 |          0.923236 | True                |   0.9842   |\n",
      "| 118 |          0.849893 | True                |   0.9838   |\n",
      "| 103 |          0.843547 | True                |   0.982996 |\n",
      "No Transfer\n",
      "|     |   proxy_threshold | transfer_imagenet   |   accuracy |\n",
      "|----:|------------------:|:--------------------|-----------:|\n",
      "|  31 |          0.81375  | False               |   0.131932 |\n",
      "| 177 |          0.883611 | False               |   0.12993  |\n",
      "| 226 |          0.913836 | False               |   0.126927 |\n",
      "| 203 |          0.901073 | False               |   0.121048 |\n"
     ]
    }
   ],
   "source": [
    "check_wrt_accuracy(has_proxy, \"proxy_threshold\", head= 4)"
   ]
  },
  {
   "cell_type": "code",
   "execution_count": 451,
   "metadata": {},
   "outputs": [
    {
     "name": "stdout",
     "output_type": "stream",
     "text": [
      "Transfer\n",
      "|    |   subset_images | transfer_imagenet   |   accuracy |\n",
      "|---:|----------------:|:--------------------|-----------:|\n",
      "|  1 |           10000 | True                |   0.966222 |\n",
      "|  2 |            8000 | True                |   0.903124 |\n",
      "No Transfer\n",
      "|    |   subset_images | transfer_imagenet   |   accuracy |\n",
      "|---:|----------------:|:--------------------|-----------:|\n",
      "|  0 |           10000 | False               |  0.0628471 |\n"
     ]
    }
   ],
   "source": [
    "\n",
    "check_wrt_accuracy(has_proxy, \"subset_images\")"
   ]
  },
  {
   "cell_type": "code",
   "execution_count": 457,
   "metadata": {},
   "outputs": [
    {
     "name": "stdout",
     "output_type": "stream",
     "text": [
      "Transfer\n",
      "|    | proxy_steps   | transfer_imagenet   |   accuracy |\n",
      "|---:|:--------------|:--------------------|-----------:|\n",
      "|  2 | [2, 'p', 5]   | True                |   0.967175 |\n",
      "|  1 | [2, 'p', 2]   | True                |   0.965306 |\n",
      "|  3 | [5, 'p', 5]   | True                |   0.903124 |\n",
      "No Transfer\n",
      "|    | proxy_steps   | transfer_imagenet   |   accuracy |\n",
      "|---:|:--------------|:--------------------|-----------:|\n",
      "|  0 | [10, 'p', 10] | False               |  0.0628471 |\n"
     ]
    }
   ],
   "source": [
    "\n",
    "check_wrt_accuracy(has_proxy, \"proxy_steps\")"
   ]
  },
  {
   "cell_type": "code",
   "execution_count": 468,
   "metadata": {},
   "outputs": [
    {
     "name": "stdout",
     "output_type": "stream",
     "text": [
      "Transfer\n",
      "|    | proxy_steps   | transfer_imagenet   |   accuracy |\n",
      "|---:|:--------------|:--------------------|-----------:|\n",
      "|  1 | [11]          | True                |   0.968625 |\n",
      "|  3 | [2, 'p', 5]   | True                |   0.967175 |\n",
      "|  5 | [4]           | True                |   0.966972 |\n",
      "|  2 | [2, 'p', 2]   | True                |   0.965306 |\n",
      "|  6 | [5, 'p', 5]   | True                |   0.903124 |\n",
      "No Transfer\n",
      "|    | proxy_steps   | transfer_imagenet   |   accuracy |\n",
      "|---:|:--------------|:--------------------|-----------:|\n",
      "|  4 | [20]          | False               |  0.065826  |\n",
      "|  0 | [10, 'p', 10] | False               |  0.0628471 |\n"
     ]
    }
   ],
   "source": [
    "check_wrt_accuracy(combined_df, \"proxy_steps\")"
   ]
  }
 ],
 "metadata": {
  "kernelspec": {
   "display_name": "Python 3",
   "language": "python",
   "name": "python3"
  },
  "language_info": {
   "codemirror_mode": {
    "name": "ipython",
    "version": 3
   },
   "file_extension": ".py",
   "mimetype": "text/x-python",
   "name": "python",
   "nbconvert_exporter": "python",
   "pygments_lexer": "ipython3",
   "version": "3.9.6"
  },
  "orig_nbformat": 4,
  "vscode": {
   "interpreter": {
    "hash": "31f2aee4e71d21fbe5cf8b01ff0e069b9275f58929596ceb00d14d90e3e16cd6"
   }
  }
 },
 "nbformat": 4,
 "nbformat_minor": 2
}
