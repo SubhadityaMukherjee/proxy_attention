{
 "cells": [
  {
   "cell_type": "code",
   "execution_count": 1,
   "metadata": {},
   "outputs": [
    {
     "name": "stderr",
     "output_type": "stream",
     "text": [
      "2023-02-27 16:43:36.224845: I tensorflow/core/platform/cpu_feature_guard.cc:193] This TensorFlow binary is optimized with oneAPI Deep Neural Network Library (oneDNN) to use the following CPU instructions in performance-critical operations:  AVX2 FMA\n",
      "To enable them in other operations, rebuild TensorFlow with the appropriate compiler flags.\n",
      "2023-02-27 16:43:36.438020: W tensorflow/compiler/xla/stream_executor/platform/default/dso_loader.cc:64] Could not load dynamic library 'libcudart.so.11.0'; dlerror: libcudart.so.11.0: cannot open shared object file: No such file or directory\n",
      "2023-02-27 16:43:36.438094: I tensorflow/compiler/xla/stream_executor/cuda/cudart_stub.cc:29] Ignore above cudart dlerror if you do not have a GPU set up on your machine.\n",
      "2023-02-27 16:43:37.392490: W tensorflow/compiler/xla/stream_executor/platform/default/dso_loader.cc:64] Could not load dynamic library 'libnvinfer.so.7'; dlerror: libnvinfer.so.7: cannot open shared object file: No such file or directory\n",
      "2023-02-27 16:43:37.392614: W tensorflow/compiler/xla/stream_executor/platform/default/dso_loader.cc:64] Could not load dynamic library 'libnvinfer_plugin.so.7'; dlerror: libnvinfer_plugin.so.7: cannot open shared object file: No such file or directory\n",
      "2023-02-27 16:43:37.392623: W tensorflow/compiler/tf2tensorrt/utils/py_utils.cc:38] TF-TRT Warning: Cannot dlopen some TensorRT libraries. If you would like to use Nvidia GPU with TensorRT, please make sure the missing libraries mentioned above are installed properly.\n"
     ]
    }
   ],
   "source": [
    "import os\n",
    "import pandas as pd\n",
    "from tensorflow.python.summary.summary_iterator import summary_iterator"
   ]
  },
  {
   "cell_type": "code",
   "execution_count": 3,
   "metadata": {},
   "outputs": [
    {
     "name": "stdout",
     "output_type": "stream",
     "text": [
      "WARNING:tensorflow:From /home/eragon/miniconda3/envs/pytorcher/lib/python3.10/site-packages/tensorflow/python/summary/summary_iterator.py:27: tf_record_iterator (from tensorflow.python.lib.io.tf_record) is deprecated and will be removed in a future version.\n",
      "Instructions for updating:\n",
      "Use eager execution and: \n",
      "`tf.data.TFRecordDataset(path)`\n"
     ]
    },
    {
     "data": {
      "text/html": [
       "<div>\n",
       "<style scoped>\n",
       "    .dataframe tbody tr th:only-of-type {\n",
       "        vertical-align: middle;\n",
       "    }\n",
       "\n",
       "    .dataframe tbody tr th {\n",
       "        vertical-align: top;\n",
       "    }\n",
       "\n",
       "    .dataframe thead th {\n",
       "        text-align: right;\n",
       "    }\n",
       "</style>\n",
       "<table border=\"1\" class=\"dataframe\">\n",
       "  <thead>\n",
       "    <tr style=\"text-align: right;\">\n",
       "      <th></th>\n",
       "      <th>wall_time</th>\n",
       "      <th>name</th>\n",
       "      <th>step</th>\n",
       "      <th>value</th>\n",
       "    </tr>\n",
       "  </thead>\n",
       "  <tbody>\n",
       "    <tr>\n",
       "      <th>0</th>\n",
       "      <td>1.677500e+09</td>\n",
       "      <td>experiment_name/text_summary</td>\n",
       "      <td>0</td>\n",
       "      <td>0.000000</td>\n",
       "    </tr>\n",
       "    <tr>\n",
       "      <th>1</th>\n",
       "      <td>1.677500e+09</td>\n",
       "      <td>ds_path/text_summary</td>\n",
       "      <td>0</td>\n",
       "      <td>0.000000</td>\n",
       "    </tr>\n",
       "    <tr>\n",
       "      <th>2</th>\n",
       "      <td>1.677500e+09</td>\n",
       "      <td>ds_name/text_summary</td>\n",
       "      <td>0</td>\n",
       "      <td>0.000000</td>\n",
       "    </tr>\n",
       "    <tr>\n",
       "      <th>3</th>\n",
       "      <td>1.677500e+09</td>\n",
       "      <td>name_fn/text_summary</td>\n",
       "      <td>0</td>\n",
       "      <td>0.000000</td>\n",
       "    </tr>\n",
       "    <tr>\n",
       "      <th>4</th>\n",
       "      <td>1.677500e+09</td>\n",
       "      <td>image_size/text_summary</td>\n",
       "      <td>0</td>\n",
       "      <td>0.000000</td>\n",
       "    </tr>\n",
       "    <tr>\n",
       "      <th>...</th>\n",
       "      <td>...</td>\n",
       "      <td>...</td>\n",
       "      <td>...</td>\n",
       "      <td>...</td>\n",
       "    </tr>\n",
       "    <tr>\n",
       "      <th>6395</th>\n",
       "      <td>1.677509e+09</td>\n",
       "      <td>Loss/Train</td>\n",
       "      <td>1</td>\n",
       "      <td>1.264615</td>\n",
       "    </tr>\n",
       "    <tr>\n",
       "      <th>6396</th>\n",
       "      <td>1.677509e+09</td>\n",
       "      <td>Acc/Train</td>\n",
       "      <td>1</td>\n",
       "      <td>0.682200</td>\n",
       "    </tr>\n",
       "    <tr>\n",
       "      <th>6397</th>\n",
       "      <td>1.677509e+09</td>\n",
       "      <td>proxy_step</td>\n",
       "      <td>1</td>\n",
       "      <td>0.000000</td>\n",
       "    </tr>\n",
       "    <tr>\n",
       "      <th>6398</th>\n",
       "      <td>1.677509e+09</td>\n",
       "      <td>Loss/Val</td>\n",
       "      <td>1</td>\n",
       "      <td>0.228027</td>\n",
       "    </tr>\n",
       "    <tr>\n",
       "      <th>6399</th>\n",
       "      <td>1.677509e+09</td>\n",
       "      <td>Acc/Val</td>\n",
       "      <td>1</td>\n",
       "      <td>0.967200</td>\n",
       "    </tr>\n",
       "  </tbody>\n",
       "</table>\n",
       "<p>6400 rows × 4 columns</p>\n",
       "</div>"
      ],
      "text/plain": [
       "         wall_time                          name  step     value\n",
       "0     1.677500e+09  experiment_name/text_summary     0  0.000000\n",
       "1     1.677500e+09          ds_path/text_summary     0  0.000000\n",
       "2     1.677500e+09          ds_name/text_summary     0  0.000000\n",
       "3     1.677500e+09          name_fn/text_summary     0  0.000000\n",
       "4     1.677500e+09       image_size/text_summary     0  0.000000\n",
       "...            ...                           ...   ...       ...\n",
       "6395  1.677509e+09                    Loss/Train     1  1.264615\n",
       "6396  1.677509e+09                     Acc/Train     1  0.682200\n",
       "6397  1.677509e+09                    proxy_step     1  0.000000\n",
       "6398  1.677509e+09                      Loss/Val     1  0.228027\n",
       "6399  1.677509e+09                       Acc/Val     1  0.967200\n",
       "\n",
       "[6400 rows x 4 columns]"
      ]
     },
     "execution_count": 3,
     "metadata": {},
     "output_type": "execute_result"
    }
   ],
   "source": [
    "def convert_tfevent(filepath):\n",
    "    return pd.DataFrame([\n",
    "        parse_tfevent(e) for e in summary_iterator(filepath) if len(e.summary.value)\n",
    "    ])\n",
    "\n",
    "def parse_tfevent(tfevent):\n",
    "    return dict(\n",
    "        wall_time=tfevent.wall_time,\n",
    "        name=tfevent.summary.value[0].tag,\n",
    "        step=tfevent.step,\n",
    "        value=float(tfevent.summary.value[0].simple_value),\n",
    "    )\n",
    "\n",
    "columns_order = ['wall_time', 'name', 'step', 'value']\n",
    "\n",
    "out = []\n",
    "for (root, _, filenames) in os.walk(\"./runs/\"):\n",
    "    for filename in filenames:\n",
    "        if \"events.out.tfevents\" not in filename:\n",
    "            continue\n",
    "        file_full_path = os.path.join(root, filename)\n",
    "        out.append(convert_tfevent(file_full_path))\n",
    "\n",
    "# Concatenate (and sort) all partial individual dataframes\n",
    "all_df = pd.concat(out)[columns_order]\n",
    "all_df.reset_index(drop=True)\n"
   ]
  },
  {
   "cell_type": "code",
   "execution_count": 5,
   "metadata": {},
   "outputs": [],
   "source": [
    "all_df.to_csv(\"collected_logs.csv\")"
   ]
  }
 ],
 "metadata": {
  "kernelspec": {
   "display_name": "base",
   "language": "python",
   "name": "python3"
  },
  "language_info": {
   "codemirror_mode": {
    "name": "ipython",
    "version": 3
   },
   "file_extension": ".py",
   "mimetype": "text/x-python",
   "name": "python",
   "nbconvert_exporter": "python",
   "pygments_lexer": "ipython3",
   "version": "3.10.8"
  },
  "orig_nbformat": 4,
  "vscode": {
   "interpreter": {
    "hash": "8d42e2b5231cfb8d38e0ae547be343c5f08198e6fdc5845a955873ed22cf5709"
   }
  }
 },
 "nbformat": 4,
 "nbformat_minor": 2
}
