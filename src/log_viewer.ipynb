{
 "cells": [
  {
   "cell_type": "code",
   "execution_count": 1,
   "metadata": {},
   "outputs": [
    {
     "name": "stdout",
     "output_type": "stream",
     "text": [
      "     133\n"
     ]
    }
   ],
   "source": [
    "!ls runs |wc -l"
   ]
  },
  {
   "cell_type": "code",
   "execution_count": 1,
   "metadata": {},
   "outputs": [],
   "source": [
    "import os\n",
    "import pandas as pd\n",
    "from tensorflow.python.summary.summary_iterator import summary_iterator\n",
    "from tqdm import tqdm\n",
    "from pathlib import Path\n",
    "import numpy as np\n",
    "import matplotlib.pyplot as plt\n",
    "import clipboard"
   ]
  },
  {
   "attachments": {},
   "cell_type": "markdown",
   "metadata": {},
   "source": [
    "# Read data"
   ]
  },
  {
   "cell_type": "code",
   "execution_count": 2,
   "metadata": {},
   "outputs": [],
   "source": [
    "def parse_tfevent(tfevent, filepath):\n",
    "    return dict(\n",
    "        fname = filepath,\n",
    "        wall_time=tfevent.wall_time,\n",
    "        name=tfevent.summary.value[0].tag,\n",
    "        step=tfevent.step,\n",
    "        value=tfevent.summary.value[0],\n",
    "    )\n"
   ]
  },
  {
   "cell_type": "code",
   "execution_count": 3,
   "metadata": {},
   "outputs": [
    {
     "name": "stdout",
     "output_type": "stream",
     "text": [
      "183\n"
     ]
    }
   ],
   "source": [
    "all_files = []\n",
    "main_path =Path(\"runs\")\n",
    "for (root, _, filenames) in os.walk(main_path):\n",
    "    for filename in filenames:\n",
    "        if \"events.out.tfevents\" in filename:\n",
    "            all_files.append(root/Path(filename))\n",
    "print(len(all_files))"
   ]
  },
  {
   "cell_type": "code",
   "execution_count": 4,
   "metadata": {},
   "outputs": [],
   "source": [
    "full_dict = {}"
   ]
  },
  {
   "cell_type": "code",
   "execution_count": 18,
   "metadata": {},
   "outputs": [
    {
     "name": "stderr",
     "output_type": "stream",
     "text": [
      "100%|██████████| 183/183 [00:00<00:00, 608.53it/s]\n"
     ]
    }
   ],
   "source": [
    "for files in tqdm(all_files, total = len(all_files)):\n",
    "    temp_dict = {}\n",
    "    for ev in summary_iterator(str(files)):\n",
    "        try:\n",
    "            parsed = parse_tfevent(ev, files)\n",
    "            # print(parsed)\n",
    "            value = parsed[\"value\"]\n",
    "            # print(value.tensor.string_val[0].decode('ascii'))\n",
    "            # print(\"here0\")\n",
    "\n",
    "            # value = value.tag\n",
    "            try:\n",
    "                # value = value.tag\n",
    "\n",
    "                value_str = value.tensor.string_val[0].decode('ascii')\n",
    "            except:\n",
    "                try:\n",
    "                    value_str = value.simple_value[-1]\n",
    "                except:\n",
    "\n",
    "                    value_str = value.simple_value\n",
    "            # print(value)\n",
    "            # print(\"here1\")\n",
    "            # try:\n",
    "            #     temp_dict[value.tag].append(value_str)\n",
    "            # except Exception as e:\n",
    "            #     # print(e)\n",
    "            temp_dict[value.tag.replace(\"/text_summary\", \"\")] = value_str\n",
    "        except Exception as e:\n",
    "            # print(e)\n",
    "            pass\n",
    "    full_dict[str(files)] = temp_dict"
   ]
  },
  {
   "cell_type": "code",
   "execution_count": 19,
   "metadata": {},
   "outputs": [],
   "source": [
    "combined_df = pd.DataFrame.from_records(full_dict).T.reset_index()"
   ]
  },
  {
   "cell_type": "code",
   "execution_count": 20,
   "metadata": {},
   "outputs": [
    {
     "data": {
      "text/html": [
       "<div>\n",
       "<style scoped>\n",
       "    .dataframe tbody tr th:only-of-type {\n",
       "        vertical-align: middle;\n",
       "    }\n",
       "\n",
       "    .dataframe tbody tr th {\n",
       "        vertical-align: top;\n",
       "    }\n",
       "\n",
       "    .dataframe thead th {\n",
       "        text-align: right;\n",
       "    }\n",
       "</style>\n",
       "<table border=\"1\" class=\"dataframe\">\n",
       "  <thead>\n",
       "    <tr style=\"text-align: right;\">\n",
       "      <th></th>\n",
       "      <th>index</th>\n",
       "      <th>experiment_name</th>\n",
       "      <th>ds_name</th>\n",
       "      <th>image_size</th>\n",
       "      <th>batch_size</th>\n",
       "      <th>enable_proxy_attention</th>\n",
       "      <th>change_subset_attention</th>\n",
       "      <th>num_gpu</th>\n",
       "      <th>num_cpu</th>\n",
       "      <th>transfer_imagenet</th>\n",
       "      <th>...</th>\n",
       "      <th>num_classes</th>\n",
       "      <th>proxy_step</th>\n",
       "      <th>Loss/Train</th>\n",
       "      <th>Acc/Train</th>\n",
       "      <th>Loss/Val</th>\n",
       "      <th>Acc/Val</th>\n",
       "      <th>save_path</th>\n",
       "      <th>Number_Chosen</th>\n",
       "      <th>original_images</th>\n",
       "      <th>converted_proxy</th>\n",
       "    </tr>\n",
       "  </thead>\n",
       "  <tbody>\n",
       "    <tr>\n",
       "      <th>0</th>\n",
       "      <td>runs/asl_blend_test+08032023_16:30:00_ps-[10, ...</td>\n",
       "      <td>blend_test</td>\n",
       "      <td>asl</td>\n",
       "      <td>224</td>\n",
       "      <td>32</td>\n",
       "      <td>True</td>\n",
       "      <td>0.3</td>\n",
       "      <td>1</td>\n",
       "      <td>10</td>\n",
       "      <td>True</td>\n",
       "      <td>...</td>\n",
       "      <td>29</td>\n",
       "      <td>0.0</td>\n",
       "      <td>0.478703</td>\n",
       "      <td>0.85625</td>\n",
       "      <td>0.115334</td>\n",
       "      <td>0.96525</td>\n",
       "      <td>NaN</td>\n",
       "      <td>NaN</td>\n",
       "      <td>NaN</td>\n",
       "      <td>NaN</td>\n",
       "    </tr>\n",
       "    <tr>\n",
       "      <th>1</th>\n",
       "      <td>runs/asl_blend_test+08032023_16:30:00_ps-[10, ...</td>\n",
       "      <td>blend_test</td>\n",
       "      <td>asl</td>\n",
       "      <td>224</td>\n",
       "      <td>32</td>\n",
       "      <td>True</td>\n",
       "      <td>0.3</td>\n",
       "      <td>1</td>\n",
       "      <td>10</td>\n",
       "      <td>True</td>\n",
       "      <td>...</td>\n",
       "      <td>29</td>\n",
       "      <td>1.0</td>\n",
       "      <td>0.510605</td>\n",
       "      <td>0.84025</td>\n",
       "      <td>0.14249</td>\n",
       "      <td>0.95675</td>\n",
       "      <td>/mnt/e/CODE/Github/improving_robotics_datasets...</td>\n",
       "      <td>10.0</td>\n",
       "      <td>0.0</td>\n",
       "      <td>0.0</td>\n",
       "    </tr>\n",
       "    <tr>\n",
       "      <th>2</th>\n",
       "      <td>runs/asl_blend_test+08032023_16:30:00_ps-[10, ...</td>\n",
       "      <td>blend_test</td>\n",
       "      <td>asl</td>\n",
       "      <td>224</td>\n",
       "      <td>32</td>\n",
       "      <td>True</td>\n",
       "      <td>0.3</td>\n",
       "      <td>1</td>\n",
       "      <td>10</td>\n",
       "      <td>True</td>\n",
       "      <td>...</td>\n",
       "      <td>29</td>\n",
       "      <td>0.0</td>\n",
       "      <td>0.367487</td>\n",
       "      <td>0.88625</td>\n",
       "      <td>0.036445</td>\n",
       "      <td>0.98925</td>\n",
       "      <td>/mnt/e/CODE/Github/improving_robotics_datasets...</td>\n",
       "      <td>NaN</td>\n",
       "      <td>NaN</td>\n",
       "      <td>NaN</td>\n",
       "    </tr>\n",
       "    <tr>\n",
       "      <th>3</th>\n",
       "      <td>runs/asl_blend_test+08032023_16:38:29_ps-[10, ...</td>\n",
       "      <td>NaN</td>\n",
       "      <td>NaN</td>\n",
       "      <td>NaN</td>\n",
       "      <td>NaN</td>\n",
       "      <td>NaN</td>\n",
       "      <td>NaN</td>\n",
       "      <td>NaN</td>\n",
       "      <td>NaN</td>\n",
       "      <td>NaN</td>\n",
       "      <td>...</td>\n",
       "      <td>NaN</td>\n",
       "      <td>NaN</td>\n",
       "      <td>NaN</td>\n",
       "      <td>NaN</td>\n",
       "      <td>NaN</td>\n",
       "      <td>NaN</td>\n",
       "      <td>NaN</td>\n",
       "      <td>NaN</td>\n",
       "      <td>NaN</td>\n",
       "      <td>NaN</td>\n",
       "    </tr>\n",
       "    <tr>\n",
       "      <th>4</th>\n",
       "      <td>runs/asl_blend_test+08032023_16:38:51_ps-[10, ...</td>\n",
       "      <td>blend_test</td>\n",
       "      <td>asl</td>\n",
       "      <td>224</td>\n",
       "      <td>32</td>\n",
       "      <td>True</td>\n",
       "      <td>0.8</td>\n",
       "      <td>1</td>\n",
       "      <td>10</td>\n",
       "      <td>True</td>\n",
       "      <td>...</td>\n",
       "      <td>29</td>\n",
       "      <td>0.0</td>\n",
       "      <td>0.493784</td>\n",
       "      <td>0.85425</td>\n",
       "      <td>0.111464</td>\n",
       "      <td>0.96925</td>\n",
       "      <td>NaN</td>\n",
       "      <td>NaN</td>\n",
       "      <td>NaN</td>\n",
       "      <td>NaN</td>\n",
       "    </tr>\n",
       "  </tbody>\n",
       "</table>\n",
       "<p>5 rows × 36 columns</p>\n",
       "</div>"
      ],
      "text/plain": [
       "                                               index experiment_name ds_name  \\\n",
       "0  runs/asl_blend_test+08032023_16:30:00_ps-[10, ...      blend_test     asl   \n",
       "1  runs/asl_blend_test+08032023_16:30:00_ps-[10, ...      blend_test     asl   \n",
       "2  runs/asl_blend_test+08032023_16:30:00_ps-[10, ...      blend_test     asl   \n",
       "3  runs/asl_blend_test+08032023_16:38:29_ps-[10, ...             NaN     NaN   \n",
       "4  runs/asl_blend_test+08032023_16:38:51_ps-[10, ...      blend_test     asl   \n",
       "\n",
       "  image_size batch_size enable_proxy_attention change_subset_attention  \\\n",
       "0        224         32                   True                     0.3   \n",
       "1        224         32                   True                     0.3   \n",
       "2        224         32                   True                     0.3   \n",
       "3        NaN        NaN                    NaN                     NaN   \n",
       "4        224         32                   True                     0.8   \n",
       "\n",
       "  num_gpu num_cpu transfer_imagenet  ... num_classes proxy_step Loss/Train  \\\n",
       "0       1      10              True  ...          29        0.0   0.478703   \n",
       "1       1      10              True  ...          29        1.0   0.510605   \n",
       "2       1      10              True  ...          29        0.0   0.367487   \n",
       "3     NaN     NaN               NaN  ...         NaN        NaN        NaN   \n",
       "4       1      10              True  ...          29        0.0   0.493784   \n",
       "\n",
       "  Acc/Train  Loss/Val  Acc/Val  \\\n",
       "0   0.85625  0.115334  0.96525   \n",
       "1   0.84025   0.14249  0.95675   \n",
       "2   0.88625  0.036445  0.98925   \n",
       "3       NaN       NaN      NaN   \n",
       "4   0.85425  0.111464  0.96925   \n",
       "\n",
       "                                           save_path Number_Chosen  \\\n",
       "0                                                NaN           NaN   \n",
       "1  /mnt/e/CODE/Github/improving_robotics_datasets...          10.0   \n",
       "2  /mnt/e/CODE/Github/improving_robotics_datasets...           NaN   \n",
       "3                                                NaN           NaN   \n",
       "4                                                NaN           NaN   \n",
       "\n",
       "  original_images converted_proxy  \n",
       "0             NaN             NaN  \n",
       "1             0.0             0.0  \n",
       "2             NaN             NaN  \n",
       "3             NaN             NaN  \n",
       "4             NaN             NaN  \n",
       "\n",
       "[5 rows x 36 columns]"
      ]
     },
     "execution_count": 20,
     "metadata": {},
     "output_type": "execute_result"
    }
   ],
   "source": [
    "combined_df.head()"
   ]
  },
  {
   "cell_type": "code",
   "execution_count": 8,
   "metadata": {},
   "outputs": [
    {
     "data": {
      "text/plain": [
       "(183, 36)"
      ]
     },
     "execution_count": 8,
     "metadata": {},
     "output_type": "execute_result"
    }
   ],
   "source": [
    "combined_df.shape"
   ]
  },
  {
   "cell_type": "code",
   "execution_count": 37,
   "metadata": {},
   "outputs": [
    {
     "data": {
      "text/plain": [
       "10    27\n",
       "11    27\n",
       "Name: global_run_count, dtype: int64"
      ]
     },
     "execution_count": 37,
     "metadata": {},
     "output_type": "execute_result"
    }
   ],
   "source": [
    "combined_df[\"global_run_count\"].value_counts()"
   ]
  },
  {
   "cell_type": "code",
   "execution_count": 28,
   "metadata": {},
   "outputs": [
    {
     "data": {
      "text/plain": [
       "[10, 'p', 10]    54\n",
       "Name: proxy_steps, dtype: int64"
      ]
     },
     "execution_count": 28,
     "metadata": {},
     "output_type": "execute_result"
    }
   ],
   "source": [
    "combined_df[combined_df[\"global_run_count\"]!= \"0\"][\"proxy_steps\"].value_counts()"
   ]
  },
  {
   "attachments": {},
   "cell_type": "markdown",
   "metadata": {},
   "source": [
    "# Preprocess"
   ]
  },
  {
   "cell_type": "code",
   "execution_count": 29,
   "metadata": {},
   "outputs": [],
   "source": [
    "def check_proxy(string): return \"p\" in string"
   ]
  },
  {
   "cell_type": "code",
   "execution_count": 30,
   "metadata": {},
   "outputs": [],
   "source": [
    "def calc_stats(values):\n",
    "    return f\"min: {values.min()} \\nmax: {values.max()} \\navg: {values.mean()}\""
   ]
  },
  {
   "cell_type": "code",
   "execution_count": 31,
   "metadata": {},
   "outputs": [],
   "source": [
    "def convert_float(df, cols, totype= float):\n",
    "    for col in cols:\n",
    "        df[col] = df[col].astype(totype)"
   ]
  },
  {
   "cell_type": "code",
   "execution_count": 32,
   "metadata": {},
   "outputs": [],
   "source": [
    "combined_df = combined_df.fillna(0)\n",
    "# col to check for proxy\n",
    "# combined_df[\"has_proxy\"] = combined_df[\"proxy_steps\"].apply(check_proxy)\n",
    "# Fix naming\n",
    "combined_df = combined_df.rename(columns={\"Acc/Val\":\"accuracy\", \"proxy_steps\":\"step_schedule\"})\n",
    "# Fix types\n",
    "convert_float(combined_df, [\"change_subset_attention\", \"proxy_threshold\", \"accuracy\"], float)\n",
    "convert_float(combined_df, [\"global_run_count\"], int)\n",
    "convert_float(combined_df, [\"transfer_imagenet\"], bool)\n",
    "\n",
    "# ignore failed runs\n",
    "combined_df = combined_df[combined_df[\"global_run_count\"]!=0]\n"
   ]
  },
  {
   "attachments": {},
   "cell_type": "markdown",
   "metadata": {},
   "source": [
    "# Grouped Results"
   ]
  },
  {
   "cell_type": "code",
   "execution_count": 33,
   "metadata": {},
   "outputs": [],
   "source": [
    "def return_grouped_results(df, group_cols ,filter = None, index_cols = ([\"ds_name\", (\"accuracy\")]), print_latex = False):\n",
    "    if filter != None:\n",
    "        df = df.reset_index()\n",
    "        for key in filter.keys():\n",
    "            df = df[df[key] == filter[key]]\n",
    "    final_df = pd.DataFrame(df.groupby(group_cols, as_index=True).mean(numeric_only = True)[\"accuracy\"]).sort_values(index_cols, ascending=False)\n",
    "    if print_latex == True:\n",
    "        clipboard.copy(final_df.to_latex())\n",
    "\n",
    "    return final_df\n",
    "\n"
   ]
  },
  {
   "cell_type": "code",
   "execution_count": 34,
   "metadata": {},
   "outputs": [
    {
     "data": {
      "text/html": [
       "<div>\n",
       "<style scoped>\n",
       "    .dataframe tbody tr th:only-of-type {\n",
       "        vertical-align: middle;\n",
       "    }\n",
       "\n",
       "    .dataframe tbody tr th {\n",
       "        vertical-align: top;\n",
       "    }\n",
       "\n",
       "    .dataframe thead th {\n",
       "        text-align: right;\n",
       "    }\n",
       "</style>\n",
       "<table border=\"1\" class=\"dataframe\">\n",
       "  <thead>\n",
       "    <tr style=\"text-align: right;\">\n",
       "      <th></th>\n",
       "      <th></th>\n",
       "      <th></th>\n",
       "      <th></th>\n",
       "      <th></th>\n",
       "      <th>accuracy</th>\n",
       "    </tr>\n",
       "    <tr>\n",
       "      <th>ds_name</th>\n",
       "      <th>pixel_replacement_method</th>\n",
       "      <th>transfer_imagenet</th>\n",
       "      <th>gradient_method</th>\n",
       "      <th>step_schedule</th>\n",
       "      <th></th>\n",
       "    </tr>\n",
       "  </thead>\n",
       "  <tbody>\n",
       "    <tr>\n",
       "      <th>asl</th>\n",
       "      <th>blended</th>\n",
       "      <th>True</th>\n",
       "      <th>gradcamplusplus</th>\n",
       "      <th>[10, 'p', 10]</th>\n",
       "      <td>0.966371</td>\n",
       "    </tr>\n",
       "  </tbody>\n",
       "</table>\n",
       "</div>"
      ],
      "text/plain": [
       "                                                                                  accuracy\n",
       "ds_name pixel_replacement_method transfer_imagenet gradient_method step_schedule          \n",
       "asl     blended                  True              gradcamplusplus [10, 'p', 10]  0.966371"
      ]
     },
     "execution_count": 34,
     "metadata": {},
     "output_type": "execute_result"
    }
   ],
   "source": [
    "return_grouped_results(combined_df, [\"ds_name\", \"pixel_replacement_method\", \"transfer_imagenet\", \"gradient_method\", \"step_schedule\"], filter = {\"transfer_imagenet\":True , \"ds_name\":\"asl\"})"
   ]
  },
  {
   "cell_type": "code",
   "execution_count": 35,
   "metadata": {},
   "outputs": [
    {
     "data": {
      "text/html": [
       "<div>\n",
       "<style scoped>\n",
       "    .dataframe tbody tr th:only-of-type {\n",
       "        vertical-align: middle;\n",
       "    }\n",
       "\n",
       "    .dataframe tbody tr th {\n",
       "        vertical-align: top;\n",
       "    }\n",
       "\n",
       "    .dataframe thead th {\n",
       "        text-align: right;\n",
       "    }\n",
       "</style>\n",
       "<table border=\"1\" class=\"dataframe\">\n",
       "  <thead>\n",
       "    <tr style=\"text-align: right;\">\n",
       "      <th></th>\n",
       "      <th></th>\n",
       "      <th></th>\n",
       "      <th></th>\n",
       "      <th></th>\n",
       "      <th></th>\n",
       "      <th>accuracy</th>\n",
       "    </tr>\n",
       "    <tr>\n",
       "      <th>ds_name</th>\n",
       "      <th>pixel_replacement_method</th>\n",
       "      <th>transfer_imagenet</th>\n",
       "      <th>gradient_method</th>\n",
       "      <th>step_schedule</th>\n",
       "      <th>global_run_count</th>\n",
       "      <th></th>\n",
       "    </tr>\n",
       "  </thead>\n",
       "  <tbody>\n",
       "    <tr>\n",
       "      <th rowspan=\"2\" valign=\"top\">imagenette</th>\n",
       "      <th rowspan=\"2\" valign=\"top\">blended</th>\n",
       "      <th rowspan=\"2\" valign=\"top\">True</th>\n",
       "      <th rowspan=\"2\" valign=\"top\">gradcamplusplus</th>\n",
       "      <th rowspan=\"2\" valign=\"top\">[10, 'p', 10]</th>\n",
       "      <th>11</th>\n",
       "      <td>0.710021</td>\n",
       "    </tr>\n",
       "    <tr>\n",
       "      <th>10</th>\n",
       "      <td>0.662625</td>\n",
       "    </tr>\n",
       "    <tr>\n",
       "      <th rowspan=\"2\" valign=\"top\">asl</th>\n",
       "      <th rowspan=\"2\" valign=\"top\">blended</th>\n",
       "      <th rowspan=\"2\" valign=\"top\">True</th>\n",
       "      <th rowspan=\"2\" valign=\"top\">gradcamplusplus</th>\n",
       "      <th rowspan=\"2\" valign=\"top\">[10, 'p', 10]</th>\n",
       "      <th>11</th>\n",
       "      <td>0.969076</td>\n",
       "    </tr>\n",
       "    <tr>\n",
       "      <th>10</th>\n",
       "      <td>0.963667</td>\n",
       "    </tr>\n",
       "  </tbody>\n",
       "</table>\n",
       "</div>"
      ],
      "text/plain": [
       "                                                                                                      accuracy\n",
       "ds_name    pixel_replacement_method transfer_imagenet gradient_method step_schedule global_run_count          \n",
       "imagenette blended                  True              gradcamplusplus [10, 'p', 10] 11                0.710021\n",
       "                                                                                    10                0.662625\n",
       "asl        blended                  True              gradcamplusplus [10, 'p', 10] 11                0.969076\n",
       "                                                                                    10                0.963667"
      ]
     },
     "execution_count": 35,
     "metadata": {},
     "output_type": "execute_result"
    }
   ],
   "source": [
    "return_grouped_results(combined_df, [\"ds_name\", \"pixel_replacement_method\", \"transfer_imagenet\", \"gradient_method\", \"step_schedule\", \"global_run_count\"])"
   ]
  },
  {
   "cell_type": "code",
   "execution_count": 36,
   "metadata": {},
   "outputs": [
    {
     "data": {
      "text/html": [
       "<div>\n",
       "<style scoped>\n",
       "    .dataframe tbody tr th:only-of-type {\n",
       "        vertical-align: middle;\n",
       "    }\n",
       "\n",
       "    .dataframe tbody tr th {\n",
       "        vertical-align: top;\n",
       "    }\n",
       "\n",
       "    .dataframe thead th {\n",
       "        text-align: right;\n",
       "    }\n",
       "</style>\n",
       "<table border=\"1\" class=\"dataframe\">\n",
       "  <thead>\n",
       "    <tr style=\"text-align: right;\">\n",
       "      <th></th>\n",
       "      <th></th>\n",
       "      <th></th>\n",
       "      <th></th>\n",
       "      <th></th>\n",
       "      <th></th>\n",
       "      <th>accuracy</th>\n",
       "    </tr>\n",
       "    <tr>\n",
       "      <th>ds_name</th>\n",
       "      <th>pixel_replacement_method</th>\n",
       "      <th>transfer_imagenet</th>\n",
       "      <th>gradient_method</th>\n",
       "      <th>change_subset_attention</th>\n",
       "      <th>step_schedule</th>\n",
       "      <th></th>\n",
       "    </tr>\n",
       "  </thead>\n",
       "  <tbody>\n",
       "    <tr>\n",
       "      <th>imagenette</th>\n",
       "      <th>blended</th>\n",
       "      <th>True</th>\n",
       "      <th>gradcamplusplus</th>\n",
       "      <th>0.8</th>\n",
       "      <th>[10, 'p', 10]</th>\n",
       "      <td>0.686323</td>\n",
       "    </tr>\n",
       "    <tr>\n",
       "      <th rowspan=\"2\" valign=\"top\">asl</th>\n",
       "      <th rowspan=\"2\" valign=\"top\">blended</th>\n",
       "      <th rowspan=\"2\" valign=\"top\">True</th>\n",
       "      <th rowspan=\"2\" valign=\"top\">gradcamplusplus</th>\n",
       "      <th>0.3</th>\n",
       "      <th>[10, 'p', 10]</th>\n",
       "      <td>0.973000</td>\n",
       "    </tr>\n",
       "    <tr>\n",
       "      <th>0.8</th>\n",
       "      <th>[10, 'p', 10]</th>\n",
       "      <td>0.963057</td>\n",
       "    </tr>\n",
       "  </tbody>\n",
       "</table>\n",
       "</div>"
      ],
      "text/plain": [
       "                                                                                                             accuracy\n",
       "ds_name    pixel_replacement_method transfer_imagenet gradient_method change_subset_attention step_schedule          \n",
       "imagenette blended                  True              gradcamplusplus 0.8                     [10, 'p', 10]  0.686323\n",
       "asl        blended                  True              gradcamplusplus 0.3                     [10, 'p', 10]  0.973000\n",
       "                                                                      0.8                     [10, 'p', 10]  0.963057"
      ]
     },
     "execution_count": 36,
     "metadata": {},
     "output_type": "execute_result"
    }
   ],
   "source": [
    "return_grouped_results(combined_df, [\"ds_name\", \"pixel_replacement_method\", \"transfer_imagenet\", \"gradient_method\", \"change_subset_attention\", \"step_schedule\"])"
   ]
  },
  {
   "cell_type": "markdown",
   "metadata": {},
   "source": [
    "## Parameter elimination"
   ]
  },
  {
   "cell_type": "code",
   "execution_count": 428,
   "metadata": {},
   "outputs": [],
   "source": [
    "def check_wrt_accuracy(has_proxy, condition, head = None):\n",
    "    grouped_vals = has_proxy.groupby([condition, \"ds_name\", \"transfer_imagenet\"]).mean(numeric_only = True)[\"accuracy\"].reset_index().sort_values(by = [\"accuracy\"], ascending=False)\n",
    "    print(\"Transfer\")\n",
    "    if head != None:\n",
    "        print(grouped_vals[grouped_vals[\"transfer_imagenet\"] == True].head(head).to_markdown())\n",
    "        print(\"No Transfer\")\n",
    "        print(grouped_vals[grouped_vals[\"transfer_imagenet\"] == False].head(head).to_markdown())\n",
    "    else:\n",
    "        print(grouped_vals[grouped_vals[\"transfer_imagenet\"] == True].to_markdown())\n",
    "        print(\"No Transfer\")\n",
    "        print(grouped_vals[grouped_vals[\"transfer_imagenet\"] == False].to_markdown())"
   ]
  },
  {
   "cell_type": "code",
   "execution_count": 429,
   "metadata": {},
   "outputs": [
    {
     "name": "stdout",
     "output_type": "stream",
     "text": [
      "Transfer\n",
      "|    | clear_every_step   | ds_name    | transfer_imagenet   |   accuracy |\n",
      "|---:|:-------------------|:-----------|:--------------------|-----------:|\n",
      "|  0 | False              | asl        | True                |   0.965529 |\n",
      "|  2 | True               | asl        | True                |   0.926681 |\n",
      "|  1 | False              | imagenette | True                |   0.816    |\n",
      "|  3 | True               | imagenette | True                |   0.66642  |\n",
      "No Transfer\n",
      "| clear_every_step   | ds_name   | transfer_imagenet   | accuracy   |\n",
      "|--------------------|-----------|---------------------|------------|\n"
     ]
    }
   ],
   "source": [
    "check_wrt_accuracy(combined_df, \"clear_every_step\")"
   ]
  },
  {
   "cell_type": "code",
   "execution_count": 430,
   "metadata": {},
   "outputs": [
    {
     "name": "stdout",
     "output_type": "stream",
     "text": [
      "Transfer\n",
      "|    |   change_subset_attention | ds_name    | transfer_imagenet   |   accuracy |\n",
      "|---:|--------------------------:|:-----------|:--------------------|-----------:|\n",
      "|  4 |                       0.8 | asl        | True                |   0.957823 |\n",
      "|  0 |                       0.3 | asl        | True                |   0.935525 |\n",
      "|  2 |                       0.5 | asl        | True                |   0.911833 |\n",
      "|  1 |                       0.3 | imagenette | True                |   0.771125 |\n",
      "|  3 |                       0.5 | imagenette | True                |   0.769875 |\n",
      "|  5 |                       0.8 | imagenette | True                |   0.663041 |\n",
      "No Transfer\n",
      "| change_subset_attention   | ds_name   | transfer_imagenet   | accuracy   |\n",
      "|---------------------------|-----------|---------------------|------------|\n"
     ]
    }
   ],
   "source": [
    "check_wrt_accuracy(combined_df, \"change_subset_attention\")"
   ]
  },
  {
   "cell_type": "code",
   "execution_count": 432,
   "metadata": {},
   "outputs": [
    {
     "name": "stdout",
     "output_type": "stream",
     "text": [
      "Transfer\n",
      "|    | gradient_method   | ds_name    | transfer_imagenet   |   accuracy |\n",
      "|---:|:------------------|:-----------|:--------------------|-----------:|\n",
      "|  0 | gradcamplusplus   | asl        | True                |   0.938634 |\n",
      "|  1 | gradcamplusplus   | imagenette | True                |   0.674157 |\n",
      "No Transfer\n",
      "| gradient_method   | ds_name   | transfer_imagenet   | accuracy   |\n",
      "|-------------------|-----------|---------------------|------------|\n"
     ]
    }
   ],
   "source": [
    "check_wrt_accuracy(combined_df, \"gradient_method\")"
   ]
  },
  {
   "cell_type": "code",
   "execution_count": 433,
   "metadata": {},
   "outputs": [
    {
     "name": "stdout",
     "output_type": "stream",
     "text": [
      "Transfer\n",
      "|    | pixel_replacement_method   | ds_name    | transfer_imagenet   |   accuracy |\n",
      "|---:|:---------------------------|:-----------|:--------------------|-----------:|\n",
      "|  0 | blended                    | asl        | True                |   0.938634 |\n",
      "|  1 | blended                    | imagenette | True                |   0.674157 |\n",
      "No Transfer\n",
      "| pixel_replacement_method   | ds_name   | transfer_imagenet   | accuracy   |\n",
      "|----------------------------|-----------|---------------------|------------|\n"
     ]
    }
   ],
   "source": [
    "check_wrt_accuracy(combined_df, \"pixel_replacement_method\")"
   ]
  },
  {
   "cell_type": "code",
   "execution_count": 434,
   "metadata": {},
   "outputs": [
    {
     "name": "stdout",
     "output_type": "stream",
     "text": [
      "Transfer\n",
      "|    |   proxy_threshold | ds_name   | transfer_imagenet   |   accuracy |\n",
      "|---:|------------------:|:----------|:--------------------|-----------:|\n",
      "| 77 |          0.92068  | asl       | True                |    0.98875 |\n",
      "| 84 |          0.94807  | asl       | True                |    0.9825  |\n",
      "| 71 |          0.898883 | asl       | True                |    0.98    |\n",
      "| 75 |          0.913456 | asl       | True                |    0.975   |\n",
      "No Transfer\n",
      "| proxy_threshold   | ds_name   | transfer_imagenet   | accuracy   |\n",
      "|-------------------|-----------|---------------------|------------|\n"
     ]
    }
   ],
   "source": [
    "check_wrt_accuracy(combined_df, \"proxy_threshold\", head= 4)"
   ]
  },
  {
   "cell_type": "code",
   "execution_count": 435,
   "metadata": {},
   "outputs": [
    {
     "name": "stdout",
     "output_type": "stream",
     "text": [
      "Transfer\n",
      "|    |   subset_images | ds_name    | transfer_imagenet   |   accuracy |\n",
      "|---:|----------------:|:-----------|:--------------------|-----------:|\n",
      "|  0 |            8000 | asl        | True                |   0.938634 |\n",
      "|  1 |            8000 | imagenette | True                |   0.674157 |\n",
      "No Transfer\n",
      "| subset_images   | ds_name   | transfer_imagenet   | accuracy   |\n",
      "|-----------------|-----------|---------------------|------------|\n"
     ]
    }
   ],
   "source": [
    "\n",
    "check_wrt_accuracy(combined_df, \"subset_images\")"
   ]
  },
  {
   "cell_type": "code",
   "execution_count": 437,
   "metadata": {},
   "outputs": [
    {
     "name": "stdout",
     "output_type": "stream",
     "text": [
      "Transfer\n",
      "|    | step_schedule   | ds_name    | transfer_imagenet   |   accuracy |\n",
      "|---:|:----------------|:-----------|:--------------------|-----------:|\n",
      "|  4 | [21]            | asl        | True                |   0.976833 |\n",
      "|  0 | [10, 'p', 10]   | asl        | True                |   0.962566 |\n",
      "|  2 | [20, 'p', 10]   | asl        | True                |   0.88725  |\n",
      "|  6 | [31]            | asl        | True                |   0.87725  |\n",
      "|  5 | [21]            | imagenette | True                |   0.809167 |\n",
      "|  1 | [10, 'p', 10]   | imagenette | True                |   0.669798 |\n",
      "|  7 | [31]            | imagenette | True                |   0.62725  |\n",
      "|  3 | [20, 'p', 10]   | imagenette | True                |   0.602167 |\n",
      "No Transfer\n",
      "| step_schedule   | ds_name   | transfer_imagenet   | accuracy   |\n",
      "|-----------------|-----------|---------------------|------------|\n"
     ]
    }
   ],
   "source": [
    "\n",
    "check_wrt_accuracy(combined_df, \"step_schedule\")"
   ]
  },
  {
   "cell_type": "code",
   "execution_count": null,
   "metadata": {},
   "outputs": [],
   "source": []
  }
 ],
 "metadata": {
  "kernelspec": {
   "display_name": "Python 3",
   "language": "python",
   "name": "python3"
  },
  "language_info": {
   "codemirror_mode": {
    "name": "ipython",
    "version": 3
   },
   "file_extension": ".py",
   "mimetype": "text/x-python",
   "name": "python",
   "nbconvert_exporter": "python",
   "pygments_lexer": "ipython3",
   "version": "3.10.9"
  },
  "orig_nbformat": 4,
  "vscode": {
   "interpreter": {
    "hash": "31f2aee4e71d21fbe5cf8b01ff0e069b9275f58929596ceb00d14d90e3e16cd6"
   }
  }
 },
 "nbformat": 4,
 "nbformat_minor": 2
}
