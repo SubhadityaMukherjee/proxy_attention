{
 "cells": [
  {
   "cell_type": "code",
   "execution_count": 1,
   "metadata": {},
   "outputs": [],
   "source": [
    "# %%\n",
    "# Imports\n",
    "from base64 import decode\n",
    "from config import ds_config\n",
    "from fastai.vision.all import *\n",
    "from fastai.callback.tensorboard import TensorBoardCallback\n",
    "import torchvision.transforms.functional as transformF\n",
    "\n",
    "# from fastai.callback.tracker import\n",
    "from fastai.vision.widgets import *\n",
    "import os\n",
    "import matplotlib.pyplot as plt\n",
    "from IPython.display import Image\n",
    "import argparse as ap\n",
    "import datetime\n",
    "import gc\n",
    "from tqdm import tqdm\n",
    "# from torch.multiprocessing import set_start_method\n",
    "# set_start_method('forkserver')\n",
    "\n",
    "# from torch.multiprocessing import Pool, Process, set_start_method\n",
    "# try:\n",
    "#      set_start_method('spawn')\n",
    "# except RuntimeError:\n",
    "#     pass\n",
    "\n",
    "from utils import *  # import utils at the end after fastai because the Hook function is a monkey-patch\n",
    "\n",
    "os.environ[\"TORCH_HOME\"] = \"/media/hdd/Datasets/\"\n",
    "os.environ[\"FASTAI_HOME\"] = \"/media/hdd/Datasets/\"\n",
    "\n",
    "# set_start_method('spawn')\n",
    "# Monkey patch batch prediction (fastai does not have this by default)\n",
    "Learner.predict_batch = predict_batch\n",
    "# %%\n",
    "# ags = ap.ArgumentParser(\"Additional Arguments for CLI\")\n",
    "# ags.add_argument(\n",
    "#     \"--config\", help=\"Name of config from dictionary\", default=\"fish_test_proxy\"\n",
    "# )\n",
    "# ags.add_argument(\"--name\", help=\"Name of the experiment\", required=True)\n",
    "# args = ags.parse_args()\n",
    "# ds_meta = ds_config[args.config]  # get info about dataset from the config file\n",
    "\n",
    "args = {\n",
    "    \"config\": \"fish_test_proxy\",\n",
    "    \"name\" : \"testing_ugh\"\n",
    "}\n",
    "from types import SimpleNamespace\n",
    "args = SimpleNamespace(**args)\n",
    "ds_meta = ds_config[args.config]  # get info about dataset from the config file"
   ]
  },
  {
   "cell_type": "code",
   "execution_count": 2,
   "metadata": {},
   "outputs": [
    {
     "name": "stdout",
     "output_type": "stream",
     "text": [
      "[INFO] : File name = fish_testing_ugh_17102022_15:20:29\n",
      "[INFO] : Removed Old augmented files\n"
     ]
    }
   ],
   "source": [
    "path = Path(ds_meta[\"ds_path\"])\n",
    "fname_start = f'{ds_meta[\"ds_name\"]}_{args.name}_{datetime.now().strftime(\"%d%m%Y_%H:%M:%S\")}'  # unique_name\n",
    "print(f\"[INFO] : File name = {fname_start}\")\n",
    "\n",
    "# Check if directories all present\n",
    "create_if_not_exists(f\"tb_runs/{fname_start}\")\n",
    "create_if_not_exists(f\"csv_logs/{fname_start}\")\n",
    "# Remove previous files\n",
    "\n",
    "all_files = get_image_files(path)\n",
    "[Path.unlink(file) for file in all_files if \"augmented_\" in file.name]\n",
    "print(\"[INFO] : Removed Old augmented files\")\n",
    "\n",
    "# TODO : Add reset folder\n",
    "#%%\n",
    "batch_tfms = aug_transforms() if ds_meta[\"enable_default_augments\"] == True else None\n",
    "fields = DataBlock(\n",
    "    blocks=(ImageBlock, CategoryBlock),\n",
    "    get_items=get_image_files,\n",
    "    get_y=ds_meta[\"name_fn\"],\n",
    "    splitter=RandomSplitter(valid_pct=0.2, seed=42),\n",
    "    item_tfms=RandomResizedCrop(ds_meta[\"image_size\"], min_scale=0.5),\n",
    "    batch_tfms=batch_tfms,\n",
    ")\n",
    "# Metrics\n",
    "metrics = [accuracy, error_rate]\n",
    "# Callbacks\n"
   ]
  },
  {
   "cell_type": "markdown",
   "metadata": {},
   "source": [
    "# Train Round 1"
   ]
  },
  {
   "cell_type": "code",
   "execution_count": 3,
   "metadata": {},
   "outputs": [
    {
     "name": "stderr",
     "output_type": "stream",
     "text": [
      "/home/eragon/micromamba/envs/pytorcher/lib/python3.10/site-packages/torchvision/models/_utils.py:208: UserWarning: The parameter 'pretrained' is deprecated since 0.13 and will be removed in 0.15, please use 'weights' instead.\n",
      "  warnings.warn(\n",
      "/home/eragon/micromamba/envs/pytorcher/lib/python3.10/site-packages/torchvision/models/_utils.py:223: UserWarning: Arguments other than a weight enum or `None` for 'weights' are deprecated since 0.13 and will be removed in 0.15. The current behavior is equivalent to passing `weights=None`.\n",
      "  warnings.warn(msg)\n"
     ]
    },
    {
     "name": "stdout",
     "output_type": "stream",
     "text": [
      "[LOG] : Cleared learner\n"
     ]
    }
   ],
   "source": [
    "dls = fields.dataloaders(path, bs=ds_meta[\"batch_size\"])\n",
    "cbs = [\n",
    "TensorBoardCallback(\n",
    "    log_dir=f\"tb_runs/{fname_start}\", projector=False, trace_model=False\n",
    "),\n",
    "CSVLogger(fname=f\"csv_logs/{fname_start}.csv\"),\n",
    "]\n",
    "\n",
    "learn = vision_learner(\n",
    "dls, ds_meta[\"network\"], cbs=cbs, metrics=metrics, pretrained=ds_meta[\"pretrained\"]\n",
    ").to_fp16()\n",
    "fname_training = f'{ds_meta[\"ds_name\"]}_{args.name}_{datetime.now().strftime(\"%d%m%Y_%H:%M:%S\")}'  # unique_name\n",
    "# learn.fine_tune(1)\n",
    "# learn.save(\"temp_model\")  # saving so can be reloaded\n",
    "learn.load(\"temp_model\")\n",
    "# clear_learner(learn, dls)\n",
    "print(\"[LOG] : Cleared learner\")\n"
   ]
  },
  {
   "cell_type": "code",
   "execution_count": 330,
   "metadata": {},
   "outputs": [
    {
     "name": "stdout",
     "output_type": "stream",
     "text": [
      "[INFO] : Starting Attention Loop\n"
     ]
    },
    {
     "data": {
      "text/html": [
       "\n",
       "<style>\n",
       "    /* Turns off some styling */\n",
       "    progress {\n",
       "        /* gets rid of default border in Firefox and Opera. */\n",
       "        border: none;\n",
       "        /* Needs to be in here for Safari polyfill so background images work as expected. */\n",
       "        background-size: auto;\n",
       "    }\n",
       "    progress:not([value]), progress:not([value])::-webkit-progress-bar {\n",
       "        background: repeating-linear-gradient(45deg, #7e7e7e, #7e7e7e 10px, #5c5c5c 10px, #5c5c5c 20px);\n",
       "    }\n",
       "    .progress-bar-interrupted, .progress-bar-interrupted::-webkit-progress-bar {\n",
       "        background: #F44336;\n",
       "    }\n",
       "</style>\n"
      ],
      "text/plain": [
       "<IPython.core.display.HTML object>"
      ]
     },
     "metadata": {},
     "output_type": "display_data"
    },
    {
     "data": {
      "text/html": [],
      "text/plain": [
       "<IPython.core.display.HTML object>"
      ]
     },
     "metadata": {},
     "output_type": "display_data"
    }
   ],
   "source": [
    "class Hook():\n",
    "    def __init__(self, m):\n",
    "        self.hook = m.register_forward_hook(self.hook_func)   \n",
    "    def hook_func(self, m, i, o): self.stored = o.detach().clone()\n",
    "    # Automatically register the hook when entering it\n",
    "    def __enter__(self, *args): return self\n",
    "    # Automatically remove the hook when exiting it\n",
    "    def __exit__(self, *args): self.hook.remove()\n",
    "\n",
    "class HookBwd():\n",
    "    def __init__(self, m):\n",
    "        self.hook = m.register_backward_hook(self.hook_func)   \n",
    "    def hook_func(self, m, gi, go): self.stored = go[0].detach().clone()\n",
    "    def __enter__(self, *args): return self\n",
    "    def __exit__(self, *args): self.hook.remove()\n",
    "\n",
    "# dls.to('cpu')\n",
    "\n",
    "# Get the classes\n",
    "print(\"[INFO] : Starting Attention Loop\")\n",
    "vocab_dict = {\n",
    "learn.dls.vocab[x]: x for x in range(len(learn.dls.vocab))\n",
    "}  # Get class names\n",
    "# Get images, shuffle, pick a subset\n",
    "items = get_image_files_exclude_augment(ds_meta[\"ds_path\"])\n",
    "items = items.shuffle()\n",
    "subset = int(ds_meta[\"change_subset_attention\"] * len(items))\n",
    "items = items[:subset]\n",
    "# Get preds from the network for all the chosen images with \"num_workers\" threads\n",
    "bspred = learn.predict_batch(items, num_workers=10)\n",
    "# Get all the class names for the subset of images and convert them into the One hot encoded version that the network knows already\n",
    "item_names = list(\n",
    "map(lambda x: vocab_dict[x], list(map(ds_meta[\"name_fn\"], items)))\n",
    ")\n",
    "\n",
    "# Get the index of all the images that the network predicted wrong\n",
    "# TODO : Check for confidence\n",
    "index_wrongs = [\n",
    "x for x in range(subset) if bspred[2][x] != TensorBase(item_names)[x]\n",
    "]"
   ]
  },
  {
   "cell_type": "code",
   "execution_count": 331,
   "metadata": {},
   "outputs": [
    {
     "name": "stderr",
     "output_type": "stream",
     "text": [
      "100%|██████████| 50/50 [00:00<00:00, 196178.86it/s]\n"
     ]
    }
   ],
   "source": [
    "ims = [items[x] for x in tqdm(index_wrongs, total = len(index_wrongs))]\n",
    "test_ds_new_ims = dls.test_dl(ims, bs = 16)"
   ]
  },
  {
   "cell_type": "code",
   "execution_count": 332,
   "metadata": {},
   "outputs": [
    {
     "data": {
      "text/html": [
       "\n",
       "<style>\n",
       "    /* Turns off some styling */\n",
       "    progress {\n",
       "        /* gets rid of default border in Firefox and Opera. */\n",
       "        border: none;\n",
       "        /* Needs to be in here for Safari polyfill so background images work as expected. */\n",
       "        background-size: auto;\n",
       "    }\n",
       "    progress:not([value]), progress:not([value])::-webkit-progress-bar {\n",
       "        background: repeating-linear-gradient(45deg, #7e7e7e, #7e7e7e 10px, #5c5c5c 10px, #5c5c5c 20px);\n",
       "    }\n",
       "    .progress-bar-interrupted, .progress-bar-interrupted::-webkit-progress-bar {\n",
       "        background: #F44336;\n",
       "    }\n",
       "</style>\n"
      ],
      "text/plain": [
       "<IPython.core.display.HTML object>"
      ]
     },
     "metadata": {},
     "output_type": "display_data"
    },
    {
     "data": {
      "text/html": [],
      "text/plain": [
       "<IPython.core.display.HTML object>"
      ]
     },
     "metadata": {},
     "output_type": "display_data"
    }
   ],
   "source": [
    "preds = learn.get_preds(dl = test_ds_new_ims, with_decoded=True)[2]"
   ]
  },
  {
   "cell_type": "code",
   "execution_count": 333,
   "metadata": {},
   "outputs": [],
   "source": [
    "def generate_batch(lst, batch_size):\n",
    "    \"\"\"  Yields batch of specified size \"\"\"\n",
    "    return [lst[i : i + batch_size] for i in range(0, len(lst), batch_size)]\n"
   ]
  },
  {
   "cell_type": "code",
   "execution_count": 360,
   "metadata": {},
   "outputs": [
    {
     "name": "stderr",
     "output_type": "stream",
     "text": [
      "0it [00:00, ?it/s]/home/eragon/micromamba/envs/pytorcher/lib/python3.10/site-packages/torch/nn/modules/module.py:1053: UserWarning: Using a non-full backward hook when the forward contains multiple autograd Nodes is deprecated and will be removed in future versions. This hook will be missing some grad_input. Please use register_full_backward_hook to get the documented behavior.\n",
      "  warnings.warn(\"Using a non-full backward hook when the forward contains multiple autograd Nodes \"\n",
      "0it [00:00, ?it/s]"
     ]
    },
    {
     "name": "stdout",
     "output_type": "stream",
     "text": [
      "tensor(0., device='cuda:0')\n",
      "tensor(0., device='cuda:0')\n",
      "tensor(0., device='cuda:0')\n",
      "tensor(0., device='cuda:0')\n",
      "tensor(0., device='cuda:0')\n",
      "tensor(0., device='cuda:0')\n",
      "tensor(0., device='cuda:0')\n",
      "tensor(0., device='cuda:0')\n",
      "tensor(0., device='cuda:0')\n",
      "tensor(0., device='cuda:0')\n",
      "tensor(0., device='cuda:0')\n",
      "tensor(0., device='cuda:0')\n",
      "tensor(0., device='cuda:0')\n",
      "tensor(0., device='cuda:0')\n",
      "tensor(0., device='cuda:0')\n",
      "tensor(-9.8628, device='cuda:0')\n"
     ]
    },
    {
     "name": "stderr",
     "output_type": "stream",
     "text": [
      "\n"
     ]
    }
   ],
   "source": [
    "# to_check = learn.model[-2][4][-1]\n",
    "# learn.eval()\n",
    "\n",
    "item_names_batched = generate_batch(item_names, test_ds_new_ims.bs)\n",
    "\n",
    "cam_maps = []\n",
    "for i, data in tqdm(enumerate(test_ds_new_ims)):\n",
    "\n",
    "    data = dls.train.decode(data)\n",
    "    y_values = item_names_batched[i]\n",
    "\n",
    "    with HookBwd(learn.model[-2][4][-1]) as hookg:  # for other layers\n",
    "        with Hook(learn.model[-2][4][-1]) as hook:\n",
    "            preds = learn.model.eval()(data[0].float().to(\"cuda\"))\n",
    "            # print(len(preds))\n",
    "            # acts = hook.stored\n",
    "            act = hook.stored\n",
    "        \n",
    "        # THIS is the issue I think.\n",
    "        for i_2 in range(len(preds)):\n",
    "            preds[i_2,y_values[i_2]-1].backward(retain_graph = True)\n",
    "        grad = hookg.stored\n",
    "        for i in grad:\n",
    "          print(i.sum())\n",
    "    for i_3 in range(len(preds)):\n",
    "        w = grad[i_3].mean(dim=[1, 2], keepdim=True)\n",
    "        cam_map = (w * act[i_3]).sum(0)\n",
    "        # print(w.sum())\n",
    "        cam_maps.append(cam_map)\n",
    "    break\n",
    "\n",
    "    #     preds[0, 3].backward()\n",
    "    #     grad = hookg.stored\n",
    "    # w = grad[0].mean(dim=[1, 2], keepdim=True)\n",
    "    # cam_map = (w * act[0]).sum(0)\n",
    "    # cam_maps.append(cam_map)\n",
    "\n",
    "    #     for i_2, output_x in tqdm(enumerate(preds), total = len(preds)):\n",
    "    #         preds[i_2, y_values[i_2]].backward(retain_graph = True)\n",
    "    #     grads = hookg.stored\n",
    "    #     # print(grads[0].shape, acts[0].shape)\n",
    "    # for i_3, output_x in tqdm(enumerate(grads), total = len(grads)):\n",
    "    #     w = grads[i_3].mean(dim=[1, 2], keepdim=True)\n",
    "    #     # w = grads[i_3]\n",
    "    #     cam_map = (w * acts[i_3]).sum(0)\n",
    "    #     cam_maps.append(cam_map)"
   ]
  },
  {
   "cell_type": "code",
   "execution_count": 353,
   "metadata": {},
   "outputs": [
    {
     "data": {
      "text/plain": [
       "torch.Size([16, 64, 56, 56])"
      ]
     },
     "execution_count": 353,
     "metadata": {},
     "output_type": "execute_result"
    }
   ],
   "source": [
    "grad.shape"
   ]
  },
  {
   "cell_type": "code",
   "execution_count": 354,
   "metadata": {},
   "outputs": [
    {
     "data": {
      "image/png": "[encoded data removed]",
      "text/plain": [
       "<Figure size 100x100 with 1 Axes>"
      ]
     },
     "metadata": {},
     "output_type": "display_data"
    },
    {
     "data": {
      "image/png": "[encoded data removed]",
      "text/plain": [
       "<Figure size 100x100 with 1 Axes>"
      ]
     },
     "metadata": {},
     "output_type": "display_data"
    },
    {
     "data": {
      "image/png": "[encoded data removed]",
      "text/plain": [
       "<Figure size 100x100 with 1 Axes>"
      ]
     },
     "metadata": {},
     "output_type": "display_data"
    },
    {
     "data": {
      "image/png": "[encoded data removed]",
      "text/plain": [
       "<Figure size 100x100 with 1 Axes>"
      ]
     },
     "metadata": {},
     "output_type": "display_data"
    },
    {
     "data": {
      "image/png": "[encoded data removed]",
      "text/plain": [
       "<Figure size 100x100 with 1 Axes>"
      ]
     },
     "metadata": {},
     "output_type": "display_data"
    },
    {
     "data": {
      "image/png": "[encoded data removed]",
      "text/plain": [
       "<Figure size 100x100 with 1 Axes>"
      ]
     },
     "metadata": {},
     "output_type": "display_data"
    },
    {
     "data": {
      "image/png": "[encoded data removed]",
      "text/plain": [
       "<Figure size 100x100 with 1 Axes>"
      ]
     },
     "metadata": {},
     "output_type": "display_data"
    },
    {
     "data": {
      "image/png": "[encoded data removed]",
      "text/plain": [
       "<Figure size 100x100 with 1 Axes>"
      ]
     },
     "metadata": {},
     "output_type": "display_data"
    },
    {
     "data": {
      "image/png": "[encoded data removed]",
      "text/plain": [
       "<Figure size 100x100 with 1 Axes>"
      ]
     },
     "metadata": {},
     "output_type": "display_data"
    },
    {
     "data": {
      "image/png": "[encoded data removed]",
      "text/plain": [
       "<Figure size 100x100 with 1 Axes>"
      ]
     },
     "metadata": {},
     "output_type": "display_data"
    },
    {
     "data": {
      "image/png": "[encoded data removed]",
      "text/plain": [
       "<Figure size 100x100 with 1 Axes>"
      ]
     },
     "metadata": {},
     "output_type": "display_data"
    },
    {
     "data": {
      "image/png": "[encoded data removed]",
      "text/plain": [
       "<Figure size 100x100 with 1 Axes>"
      ]
     },
     "metadata": {},
     "output_type": "display_data"
    },
    {
     "data": {
      "image/png": "[encoded data removed]",
      "text/plain": [
       "<Figure size 100x100 with 1 Axes>"
      ]
     },
     "metadata": {},
     "output_type": "display_data"
    },
    {
     "data": {
      "image/png": "[encoded data removed]",
      "text/plain": [
       "<Figure size 100x100 with 1 Axes>"
      ]
     },
     "metadata": {},
     "output_type": "display_data"
    },
    {
     "data": {
      "image/png": "[encoded data removed]",
      "text/plain": [
       "<Figure size 100x100 with 1 Axes>"
      ]
     },
     "metadata": {},
     "output_type": "display_data"
    },
    {
     "data": {
      "image/png": "[encoded data removed]",
      "text/plain": [
       "<Figure size 100x100 with 1 Axes>"
      ]
     },
     "metadata": {},
     "output_type": "display_data"
    }
   ],
   "source": [
    "for i in range(len(cam_maps)):\n",
    "    show_image(cam_maps[i])"
   ]
  },
  {
   "cell_type": "code",
   "execution_count": 131,
   "metadata": {},
   "outputs": [
    {
     "name": "stdout",
     "output_type": "stream",
     "text": [
      "Resizing\n"
     ]
    }
   ],
   "source": [
    "print(\"Resizing\")\n",
    "t_resized = [transformF.resize(torch.unsqueeze(cam_map, 0), ds_meta[\"image_size\"]) for cam_map in cam_maps]\n",
    "t_resized = [torch.cat([x, x, x], dim=0).detach().cpu() for x in t_resized]\n",
    "t_resized_batch = generate_batch(t_resized, test_ds_new_ims.bs)\n",
    "\n",
    "decoded_tensor_images = dls.train.decode(data)\n",
    "# decoded_tensor_images = [dls.train.decode(x)[0][0].float() for x in tqdm(test_ds_new_ims, total = len(test_ds_new_ims))]\n"
   ]
  },
  {
   "cell_type": "code",
   "execution_count": 149,
   "metadata": {},
   "outputs": [
    {
     "data": {
      "text/plain": [
       "torch.Size([3, 3, 224, 224])"
      ]
     },
     "execution_count": 149,
     "metadata": {},
     "output_type": "execute_result"
    }
   ],
   "source": [
    "decoded_tensor_images[0].shape"
   ]
  },
  {
   "cell_type": "code",
   "execution_count": 144,
   "metadata": {},
   "outputs": [
    {
     "name": "stdout",
     "output_type": "stream",
     "text": [
      "5 1\n"
     ]
    }
   ],
   "source": [
    "print(len(t_resized_batch), len(decoded_tensor_images))"
   ]
  },
  {
   "cell_type": "code",
   "execution_count": 143,
   "metadata": {},
   "outputs": [
    {
     "name": "stdout",
     "output_type": "stream",
     "text": [
      "torch.Size([3, 224, 224]) torch.Size([3, 224, 224])\n",
      "torch.Size([3, 224, 224]) torch.Size([3, 224, 224])\n",
      "torch.Size([3, 224, 224]) torch.Size([3, 224, 224])\n"
     ]
    },
    {
     "ename": "IndexError",
     "evalue": "index 3 is out of bounds for dimension 0 with size 3",
     "output_type": "error",
     "traceback": [
      "\u001b[0;31m---------------------------------------------------------------------------\u001b[0m",
      "\u001b[0;31mIndexError\u001b[0m                                Traceback (most recent call last)",
      "\u001b[1;32m/media/hdd/github/improving_robotics_datasets/src/aug_test.ipynb Cell 13'\u001b[0m in \u001b[0;36m<cell line: 1>\u001b[0;34m()\u001b[0m\n\u001b[1;32m      <a href='vscode-notebook-cell:/media/hdd/github/improving_robotics_datasets/src/aug_test.ipynb#ch0000034?line=0'>1</a>\u001b[0m \u001b[39mfor\u001b[39;00m batch \u001b[39min\u001b[39;00m \u001b[39mrange\u001b[39m(\u001b[39mlen\u001b[39m(t_resized_batch)):\n\u001b[1;32m      <a href='vscode-notebook-cell:/media/hdd/github/improving_robotics_datasets/src/aug_test.ipynb#ch0000034?line=1'>2</a>\u001b[0m     \u001b[39mfor\u001b[39;00m index \u001b[39min\u001b[39;00m \u001b[39mrange\u001b[39m(\u001b[39mlen\u001b[39m(t_resized_batch[batch])):\n\u001b[0;32m----> <a href='vscode-notebook-cell:/media/hdd/github/improving_robotics_datasets/src/aug_test.ipynb#ch0000034?line=2'>3</a>\u001b[0m         \u001b[39mprint\u001b[39m(decoded_tensor_images[batch][index]\u001b[39m.\u001b[39mshape, t_resized_batch[batch][index]\u001b[39m.\u001b[39mshape)\n\u001b[1;32m      <a href='vscode-notebook-cell:/media/hdd/github/improving_robotics_datasets/src/aug_test.ipynb#ch0000034?line=3'>4</a>\u001b[0m         decoded_tensor_images[batch][index][t_resized_batch[batch][index] \u001b[39m>\u001b[39m\u001b[39m=\u001b[39m\u001b[39m0.009\u001b[39m] \u001b[39m=\u001b[39m \u001b[39m0.0\u001b[39m\n",
      "File \u001b[0;32m~/micromamba/envs/pytorcher/lib/python3.10/site-packages/fastai/torch_core.py:376\u001b[0m, in \u001b[0;36mTensorBase.__torch_function__\u001b[0;34m(cls, func, types, args, kwargs)\u001b[0m\n\u001b[1;32m    <a href='file:///home/eragon/micromamba/envs/pytorcher/lib/python3.10/site-packages/fastai/torch_core.py?line=373'>374</a>\u001b[0m \u001b[39mif\u001b[39;00m \u001b[39mcls\u001b[39m\u001b[39m.\u001b[39mdebug \u001b[39mand\u001b[39;00m func\u001b[39m.\u001b[39m\u001b[39m__name__\u001b[39m \u001b[39mnot\u001b[39;00m \u001b[39min\u001b[39;00m (\u001b[39m'\u001b[39m\u001b[39m__str__\u001b[39m\u001b[39m'\u001b[39m,\u001b[39m'\u001b[39m\u001b[39m__repr__\u001b[39m\u001b[39m'\u001b[39m): \u001b[39mprint\u001b[39m(func, types, args, kwargs)\n\u001b[1;32m    <a href='file:///home/eragon/micromamba/envs/pytorcher/lib/python3.10/site-packages/fastai/torch_core.py?line=374'>375</a>\u001b[0m \u001b[39mif\u001b[39;00m _torch_handled(args, \u001b[39mcls\u001b[39m\u001b[39m.\u001b[39m_opt, func): types \u001b[39m=\u001b[39m (torch\u001b[39m.\u001b[39mTensor,)\n\u001b[0;32m--> <a href='file:///home/eragon/micromamba/envs/pytorcher/lib/python3.10/site-packages/fastai/torch_core.py?line=375'>376</a>\u001b[0m res \u001b[39m=\u001b[39m \u001b[39msuper\u001b[39;49m()\u001b[39m.\u001b[39;49m__torch_function__(func, types, args, ifnone(kwargs, {}))\n\u001b[1;32m    <a href='file:///home/eragon/micromamba/envs/pytorcher/lib/python3.10/site-packages/fastai/torch_core.py?line=376'>377</a>\u001b[0m dict_objs \u001b[39m=\u001b[39m _find_args(args) \u001b[39mif\u001b[39;00m args \u001b[39melse\u001b[39;00m _find_args(\u001b[39mlist\u001b[39m(kwargs\u001b[39m.\u001b[39mvalues()))\n\u001b[1;32m    <a href='file:///home/eragon/micromamba/envs/pytorcher/lib/python3.10/site-packages/fastai/torch_core.py?line=377'>378</a>\u001b[0m \u001b[39mif\u001b[39;00m \u001b[39missubclass\u001b[39m(\u001b[39mtype\u001b[39m(res),TensorBase) \u001b[39mand\u001b[39;00m dict_objs: res\u001b[39m.\u001b[39mset_meta(dict_objs[\u001b[39m0\u001b[39m],as_copy\u001b[39m=\u001b[39m\u001b[39mTrue\u001b[39;00m)\n",
      "File \u001b[0;32m~/micromamba/envs/pytorcher/lib/python3.10/site-packages/torch/_tensor.py:1121\u001b[0m, in \u001b[0;36mTensor.__torch_function__\u001b[0;34m(cls, func, types, args, kwargs)\u001b[0m\n\u001b[1;32m   <a href='file:///home/eragon/micromamba/envs/pytorcher/lib/python3.10/site-packages/torch/_tensor.py?line=1117'>1118</a>\u001b[0m     \u001b[39mreturn\u001b[39;00m \u001b[39mNotImplemented\u001b[39m\n\u001b[1;32m   <a href='file:///home/eragon/micromamba/envs/pytorcher/lib/python3.10/site-packages/torch/_tensor.py?line=1119'>1120</a>\u001b[0m \u001b[39mwith\u001b[39;00m _C\u001b[39m.\u001b[39mDisableTorchFunction():\n\u001b[0;32m-> <a href='file:///home/eragon/micromamba/envs/pytorcher/lib/python3.10/site-packages/torch/_tensor.py?line=1120'>1121</a>\u001b[0m     ret \u001b[39m=\u001b[39m func(\u001b[39m*\u001b[39;49margs, \u001b[39m*\u001b[39;49m\u001b[39m*\u001b[39;49mkwargs)\n\u001b[1;32m   <a href='file:///home/eragon/micromamba/envs/pytorcher/lib/python3.10/site-packages/torch/_tensor.py?line=1121'>1122</a>\u001b[0m     \u001b[39mif\u001b[39;00m func \u001b[39min\u001b[39;00m get_default_nowrap_functions():\n\u001b[1;32m   <a href='file:///home/eragon/micromamba/envs/pytorcher/lib/python3.10/site-packages/torch/_tensor.py?line=1122'>1123</a>\u001b[0m         \u001b[39mreturn\u001b[39;00m ret\n",
      "\u001b[0;31mIndexError\u001b[0m: index 3 is out of bounds for dimension 0 with size 3"
     ]
    }
   ],
   "source": [
    "for batch in range(len(t_resized_batch)):\n",
    "    for index in range(len(t_resized_batch[batch])):\n",
    "        print(decoded_tensor_images[batch][index].shape, t_resized_batch[batch][index].shape)\n",
    "        decoded_tensor_images[batch][index][t_resized_batch[batch][index] >=0.009] = 0.0\n",
    "        # decoded_tensor_images[batch][index] = torch.einsum(\"ijk->jki\", decoded_tensor_images[batch][index])\n",
    "    "
   ]
  },
  {
   "cell_type": "code",
   "execution_count": 31,
   "metadata": {},
   "outputs": [
    {
     "name": "stderr",
     "output_type": "stream",
     "text": [
      "100%|██████████| 69/69 [00:00<00:00, 519.24it/s]\n",
      "100%|██████████| 1/1 [00:00<00:00,  1.33it/s]\n"
     ]
    },
    {
     "name": "stdout",
     "output_type": "stream",
     "text": [
      "Creating map\n"
     ]
    },
    {
     "name": "stderr",
     "output_type": "stream",
     "text": [
      "  0%|          | 0/1 [00:00<?, ?it/s]/home/eragon/micromamba/envs/pytorcher/lib/python3.10/site-packages/torch/nn/modules/module.py:1053: UserWarning: Using a non-full backward hook when the forward contains multiple autograd Nodes is deprecated and will be removed in future versions. This hook will be missing some grad_input. Please use register_full_backward_hook to get the documented behavior.\n",
      "  warnings.warn(\"Using a non-full backward hook when the forward contains multiple autograd Nodes \"\n",
      "  0%|          | 0/1 [00:00<?, ?it/s]"
     ]
    },
    {
     "name": "stdout",
     "output_type": "stream",
     "text": [
      "torch.Size([69, 18])\n"
     ]
    },
    {
     "name": "stderr",
     "output_type": "stream",
     "text": [
      "\n"
     ]
    }
   ],
   "source": [
    "ims = [PILImage.create(items[x]) for x in tqdm(index_wrongs, total = len(index_wrongs))]\n",
    "im_names = [items[x] for x in index_wrongs]\n",
    "test_ds_new_ims = dls.test_dl(ims, shuffle = False)\n",
    "decoded = [dls.train.decode(x)[0].float() for x in tqdm(test_ds_new_ims, total = len(test_ds_new_ims))]\n",
    "eval_model =learn.model.eval() \n",
    "# eval_model_results = [eval_model(first(x).float().cuda()) for x in test_ds_new_ims]\n",
    "# eval_model_results = learn.predict_batch(ims)[0]\n",
    "# print(eval_model_results)\n",
    "# Hook\n",
    "cls = 1\n",
    "cam_maps = []\n",
    "\n",
    "print(\"Creating map\")\n",
    "for im in tqdm(decoded, total = len(decoded)):\n",
    "    with HookBwd(learn.model[-2][4][-1]) as hookg:  # for other layers\n",
    "        with Hook(learn.model[-2][4][-1]) as hook:\n",
    "            output = eval_model(im.cuda())\n",
    "            print(output.shape)\n",
    "            # output = learn.predict(im)\n",
    "            act = hook.stored\n",
    "        output[0, cls].backward()\n",
    "        grad = hookg.stored\n",
    "    w = grad[0].mean(dim=[1, 2], keepdim=True)\n",
    "    cam_map = (w * act[0]).sum(0)\n",
    "    cam_maps.append(cam_map)\n",
    "    break\n",
    "\n",
    "# print(\"Resizing\")\n",
    "# t_resized = [transformF.resize(torch.unsqueeze(cam_map, 0), ds_meta[\"image_size\"]) for cam_map in cam_maps]\n",
    "# t_resized = [torch.cat([x, x, x], dim=0).detach().cpu() for x in t_resized]\n",
    "# decoded_tensor_images = [dls.train.decode(x)[0][0].float() for x in tqdm(test_ds_new_ims, total = len(test_ds_new_ims))]\n",
    "\n",
    "# for ind in tqdm(range(len(t_resized))):\n",
    "#     decoded_tensor_images[ind][t_resized[ind] >=0.009] = 0.0\n",
    "#     decoded_tensor_images[ind] = torch.einsum(\"ijk->jki\", decoded_tensor_images[ind])\n",
    "\n",
    "# for ind in tqdm(range(len(decoded_tensor_images))):\n",
    "#     plt.imshow(decoded_tensor_images[ind])\n",
    "#     plt.axis(\"off\")\n",
    "#     ax=plt.gca()\n",
    "#     ax.get_xaxis().set_visible(False)\n",
    "#     plt.box(False)\n",
    "#     plt.savefig(rename_for_aug(im_names[ind]), transparent = True, bbox_inches='tight',pad_inches = 0)\n",
    "# clear_learner(learn, dls)\n",
    "# del bspred\n",
    "# del items\n",
    "# # del t_resized\n",
    "# gc.collect()\n"
   ]
  }
 ],
 "metadata": {
  "interpreter": {
   "hash": "db63ec5837ed7153ffcff7a5d42bf80536894c2cc03a9bb032bbe91b2078875e"
  },
  "kernelspec": {
   "display_name": "Python 3.10.5 64-bit ('pytorcher')",
   "language": "python",
   "name": "python3"
  },
  "language_info": {
   "codemirror_mode": {
    "name": "ipython",
    "version": 3
   },
   "file_extension": ".py",
   "mimetype": "text/x-python",
   "name": "python",
   "nbconvert_exporter": "python",
   "pygments_lexer": "ipython3",
   "version": "3.10.5"
  },
  "orig_nbformat": 4
 },
 "nbformat": 4,
 "nbformat_minor": 2
}
