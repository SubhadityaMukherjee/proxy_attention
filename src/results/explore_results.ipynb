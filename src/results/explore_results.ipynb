{
 "cells": [
  {
   "cell_type": "code",
   "execution_count": 94,
   "metadata": {},
   "outputs": [],
   "source": [
    "import pandas as pd\n",
    "import os\n",
    "import numpy as np\n",
    "from pathlib import Path\n",
    "import matplotlib.pyplot as plt"
   ]
  },
  {
   "cell_type": "code",
   "execution_count": 65,
   "metadata": {},
   "outputs": [
    {
     "data": {
      "text/plain": [
       "[PosixPath(\"asl_asl_test_notransfer+28022023_20:46:42_ps-{'grid_search': [[10, 'p', 10], [20]]}result_log.csv\"),\n",
       " PosixPath(\"asl_test_asl_starter+27022023_17:59:06_ps-{'grid_search': [[2, 'p', 5]]}result_log.csv\"),\n",
       " PosixPath(\"asl_test_asl_starter+27022023_13:18:49_ps-{'grid_search': [[2, 'p', 2], [4]]}result_log.csv\")]"
      ]
     },
     "execution_count": 65,
     "metadata": {},
     "output_type": "execute_result"
    }
   ],
   "source": [
    "res_files = [Path(\".\")/x for x in os.listdir(\".\") if \"csv\" in x]\n",
    "res_files"
   ]
  },
  {
   "cell_type": "code",
   "execution_count": 226,
   "metadata": {},
   "outputs": [],
   "source": [
    "def merge_results(all_files): return pd.concat([pd.read_csv(file) for file in all_files])"
   ]
  },
  {
   "cell_type": "code",
   "execution_count": 227,
   "metadata": {},
   "outputs": [
    {
     "data": {
      "text/html": [
       "<div>\n",
       "<style scoped>\n",
       "    .dataframe tbody tr th:only-of-type {\n",
       "        vertical-align: middle;\n",
       "    }\n",
       "\n",
       "    .dataframe tbody tr th {\n",
       "        vertical-align: top;\n",
       "    }\n",
       "\n",
       "    .dataframe thead th {\n",
       "        text-align: right;\n",
       "    }\n",
       "</style>\n",
       "<table border=\"1\" class=\"dataframe\">\n",
       "  <thead>\n",
       "    <tr style=\"text-align: right;\">\n",
       "      <th></th>\n",
       "      <th>Unnamed: 0</th>\n",
       "      <th>loss</th>\n",
       "      <th>accuracy</th>\n",
       "      <th>time_this_iter_s</th>\n",
       "      <th>should_checkpoint</th>\n",
       "      <th>done</th>\n",
       "      <th>timesteps_total</th>\n",
       "      <th>episodes_total</th>\n",
       "      <th>training_iteration</th>\n",
       "      <th>trial_id</th>\n",
       "      <th>...</th>\n",
       "      <th>config/model</th>\n",
       "      <th>config/name_fn</th>\n",
       "      <th>config/num_cpu</th>\n",
       "      <th>config/num_gpu</th>\n",
       "      <th>config/pixel_replacement_method</th>\n",
       "      <th>config/proxy_steps</th>\n",
       "      <th>config/proxy_threshold</th>\n",
       "      <th>config/subset_images</th>\n",
       "      <th>config/transfer_imagenet</th>\n",
       "      <th>logdir</th>\n",
       "    </tr>\n",
       "  </thead>\n",
       "  <tbody>\n",
       "    <tr>\n",
       "      <th>0</th>\n",
       "      <td>0</td>\n",
       "      <td>3.221793</td>\n",
       "      <td>tensor(0.0878, device='cuda:0', dtype=torch.fl...</td>\n",
       "      <td>31.788656</td>\n",
       "      <td>True</td>\n",
       "      <td>False</td>\n",
       "      <td>NaN</td>\n",
       "      <td>NaN</td>\n",
       "      <td>8</td>\n",
       "      <td>a297c_00000</td>\n",
       "      <td>...</td>\n",
       "      <td>resnet18</td>\n",
       "      <td>&lt;function asl_name_fn at 0x7f0f708ca050&gt;</td>\n",
       "      <td>11</td>\n",
       "      <td>1</td>\n",
       "      <td>mean</td>\n",
       "      <td>[10, 'p', 10]</td>\n",
       "      <td>0.921169</td>\n",
       "      <td>10000</td>\n",
       "      <td>False</td>\n",
       "      <td>/home/eragon/ray_results/train_proxy_steps_202...</td>\n",
       "    </tr>\n",
       "    <tr>\n",
       "      <th>1</th>\n",
       "      <td>1</td>\n",
       "      <td>3.368893</td>\n",
       "      <td>tensor(0.0540, device='cuda:0', dtype=torch.fl...</td>\n",
       "      <td>42.158657</td>\n",
       "      <td>True</td>\n",
       "      <td>True</td>\n",
       "      <td>NaN</td>\n",
       "      <td>NaN</td>\n",
       "      <td>1</td>\n",
       "      <td>a297c_00001</td>\n",
       "      <td>...</td>\n",
       "      <td>resnet18</td>\n",
       "      <td>&lt;function asl_name_fn at 0x7f0f708ca050&gt;</td>\n",
       "      <td>11</td>\n",
       "      <td>1</td>\n",
       "      <td>mean</td>\n",
       "      <td>[10, 'p', 10]</td>\n",
       "      <td>0.857935</td>\n",
       "      <td>10000</td>\n",
       "      <td>False</td>\n",
       "      <td>/home/eragon/ray_results/train_proxy_steps_202...</td>\n",
       "    </tr>\n",
       "    <tr>\n",
       "      <th>2</th>\n",
       "      <td>2</td>\n",
       "      <td>3.324268</td>\n",
       "      <td>tensor(0.0576, device='cuda:0', dtype=torch.fl...</td>\n",
       "      <td>30.061499</td>\n",
       "      <td>True</td>\n",
       "      <td>True</td>\n",
       "      <td>NaN</td>\n",
       "      <td>NaN</td>\n",
       "      <td>2</td>\n",
       "      <td>a297c_00002</td>\n",
       "      <td>...</td>\n",
       "      <td>resnet18</td>\n",
       "      <td>&lt;function asl_name_fn at 0x7f0f708ca050&gt;</td>\n",
       "      <td>11</td>\n",
       "      <td>1</td>\n",
       "      <td>mean</td>\n",
       "      <td>[10, 'p', 10]</td>\n",
       "      <td>0.899466</td>\n",
       "      <td>10000</td>\n",
       "      <td>False</td>\n",
       "      <td>/home/eragon/ray_results/train_proxy_steps_202...</td>\n",
       "    </tr>\n",
       "    <tr>\n",
       "      <th>3</th>\n",
       "      <td>3</td>\n",
       "      <td>3.361528</td>\n",
       "      <td>tensor(0.0432, device='cuda:0', dtype=torch.fl...</td>\n",
       "      <td>31.432137</td>\n",
       "      <td>True</td>\n",
       "      <td>True</td>\n",
       "      <td>NaN</td>\n",
       "      <td>NaN</td>\n",
       "      <td>1</td>\n",
       "      <td>a297c_00003</td>\n",
       "      <td>...</td>\n",
       "      <td>resnet18</td>\n",
       "      <td>&lt;function asl_name_fn at 0x7f0f708ca050&gt;</td>\n",
       "      <td>11</td>\n",
       "      <td>1</td>\n",
       "      <td>mean</td>\n",
       "      <td>[10, 'p', 10]</td>\n",
       "      <td>0.889297</td>\n",
       "      <td>10000</td>\n",
       "      <td>False</td>\n",
       "      <td>/home/eragon/ray_results/train_proxy_steps_202...</td>\n",
       "    </tr>\n",
       "    <tr>\n",
       "      <th>4</th>\n",
       "      <td>4</td>\n",
       "      <td>3.365735</td>\n",
       "      <td>tensor(0.0364, device='cuda:0', dtype=torch.fl...</td>\n",
       "      <td>31.297887</td>\n",
       "      <td>True</td>\n",
       "      <td>True</td>\n",
       "      <td>NaN</td>\n",
       "      <td>NaN</td>\n",
       "      <td>1</td>\n",
       "      <td>a297c_00004</td>\n",
       "      <td>...</td>\n",
       "      <td>resnet18</td>\n",
       "      <td>&lt;function asl_name_fn at 0x7f0f708ca050&gt;</td>\n",
       "      <td>11</td>\n",
       "      <td>1</td>\n",
       "      <td>mean</td>\n",
       "      <td>[10, 'p', 10]</td>\n",
       "      <td>0.825207</td>\n",
       "      <td>10000</td>\n",
       "      <td>False</td>\n",
       "      <td>/home/eragon/ray_results/train_proxy_steps_202...</td>\n",
       "    </tr>\n",
       "  </tbody>\n",
       "</table>\n",
       "<p>5 rows × 44 columns</p>\n",
       "</div>"
      ],
      "text/plain": [
       "   Unnamed: 0      loss                                           accuracy  \\\n",
       "0           0  3.221793  tensor(0.0878, device='cuda:0', dtype=torch.fl...   \n",
       "1           1  3.368893  tensor(0.0540, device='cuda:0', dtype=torch.fl...   \n",
       "2           2  3.324268  tensor(0.0576, device='cuda:0', dtype=torch.fl...   \n",
       "3           3  3.361528  tensor(0.0432, device='cuda:0', dtype=torch.fl...   \n",
       "4           4  3.365735  tensor(0.0364, device='cuda:0', dtype=torch.fl...   \n",
       "\n",
       "   time_this_iter_s  should_checkpoint   done  timesteps_total  \\\n",
       "0         31.788656               True  False              NaN   \n",
       "1         42.158657               True   True              NaN   \n",
       "2         30.061499               True   True              NaN   \n",
       "3         31.432137               True   True              NaN   \n",
       "4         31.297887               True   True              NaN   \n",
       "\n",
       "   episodes_total  training_iteration     trial_id  ... config/model  \\\n",
       "0             NaN                   8  a297c_00000  ...     resnet18   \n",
       "1             NaN                   1  a297c_00001  ...     resnet18   \n",
       "2             NaN                   2  a297c_00002  ...     resnet18   \n",
       "3             NaN                   1  a297c_00003  ...     resnet18   \n",
       "4             NaN                   1  a297c_00004  ...     resnet18   \n",
       "\n",
       "                             config/name_fn  config/num_cpu  config/num_gpu  \\\n",
       "0  <function asl_name_fn at 0x7f0f708ca050>              11               1   \n",
       "1  <function asl_name_fn at 0x7f0f708ca050>              11               1   \n",
       "2  <function asl_name_fn at 0x7f0f708ca050>              11               1   \n",
       "3  <function asl_name_fn at 0x7f0f708ca050>              11               1   \n",
       "4  <function asl_name_fn at 0x7f0f708ca050>              11               1   \n",
       "\n",
       "   config/pixel_replacement_method config/proxy_steps config/proxy_threshold  \\\n",
       "0                             mean      [10, 'p', 10]               0.921169   \n",
       "1                             mean      [10, 'p', 10]               0.857935   \n",
       "2                             mean      [10, 'p', 10]               0.899466   \n",
       "3                             mean      [10, 'p', 10]               0.889297   \n",
       "4                             mean      [10, 'p', 10]               0.825207   \n",
       "\n",
       "   config/subset_images  config/transfer_imagenet  \\\n",
       "0                 10000                     False   \n",
       "1                 10000                     False   \n",
       "2                 10000                     False   \n",
       "3                 10000                     False   \n",
       "4                 10000                     False   \n",
       "\n",
       "                                              logdir  \n",
       "0  /home/eragon/ray_results/train_proxy_steps_202...  \n",
       "1  /home/eragon/ray_results/train_proxy_steps_202...  \n",
       "2  /home/eragon/ray_results/train_proxy_steps_202...  \n",
       "3  /home/eragon/ray_results/train_proxy_steps_202...  \n",
       "4  /home/eragon/ray_results/train_proxy_steps_202...  \n",
       "\n",
       "[5 rows x 44 columns]"
      ]
     },
     "execution_count": 227,
     "metadata": {},
     "output_type": "execute_result"
    }
   ],
   "source": [
    "merged_df = merge_results(res_files)\n",
    "merged_df.head(5)"
   ]
  },
  {
   "cell_type": "code",
   "execution_count": 228,
   "metadata": {},
   "outputs": [
    {
     "data": {
      "text/plain": [
       "(360, 44)"
      ]
     },
     "execution_count": 228,
     "metadata": {},
     "output_type": "execute_result"
    }
   ],
   "source": [
    "merged_df.shape"
   ]
  },
  {
   "attachments": {},
   "cell_type": "markdown",
   "metadata": {},
   "source": [
    "## Helper fns"
   ]
  },
  {
   "cell_type": "code",
   "execution_count": 229,
   "metadata": {},
   "outputs": [],
   "source": [
    "def tensor_str_to_val(string): return np.float32(string.replace(\"tensor(\", \"\").split(\",\")[0].strip())"
   ]
  },
  {
   "cell_type": "code",
   "execution_count": 230,
   "metadata": {},
   "outputs": [],
   "source": [
    "def check_proxy(string): return \"p\" in string"
   ]
  },
  {
   "cell_type": "code",
   "execution_count": 231,
   "metadata": {},
   "outputs": [],
   "source": [
    "def calc_stats(values):\n",
    "    return f\"min: {values.min()} \\nmax: {values.max()} \\navg: {values.mean()}\""
   ]
  },
  {
   "cell_type": "code",
   "execution_count": 241,
   "metadata": {},
   "outputs": [],
   "source": [
    "def check_wrt_accuracy(has_proxy, condition, head = None):\n",
    "    grouped_vals = has_proxy.groupby([condition, \"config/transfer_imagenet\"]).mean(numeric_only = True)[\"accuracy\"].reset_index().sort_values(by = [\"accuracy\"], ascending=False)\n",
    "    print(\"Transfer\")\n",
    "    if head != None:\n",
    "        print(grouped_vals[grouped_vals[\"config/transfer_imagenet\"] == True].head(head).to_markdown())\n",
    "        print(\"No Transfer\")\n",
    "        print(grouped_vals[grouped_vals[\"config/transfer_imagenet\"] == False].head(head).to_markdown())\n",
    "    else:\n",
    "        print(grouped_vals[grouped_vals[\"config/transfer_imagenet\"] == True].to_markdown())\n",
    "        print(\"No Transfer\")\n",
    "        print(grouped_vals[grouped_vals[\"config/transfer_imagenet\"] == False].to_markdown())"
   ]
  },
  {
   "attachments": {},
   "cell_type": "markdown",
   "metadata": {},
   "source": [
    "## Aggregate results for proxy"
   ]
  },
  {
   "cell_type": "code",
   "execution_count": 233,
   "metadata": {},
   "outputs": [],
   "source": [
    "merged_df[\"has_proxy\"] = merged_df[\"config/proxy_steps\"].apply(check_proxy)"
   ]
  },
  {
   "cell_type": "code",
   "execution_count": 234,
   "metadata": {},
   "outputs": [],
   "source": [
    "merged_df[\"accuracy\"] = merged_df[\"accuracy\"].apply(tensor_str_to_val)"
   ]
  },
  {
   "cell_type": "code",
   "execution_count": 235,
   "metadata": {},
   "outputs": [
    {
     "data": {
      "text/plain": [
       "True     216\n",
       "False    144\n",
       "Name: has_proxy, dtype: int64"
      ]
     },
     "execution_count": 235,
     "metadata": {},
     "output_type": "execute_result"
    }
   ],
   "source": [
    "merged_df[\"has_proxy\"].value_counts()"
   ]
  },
  {
   "cell_type": "code",
   "execution_count": 236,
   "metadata": {},
   "outputs": [],
   "source": [
    "has_proxy = merged_df[merged_df[\"has_proxy\"] == True]\n",
    "nothas_proxy = merged_df[merged_df[\"has_proxy\"] == False]"
   ]
  },
  {
   "cell_type": "code",
   "execution_count": 237,
   "metadata": {},
   "outputs": [
    {
     "data": {
      "text/plain": [
       "'min: 0.029600000008940697 \\nmax: 0.9905999898910522 \\navg: 0.662534236907959'"
      ]
     },
     "execution_count": 237,
     "metadata": {},
     "output_type": "execute_result"
    }
   ],
   "source": [
    "calc_stats(has_proxy[\"accuracy\"])"
   ]
  },
  {
   "cell_type": "code",
   "execution_count": 238,
   "metadata": {},
   "outputs": [
    {
     "data": {
      "text/plain": [
       "'min: 0.030400000512599945 \\nmax: 0.9918000102043152 \\navg: 0.5157617926597595'"
      ]
     },
     "execution_count": 238,
     "metadata": {},
     "output_type": "execute_result"
    }
   ],
   "source": [
    "calc_stats(nothas_proxy[\"accuracy\"])\n"
   ]
  },
  {
   "attachments": {},
   "cell_type": "markdown",
   "metadata": {},
   "source": [
    "## Parameter elimination"
   ]
  },
  {
   "cell_type": "code",
   "execution_count": 239,
   "metadata": {},
   "outputs": [
    {
     "data": {
      "text/plain": [
       "Index(['Unnamed: 0', 'loss', 'accuracy', 'time_this_iter_s',\n",
       "       'should_checkpoint', 'done', 'timesteps_total', 'episodes_total',\n",
       "       'training_iteration', 'trial_id', 'experiment_id', 'date', 'timestamp',\n",
       "       'time_total_s', 'pid', 'hostname', 'node_ip', 'time_since_restore',\n",
       "       'timesteps_since_restore', 'iterations_since_restore', 'warmup_time',\n",
       "       'config/batch_size', 'config/change_subset_attention',\n",
       "       'config/clear_every_step', 'config/device', 'config/ds_name',\n",
       "       'config/ds_path', 'config/enable_proxy_attention', 'config/epoch_steps',\n",
       "       'config/experiment_name', 'config/fname_start',\n",
       "       'config/gradient_method', 'config/image_size', 'config/load_proxy_data',\n",
       "       'config/model', 'config/name_fn', 'config/num_cpu', 'config/num_gpu',\n",
       "       'config/pixel_replacement_method', 'config/proxy_steps',\n",
       "       'config/proxy_threshold', 'config/subset_images',\n",
       "       'config/transfer_imagenet', 'logdir', 'has_proxy'],\n",
       "      dtype='object')"
      ]
     },
     "execution_count": 239,
     "metadata": {},
     "output_type": "execute_result"
    }
   ],
   "source": [
    "merged_df.columns"
   ]
  },
  {
   "cell_type": "code",
   "execution_count": 242,
   "metadata": {},
   "outputs": [
    {
     "name": "stdout",
     "output_type": "stream",
     "text": [
      "Transfer\n",
      "|    | config/clear_every_step   | config/transfer_imagenet   |   accuracy |\n",
      "|---:|:--------------------------|:---------------------------|-----------:|\n",
      "|  3 | True                      | True                       |   0.963012 |\n",
      "|  1 | False                     | True                       |   0.962954 |\n",
      "No Transfer\n",
      "|    | config/clear_every_step   | config/transfer_imagenet   |   accuracy |\n",
      "|---:|:--------------------------|:---------------------------|-----------:|\n",
      "|  0 | False                     | False                      |  0.0648167 |\n",
      "|  2 | True                      | False                      |  0.0584556 |\n"
     ]
    }
   ],
   "source": [
    "check_wrt_accuracy(has_proxy, \"config/clear_every_step\")"
   ]
  },
  {
   "cell_type": "code",
   "execution_count": 215,
   "metadata": {},
   "outputs": [
    {
     "name": "stdout",
     "output_type": "stream",
     "text": [
      "Transfer\n",
      "|    |   config/change_subset_attention | config/transfer_imagenet   |   accuracy |\n",
      "|---:|---------------------------------:|:---------------------------|-----------:|\n",
      "|  1 |                              0.3 | True                       |   0.965348 |\n",
      "|  5 |                              0.8 | True                       |   0.962621 |\n",
      "|  3 |                              0.5 | True                       |   0.960981 |\n",
      "No Transfer\n",
      "|    |   config/change_subset_attention | config/transfer_imagenet   |   accuracy |\n",
      "|---:|---------------------------------:|:---------------------------|-----------:|\n",
      "|  0 |                              0.3 | False                      |  0.0648167 |\n",
      "|  2 |                              0.5 | False                      |  0.0641917 |\n",
      "|  4 |                              0.8 | False                      |  0.0559    |\n"
     ]
    }
   ],
   "source": [
    "check_wrt_accuracy(has_proxy, \"config/change_subset_attention\")"
   ]
  },
  {
   "cell_type": "code",
   "execution_count": 216,
   "metadata": {},
   "outputs": [
    {
     "name": "stdout",
     "output_type": "stream",
     "text": [
      "Transfer\n",
      "|    | config/gradient_method   | config/transfer_imagenet   |   accuracy |\n",
      "|---:|:-------------------------|:---------------------------|-----------:|\n",
      "|  5 | gradcamplusplus          | True                       |   0.964796 |\n",
      "|  3 | gradcam                  | True                       |   0.962375 |\n",
      "|  1 | eigencam                 | True                       |   0.961779 |\n",
      "No Transfer\n",
      "|    | config/gradient_method   | config/transfer_imagenet   |   accuracy |\n",
      "|---:|:-------------------------|:---------------------------|-----------:|\n",
      "|  4 | gradcamplusplus          | False                      |  0.0675958 |\n",
      "|  0 | eigencam                 | False                      |  0.0597    |\n",
      "|  2 | gradcam                  | False                      |  0.0576125 |\n"
     ]
    }
   ],
   "source": [
    "\n",
    "check_wrt_accuracy(has_proxy, \"config/gradient_method\")"
   ]
  },
  {
   "cell_type": "code",
   "execution_count": 217,
   "metadata": {},
   "outputs": [
    {
     "name": "stdout",
     "output_type": "stream",
     "text": [
      "Transfer\n",
      "|    | config/pixel_replacement_method   | config/transfer_imagenet   |   accuracy |\n",
      "|---:|:----------------------------------|:---------------------------|-----------:|\n",
      "|  3 | max                               | True                       |   0.965078 |\n",
      "|  5 | mean                              | True                       |   0.963639 |\n",
      "|  1 | halfmax                           | True                       |   0.962253 |\n",
      "|  7 | min                               | True                       |   0.960964 |\n",
      "No Transfer\n",
      "|    | config/pixel_replacement_method   | config/transfer_imagenet   |   accuracy |\n",
      "|---:|:----------------------------------|:---------------------------|-----------:|\n",
      "|  2 | max                               | False                      |  0.0663611 |\n",
      "|  6 | min                               | False                      |  0.0648556 |\n",
      "|  0 | halfmax                           | False                      |  0.0601667 |\n",
      "|  4 | mean                              | False                      |  0.0551611 |\n"
     ]
    }
   ],
   "source": [
    "\n",
    "check_wrt_accuracy(has_proxy, \"config/pixel_replacement_method\")"
   ]
  },
  {
   "cell_type": "code",
   "execution_count": 219,
   "metadata": {},
   "outputs": [
    {
     "name": "stdout",
     "output_type": "stream",
     "text": [
      "Transfer\n",
      "|     |   config/proxy_threshold | config/transfer_imagenet   |   accuracy |\n",
      "|----:|-------------------------:|:---------------------------|-----------:|\n",
      "|   0 |                 0.800505 | True                       |     0.9906 |\n",
      "|  51 |                 0.826222 | True                       |     0.9906 |\n",
      "| 131 |                 0.875854 | True                       |     0.9902 |\n",
      "| 172 |                 0.914068 | True                       |     0.9878 |\n",
      "No Transfer\n",
      "|     |   config/proxy_threshold | config/transfer_imagenet   |   accuracy |\n",
      "|----:|-------------------------:|:---------------------------|-----------:|\n",
      "|  29 |                 0.81375  | False                      |     0.1319 |\n",
      "| 135 |                 0.883611 | False                      |     0.1299 |\n",
      "| 170 |                 0.913836 | False                      |     0.1269 |\n",
      "| 155 |                 0.901073 | False                      |     0.121  |\n"
     ]
    }
   ],
   "source": [
    "\n",
    "check_wrt_accuracy(has_proxy, \"config/proxy_threshold\", head= 4)"
   ]
  },
  {
   "cell_type": "code",
   "execution_count": 220,
   "metadata": {},
   "outputs": [
    {
     "name": "stdout",
     "output_type": "stream",
     "text": [
      "Transfer\n",
      "|    |   config/subset_images | config/transfer_imagenet   |   accuracy |\n",
      "|---:|-----------------------:|:---------------------------|-----------:|\n",
      "|  1 |                  10000 | True                       |   0.962983 |\n",
      "No Transfer\n",
      "|    |   config/subset_images | config/transfer_imagenet   |   accuracy |\n",
      "|---:|-----------------------:|:---------------------------|-----------:|\n",
      "|  0 |                  10000 | False                      |  0.0616361 |\n"
     ]
    }
   ],
   "source": [
    "\n",
    "check_wrt_accuracy(has_proxy, \"config/subset_images\")"
   ]
  },
  {
   "cell_type": "code",
   "execution_count": 221,
   "metadata": {},
   "outputs": [
    {
     "name": "stdout",
     "output_type": "stream",
     "text": [
      "Transfer\n",
      "|    | config/proxy_steps   | config/transfer_imagenet   |   accuracy |\n",
      "|---:|:---------------------|:---------------------------|-----------:|\n",
      "|  2 | [2, 'p', 5]          | True                       |   0.964621 |\n",
      "|  1 | [2, 'p', 2]          | True                       |   0.961346 |\n",
      "No Transfer\n",
      "|    | config/proxy_steps   | config/transfer_imagenet   |   accuracy |\n",
      "|---:|:---------------------|:---------------------------|-----------:|\n",
      "|  0 | [10, 'p', 10]        | False                      |  0.0616361 |\n"
     ]
    }
   ],
   "source": [
    "\n",
    "check_wrt_accuracy(has_proxy, \"config/proxy_steps\")"
   ]
  },
  {
   "cell_type": "code",
   "execution_count": 244,
   "metadata": {},
   "outputs": [
    {
     "name": "stdout",
     "output_type": "stream",
     "text": [
      "Transfer\n",
      "|    | config/proxy_steps   | config/transfer_imagenet   |   accuracy |\n",
      "|---:|:---------------------|:---------------------------|-----------:|\n",
      "|  4 | [4]                  | True                       |   0.966972 |\n",
      "|  2 | [2, 'p', 5]          | True                       |   0.964621 |\n",
      "|  1 | [2, 'p', 2]          | True                       |   0.961346 |\n",
      "No Transfer\n",
      "|    | config/proxy_steps   | config/transfer_imagenet   |   accuracy |\n",
      "|---:|:---------------------|:---------------------------|-----------:|\n",
      "|  3 | [20]                 | False                      |  0.0645514 |\n",
      "|  0 | [10, 'p', 10]        | False                      |  0.0616361 |\n"
     ]
    }
   ],
   "source": [
    "\n",
    "check_wrt_accuracy(merged_df, \"config/proxy_steps\")"
   ]
  }
 ],
 "metadata": {
  "kernelspec": {
   "display_name": "Python 3",
   "language": "python",
   "name": "python3"
  },
  "language_info": {
   "codemirror_mode": {
    "name": "ipython",
    "version": 3
   },
   "file_extension": ".py",
   "mimetype": "text/x-python",
   "name": "python",
   "nbconvert_exporter": "python",
   "pygments_lexer": "ipython3",
   "version": "3.10.9"
  },
  "orig_nbformat": 4,
  "vscode": {
   "interpreter": {
    "hash": "b0fa6594d8f4cbf19f97940f81e996739fb7646882a419484c72d19e05852a7e"
   }
  }
 },
 "nbformat": 4,
 "nbformat_minor": 2
}
