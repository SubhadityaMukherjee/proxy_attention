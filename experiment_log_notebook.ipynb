{
 "cells": [
  {
   "cell_type": "markdown",
   "metadata": {},
   "source": [
    "# This is an experiment log\n",
    "- It will include things that I want to try, results and probable explanations, maybe some simple dashboards\n",
    "- This starts on 9th Oct 2022"
   ]
  },
  {
   "cell_type": "markdown",
   "metadata": {},
   "source": [
    "# TODO LIST\n",
    "- [] Add reset folder option to clear all augmented images\n",
    "- [] Check confidence\n",
    "- [] More augmented images based on step. Not just one\n",
    "- [] Set seed\n",
    "- [] Fix Multi proc CUDA error. Spawn"
   ]
  },
  {
   "cell_type": "markdown",
   "metadata": {},
   "source": [
    "## 2022-10-09 11:56:11\n",
    "- tags: #paper\n",
    "- Set up basic experiment in the notebook. Will refactor the code to a script\n",
    "- The paper Survey: Image Mixing and Deleting for Data Augmentation - Humza Naveed is super useful"
   ]
  },
  {
   "cell_type": "markdown",
   "metadata": {},
   "source": [
    "## 2022-10-09 18:30:58\n",
    "- Almost done formatting the main loops. Phew, its a lot of work"
   ]
  },
  {
   "cell_type": "markdown",
   "metadata": {},
   "source": [
    "# 2022-10-10 00:43:25\n",
    "- So I was consistently getting horrible results for the proxy one. Guess why? It was saving the image weirdly thats why -.-\n",
    "- It basically resized to a smaller version and added weird borders. So of course, it got horrible results\n",
    "- Now its too late and I should sleep. But atleast I have some idea of whats wrong."
   ]
  },
  {
   "cell_type": "markdown",
   "metadata": {},
   "source": [
    "# 2022-10-11 22:53:55\n",
    "- Still struggling with the parallel crap. I hope it works lol\n",
    "- https://github.com/ai-fast-track/timeseries/blob/master/timeseries/cam.py \n",
    "    - is super duper helpful"
   ]
  },
  {
   "cell_type": "markdown",
   "metadata": {},
   "source": []
  },
  {
   "cell_type": "markdown",
   "metadata": {},
   "source": []
  },
  {
   "cell_type": "markdown",
   "metadata": {},
   "source": []
  },
  {
   "cell_type": "markdown",
   "metadata": {},
   "source": []
  },
  {
   "cell_type": "markdown",
   "metadata": {},
   "source": []
  },
  {
   "cell_type": "markdown",
   "metadata": {},
   "source": []
  },
  {
   "cell_type": "markdown",
   "metadata": {},
   "source": []
  },
  {
   "cell_type": "markdown",
   "metadata": {},
   "source": []
  },
  {
   "cell_type": "markdown",
   "metadata": {},
   "source": []
  }
 ],
 "metadata": {
  "interpreter": {
   "hash": "db63ec5837ed7153ffcff7a5d42bf80536894c2cc03a9bb032bbe91b2078875e"
  },
  "kernelspec": {
   "display_name": "Python 3.10.5 64-bit ('pytorcher')",
   "language": "python",
   "name": "python3"
  },
  "language_info": {
   "name": "python",
   "version": "3.10.5"
  },
  "orig_nbformat": 4,
  "vscode": {
   "interpreter": {
    "hash": "b0fa6594d8f4cbf19f97940f81e996739fb7646882a419484c72d19e05852a7e"
   }
  }
 },
 "nbformat": 4,
 "nbformat_minor": 2
}
