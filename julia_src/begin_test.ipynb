{
 "cells": [
  {
   "cell_type": "code",
   "execution_count": 10,
   "metadata": {},
   "outputs": [],
   "source": [
    "using Flux, Metalhead, Images\n",
    "using Flux: @epochs\n",
    "using StatsBase: sample, shuffle\n",
    "using Flux.Data: DataLoader\n",
    "using Flux: onehotbatch"
   ]
  },
  {
   "cell_type": "markdown",
   "metadata": {},
   "source": [
    "# Boats Dataset"
   ]
  },
  {
   "cell_type": "markdown",
   "metadata": {},
   "source": [
    "## Read files and label"
   ]
  },
  {
   "cell_type": "code",
   "execution_count": 3,
   "metadata": {},
   "outputs": [
    {
     "name": "stderr",
     "output_type": "stream",
     "text": [
      "WARNING: redefinition of constant FILES. This may fail, cause incorrect answers, or produce other errors.\n"
     ]
    }
   ],
   "source": [
    "const PATH = joinpath(@__DIR__, \"/media/hdd/Datasets/imagewoof2-160/train/\")\n",
    "const FILES = joinpath.(PATH, readdir(PATH))\n",
    "if isempty(readdir(PATH))\n",
    "  error(\"Empty train folder - perhaps you need to download and extract the kaggle dataset.\")\n",
    "end"
   ]
  },
  {
   "cell_type": "code",
   "execution_count": 4,
   "metadata": {},
   "outputs": [],
   "source": [
    "all_files = reduce(vcat, readdir(joinpath(PATH,i), join=true) for i in readdir(PATH));"
   ]
  },
  {
   "cell_type": "code",
   "execution_count": 5,
   "metadata": {},
   "outputs": [
    {
     "data": {
      "text/plain": [
       "boats_y_func (generic function with 1 method)"
      ]
     },
     "metadata": {},
     "output_type": "display_data"
    }
   ],
   "source": [
    "boats_y_func(fpath) = split(fpath, \"/\")[end-1]"
   ]
  },
  {
   "cell_type": "code",
   "execution_count": 6,
   "metadata": {},
   "outputs": [
    {
     "data": {
      "text/plain": [
       "Dict{SubString{String}, Int64} with 10 entries:\n",
       "  \"n02115641\" => 10\n",
       "  \"n02099601\" => 7\n",
       "  \"n02088364\" => 3\n",
       "  \"n02105641\" => 8\n",
       "  \"n02087394\" => 2\n",
       "  \"n02086240\" => 1\n",
       "  \"n02111889\" => 9\n",
       "  \"n02089973\" => 4\n",
       "  \"n02093754\" => 5\n",
       "  \"n02096294\" => 6"
      ]
     },
     "metadata": {},
     "output_type": "display_data"
    }
   ],
   "source": [
    "boats_y = map(boats_y_func, all_files); # get all y labels from filepath\n",
    "unique_classes = unique(boats_y); # unique classes\n",
    "n_class = length(unique_classes); # num of classes\n",
    "dict_labels = Dict((unique_classes[y]) => y for y in 1:n_class)"
   ]
  },
  {
   "cell_type": "code",
   "execution_count": 7,
   "metadata": {},
   "outputs": [
    {
     "data": {
      "text/plain": [
       "Chain(\n",
       "  Chain([\n",
       "    Conv((7, 7), 3 => 64, pad=3, stride=2, bias=false),  \u001b[90m# 9_408 parameters\u001b[39m\n",
       "    BatchNorm(64, relu),                \u001b[90m# 128 parameters\u001b[39m\u001b[90m, plus 128\u001b[39m\n",
       "    MaxPool((3, 3), pad=1, stride=2),\n",
       "    Parallel(\n",
       "      Metalhead.addrelu,\n",
       "      Chain(\n",
       "        Conv((1, 1), 64 => 64, bias=false),  \u001b[90m# 4_096 parameters\u001b[39m\n",
       "        BatchNorm(64, relu),            \u001b[90m# 128 parameters\u001b[39m\u001b[90m, plus 128\u001b[39m\n",
       "        Conv((3, 3), 64 => 64, pad=1, bias=false),  \u001b[90m# 36_864 parameters\u001b[39m\n",
       "        BatchNorm(64, relu),            \u001b[90m# 128 parameters\u001b[39m\u001b[90m, plus 128\u001b[39m\n",
       "        Conv((1, 1), 64 => 256, bias=false),  \u001b[90m# 16_384 parameters\u001b[39m\n",
       "        BatchNorm(256),                 \u001b[90m# 512 parameters\u001b[39m\u001b[90m, plus 512\u001b[39m\n",
       "      ),\n",
       "      Chain([\n",
       "        Conv((1, 1), 64 => 256, bias=false),  \u001b[90m# 16_384 parameters\u001b[39m\n",
       "        BatchNorm(256),                 \u001b[90m# 512 parameters\u001b[39m\u001b[90m, plus 512\u001b[39m\n",
       "      ]),\n",
       "    ),\n",
       "    Parallel(\n",
       "      Metalhead.addrelu,\n",
       "      Chain(\n",
       "        Conv((1, 1), 256 => 64, bias=false),  \u001b[90m# 16_384 parameters\u001b[39m\n",
       "        BatchNorm(64, relu),            \u001b[90m# 128 parameters\u001b[39m\u001b[90m, plus 128\u001b[39m\n",
       "        Conv((3, 3), 64 => 64, pad=1, bias=false),  \u001b[90m# 36_864 parameters\u001b[39m\n",
       "        BatchNorm(64, relu),            \u001b[90m# 128 parameters\u001b[39m\u001b[90m, plus 128\u001b[39m\n",
       "        Conv((1, 1), 64 => 256, bias=false),  \u001b[90m# 16_384 parameters\u001b[39m\n",
       "        BatchNorm(256),                 \u001b[90m# 512 parameters\u001b[39m\u001b[90m, plus 512\u001b[39m\n",
       "      ),\n",
       "      identity,\n",
       "    ),\n",
       "    Parallel(\n",
       "      Metalhead.addrelu,\n",
       "      Chain(\n",
       "        Conv((1, 1), 256 => 64, bias=false),  \u001b[90m# 16_384 parameters\u001b[39m\n",
       "        BatchNorm(64, relu),            \u001b[90m# 128 parameters\u001b[39m\u001b[90m, plus 128\u001b[39m\n",
       "        Conv((3, 3), 64 => 64, pad=1, bias=false),  \u001b[90m# 36_864 parameters\u001b[39m\n",
       "        BatchNorm(64, relu),            \u001b[90m# 128 parameters\u001b[39m\u001b[90m, plus 128\u001b[39m\n",
       "        Conv((1, 1), 64 => 256, bias=false),  \u001b[90m# 16_384 parameters\u001b[39m\n",
       "        BatchNorm(256),                 \u001b[90m# 512 parameters\u001b[39m\u001b[90m, plus 512\u001b[39m\n",
       "      ),\n",
       "      identity,\n",
       "    ),\n",
       "    Parallel(\n",
       "      Metalhead.addrelu,\n",
       "      Chain(\n",
       "        Conv((1, 1), 256 => 128, bias=false),  \u001b[90m# 32_768 parameters\u001b[39m\n",
       "        BatchNorm(128, relu),           \u001b[90m# 256 parameters\u001b[39m\u001b[90m, plus 256\u001b[39m\n",
       "        Conv((3, 3), 128 => 128, pad=1, stride=2, bias=false),  \u001b[90m# 147_456 parameters\u001b[39m\n",
       "        BatchNorm(128, relu),           \u001b[90m# 256 parameters\u001b[39m\u001b[90m, plus 256\u001b[39m\n",
       "        Conv((1, 1), 128 => 512, bias=false),  \u001b[90m# 65_536 parameters\u001b[39m\n",
       "        BatchNorm(512),                 \u001b[90m# 1_024 parameters\u001b[39m\u001b[90m, plus 1_024\u001b[39m\n",
       "      ),\n",
       "      Chain([\n",
       "        Conv((1, 1), 256 => 512, stride=2, bias=false),  \u001b[90m# 131_072 parameters\u001b[39m\n",
       "        BatchNorm(512),                 \u001b[90m# 1_024 parameters\u001b[39m\u001b[90m, plus 1_024\u001b[39m\n",
       "      ]),\n",
       "    ),\n",
       "    Parallel(\n",
       "      Metalhead.addrelu,\n",
       "      Chain(\n",
       "        Conv((1, 1), 512 => 128, bias=false),  \u001b[90m# 65_536 parameters\u001b[39m\n",
       "        BatchNorm(128, relu),           \u001b[90m# 256 parameters\u001b[39m\u001b[90m, plus 256\u001b[39m\n",
       "        Conv((3, 3), 128 => 128, pad=1, bias=false),  \u001b[90m# 147_456 parameters\u001b[39m\n",
       "        BatchNorm(128, relu),           \u001b[90m# 256 parameters\u001b[39m\u001b[90m, plus 256\u001b[39m\n",
       "        Conv((1, 1), 128 => 512, bias=false),  \u001b[90m# 65_536 parameters\u001b[39m\n",
       "        BatchNorm(512),                 \u001b[90m# 1_024 parameters\u001b[39m\u001b[90m, plus 1_024\u001b[39m\n",
       "      ),\n",
       "      identity,\n",
       "    ),\n",
       "    Parallel(\n",
       "      Metalhead.addrelu,\n",
       "      Chain(\n",
       "        Conv((1, 1), 512 => 128, bias=false),  \u001b[90m# 65_536 parameters\u001b[39m\n",
       "        BatchNorm(128, relu),           \u001b[90m# 256 parameters\u001b[39m\u001b[90m, plus 256\u001b[39m\n",
       "        Conv((3, 3), 128 => 128, pad=1, bias=false),  \u001b[90m# 147_456 parameters\u001b[39m\n",
       "        BatchNorm(128, relu),           \u001b[90m# 256 parameters\u001b[39m\u001b[90m, plus 256\u001b[39m\n",
       "        Conv((1, 1), 128 => 512, bias=false),  \u001b[90m# 65_536 parameters\u001b[39m\n",
       "        BatchNorm(512),                 \u001b[90m# 1_024 parameters\u001b[39m\u001b[90m, plus 1_024\u001b[39m\n",
       "      ),\n",
       "      identity,\n",
       "    ),\n",
       "    Parallel(\n",
       "      Metalhead.addrelu,\n",
       "      Chain(\n",
       "        Conv((1, 1), 512 => 128, bias=false),  \u001b[90m# 65_536 parameters\u001b[39m\n",
       "        BatchNorm(128, relu),           \u001b[90m# 256 parameters\u001b[39m\u001b[90m, plus 256\u001b[39m\n",
       "        Conv((3, 3), 128 => 128, pad=1, bias=false),  \u001b[90m# 147_456 parameters\u001b[39m\n",
       "        BatchNorm(128, relu),           \u001b[90m# 256 parameters\u001b[39m\u001b[90m, plus 256\u001b[39m\n",
       "        Conv((1, 1), 128 => 512, bias=false),  \u001b[90m# 65_536 parameters\u001b[39m\n",
       "        BatchNorm(512),                 \u001b[90m# 1_024 parameters\u001b[39m\u001b[90m, plus 1_024\u001b[39m\n",
       "      ),\n",
       "      identity,\n",
       "    ),\n",
       "    Parallel(\n",
       "      Metalhead.addrelu,\n",
       "      Chain(\n",
       "        Conv((1, 1), 512 => 256, bias=false),  \u001b[90m# 131_072 parameters\u001b[39m\n",
       "        BatchNorm(256, relu),           \u001b[90m# 512 parameters\u001b[39m\u001b[90m, plus 512\u001b[39m\n",
       "        Conv((3, 3), 256 => 256, pad=1, stride=2, bias=false),  \u001b[90m# 589_824 parameters\u001b[39m\n",
       "        BatchNorm(256, relu),           \u001b[90m# 512 parameters\u001b[39m\u001b[90m, plus 512\u001b[39m\n",
       "        Conv((1, 1), 256 => 1024, bias=false),  \u001b[90m# 262_144 parameters\u001b[39m\n",
       "        BatchNorm(1024),                \u001b[90m# 2_048 parameters\u001b[39m\u001b[90m, plus 2_048\u001b[39m\n",
       "      ),\n",
       "      Chain([\n",
       "        Conv((1, 1), 512 => 1024, stride=2, bias=false),  \u001b[90m# 524_288 parameters\u001b[39m\n",
       "        BatchNorm(1024),                \u001b[90m# 2_048 parameters\u001b[39m\u001b[90m, plus 2_048\u001b[39m\n",
       "      ]),\n",
       "    ),\n",
       "    Parallel(\n",
       "      Metalhead.addrelu,\n",
       "      Chain(\n",
       "        Conv((1, 1), 1024 => 256, bias=false),  \u001b[90m# 262_144 parameters\u001b[39m\n",
       "        BatchNorm(256, relu),           \u001b[90m# 512 parameters\u001b[39m\u001b[90m, plus 512\u001b[39m\n",
       "        Conv((3, 3), 256 => 256, pad=1, bias=false),  \u001b[90m# 589_824 parameters\u001b[39m\n",
       "        BatchNorm(256, relu),           \u001b[90m# 512 parameters\u001b[39m\u001b[90m, plus 512\u001b[39m\n",
       "        Conv((1, 1), 256 => 1024, bias=false),  \u001b[90m# 262_144 parameters\u001b[39m\n",
       "        BatchNorm(1024),                \u001b[90m# 2_048 parameters\u001b[39m\u001b[90m, plus 2_048\u001b[39m\n",
       "      ),\n",
       "      identity,\n",
       "    ),\n",
       "    Parallel(\n",
       "      Metalhead.addrelu,\n",
       "      Chain(\n",
       "        Conv((1, 1), 1024 => 256, bias=false),  \u001b[90m# 262_144 parameters\u001b[39m\n",
       "        BatchNorm(256, relu),           \u001b[90m# 512 parameters\u001b[39m\u001b[90m, plus 512\u001b[39m\n",
       "        Conv((3, 3), 256 => 256, pad=1, bias=false),  \u001b[90m# 589_824 parameters\u001b[39m\n",
       "        BatchNorm(256, relu),           \u001b[90m# 512 parameters\u001b[39m\u001b[90m, plus 512\u001b[39m\n",
       "        Conv((1, 1), 256 => 1024, bias=false),  \u001b[90m# 262_144 parameters\u001b[39m\n",
       "        BatchNorm(1024),                \u001b[90m# 2_048 parameters\u001b[39m\u001b[90m, plus 2_048\u001b[39m\n",
       "      ),\n",
       "      identity,\n",
       "    ),\n",
       "    Parallel(\n",
       "      Metalhead.addrelu,\n",
       "      Chain(\n",
       "        Conv((1, 1), 1024 => 256, bias=false),  \u001b[90m# 262_144 parameters\u001b[39m\n",
       "        BatchNorm(256, relu),           \u001b[90m# 512 parameters\u001b[39m\u001b[90m, plus 512\u001b[39m\n",
       "        Conv((3, 3), 256 => 256, pad=1, bias=false),  \u001b[90m# 589_824 parameters\u001b[39m\n",
       "        BatchNorm(256, relu),           \u001b[90m# 512 parameters\u001b[39m\u001b[90m, plus 512\u001b[39m\n",
       "        Conv((1, 1), 256 => 1024, bias=false),  \u001b[90m# 262_144 parameters\u001b[39m\n",
       "        BatchNorm(1024),                \u001b[90m# 2_048 parameters\u001b[39m\u001b[90m, plus 2_048\u001b[39m\n",
       "      ),\n",
       "      identity,\n",
       "    ),\n",
       "    Parallel(\n",
       "      Metalhead.addrelu,\n",
       "      Chain(\n",
       "        Conv((1, 1), 1024 => 256, bias=false),  \u001b[90m# 262_144 parameters\u001b[39m\n",
       "        BatchNorm(256, relu),           \u001b[90m# 512 parameters\u001b[39m\u001b[90m, plus 512\u001b[39m\n",
       "        Conv((3, 3), 256 => 256, pad=1, bias=false),  \u001b[90m# 589_824 parameters\u001b[39m\n",
       "        BatchNorm(256, relu),           \u001b[90m# 512 parameters\u001b[39m\u001b[90m, plus 512\u001b[39m\n",
       "        Conv((1, 1), 256 => 1024, bias=false),  \u001b[90m# 262_144 parameters\u001b[39m\n",
       "        BatchNorm(1024),                \u001b[90m# 2_048 parameters\u001b[39m\u001b[90m, plus 2_048\u001b[39m\n",
       "      ),\n",
       "      identity,\n",
       "    ),\n",
       "    Parallel(\n",
       "      Metalhead.addrelu,\n",
       "      Chain(\n",
       "        Conv((1, 1), 1024 => 256, bias=false),  \u001b[90m# 262_144 parameters\u001b[39m\n",
       "        BatchNorm(256, relu),           \u001b[90m# 512 parameters\u001b[39m\u001b[90m, plus 512\u001b[39m\n",
       "        Conv((3, 3), 256 => 256, pad=1, bias=false),  \u001b[90m# 589_824 parameters\u001b[39m\n",
       "        BatchNorm(256, relu),           \u001b[90m# 512 parameters\u001b[39m\u001b[90m, plus 512\u001b[39m\n",
       "        Conv((1, 1), 256 => 1024, bias=false),  \u001b[90m# 262_144 parameters\u001b[39m\n",
       "        BatchNorm(1024),                \u001b[90m# 2_048 parameters\u001b[39m\u001b[90m, plus 2_048\u001b[39m\n",
       "      ),\n",
       "      identity,\n",
       "    ),\n",
       "    Parallel(\n",
       "      Metalhead.addrelu,\n",
       "      Chain(\n",
       "        Conv((1, 1), 1024 => 512, bias=false),  \u001b[90m# 524_288 parameters\u001b[39m\n",
       "        BatchNorm(512, relu),           \u001b[90m# 1_024 parameters\u001b[39m\u001b[90m, plus 1_024\u001b[39m\n",
       "        Conv((3, 3), 512 => 512, pad=1, stride=2, bias=false),  \u001b[90m# 2_359_296 parameters\u001b[39m\n",
       "        BatchNorm(512, relu),           \u001b[90m# 1_024 parameters\u001b[39m\u001b[90m, plus 1_024\u001b[39m\n",
       "        Conv((1, 1), 512 => 2048, bias=false),  \u001b[90m# 1_048_576 parameters\u001b[39m\n",
       "        BatchNorm(2048),                \u001b[90m# 4_096 parameters\u001b[39m\u001b[90m, plus 4_096\u001b[39m\n",
       "      ),\n",
       "      Chain([\n",
       "        Conv((1, 1), 1024 => 2048, stride=2, bias=false),  \u001b[90m# 2_097_152 parameters\u001b[39m\n",
       "        BatchNorm(2048),                \u001b[90m# 4_096 parameters\u001b[39m\u001b[90m, plus 4_096\u001b[39m\n",
       "      ]),\n",
       "    ),\n",
       "    Parallel(\n",
       "      Metalhead.addrelu,\n",
       "      Chain(\n",
       "        Conv((1, 1), 2048 => 512, bias=false),  \u001b[90m# 1_048_576 parameters\u001b[39m\n",
       "        BatchNorm(512, relu),           \u001b[90m# 1_024 parameters\u001b[39m\u001b[90m, plus 1_024\u001b[39m\n",
       "        Conv((3, 3), 512 => 512, pad=1, bias=false),  \u001b[90m# 2_359_296 parameters\u001b[39m\n",
       "        BatchNorm(512, relu),           \u001b[90m# 1_024 parameters\u001b[39m\u001b[90m, plus 1_024\u001b[39m\n",
       "        Conv((1, 1), 512 => 2048, bias=false),  \u001b[90m# 1_048_576 parameters\u001b[39m\n",
       "        BatchNorm(2048),                \u001b[90m# 4_096 parameters\u001b[39m\u001b[90m, plus 4_096\u001b[39m\n",
       "      ),\n",
       "      identity,\n",
       "    ),\n",
       "    Parallel(\n",
       "      Metalhead.addrelu,\n",
       "      Chain(\n",
       "        Conv((1, 1), 2048 => 512, bias=false),  \u001b[90m# 1_048_576 parameters\u001b[39m\n",
       "        BatchNorm(512, relu),           \u001b[90m# 1_024 parameters\u001b[39m\u001b[90m, plus 1_024\u001b[39m\n",
       "        Conv((3, 3), 512 => 512, pad=1, bias=false),  \u001b[90m# 2_359_296 parameters\u001b[39m\n",
       "        BatchNorm(512, relu),           \u001b[90m# 1_024 parameters\u001b[39m\u001b[90m, plus 1_024\u001b[39m\n",
       "        Conv((1, 1), 512 => 2048, bias=false),  \u001b[90m# 1_048_576 parameters\u001b[39m\n",
       "        BatchNorm(2048),                \u001b[90m# 4_096 parameters\u001b[39m\u001b[90m, plus 4_096\u001b[39m\n",
       "      ),\n",
       "      identity,\n",
       "    ),\n",
       "  ]),\n",
       "  Chain(\n",
       "    AdaptiveMeanPool((1, 1)),\n",
       "    MLUtils.flatten,\n",
       "    Dense(2048 => 1000),                \u001b[90m# 2_049_000 parameters\u001b[39m\n",
       "  ),\n",
       ") \u001b[90m        # Total: 161 trainable arrays, \u001b[39m25_557_032 parameters,\n",
       "\u001b[90m          # plus 106 non-trainable, 53_120 parameters, summarysize \u001b[39m97.732 MiB."
      ]
     },
     "metadata": {},
     "output_type": "display_data"
    }
   ],
   "source": [
    "resnet = ResNet().layers"
   ]
  },
  {
   "cell_type": "code",
   "execution_count": 8,
   "metadata": {},
   "outputs": [
    {
     "name": "stderr",
     "output_type": "stream",
     "text": [
      "WARNING: both Losses and NNlib export \"ctc_loss\"; uses of it in module Flux must be qualified\n"
     ]
    },
    {
     "data": {
      "text/plain": [
       "Chain(\n",
       "  Chain(),\n",
       "  Dense(2048 => 1000),                  \u001b[90m# 2_049_000 parameters\u001b[39m\n",
       "  Dense(1000 => 256),                   \u001b[90m# 256_256 parameters\u001b[39m\n",
       "  Dense(256 => 2),                      \u001b[90m# 514 parameters\u001b[39m\n",
       ") \u001b[90m                  # Total: 6 arrays, \u001b[39m2_305_770 parameters, 8.796 MiB."
      ]
     },
     "metadata": {},
     "output_type": "display_data"
    }
   ],
   "source": [
    "model = Chain(\n",
    "  resnet[1:end-2],\n",
    "  Dense(2048, 1000),  \n",
    "  Dense(1000, 256),\n",
    "  Dense(256, 2),        # we get 2048 features out, and we have 2 classes\n",
    ")"
   ]
  },
  {
   "cell_type": "code",
   "execution_count": 9,
   "metadata": {},
   "outputs": [
    {
     "data": {
      "text/plain": [
       "Chain(\n",
       "  Chain(),\n",
       "  Dense(2048 => 1000),                  \u001b[90m# 2_049_000 parameters\u001b[39m\n",
       "  Dense(1000 => 256),                   \u001b[90m# 256_256 parameters\u001b[39m\n",
       "  Dense(256 => 2),                      \u001b[90m# 514 parameters\u001b[39m\n",
       ") \u001b[90m                  # Total: 6 arrays, \u001b[39m2_305_770 parameters, 856 bytes."
      ]
     },
     "metadata": {},
     "output_type": "display_data"
    }
   ],
   "source": [
    "model = model |> gpu\n"
   ]
  },
  {
   "cell_type": "code",
   "execution_count": 11,
   "metadata": {},
   "outputs": [
    {
     "data": {
      "text/plain": [
       "(224, 224)"
      ]
     },
     "metadata": {},
     "output_type": "display_data"
    }
   ],
   "source": [
    "nsize = (224, 224)"
   ]
  },
  {
   "cell_type": "code",
   "execution_count": null,
   "metadata": {},
   "outputs": [],
   "source": [
    "img_paths = shuffle(all_files)\n",
    "\n",
    "dict_value(x) = dict_labels[boats_y_func(x)]\n",
    "\n",
    "labels = map(dict_value, img_paths)\n",
    "\n",
    "# Load all of the images\n",
    "imgs = Images.load.(img_paths)\n",
    "\n",
    "# Re-size the images based on imagesize from above (most models use 224 x 224)\n",
    "imgs = map(img -> Images.imresize(img, nsize...), imgs)\n",
    "\n",
    "# Change the dimensions of each image, switch to gray scale. Channel view switches to...\n",
    "# a 3 channel 3rd dimension and then (3,2,1) makes those into seperate arrays.\n",
    "# So we end up with [:, :, 1] being the Red values, [:, :, 2] being the Green values, etc\n",
    "# imgs = map(img -> permutedims(channelview(img), (3,2,1)), imgs)\n",
    "# Result is two 3D arrays representing each image\n",
    "\n",
    "# Concatenate the two images into a single 4D array and add another extra dim at the end\n",
    "# which shows how many images there are per set, in this case, it's 2\n",
    "imgs = cat(imgs..., dims = 4)\n"
   ]
  },
  {
   "cell_type": "code",
   "execution_count": 42,
   "metadata": {},
   "outputs": [],
   "source": [
    "function load_batch(all_files, dict_labels,batchsize=10, nsize = (224, 224))\n",
    "    if ((batchsize % 2) != 0)\n",
    "      print(\"Batch size must be an even number\")\n",
    "    end\n",
    "\n",
    "    img_paths = shuffle(all_files)\n",
    "\n",
    "    dict_value(x) = dict_labels[boats_y_func(x)]\n",
    "\n",
    "    labels = map(dict_value, img_paths)\n",
    "\n",
    "    # Load all of the images\n",
    "    imgs = Images.load.(img_paths)\n",
    "    \n",
    "    # Re-size the images based on imagesize from above (most models use 224 x 224)\n",
    "    imgs = map(img -> Images.imresize(img, nsize...), imgs)\n",
    "    \n",
    "    # Change the dimensions of each image, switch to gray scale. Channel view switches to...\n",
    "    # a 3 channel 3rd dimension and then (3,2,1) makes those into seperate arrays.\n",
    "    # So we end up with [:, :, 1] being the Red values, [:, :, 2] being the Green values, etc\n",
    "    # imgs = map(img -> permutedims(channelview(img), (3,2,1)), imgs)\n",
    "    # Result is two 3D arrays representing each image\n",
    "    \n",
    "    # Concatenate the two images into a single 4D array and add another extra dim at the end\n",
    "    # which shows how many images there are per set, in this case, it's 2\n",
    "    imgs = cat(imgs..., dims = 4)\n",
    "    # This is requires since the model's input is a 4D array\n",
    "    \n",
    "    # Convert the images to float form and return them along with the labels\n",
    "    # The default is float64 but float32 is commonly used which is why we use it\n",
    "    Float64.(imgs), labels\n",
    "end\n"
   ]
  },
  {
   "cell_type": "code",
   "execution_count": 2,
   "metadata": {},
   "outputs": [
    {
     "ename": "UndefVarError",
     "evalue": "UndefVarError: all_files not defined",
     "output_type": "error",
     "traceback": [
      "UndefVarError: all_files not defined\n",
      "\n",
      "Stacktrace:\n",
      " [1] (::var\"#9#10\")(i::Int64)\n",
      "   @ Main ./none:0\n",
      " [2] iterate\n",
      "   @ ./generator.jl:47 [inlined]\n",
      " [3] collect(itr::Base.Generator{UnitRange{Int64}, var\"#9#10\"})\n",
      "   @ Base ./array.jl:787\n",
      " [4] top-level scope\n",
      "   @ /media/hdd/github/improving_robotics_datasets/julia_src/begin_test.ipynb:1"
     ]
    }
   ],
   "source": [
    "dataset = [gpu.(load_batch(all_files[1:100], dict_labels, 6)) for i in 1:6]"
   ]
  },
  {
   "cell_type": "code",
   "execution_count": null,
   "metadata": {},
   "outputs": [],
   "source": [
    "opt = ADAM()\n",
    "loss(x,y) = Flux.Losses.logitcrossentropy(model(x), y)"
   ]
  },
  {
   "cell_type": "code",
   "execution_count": null,
   "metadata": {},
   "outputs": [],
   "source": [
    "ps = Flux.params(model[2:end])  # ignore the already trained layers of the ResNet"
   ]
  },
  {
   "cell_type": "code",
   "execution_count": null,
   "metadata": {},
   "outputs": [],
   "source": [
    "@epochs 2 Flux.train!(loss, ps, dataset, opt)"
   ]
  },
  {
   "cell_type": "code",
   "execution_count": null,
   "metadata": {},
   "outputs": [],
   "source": []
  },
  {
   "cell_type": "code",
   "execution_count": 15,
   "metadata": {},
   "outputs": [
    {
     "ename": "MethodError",
     "evalue": "MethodError: no method matching (::Dense{typeof(identity), CUDA.CuArray{Float32, 2, CUDA.Mem.DeviceBuffer}, CUDA.CuArray{Float32, 1, CUDA.Mem.DeviceBuffer}})(::Nothing)\nClosest candidates are:\n  (::Dense)(!Matched::AbstractVecOrMat) at ~/.julia/packages/Flux/KkC79/src/layers/basic.jl:170\n  (::Dense)(!Matched::AbstractArray) at ~/.julia/packages/Flux/KkC79/src/layers/basic.jl:175",
     "output_type": "error",
     "traceback": [
      "MethodError: no method matching (::Dense{typeof(identity), CUDA.CuArray{Float32, 2, CUDA.Mem.DeviceBuffer}, CUDA.CuArray{Float32, 1, CUDA.Mem.DeviceBuffer}})(::Nothing)\n",
      "Closest candidates are:\n",
      "  (::Dense)(!Matched::AbstractVecOrMat) at ~/.julia/packages/Flux/KkC79/src/layers/basic.jl:170\n",
      "  (::Dense)(!Matched::AbstractArray) at ~/.julia/packages/Flux/KkC79/src/layers/basic.jl:175\n",
      "\n",
      "Stacktrace:\n",
      " [1] macro expansion\n",
      "   @ ~/.julia/packages/Flux/KkC79/src/layers/basic.jl:53 [inlined]\n",
      " [2] _applychain(layers::Tuple{Chain{Tuple{}}, Dense{typeof(identity), CUDA.CuArray{Float32, 2, CUDA.Mem.DeviceBuffer}, CUDA.CuArray{Float32, 1, CUDA.Mem.DeviceBuffer}}, Dense{typeof(identity), CUDA.CuArray{Float32, 2, CUDA.Mem.DeviceBuffer}, CUDA.CuArray{Float32, 1, CUDA.Mem.DeviceBuffer}}, Dense{typeof(identity), CUDA.CuArray{Float32, 2, CUDA.Mem.DeviceBuffer}, CUDA.CuArray{Float32, 1, CUDA.Mem.DeviceBuffer}}}, x::CUDA.CuArray{Float32, 4, CUDA.Mem.DeviceBuffer})\n",
      "   @ Flux ~/.julia/packages/Flux/KkC79/src/layers/basic.jl:53\n",
      " [3] (::Chain{Tuple{Chain{Tuple{}}, Dense{typeof(identity), CUDA.CuArray{Float32, 2, CUDA.Mem.DeviceBuffer}, CUDA.CuArray{Float32, 1, CUDA.Mem.DeviceBuffer}}, Dense{typeof(identity), CUDA.CuArray{Float32, 2, CUDA.Mem.DeviceBuffer}, CUDA.CuArray{Float32, 1, CUDA.Mem.DeviceBuffer}}, Dense{typeof(identity), CUDA.CuArray{Float32, 2, CUDA.Mem.DeviceBuffer}, CUDA.CuArray{Float32, 1, CUDA.Mem.DeviceBuffer}}}})(x::CUDA.CuArray{Float32, 4, CUDA.Mem.DeviceBuffer})\n",
      "   @ Flux ~/.julia/packages/Flux/KkC79/src/layers/basic.jl:51\n",
      " [4] top-level scope\n",
      "   @ /media/hdd/github/improving_robotics_datasets/julia_src/begin_test.ipynb:2"
     ]
    }
   ],
   "source": [
    "imgs, labels = gpu.(load_batch(all_files[1:5], dict_labels, 2))\n",
    "display(model(imgs))"
   ]
  },
  {
   "cell_type": "code",
   "execution_count": null,
   "metadata": {},
   "outputs": [],
   "source": [
    "labels"
   ]
  },
  {
   "cell_type": "code",
   "execution_count": null,
   "metadata": {},
   "outputs": [],
   "source": []
  }
 ],
 "metadata": {
  "kernelspec": {
   "display_name": "Julia 1.8.3",
   "language": "julia",
   "name": "julia-1.8"
  },
  "language_info": {
   "file_extension": ".jl",
   "mimetype": "application/julia",
   "name": "julia",
   "version": "1.8.3"
  },
  "orig_nbformat": 4
 },
 "nbformat": 4,
 "nbformat_minor": 2
}
